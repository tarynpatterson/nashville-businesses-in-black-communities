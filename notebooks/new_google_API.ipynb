{
 "cells": [
  {
   "cell_type": "markdown",
   "id": "8545d813",
   "metadata": {},
   "source": [
    "Using the Google API to find different stor types in Davidson County by District"
   ]
  },
  {
   "cell_type": "markdown",
   "id": "bdbb27de",
   "metadata": {},
   "source": [
    "This code is modified from https://github.com/raom1/nashville-food-deserts/blob/master/test_notebooks/grocery_google_api_test.ipynb"
   ]
  },
  {
   "cell_type": "code",
   "execution_count": 1,
   "id": "914b670e",
   "metadata": {},
   "outputs": [],
   "source": [
    "import requests\n",
    "import json\n",
    "import time\n",
    "import pickle\n",
    "import folium\n",
    "import geopandas as gpd\n",
    "import matplotlib.pyplot as plt\n",
    "import numpy as np\n",
    "from shapely.geometry import Polygon\n",
    "# import censusdata\n",
    "import pandas as pd\n",
    "import math\n",
    "from bs4 import BeautifulSoup as BS\n",
    "import ast\n",
    "from itertools import combinations\n",
    "from collections import Counter\n",
    "#from scipy.cluster.hierarchy \n",
    "\n",
    "%matplotlib inline"
   ]
  },
  {
   "cell_type": "markdown",
   "id": "d9e33784",
   "metadata": {},
   "source": [
    "Import API Key from a secure file"
   ]
  },
  {
   "cell_type": "code",
   "execution_count": 2,
   "id": "45806d49",
   "metadata": {},
   "outputs": [],
   "source": [
    "hidden = pd.read_pickle('../data/API_key.pkl')\n",
    "API_key = hidden.loc[0][1]"
   ]
  },
  {
   "cell_type": "code",
   "execution_count": null,
   "id": "4a3c9ae0",
   "metadata": {},
   "outputs": [],
   "source": [
    "location = '36.1612, -86.7775' # lat, lng as a string\n",
    "radius = '32200' # in meters, 20 miles, approximate distance from Davidson center to furthest edge\n",
    "types = 'grocery_or_supermarket' # select single store type as a test case"
   ]
  },
  {
   "cell_type": "code",
   "execution_count": null,
   "id": "acd1b74a",
   "metadata": {},
   "outputs": [],
   "source": []
  }
 ],
 "metadata": {
  "kernelspec": {
   "display_name": "Python 3 (ipykernel)",
   "language": "python",
   "name": "python3"
  },
  "language_info": {
   "codemirror_mode": {
    "name": "ipython",
    "version": 3
   },
   "file_extension": ".py",
   "mimetype": "text/x-python",
   "name": "python",
   "nbconvert_exporter": "python",
   "pygments_lexer": "ipython3",
   "version": "3.8.5"
  }
 },
 "nbformat": 4,
 "nbformat_minor": 5
}
