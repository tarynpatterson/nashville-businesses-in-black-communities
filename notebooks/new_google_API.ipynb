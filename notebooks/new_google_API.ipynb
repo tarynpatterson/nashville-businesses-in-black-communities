{
 "cells": [
  {
   "cell_type": "markdown",
   "id": "8545d813",
   "metadata": {},
   "source": [
    "Using the Google API to find different store types in Davidson County by District"
   ]
  },
  {
   "cell_type": "markdown",
   "id": "bdbb27de",
   "metadata": {},
   "source": [
    "This code is modified from https://github.com/raom1/nashville-food-deserts/blob/master/test_notebooks/grocery_google_api_test.ipynb"
   ]
  },
  {
   "cell_type": "code",
   "execution_count": 1,
   "id": "914b670e",
   "metadata": {},
   "outputs": [],
   "source": [
    "import requests\n",
    "import json\n",
    "import time\n",
    "import pickle\n",
    "import folium\n",
    "import geopandas as gpd\n",
    "import matplotlib.pyplot as plt\n",
    "import numpy as np\n",
    "from shapely.geometry import Polygon\n",
    "# import censusdata\n",
    "import pandas as pd\n",
    "import math\n",
    "from sklearn.metrics.pairwise import haversine_distances\n",
    "from sklearn.cluster import AgglomerativeClustering\n",
    "from bs4 import BeautifulSoup as BS\n",
    "import ast\n",
    "from itertools import combinations\n",
    "from collections import Counter\n",
    "#from scipy.cluster.hierarchy \n",
    "\n",
    "%matplotlib inline"
   ]
  },
  {
   "cell_type": "markdown",
   "id": "f4872014",
   "metadata": {},
   "source": [
    "Import API Key from a secure file"
   ]
  },
  {
   "cell_type": "code",
   "execution_count": 2,
   "id": "2c6fde49",
   "metadata": {},
   "outputs": [],
   "source": [
    "hidden = pd.read_pickle('../data/API_key.pkl')\n",
    "api_key = hidden.loc[0][1]"
   ]
  },
  {
   "cell_type": "code",
   "execution_count": 12,
   "id": "a3c86908",
   "metadata": {},
   "outputs": [],
   "source": [
    "location = '36.186314,-87.0654304' # lat, lng as a string\n",
    "radius = '322000' # in meters, 20 miles, approximate distance from Davidson center to furthest edge\n",
    "types = 'grocery_or_supermarket' # select single store type as a test case"
   ]
  },
  {
   "cell_type": "code",
   "execution_count": 4,
   "id": "d5013ca0",
   "metadata": {},
   "outputs": [],
   "source": [
    "all_types = ['bakery',\n",
    "             'convenience_store',\n",
    "             'department_store',\n",
    "             'drugstore',\n",
    "             'gas_station',\n",
    "             'grocery_or_supermarket',\n",
    "             'home_goods_store',\n",
    "             'supermarket',\n",
    "             'pharmacy']"
   ]
  },
  {
   "cell_type": "code",
   "execution_count": 13,
   "id": "36b1c452",
   "metadata": {},
   "outputs": [],
   "source": [
    "# Modified from https://python.gotrained.com/google-places-api-extracting-location-data-reviews/\n",
    "\n",
    "def search_places_by_coordinate(location, radius, types, api_key, sleep_sec = 2):\n",
    "    endpoint_url = \"https://maps.googleapis.com/maps/api/place/nearbysearch/json\"\n",
    "    places = []\n",
    "    params = {\n",
    "        'location': location,\n",
    "        'radius': radius,\n",
    "        'types': types,\n",
    "        'key': api_key\n",
    "    }\n",
    "    res = requests.get(endpoint_url, params = params)\n",
    "    results =  res.json()\n",
    "    places.extend(results['results'])\n",
    "    time.sleep(sleep_sec)\n",
    "    while \"next_page_token\" in results:\n",
    "        params['pagetoken'] = results['next_page_token'],\n",
    "        res = requests.get(endpoint_url, params = params)\n",
    "        results = res.json()\n",
    "        places.extend(results['results'])\n",
    "        time.sleep(sleep_sec)\n",
    "    return places"
   ]
  },
  {
   "cell_type": "code",
   "execution_count": 14,
   "id": "dee65f48",
   "metadata": {},
   "outputs": [],
   "source": [
    "gas_station_20_mi_radius = search_places_by_coordinate(location, radius, types, api_key)"
   ]
  },
  {
   "cell_type": "code",
   "execution_count": 15,
   "id": "75f5be9c",
   "metadata": {
    "scrolled": true
   },
   "outputs": [
    {
     "data": {
      "text/plain": [
       "60"
      ]
     },
     "execution_count": 15,
     "metadata": {},
     "output_type": "execute_result"
    }
   ],
   "source": [
    "len(gas_station_20_mi_radius)"
   ]
  },
  {
   "cell_type": "code",
   "execution_count": 8,
   "id": "6e87e4a6",
   "metadata": {},
   "outputs": [
    {
     "name": "stdout",
     "output_type": "stream",
     "text": [
      "[{'business_status': 'OPERATIONAL', 'geometry': {'location': {'lat': 36.16341249999999, 'lng': -86.779421}, 'viewport': {'northeast': {'lat': 36.1647340802915, 'lng': -86.77817476970849}, 'southwest': {'lat': 36.1620361197085, 'lng': -86.78087273029149}}}, 'icon': 'https://maps.gstatic.com/mapfiles/place_api/icons/v1/png_71/shopping-71.png', 'icon_background_color': '#4B96F3', 'icon_mask_base_uri': 'https://maps.gstatic.com/mapfiles/place_api/icons/v2/shoppingcart_pinlet', 'name': 'Savi Urban Market', 'opening_hours': {'open_now': True}, 'photos': [{'height': 2269, 'html_attributions': ['<a href=\"https://maps.google.com/maps/contrib/116697713471305132430\">Savi Urban Market</a>'], 'photo_reference': 'Aap_uEABeVaLzPxGzhyzTHv6xZlcYDaJReOGjMOdCHAZGSKhAnT3yPF6m-m2K-vRhCP_c5NU87g7ZQNoEqv4cvcUAJrTOFZVpcw-NgjjreeHCDhn0L0qvur1rGmVg6PXr9w0tQLXa8RHKwA_Mf_9GQ7yFw4FN-pM7-gOovPsssToc6eUwJOv', 'width': 4032}], 'place_id': 'ChIJPStOVVhmZIgRso0FW3wu3Hw', 'plus_code': {'compound_code': '567C+96 Nashville, TN, USA', 'global_code': '868M567C+96'}, 'rating': 4.2, 'reference': 'ChIJPStOVVhmZIgRso0FW3wu3Hw', 'scope': 'GOOGLE', 'types': ['grocery_or_supermarket', 'supermarket', 'food', 'point_of_interest', 'store', 'establishment'], 'user_ratings_total': 220, 'vicinity': '415 Church Street, Nashville'}, {'business_status': 'OPERATIONAL', 'geometry': {'location': {'lat': 36.1567496, 'lng': -86.7880596}, 'viewport': {'northeast': {'lat': 36.1579426802915, 'lng': -86.78659811970849}, 'southwest': {'lat': 36.1552447197085, 'lng': -86.78929608029149}}}, 'icon': 'https://maps.gstatic.com/mapfiles/place_api/icons/v1/png_71/shopping-71.png', 'icon_background_color': '#4B96F3', 'icon_mask_base_uri': 'https://maps.gstatic.com/mapfiles/place_api/icons/v2/shoppingcart_pinlet', 'name': 'Whole Foods Market', 'opening_hours': {'open_now': True}, 'photos': [{'height': 3024, 'html_attributions': ['<a href=\"https://maps.google.com/maps/contrib/100201960762355239004\">Paul Kang</a>'], 'photo_reference': 'Aap_uEDQIP-XUT8U_zuohQwVdi_8D7cFNvVHERwMAztNzEK74hlevu4AKdzEHgK86HJcEiFMOF32BFwaNe2_rurEgbprdfmVPSwvuv5RiXZemzJsBHD3O59S50p77s5__4WVBUNLyrKa_kyDvowfCpmVRYXXSCzdOjC5DZF4RiVm0XzY_Snq', 'width': 4032}], 'place_id': 'ChIJY1hOx5hnZIgRaU2PoQEx2R0', 'plus_code': {'compound_code': '5646+MQ Nashville, TN, USA', 'global_code': '868M5646+MQ'}, 'rating': 4.5, 'reference': 'ChIJY1hOx5hnZIgRaU2PoQEx2R0', 'scope': 'GOOGLE', 'types': ['grocery_or_supermarket', 'supermarket', 'food', 'health', 'point_of_interest', 'store', 'establishment'], 'user_ratings_total': 415, 'vicinity': '1202 Broadway, Nashville'}, {'business_status': 'OPERATIONAL', 'geometry': {'location': {'lat': 36.1630486, 'lng': -86.7903632}, 'viewport': {'northeast': {'lat': 36.1642210802915, 'lng': -86.7888088}, 'southwest': {'lat': 36.16152311970851, 'lng': -86.7915732}}}, 'icon': 'https://maps.gstatic.com/mapfiles/place_api/icons/v1/png_71/shopping-71.png', 'icon_background_color': '#4B96F3', 'icon_mask_base_uri': 'https://maps.gstatic.com/mapfiles/place_api/icons/v2/shoppingcart_pinlet', 'name': 'Publix Super Market at Capitol View', 'opening_hours': {'open_now': True}, 'photos': [{'height': 2400, 'html_attributions': ['<a href=\"https://maps.google.com/maps/contrib/103090443931426071823\">Joseph Morrison</a>'], 'photo_reference': 'Aap_uEAUviU40cR2E-dtR1wAfmE9hSO3Orn3AcB9eQjkC_b3JaTkrRP5VJSiqkFOnxncfMDUZI8u5sgG_UhbgguxLicxpxrRlhXmshUPhQ2VT1-TKnYCBtPJHCsGch7W3Mn8duMCF89-0kYhoGmcJ8tp65-ChYQ-dn5QWp6P2uRUL1YvBJus', 'width': 1080}], 'place_id': 'ChIJ_3hhuz9nZIgROr9342w22Ic', 'plus_code': {'compound_code': '5675+6V Nashville, TN, USA', 'global_code': '868M5675+6V'}, 'rating': 4.6, 'reference': 'ChIJ_3hhuz9nZIgROr9342w22Ic', 'scope': 'GOOGLE', 'types': ['supermarket', 'florist', 'bakery', 'grocery_or_supermarket', 'liquor_store', 'food', 'point_of_interest', 'store', 'establishment'], 'user_ratings_total': 433, 'vicinity': '1010 Dr Martin L King Jr Blvd, Nashville'}]\n"
     ]
    }
   ],
   "source": [
    "print(gas_station_20_mi_radius)"
   ]
  },
  {
   "cell_type": "code",
   "execution_count": 9,
   "id": "e772e763",
   "metadata": {
    "scrolled": true
   },
   "outputs": [
    {
     "data": {
      "text/html": [
       "<div style=\"width:100%;\"><div style=\"position:relative;width:100%;height:0;padding-bottom:60%;\"><span style=\"color:#565656\">Make this Notebook Trusted to load map: File -> Trust Notebook</span><iframe src=\"about:blank\" style=\"position:absolute;width:100%;height:100%;left:0;top:0;border:none !important;\" data-html=%3C%21DOCTYPE%20html%3E%0A%3Chead%3E%20%20%20%20%0A%20%20%20%20%3Cmeta%20http-equiv%3D%22content-type%22%20content%3D%22text/html%3B%20charset%3DUTF-8%22%20/%3E%0A%20%20%20%20%0A%20%20%20%20%20%20%20%20%3Cscript%3E%0A%20%20%20%20%20%20%20%20%20%20%20%20L_NO_TOUCH%20%3D%20false%3B%0A%20%20%20%20%20%20%20%20%20%20%20%20L_DISABLE_3D%20%3D%20false%3B%0A%20%20%20%20%20%20%20%20%3C/script%3E%0A%20%20%20%20%0A%20%20%20%20%3Cscript%20src%3D%22https%3A//cdn.jsdelivr.net/npm/leaflet%401.6.0/dist/leaflet.js%22%3E%3C/script%3E%0A%20%20%20%20%3Cscript%20src%3D%22https%3A//code.jquery.com/jquery-1.12.4.min.js%22%3E%3C/script%3E%0A%20%20%20%20%3Cscript%20src%3D%22https%3A//maxcdn.bootstrapcdn.com/bootstrap/3.2.0/js/bootstrap.min.js%22%3E%3C/script%3E%0A%20%20%20%20%3Cscript%20src%3D%22https%3A//cdnjs.cloudflare.com/ajax/libs/Leaflet.awesome-markers/2.0.2/leaflet.awesome-markers.js%22%3E%3C/script%3E%0A%20%20%20%20%3Clink%20rel%3D%22stylesheet%22%20href%3D%22https%3A//cdn.jsdelivr.net/npm/leaflet%401.6.0/dist/leaflet.css%22/%3E%0A%20%20%20%20%3Clink%20rel%3D%22stylesheet%22%20href%3D%22https%3A//maxcdn.bootstrapcdn.com/bootstrap/3.2.0/css/bootstrap.min.css%22/%3E%0A%20%20%20%20%3Clink%20rel%3D%22stylesheet%22%20href%3D%22https%3A//maxcdn.bootstrapcdn.com/bootstrap/3.2.0/css/bootstrap-theme.min.css%22/%3E%0A%20%20%20%20%3Clink%20rel%3D%22stylesheet%22%20href%3D%22https%3A//maxcdn.bootstrapcdn.com/font-awesome/4.6.3/css/font-awesome.min.css%22/%3E%0A%20%20%20%20%3Clink%20rel%3D%22stylesheet%22%20href%3D%22https%3A//cdnjs.cloudflare.com/ajax/libs/Leaflet.awesome-markers/2.0.2/leaflet.awesome-markers.css%22/%3E%0A%20%20%20%20%3Clink%20rel%3D%22stylesheet%22%20href%3D%22https%3A//rawcdn.githack.com/python-visualization/folium/master/folium/templates/leaflet.awesome.rotate.css%22/%3E%0A%20%20%20%20%3Cstyle%3Ehtml%2C%20body%20%7Bwidth%3A%20100%25%3Bheight%3A%20100%25%3Bmargin%3A%200%3Bpadding%3A%200%3B%7D%3C/style%3E%0A%20%20%20%20%3Cstyle%3E%23map%20%7Bposition%3Aabsolute%3Btop%3A0%3Bbottom%3A0%3Bright%3A0%3Bleft%3A0%3B%7D%3C/style%3E%0A%20%20%20%20%0A%20%20%20%20%20%20%20%20%20%20%20%20%3Cmeta%20name%3D%22viewport%22%20content%3D%22width%3Ddevice-width%2C%0A%20%20%20%20%20%20%20%20%20%20%20%20%20%20%20%20initial-scale%3D1.0%2C%20maximum-scale%3D1.0%2C%20user-scalable%3Dno%22%20/%3E%0A%20%20%20%20%20%20%20%20%20%20%20%20%3Cstyle%3E%0A%20%20%20%20%20%20%20%20%20%20%20%20%20%20%20%20%23map_d0778ef9c04044ecbbaf5a4c82b6660a%20%7B%0A%20%20%20%20%20%20%20%20%20%20%20%20%20%20%20%20%20%20%20%20position%3A%20relative%3B%0A%20%20%20%20%20%20%20%20%20%20%20%20%20%20%20%20%20%20%20%20width%3A%20100.0%25%3B%0A%20%20%20%20%20%20%20%20%20%20%20%20%20%20%20%20%20%20%20%20height%3A%20100.0%25%3B%0A%20%20%20%20%20%20%20%20%20%20%20%20%20%20%20%20%20%20%20%20left%3A%200.0%25%3B%0A%20%20%20%20%20%20%20%20%20%20%20%20%20%20%20%20%20%20%20%20top%3A%200.0%25%3B%0A%20%20%20%20%20%20%20%20%20%20%20%20%20%20%20%20%7D%0A%20%20%20%20%20%20%20%20%20%20%20%20%3C/style%3E%0A%20%20%20%20%20%20%20%20%0A%3C/head%3E%0A%3Cbody%3E%20%20%20%20%0A%20%20%20%20%0A%20%20%20%20%20%20%20%20%20%20%20%20%3Cdiv%20class%3D%22folium-map%22%20id%3D%22map_d0778ef9c04044ecbbaf5a4c82b6660a%22%20%3E%3C/div%3E%0A%20%20%20%20%20%20%20%20%0A%3C/body%3E%0A%3Cscript%3E%20%20%20%20%0A%20%20%20%20%0A%20%20%20%20%20%20%20%20%20%20%20%20var%20map_d0778ef9c04044ecbbaf5a4c82b6660a%20%3D%20L.map%28%0A%20%20%20%20%20%20%20%20%20%20%20%20%20%20%20%20%22map_d0778ef9c04044ecbbaf5a4c82b6660a%22%2C%0A%20%20%20%20%20%20%20%20%20%20%20%20%20%20%20%20%7B%0A%20%20%20%20%20%20%20%20%20%20%20%20%20%20%20%20%20%20%20%20center%3A%20%5B36.1612%2C%20-86.7775%5D%2C%0A%20%20%20%20%20%20%20%20%20%20%20%20%20%20%20%20%20%20%20%20crs%3A%20L.CRS.EPSG3857%2C%0A%20%20%20%20%20%20%20%20%20%20%20%20%20%20%20%20%20%20%20%20zoom%3A%2010%2C%0A%20%20%20%20%20%20%20%20%20%20%20%20%20%20%20%20%20%20%20%20zoomControl%3A%20true%2C%0A%20%20%20%20%20%20%20%20%20%20%20%20%20%20%20%20%20%20%20%20preferCanvas%3A%20false%2C%0A%20%20%20%20%20%20%20%20%20%20%20%20%20%20%20%20%7D%0A%20%20%20%20%20%20%20%20%20%20%20%20%29%3B%0A%0A%20%20%20%20%20%20%20%20%20%20%20%20%0A%0A%20%20%20%20%20%20%20%20%0A%20%20%20%20%0A%20%20%20%20%20%20%20%20%20%20%20%20var%20tile_layer_e349c7a2e5884cc9bc5a731d4f0b5c4f%20%3D%20L.tileLayer%28%0A%20%20%20%20%20%20%20%20%20%20%20%20%20%20%20%20%22https%3A//%7Bs%7D.tile.openstreetmap.org/%7Bz%7D/%7Bx%7D/%7By%7D.png%22%2C%0A%20%20%20%20%20%20%20%20%20%20%20%20%20%20%20%20%7B%22attribution%22%3A%20%22Data%20by%20%5Cu0026copy%3B%20%5Cu003ca%20href%3D%5C%22http%3A//openstreetmap.org%5C%22%5Cu003eOpenStreetMap%5Cu003c/a%5Cu003e%2C%20under%20%5Cu003ca%20href%3D%5C%22http%3A//www.openstreetmap.org/copyright%5C%22%5Cu003eODbL%5Cu003c/a%5Cu003e.%22%2C%20%22detectRetina%22%3A%20false%2C%20%22maxNativeZoom%22%3A%2018%2C%20%22maxZoom%22%3A%2018%2C%20%22minZoom%22%3A%200%2C%20%22noWrap%22%3A%20false%2C%20%22opacity%22%3A%201%2C%20%22subdomains%22%3A%20%22abc%22%2C%20%22tms%22%3A%20false%7D%0A%20%20%20%20%20%20%20%20%20%20%20%20%29.addTo%28map_d0778ef9c04044ecbbaf5a4c82b6660a%29%3B%0A%20%20%20%20%20%20%20%20%0A%20%20%20%20%0A%20%20%20%20%20%20%20%20%20%20%20%20var%20marker_47145baa1711438ca040eec5c373a460%20%3D%20L.marker%28%0A%20%20%20%20%20%20%20%20%20%20%20%20%20%20%20%20%5B36.16341249999999%2C%20-86.779421%5D%2C%0A%20%20%20%20%20%20%20%20%20%20%20%20%20%20%20%20%7B%7D%0A%20%20%20%20%20%20%20%20%20%20%20%20%29.addTo%28map_d0778ef9c04044ecbbaf5a4c82b6660a%29%3B%0A%20%20%20%20%20%20%20%20%0A%20%20%20%20%0A%20%20%20%20%20%20%20%20%20%20%20%20var%20marker_00f9fec00f264e56b680ec81d4fef01a%20%3D%20L.marker%28%0A%20%20%20%20%20%20%20%20%20%20%20%20%20%20%20%20%5B36.1567496%2C%20-86.7880596%5D%2C%0A%20%20%20%20%20%20%20%20%20%20%20%20%20%20%20%20%7B%7D%0A%20%20%20%20%20%20%20%20%20%20%20%20%29.addTo%28map_d0778ef9c04044ecbbaf5a4c82b6660a%29%3B%0A%20%20%20%20%20%20%20%20%0A%20%20%20%20%0A%20%20%20%20%20%20%20%20%20%20%20%20var%20marker_1a83dacbe9ae4f2d835e1ac5ea3d48d4%20%3D%20L.marker%28%0A%20%20%20%20%20%20%20%20%20%20%20%20%20%20%20%20%5B36.1630486%2C%20-86.7903632%5D%2C%0A%20%20%20%20%20%20%20%20%20%20%20%20%20%20%20%20%7B%7D%0A%20%20%20%20%20%20%20%20%20%20%20%20%29.addTo%28map_d0778ef9c04044ecbbaf5a4c82b6660a%29%3B%0A%20%20%20%20%20%20%20%20%0A%3C/script%3E onload=\"this.contentDocument.open();this.contentDocument.write(    decodeURIComponent(this.getAttribute('data-html')));this.contentDocument.close();\" allowfullscreen webkitallowfullscreen mozallowfullscreen></iframe></div></div>"
      ],
      "text/plain": [
       "<folium.folium.Map at 0x262d7d62b50>"
      ]
     },
     "execution_count": 9,
     "metadata": {},
     "output_type": "execute_result"
    }
   ],
   "source": [
    "nash_map = folium.Map([36.1612, -86.7775])\n",
    "for store in gas_station_20_mi_radius:\n",
    "    coords = store['geometry']['location']\n",
    "    lat = coords['lat']\n",
    "    lng = coords['lng']\n",
    "    folium.Marker([lat, lng]).add_to(nash_map)\n",
    "nash_map"
   ]
  },
  {
   "cell_type": "code",
   "execution_count": 10,
   "id": "4716d28f",
   "metadata": {},
   "outputs": [],
   "source": [
    "multiple_stores_20_mi_radius = search_places_by_coordinate(location, radius, all_types, api_key)"
   ]
  },
  {
   "cell_type": "code",
   "execution_count": 11,
   "id": "58ec43e6",
   "metadata": {},
   "outputs": [
    {
     "data": {
      "text/plain": [
       "21"
      ]
     },
     "execution_count": 11,
     "metadata": {},
     "output_type": "execute_result"
    }
   ],
   "source": [
    "len(multiple_stores_20_mi_radius)"
   ]
  }
 ],
 "metadata": {
  "kernelspec": {
   "display_name": "Python 3 (ipykernel)",
   "language": "python",
   "name": "python3"
  },
  "language_info": {
   "codemirror_mode": {
    "name": "ipython",
    "version": 3
   },
   "file_extension": ".py",
   "mimetype": "text/x-python",
   "name": "python",
   "nbconvert_exporter": "python",
   "pygments_lexer": "ipython3",
   "version": "3.8.5"
  }
 },
 "nbformat": 4,
 "nbformat_minor": 5
}
