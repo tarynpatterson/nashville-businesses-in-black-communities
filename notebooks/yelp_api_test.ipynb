{
 "cells": [
  {
   "cell_type": "code",
   "execution_count": 1,
   "id": "0318a80f",
   "metadata": {},
   "outputs": [],
   "source": [
    "import pandas as pd\n",
    "import requests\n",
    "import json\n",
    "import time\n",
    "import pickle\n",
    "import folium\n",
    "import geopandas as gpd\n",
    "import matplotlib.pyplot as plt\n",
    "import numpy as np\n",
    "from shapely.geometry import Polygon"
   ]
  },
  {
   "cell_type": "code",
   "execution_count": 2,
   "id": "74545c90",
   "metadata": {},
   "outputs": [],
   "source": [
    "hidden = pd.read_pickle('../data/API_key.pkl')\n",
    "api_key = hidden.loc[1][1]"
   ]
  },
  {
   "cell_type": "code",
   "execution_count": 3,
   "id": "83c1025f",
   "metadata": {},
   "outputs": [],
   "source": [
    "endpoint = 'https://api.yelp.com/v3/businesses/search'\n",
    "headers = {'Authorization': 'bearer %s' % api_key}"
   ]
  },
  {
   "cell_type": "code",
   "execution_count": 4,
   "id": "b35a5dcc",
   "metadata": {},
   "outputs": [],
   "source": [
    "params = {'term': 'food',\n",
    "          'latitude': 36.1612,\n",
    "         'longitude': -87.0654304,\n",
    "         'radius': 32200,\n",
    "          'offset': 50\n",
    "         }"
   ]
  },
  {
   "cell_type": "code",
   "execution_count": 5,
   "id": "637dabbe",
   "metadata": {},
   "outputs": [],
   "source": [
    "response = requests.get(url = endpoint, params = params, headers = headers)"
   ]
  },
  {
   "cell_type": "code",
   "execution_count": 6,
   "id": "8b4429b9",
   "metadata": {},
   "outputs": [],
   "source": [
    "nashville_businesses = response.json()"
   ]
  },
  {
   "cell_type": "code",
   "execution_count": 7,
   "id": "ed3fa30c",
   "metadata": {},
   "outputs": [
    {
     "data": {
      "text/plain": [
       "3"
      ]
     },
     "execution_count": 7,
     "metadata": {},
     "output_type": "execute_result"
    }
   ],
   "source": [
    "len(nashville_businesses)"
   ]
  }
 ],
 "metadata": {
  "kernelspec": {
   "display_name": "Python 3 (ipykernel)",
   "language": "python",
   "name": "python3"
  },
  "language_info": {
   "codemirror_mode": {
    "name": "ipython",
    "version": 3
   },
   "file_extension": ".py",
   "mimetype": "text/x-python",
   "name": "python",
   "nbconvert_exporter": "python",
   "pygments_lexer": "ipython3",
   "version": "3.8.5"
  }
 },
 "nbformat": 4,
 "nbformat_minor": 5
}
