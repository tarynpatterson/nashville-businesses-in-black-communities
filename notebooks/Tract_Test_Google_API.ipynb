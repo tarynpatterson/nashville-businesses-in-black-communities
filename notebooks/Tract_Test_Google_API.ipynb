{
 "cells": [
  {
   "cell_type": "code",
   "execution_count": 91,
   "id": "6e9ce671",
   "metadata": {},
   "outputs": [],
   "source": [
    "import requests\n",
    "import json\n",
    "import time\n",
    "import pickle\n",
    "import folium\n",
    "import geopandas as gpd\n",
    "import matplotlib.pyplot as plt\n",
    "import numpy as np\n",
    "from shapely.geometry import Polygon\n",
    "# import censusdata\n",
    "from sklearn.metrics.pairwise import haversine_distances\n",
    "from sklearn.cluster import AgglomerativeClustering\n",
    "import pandas as pd\n",
    "import math\n",
    "from bs4 import BeautifulSoup as BS\n",
    "import ast\n",
    "from itertools import combinations\n",
    "from collections import Counter\n",
    "#from scipy.cluster.hierarchy \n",
    "from pyproj import Geod\n",
    "from shapely.geometry import Point, LineString\n",
    "\n",
    "%matplotlib inline"
   ]
  },
  {
   "cell_type": "code",
   "execution_count": 92,
   "id": "d0ff0fad",
   "metadata": {},
   "outputs": [],
   "source": [
    "hidden = pd.read_pickle('../data/API_key.pkl')\n",
    "api_key = hidden.loc[0][1]"
   ]
  },
  {
   "cell_type": "code",
   "execution_count": 93,
   "id": "dd232ad1",
   "metadata": {},
   "outputs": [
    {
     "name": "stdout",
     "output_type": "stream",
     "text": [
      "<class 'geopandas.geodataframe.GeoDataFrame'>\n",
      "RangeIndex: 25 entries, 0 to 24\n",
      "Data columns (total 33 columns):\n",
      " #   Column      Non-Null Count  Dtype   \n",
      "---  ------      --------------  -----   \n",
      " 0   geoid       25 non-null     object  \n",
      " 1   name        25 non-null     object  \n",
      " 2   total_pop   25 non-null     float64 \n",
      " 3   total_pop_  25 non-null     float64 \n",
      " 4   white_alon  25 non-null     float64 \n",
      " 5   white_al_1  25 non-null     float64 \n",
      " 6   black_afri  25 non-null     float64 \n",
      " 7   black_af_1  25 non-null     float64 \n",
      " 8   nativeamer  25 non-null     float64 \n",
      " 9   nativeam_1  25 non-null     float64 \n",
      " 10  asian_alon  25 non-null     float64 \n",
      " 11  asian_al_1  25 non-null     float64 \n",
      " 12  hawaiian_p  25 non-null     float64 \n",
      " 13  hawaiian_1  25 non-null     float64 \n",
      " 14  other_alon  25 non-null     float64 \n",
      " 15  other_al_1  25 non-null     float64 \n",
      " 16  two_or_mor  25 non-null     float64 \n",
      " 17  two_or_m_1  25 non-null     float64 \n",
      " 18  two_includ  25 non-null     float64 \n",
      " 19  two_incl_1  25 non-null     float64 \n",
      " 20  two_exclud  25 non-null     float64 \n",
      " 21  two_excl_1  25 non-null     float64 \n",
      " 22  white_pct   25 non-null     float64 \n",
      " 23  black_af_p  25 non-null     float64 \n",
      " 24  nativeam_2  25 non-null     float64 \n",
      " 25  asian_al_2  25 non-null     float64 \n",
      " 26  hawaiian_2  25 non-null     float64 \n",
      " 27  other_al_2  25 non-null     float64 \n",
      " 28  two_or_m_2  25 non-null     float64 \n",
      " 29  centroid    25 non-null     object  \n",
      " 30  radius      25 non-null     float64 \n",
      " 31  buffer      25 non-null     float64 \n",
      " 32  geometry    25 non-null     geometry\n",
      "dtypes: float64(29), geometry(1), object(3)\n",
      "memory usage: 6.6+ KB\n"
     ]
    }
   ],
   "source": [
    "davidson_pred_black = gpd.read_file('../data/davidson_race_by_tract/davidson_tracts_pred_black.geojson')\n",
    "davidson_pred_black.info()"
   ]
  },
  {
   "cell_type": "code",
   "execution_count": 125,
   "id": "c02d1232",
   "metadata": {},
   "outputs": [],
   "source": [
    "location_10105 = '36.24885, -86.85388' # lat, lng as a string\n",
    "radius_10105 = '4534' \n",
    "all_types = ['gas_station',\n",
    "         'grocery_or_supermarket',\n",
    "         'hospital',\n",
    "         'clothing_store',\n",
    "        'restaurant'] "
   ]
  },
  {
   "cell_type": "code",
   "execution_count": 65,
   "id": "749648ae",
   "metadata": {},
   "outputs": [],
   "source": [
    "# Modified from https://python.gotrained.com/google-places-api-extracting-location-data-reviews/\n",
    "\n",
    "def search_places_by_coordinate(location, radius, types, api_key, sleep_sec = 2):\n",
    "    endpoint_url = \"https://maps.googleapis.com/maps/api/place/nearbysearch/json\"\n",
    "    places = []\n",
    "    params = {\n",
    "        'location': location,\n",
    "        'radius': radius,\n",
    "        'types': types,\n",
    "        'key': api_key\n",
    "    }\n",
    "    res = requests.get(endpoint_url, params = params)\n",
    "    results =  res.json()\n",
    "    places.extend(results['results'])\n",
    "    time.sleep(sleep_sec)\n",
    "    while \"next_page_token\" in results:\n",
    "        params['pagetoken'] = results['next_page_token'],\n",
    "        res = requests.get(endpoint_url, params = params)\n",
    "        results = res.json()\n",
    "        places.extend(results['results'])\n",
    "        time.sleep(sleep_sec)\n",
    "    return places"
   ]
  },
  {
   "cell_type": "code",
   "execution_count": 126,
   "id": "e725967d",
   "metadata": {},
   "outputs": [],
   "source": [
    "ct10105 = search_places_by_coordinate(location_10105, radius_10105, all_types, api_key)"
   ]
  },
  {
   "cell_type": "code",
   "execution_count": 127,
   "id": "35bbcc21",
   "metadata": {
    "scrolled": true
   },
   "outputs": [
    {
     "data": {
      "text/plain": [
       "7"
      ]
     },
     "execution_count": 127,
     "metadata": {},
     "output_type": "execute_result"
    }
   ],
   "source": [
    "len(ct10105)"
   ]
  },
  {
   "cell_type": "code",
   "execution_count": 128,
   "id": "896fb725",
   "metadata": {
    "scrolled": true
   },
   "outputs": [
    {
     "name": "stdout",
     "output_type": "stream",
     "text": [
      "[{'business_status': 'OPERATIONAL', 'geometry': {'location': {'lat': 36.2520693, 'lng': -86.8297597}, 'viewport': {'northeast': {'lat': 36.2534926302915, 'lng': -86.8284251697085}, 'southwest': {'lat': 36.2507946697085, 'lng': -86.8311231302915}}}, 'icon': 'https://maps.gstatic.com/mapfiles/place_api/icons/v1/png_71/gas_station-71.png', 'icon_background_color': '#909CE1', 'icon_mask_base_uri': 'https://maps.gstatic.com/mapfiles/place_api/icons/v2/gas_pinlet', 'name': 'Shell', 'photos': [{'height': 4128, 'html_attributions': ['<a href=\"https://maps.google.com/maps/contrib/117265797567492229445\">Rooster Davis</a>'], 'photo_reference': 'Aap_uED-U9l0XSClaB5NUn3A3dR0aBR67y3bngsrfnsW3TwhxjyjSJUd8ASRaRDTGw0YQK-32PqVGyIZ0SPqMgLWKSVsc5OGAuYDyIp31OSG5jKDfj8s9nD_4YJ3nrzPfdsdYWc53nQgLuNQUWuyt-JcbMmA3p4YXdEkUu5cRTycqPuAo2Pw', 'width': 3096}], 'place_id': 'ChIJBQHTXnBeZIgR4BxNPRfisdI', 'plus_code': {'compound_code': '752C+R3 Nashville, TN, USA', 'global_code': '868M752C+R3'}, 'price_level': 2, 'rating': 4.1, 'reference': 'ChIJBQHTXnBeZIgR4BxNPRfisdI', 'scope': 'GOOGLE', 'types': ['gas_station', 'atm', 'convenience_store', 'finance', 'restaurant', 'food', 'point_of_interest', 'store', 'establishment'], 'user_ratings_total': 28, 'vicinity': '5470 Buena Vista Pike, Nashville'}, {'business_status': 'OPERATIONAL', 'geometry': {'location': {'lat': 36.279847, 'lng': -86.873683}, 'viewport': {'northeast': {'lat': 36.2812230802915, 'lng': -86.87236436970849}, 'southwest': {'lat': 36.2785251197085, 'lng': -86.8750623302915}}}, 'icon': 'https://maps.gstatic.com/mapfiles/place_api/icons/v1/png_71/gas_station-71.png', 'icon_background_color': '#909CE1', 'icon_mask_base_uri': 'https://maps.gstatic.com/mapfiles/place_api/icons/v2/gas_pinlet', 'name': \"Cenex KCK's\", 'opening_hours': {'open_now': True}, 'photos': [{'height': 1920, 'html_attributions': ['<a href=\"https://maps.google.com/maps/contrib/107456221821740332279\">Steven N</a>'], 'photo_reference': 'Aap_uEBHwKS33nyvC880YRCks6a77W1_lBFfBkrNynzeOhm1mkqbWtb3_NZ0bMxyZeZ67V7Df8DqUpDe3q9-1QYwjctaHRygE7rHmjiAh9CEM_wWQmUrs0uxnT5GymzaB9yP9bo-xTbptVRoS-FOabyuTIqD3JcznrDtyNQSAylW9Nmxx5PH', 'width': 2560}], 'place_id': 'ChIJz4V_8BBfZIgRS4Qq4Fku2zE', 'plus_code': {'compound_code': '74HG+WG Joelton, Nashville, TN, USA', 'global_code': '868M74HG+WG'}, 'rating': 4.1, 'reference': 'ChIJz4V_8BBfZIgRS4Qq4Fku2zE', 'scope': 'GOOGLE', 'types': ['gas_station', 'point_of_interest', 'establishment'], 'user_ratings_total': 38, 'vicinity': '5500 Clarksville Highway, Joelton'}, {'business_status': 'OPERATIONAL', 'geometry': {'location': {'lat': 36.2106742, 'lng': -86.8385638}, 'viewport': {'northeast': {'lat': 36.21203283029151, 'lng': -86.8373020197085}, 'southwest': {'lat': 36.20933486970851, 'lng': -86.83999998029151}}}, 'icon': 'https://maps.gstatic.com/mapfiles/place_api/icons/v1/png_71/gas_station-71.png', 'icon_background_color': '#909CE1', 'icon_mask_base_uri': 'https://maps.gstatic.com/mapfiles/place_api/icons/v2/gas_pinlet', 'name': 'Kroger Fuel Center', 'opening_hours': {'open_now': True}, 'photos': [{'height': 270, 'html_attributions': ['<a href=\"https://maps.google.com/maps/contrib/112649095809347575939\">Kroger Fuel Center</a>'], 'photo_reference': 'Aap_uEB563d_xrvk1NAV2L2431M_QY-WMPvtgmuk76dsVCPtT86X5TAXeRvM5UwIlmnKh1bBBwILvXcTY5RsIu5kzNDpihUfrGqtjfr61dnLOxugISWas3ul0d8O-z9zZMUxFJbRbt51GbEeKuBdCSeKUTEfQSrWfznPn572j1ier3j6TPjD', 'width': 480}], 'place_id': 'ChIJYQYupLxgZIgRtPeW3s_iHv4', 'plus_code': {'compound_code': '6566+7H Nashville, TN, USA', 'global_code': '868M6566+7H'}, 'price_level': 2, 'rating': 4.4, 'reference': 'ChIJYQYupLxgZIgRtPeW3s_iHv4', 'scope': 'GOOGLE', 'types': ['gas_station', 'point_of_interest', 'establishment'], 'user_ratings_total': 165, 'vicinity': '3930 Clarksville Pike, Nashville'}, {'business_status': 'OPERATIONAL', 'geometry': {'location': {'lat': 36.28001499999999, 'lng': -86.8737427}, 'viewport': {'northeast': {'lat': 36.28121313029149, 'lng': -86.87234671970849}, 'southwest': {'lat': 36.2785151697085, 'lng': -86.8750446802915}}}, 'icon': 'https://maps.gstatic.com/mapfiles/place_api/icons/v1/png_71/shopping-71.png', 'icon_background_color': '#4B96F3', 'icon_mask_base_uri': 'https://maps.gstatic.com/mapfiles/place_api/icons/v2/convenience_pinlet', 'name': \"Brenda's Corner Market\", 'opening_hours': {'open_now': True}, 'place_id': 'ChIJj9WJ7RBfZIgRy-u_yZ4TwI8', 'plus_code': {'compound_code': '74JG+2G Joelton, Nashville, TN, USA', 'global_code': '868M74JG+2G'}, 'rating': 3.6, 'reference': 'ChIJj9WJ7RBfZIgRy-u_yZ4TwI8', 'scope': 'GOOGLE', 'types': ['convenience_store', 'gas_station', 'food', 'point_of_interest', 'store', 'establishment'], 'user_ratings_total': 7, 'vicinity': '5500 Clarksville Pike, Joelton'}, {'business_status': 'OPERATIONAL', 'geometry': {'location': {'lat': 36.21814, 'lng': -86.83669499999999}, 'viewport': {'northeast': {'lat': 36.2196906302915, 'lng': -86.8355456197085}, 'southwest': {'lat': 36.2169926697085, 'lng': -86.8382435802915}}}, 'icon': 'https://maps.gstatic.com/mapfiles/place_api/icons/v1/png_71/gas_station-71.png', 'icon_background_color': '#909CE1', 'icon_mask_base_uri': 'https://maps.gstatic.com/mapfiles/place_api/icons/v2/gas_pinlet', 'name': 'Kwik Sak', 'opening_hours': {'open_now': True}, 'photos': [{'height': 3456, 'html_attributions': ['<a href=\"https://maps.google.com/maps/contrib/104737366976729880220\">SavageRabbit88</a>'], 'photo_reference': 'Aap_uECshOX7z8_iHOWExJ9ufXLkoBLzEB2LChRMoArqcZQDnHTkrVWHKCLYJ7nuFelp2RGz4jUK_Sn_-gROvPxOWDIUT0WDiTjX_Ls4ji1YWHizFkUbjwRKftqJi60odvgaf7znWIocE998Yh4aVCkYbuQVeRKn4LaJYSzbRNQ3tOhcM4LM', 'width': 4608}], 'place_id': 'ChIJEyoPK6dgZIgR9YGzpoOGs-0', 'plus_code': {'compound_code': '6597+78 Nashville, TN, USA', 'global_code': '868M6597+78'}, 'rating': 3.7, 'reference': 'ChIJEyoPK6dgZIgR9YGzpoOGs-0', 'scope': 'GOOGLE', 'types': ['gas_station', 'point_of_interest', 'establishment'], 'user_ratings_total': 205, 'vicinity': '4160 Clarksville Pike, Nashville'}, {'business_status': 'OPERATIONAL', 'geometry': {'location': {'lat': 36.2798062, 'lng': -86.87368769999999}, 'viewport': {'northeast': {'lat': 36.28115278029149, 'lng': -86.87223121970848}, 'southwest': {'lat': 36.27845481970849, 'lng': -86.87492918029149}}}, 'icon': 'https://maps.gstatic.com/mapfiles/place_api/icons/v1/png_71/gas_station-71.png', 'icon_background_color': '#909CE1', 'icon_mask_base_uri': 'https://maps.gstatic.com/mapfiles/place_api/icons/v2/gas_pinlet', 'name': 'Citgo', 'place_id': 'ChIJX0FL8hBfZIgRZJGUpplbYMw', 'plus_code': {'compound_code': '74HG+WG Nashville, TN, USA', 'global_code': '868M74HG+WG'}, 'reference': 'ChIJX0FL8hBfZIgRZJGUpplbYMw', 'scope': 'GOOGLE', 'types': ['gas_station', 'point_of_interest', 'establishment'], 'vicinity': 'United States'}, {'business_status': 'OPERATIONAL', 'geometry': {'location': {'lat': 36.279847, 'lng': -86.873683}, 'viewport': {'northeast': {'lat': 36.2811047302915, 'lng': -86.8724258197085}, 'southwest': {'lat': 36.2784067697085, 'lng': -86.8751237802915}}}, 'icon': 'https://maps.gstatic.com/mapfiles/place_api/icons/v1/png_71/shopping-71.png', 'icon_background_color': '#4B96F3', 'icon_mask_base_uri': 'https://maps.gstatic.com/mapfiles/place_api/icons/v2/convenience_pinlet', 'name': 'Friendly Corner Market', 'opening_hours': {'open_now': True}, 'place_id': 'ChIJR-NF8hBfZIgROM5TeSXZwiQ', 'plus_code': {'compound_code': '74HG+WG Joelton, Nashville, TN, USA', 'global_code': '868M74HG+WG'}, 'rating': 3, 'reference': 'ChIJR-NF8hBfZIgROM5TeSXZwiQ', 'scope': 'GOOGLE', 'types': ['convenience_store', 'gas_station', 'food', 'point_of_interest', 'store', 'establishment'], 'user_ratings_total': 6, 'vicinity': '5500 Clarksville Highway, Joelton'}]\n"
     ]
    }
   ],
   "source": [
    "print(ct10105)"
   ]
  },
  {
   "cell_type": "code",
   "execution_count": 129,
   "id": "3941b2ce",
   "metadata": {},
   "outputs": [
    {
     "data": {
      "text/plain": [
       "{'business_status': 'OPERATIONAL',\n",
       " 'geometry': {'location': {'lat': 36.2520693, 'lng': -86.8297597},\n",
       "  'viewport': {'northeast': {'lat': 36.2534926302915,\n",
       "    'lng': -86.8284251697085},\n",
       "   'southwest': {'lat': 36.2507946697085, 'lng': -86.8311231302915}}},\n",
       " 'icon': 'https://maps.gstatic.com/mapfiles/place_api/icons/v1/png_71/gas_station-71.png',\n",
       " 'icon_background_color': '#909CE1',\n",
       " 'icon_mask_base_uri': 'https://maps.gstatic.com/mapfiles/place_api/icons/v2/gas_pinlet',\n",
       " 'name': 'Shell',\n",
       " 'photos': [{'height': 4128,\n",
       "   'html_attributions': ['<a href=\"https://maps.google.com/maps/contrib/117265797567492229445\">Rooster Davis</a>'],\n",
       "   'photo_reference': 'Aap_uED-U9l0XSClaB5NUn3A3dR0aBR67y3bngsrfnsW3TwhxjyjSJUd8ASRaRDTGw0YQK-32PqVGyIZ0SPqMgLWKSVsc5OGAuYDyIp31OSG5jKDfj8s9nD_4YJ3nrzPfdsdYWc53nQgLuNQUWuyt-JcbMmA3p4YXdEkUu5cRTycqPuAo2Pw',\n",
       "   'width': 3096}],\n",
       " 'place_id': 'ChIJBQHTXnBeZIgR4BxNPRfisdI',\n",
       " 'plus_code': {'compound_code': '752C+R3 Nashville, TN, USA',\n",
       "  'global_code': '868M752C+R3'},\n",
       " 'price_level': 2,\n",
       " 'rating': 4.1,\n",
       " 'reference': 'ChIJBQHTXnBeZIgR4BxNPRfisdI',\n",
       " 'scope': 'GOOGLE',\n",
       " 'types': ['gas_station',\n",
       "  'atm',\n",
       "  'convenience_store',\n",
       "  'finance',\n",
       "  'restaurant',\n",
       "  'food',\n",
       "  'point_of_interest',\n",
       "  'store',\n",
       "  'establishment'],\n",
       " 'user_ratings_total': 28,\n",
       " 'vicinity': '5470 Buena Vista Pike, Nashville'}"
      ]
     },
     "execution_count": 129,
     "metadata": {},
     "output_type": "execute_result"
    }
   ],
   "source": [
    "ct10105[0]"
   ]
  },
  {
   "cell_type": "code",
   "execution_count": 130,
   "id": "a650c1a5",
   "metadata": {},
   "outputs": [
    {
     "name": "stdout",
     "output_type": "stream",
     "text": [
      "36.2520693\n",
      "-86.8297597\n",
      "Shell\n",
      "gas_station\n"
     ]
    }
   ],
   "source": [
    "print(ct10105[0]['geometry']['location']['lat'])\n",
    "print(ct10105[0]['geometry']['location']['lng'])\n",
    "print(ct10105[0]['name'])\n",
    "print(ct10105[0]['types'][0])"
   ]
  },
  {
   "cell_type": "code",
   "execution_count": 132,
   "id": "9e8f845c",
   "metadata": {
    "scrolled": true
   },
   "outputs": [],
   "source": [
    "latitude10105 = []\n",
    "longitude10105 = []\n",
    "name10105 = []\n",
    "type10105 = []\n",
    "\n",
    "for i in ct10105:\n",
    "    latitude10105.append(i['geometry']['location']['lat'])\n",
    "    longitude10105.append(i['geometry']['location']['lng'])\n",
    "    name10105.append(i['name'])\n",
    "    type10105.append(i['types'][0])"
   ]
  },
  {
   "cell_type": "code",
   "execution_count": 137,
   "id": "a704daad",
   "metadata": {},
   "outputs": [
    {
     "data": {
      "text/plain": [
       "['Shell',\n",
       " \"Cenex KCK's\",\n",
       " 'Kroger Fuel Center',\n",
       " \"Brenda's Corner Market\",\n",
       " 'Kwik Sak',\n",
       " 'Citgo',\n",
       " 'Friendly Corner Market']"
      ]
     },
     "execution_count": 137,
     "metadata": {},
     "output_type": "execute_result"
    }
   ],
   "source": [
    "name10105"
   ]
  },
  {
   "cell_type": "code",
   "execution_count": 134,
   "id": "0e345d14",
   "metadata": {},
   "outputs": [],
   "source": [
    "df10105 = pd.DataFrame(list(zip(name10105, type10105, latitude10105, longitude10105)),\n",
    "               columns =['name', 'type', 'latitude', 'longitude'])"
   ]
  },
  {
   "cell_type": "code",
   "execution_count": 136,
   "id": "6d391966",
   "metadata": {
    "scrolled": true
   },
   "outputs": [
    {
     "data": {
      "text/html": [
       "<div>\n",
       "<style scoped>\n",
       "    .dataframe tbody tr th:only-of-type {\n",
       "        vertical-align: middle;\n",
       "    }\n",
       "\n",
       "    .dataframe tbody tr th {\n",
       "        vertical-align: top;\n",
       "    }\n",
       "\n",
       "    .dataframe thead th {\n",
       "        text-align: right;\n",
       "    }\n",
       "</style>\n",
       "<table border=\"1\" class=\"dataframe\">\n",
       "  <thead>\n",
       "    <tr style=\"text-align: right;\">\n",
       "      <th></th>\n",
       "      <th>name</th>\n",
       "      <th>type</th>\n",
       "      <th>latitude</th>\n",
       "      <th>longitude</th>\n",
       "      <th>tract</th>\n",
       "    </tr>\n",
       "  </thead>\n",
       "  <tbody>\n",
       "    <tr>\n",
       "      <th>0</th>\n",
       "      <td>Shell</td>\n",
       "      <td>gas_station</td>\n",
       "      <td>36.252069</td>\n",
       "      <td>-86.829760</td>\n",
       "      <td>census_tract_10105</td>\n",
       "    </tr>\n",
       "    <tr>\n",
       "      <th>1</th>\n",
       "      <td>Cenex KCK's</td>\n",
       "      <td>gas_station</td>\n",
       "      <td>36.279847</td>\n",
       "      <td>-86.873683</td>\n",
       "      <td>census_tract_10105</td>\n",
       "    </tr>\n",
       "    <tr>\n",
       "      <th>2</th>\n",
       "      <td>Kroger Fuel Center</td>\n",
       "      <td>gas_station</td>\n",
       "      <td>36.210674</td>\n",
       "      <td>-86.838564</td>\n",
       "      <td>census_tract_10105</td>\n",
       "    </tr>\n",
       "    <tr>\n",
       "      <th>3</th>\n",
       "      <td>Brenda's Corner Market</td>\n",
       "      <td>convenience_store</td>\n",
       "      <td>36.280015</td>\n",
       "      <td>-86.873743</td>\n",
       "      <td>census_tract_10105</td>\n",
       "    </tr>\n",
       "    <tr>\n",
       "      <th>4</th>\n",
       "      <td>Kwik Sak</td>\n",
       "      <td>gas_station</td>\n",
       "      <td>36.218140</td>\n",
       "      <td>-86.836695</td>\n",
       "      <td>census_tract_10105</td>\n",
       "    </tr>\n",
       "    <tr>\n",
       "      <th>5</th>\n",
       "      <td>Citgo</td>\n",
       "      <td>gas_station</td>\n",
       "      <td>36.279806</td>\n",
       "      <td>-86.873688</td>\n",
       "      <td>census_tract_10105</td>\n",
       "    </tr>\n",
       "    <tr>\n",
       "      <th>6</th>\n",
       "      <td>Friendly Corner Market</td>\n",
       "      <td>convenience_store</td>\n",
       "      <td>36.279847</td>\n",
       "      <td>-86.873683</td>\n",
       "      <td>census_tract_10105</td>\n",
       "    </tr>\n",
       "  </tbody>\n",
       "</table>\n",
       "</div>"
      ],
      "text/plain": [
       "                     name               type   latitude  longitude  \\\n",
       "0                   Shell        gas_station  36.252069 -86.829760   \n",
       "1             Cenex KCK's        gas_station  36.279847 -86.873683   \n",
       "2      Kroger Fuel Center        gas_station  36.210674 -86.838564   \n",
       "3  Brenda's Corner Market  convenience_store  36.280015 -86.873743   \n",
       "4                Kwik Sak        gas_station  36.218140 -86.836695   \n",
       "5                   Citgo        gas_station  36.279806 -86.873688   \n",
       "6  Friendly Corner Market  convenience_store  36.279847 -86.873683   \n",
       "\n",
       "                tract  \n",
       "0  census_tract_10105  \n",
       "1  census_tract_10105  \n",
       "2  census_tract_10105  \n",
       "3  census_tract_10105  \n",
       "4  census_tract_10105  \n",
       "5  census_tract_10105  \n",
       "6  census_tract_10105  "
      ]
     },
     "execution_count": 136,
     "metadata": {},
     "output_type": "execute_result"
    }
   ],
   "source": [
    "df10105['tract'] = 'census_tract_10105'\n",
    "df10105"
   ]
  },
  {
   "cell_type": "code",
   "execution_count": 88,
   "id": "057e6b44",
   "metadata": {
    "scrolled": true
   },
   "outputs": [
    {
     "data": {
      "text/html": [
       "<div style=\"width:100%;\"><div style=\"position:relative;width:100%;height:0;padding-bottom:60%;\"><span style=\"color:#565656\">Make this Notebook Trusted to load map: File -> Trust Notebook</span><iframe src=\"about:blank\" style=\"position:absolute;width:100%;height:100%;left:0;top:0;border:none !important;\" data-html=%3C%21DOCTYPE%20html%3E%0A%3Chead%3E%20%20%20%20%0A%20%20%20%20%3Cmeta%20http-equiv%3D%22content-type%22%20content%3D%22text/html%3B%20charset%3DUTF-8%22%20/%3E%0A%20%20%20%20%0A%20%20%20%20%20%20%20%20%3Cscript%3E%0A%20%20%20%20%20%20%20%20%20%20%20%20L_NO_TOUCH%20%3D%20false%3B%0A%20%20%20%20%20%20%20%20%20%20%20%20L_DISABLE_3D%20%3D%20false%3B%0A%20%20%20%20%20%20%20%20%3C/script%3E%0A%20%20%20%20%0A%20%20%20%20%3Cscript%20src%3D%22https%3A//cdn.jsdelivr.net/npm/leaflet%401.6.0/dist/leaflet.js%22%3E%3C/script%3E%0A%20%20%20%20%3Cscript%20src%3D%22https%3A//code.jquery.com/jquery-1.12.4.min.js%22%3E%3C/script%3E%0A%20%20%20%20%3Cscript%20src%3D%22https%3A//maxcdn.bootstrapcdn.com/bootstrap/3.2.0/js/bootstrap.min.js%22%3E%3C/script%3E%0A%20%20%20%20%3Cscript%20src%3D%22https%3A//cdnjs.cloudflare.com/ajax/libs/Leaflet.awesome-markers/2.0.2/leaflet.awesome-markers.js%22%3E%3C/script%3E%0A%20%20%20%20%3Clink%20rel%3D%22stylesheet%22%20href%3D%22https%3A//cdn.jsdelivr.net/npm/leaflet%401.6.0/dist/leaflet.css%22/%3E%0A%20%20%20%20%3Clink%20rel%3D%22stylesheet%22%20href%3D%22https%3A//maxcdn.bootstrapcdn.com/bootstrap/3.2.0/css/bootstrap.min.css%22/%3E%0A%20%20%20%20%3Clink%20rel%3D%22stylesheet%22%20href%3D%22https%3A//maxcdn.bootstrapcdn.com/bootstrap/3.2.0/css/bootstrap-theme.min.css%22/%3E%0A%20%20%20%20%3Clink%20rel%3D%22stylesheet%22%20href%3D%22https%3A//maxcdn.bootstrapcdn.com/font-awesome/4.6.3/css/font-awesome.min.css%22/%3E%0A%20%20%20%20%3Clink%20rel%3D%22stylesheet%22%20href%3D%22https%3A//cdnjs.cloudflare.com/ajax/libs/Leaflet.awesome-markers/2.0.2/leaflet.awesome-markers.css%22/%3E%0A%20%20%20%20%3Clink%20rel%3D%22stylesheet%22%20href%3D%22https%3A//rawcdn.githack.com/python-visualization/folium/master/folium/templates/leaflet.awesome.rotate.css%22/%3E%0A%20%20%20%20%3Cstyle%3Ehtml%2C%20body%20%7Bwidth%3A%20100%25%3Bheight%3A%20100%25%3Bmargin%3A%200%3Bpadding%3A%200%3B%7D%3C/style%3E%0A%20%20%20%20%3Cstyle%3E%23map%20%7Bposition%3Aabsolute%3Btop%3A0%3Bbottom%3A0%3Bright%3A0%3Bleft%3A0%3B%7D%3C/style%3E%0A%20%20%20%20%0A%20%20%20%20%20%20%20%20%20%20%20%20%3Cmeta%20name%3D%22viewport%22%20content%3D%22width%3Ddevice-width%2C%0A%20%20%20%20%20%20%20%20%20%20%20%20%20%20%20%20initial-scale%3D1.0%2C%20maximum-scale%3D1.0%2C%20user-scalable%3Dno%22%20/%3E%0A%20%20%20%20%20%20%20%20%20%20%20%20%3Cstyle%3E%0A%20%20%20%20%20%20%20%20%20%20%20%20%20%20%20%20%23map_9893ffc42c194c25a1f86810e2ceb039%20%7B%0A%20%20%20%20%20%20%20%20%20%20%20%20%20%20%20%20%20%20%20%20position%3A%20relative%3B%0A%20%20%20%20%20%20%20%20%20%20%20%20%20%20%20%20%20%20%20%20width%3A%20100.0%25%3B%0A%20%20%20%20%20%20%20%20%20%20%20%20%20%20%20%20%20%20%20%20height%3A%20100.0%25%3B%0A%20%20%20%20%20%20%20%20%20%20%20%20%20%20%20%20%20%20%20%20left%3A%200.0%25%3B%0A%20%20%20%20%20%20%20%20%20%20%20%20%20%20%20%20%20%20%20%20top%3A%200.0%25%3B%0A%20%20%20%20%20%20%20%20%20%20%20%20%20%20%20%20%7D%0A%20%20%20%20%20%20%20%20%20%20%20%20%3C/style%3E%0A%20%20%20%20%20%20%20%20%0A%3C/head%3E%0A%3Cbody%3E%20%20%20%20%0A%20%20%20%20%0A%20%20%20%20%20%20%20%20%20%20%20%20%3Cdiv%20class%3D%22folium-map%22%20id%3D%22map_9893ffc42c194c25a1f86810e2ceb039%22%20%3E%3C/div%3E%0A%20%20%20%20%20%20%20%20%0A%3C/body%3E%0A%3Cscript%3E%20%20%20%20%0A%20%20%20%20%0A%20%20%20%20%20%20%20%20%20%20%20%20var%20map_9893ffc42c194c25a1f86810e2ceb039%20%3D%20L.map%28%0A%20%20%20%20%20%20%20%20%20%20%20%20%20%20%20%20%22map_9893ffc42c194c25a1f86810e2ceb039%22%2C%0A%20%20%20%20%20%20%20%20%20%20%20%20%20%20%20%20%7B%0A%20%20%20%20%20%20%20%20%20%20%20%20%20%20%20%20%20%20%20%20center%3A%20%5B36.24885%2C%20-86.85388%5D%2C%0A%20%20%20%20%20%20%20%20%20%20%20%20%20%20%20%20%20%20%20%20crs%3A%20L.CRS.EPSG3857%2C%0A%20%20%20%20%20%20%20%20%20%20%20%20%20%20%20%20%20%20%20%20zoom%3A%2010%2C%0A%20%20%20%20%20%20%20%20%20%20%20%20%20%20%20%20%20%20%20%20zoomControl%3A%20true%2C%0A%20%20%20%20%20%20%20%20%20%20%20%20%20%20%20%20%20%20%20%20preferCanvas%3A%20false%2C%0A%20%20%20%20%20%20%20%20%20%20%20%20%20%20%20%20%7D%0A%20%20%20%20%20%20%20%20%20%20%20%20%29%3B%0A%0A%20%20%20%20%20%20%20%20%20%20%20%20%0A%0A%20%20%20%20%20%20%20%20%0A%20%20%20%20%0A%20%20%20%20%20%20%20%20%20%20%20%20var%20tile_layer_636f28c50a6b4c799c4b5368cf282bfe%20%3D%20L.tileLayer%28%0A%20%20%20%20%20%20%20%20%20%20%20%20%20%20%20%20%22https%3A//%7Bs%7D.tile.openstreetmap.org/%7Bz%7D/%7Bx%7D/%7By%7D.png%22%2C%0A%20%20%20%20%20%20%20%20%20%20%20%20%20%20%20%20%7B%22attribution%22%3A%20%22Data%20by%20%5Cu0026copy%3B%20%5Cu003ca%20href%3D%5C%22http%3A//openstreetmap.org%5C%22%5Cu003eOpenStreetMap%5Cu003c/a%5Cu003e%2C%20under%20%5Cu003ca%20href%3D%5C%22http%3A//www.openstreetmap.org/copyright%5C%22%5Cu003eODbL%5Cu003c/a%5Cu003e.%22%2C%20%22detectRetina%22%3A%20false%2C%20%22maxNativeZoom%22%3A%2018%2C%20%22maxZoom%22%3A%2018%2C%20%22minZoom%22%3A%200%2C%20%22noWrap%22%3A%20false%2C%20%22opacity%22%3A%201%2C%20%22subdomains%22%3A%20%22abc%22%2C%20%22tms%22%3A%20false%7D%0A%20%20%20%20%20%20%20%20%20%20%20%20%29.addTo%28map_9893ffc42c194c25a1f86810e2ceb039%29%3B%0A%20%20%20%20%20%20%20%20%0A%20%20%20%20%0A%20%20%20%20%20%20%20%20%20%20%20%20var%20marker_c7072b86c3634f6a9d863b14aaded291%20%3D%20L.marker%28%0A%20%20%20%20%20%20%20%20%20%20%20%20%20%20%20%20%5B36.2520693%2C%20-86.8297597%5D%2C%0A%20%20%20%20%20%20%20%20%20%20%20%20%20%20%20%20%7B%7D%0A%20%20%20%20%20%20%20%20%20%20%20%20%29.addTo%28map_9893ffc42c194c25a1f86810e2ceb039%29%3B%0A%20%20%20%20%20%20%20%20%0A%20%20%20%20%0A%20%20%20%20%20%20%20%20%20%20%20%20marker_c7072b86c3634f6a9d863b14aaded291.bindTooltip%28%0A%20%20%20%20%20%20%20%20%20%20%20%20%20%20%20%20%60%3Cdiv%3E%0A%20%20%20%20%20%20%20%20%20%20%20%20%20%20%20%20%20%20%20%20%20%5B%27Shell%27%2C%20%27gas_station%27%5D%0A%20%20%20%20%20%20%20%20%20%20%20%20%20%20%20%20%20%3C/div%3E%60%2C%0A%20%20%20%20%20%20%20%20%20%20%20%20%20%20%20%20%7B%22sticky%22%3A%20true%7D%0A%20%20%20%20%20%20%20%20%20%20%20%20%29%3B%0A%20%20%20%20%20%20%20%20%0A%20%20%20%20%0A%20%20%20%20%20%20%20%20%20%20%20%20var%20marker_e34b5afd75624e35821553c99e9491c1%20%3D%20L.marker%28%0A%20%20%20%20%20%20%20%20%20%20%20%20%20%20%20%20%5B36.279847%2C%20-86.873683%5D%2C%0A%20%20%20%20%20%20%20%20%20%20%20%20%20%20%20%20%7B%7D%0A%20%20%20%20%20%20%20%20%20%20%20%20%29.addTo%28map_9893ffc42c194c25a1f86810e2ceb039%29%3B%0A%20%20%20%20%20%20%20%20%0A%20%20%20%20%0A%20%20%20%20%20%20%20%20%20%20%20%20marker_e34b5afd75624e35821553c99e9491c1.bindTooltip%28%0A%20%20%20%20%20%20%20%20%20%20%20%20%20%20%20%20%60%3Cdiv%3E%0A%20%20%20%20%20%20%20%20%20%20%20%20%20%20%20%20%20%20%20%20%20%5B%22Cenex%20KCK%27s%22%2C%20%27gas_station%27%5D%0A%20%20%20%20%20%20%20%20%20%20%20%20%20%20%20%20%20%3C/div%3E%60%2C%0A%20%20%20%20%20%20%20%20%20%20%20%20%20%20%20%20%7B%22sticky%22%3A%20true%7D%0A%20%20%20%20%20%20%20%20%20%20%20%20%29%3B%0A%20%20%20%20%20%20%20%20%0A%20%20%20%20%0A%20%20%20%20%20%20%20%20%20%20%20%20var%20marker_8fdb42a9d11b45f88c7fe36e408d4f57%20%3D%20L.marker%28%0A%20%20%20%20%20%20%20%20%20%20%20%20%20%20%20%20%5B36.21814%2C%20-86.83669499999999%5D%2C%0A%20%20%20%20%20%20%20%20%20%20%20%20%20%20%20%20%7B%7D%0A%20%20%20%20%20%20%20%20%20%20%20%20%29.addTo%28map_9893ffc42c194c25a1f86810e2ceb039%29%3B%0A%20%20%20%20%20%20%20%20%0A%20%20%20%20%0A%20%20%20%20%20%20%20%20%20%20%20%20marker_8fdb42a9d11b45f88c7fe36e408d4f57.bindTooltip%28%0A%20%20%20%20%20%20%20%20%20%20%20%20%20%20%20%20%60%3Cdiv%3E%0A%20%20%20%20%20%20%20%20%20%20%20%20%20%20%20%20%20%20%20%20%20%5B%27Kwik%20Sak%27%2C%20%27gas_station%27%5D%0A%20%20%20%20%20%20%20%20%20%20%20%20%20%20%20%20%20%3C/div%3E%60%2C%0A%20%20%20%20%20%20%20%20%20%20%20%20%20%20%20%20%7B%22sticky%22%3A%20true%7D%0A%20%20%20%20%20%20%20%20%20%20%20%20%29%3B%0A%20%20%20%20%20%20%20%20%0A%20%20%20%20%0A%20%20%20%20%20%20%20%20%20%20%20%20var%20marker_fd04bc5a9c5b4894b877ed3791f1a0cf%20%3D%20L.marker%28%0A%20%20%20%20%20%20%20%20%20%20%20%20%20%20%20%20%5B36.28001499999999%2C%20-86.8737427%5D%2C%0A%20%20%20%20%20%20%20%20%20%20%20%20%20%20%20%20%7B%7D%0A%20%20%20%20%20%20%20%20%20%20%20%20%29.addTo%28map_9893ffc42c194c25a1f86810e2ceb039%29%3B%0A%20%20%20%20%20%20%20%20%0A%20%20%20%20%0A%20%20%20%20%20%20%20%20%20%20%20%20marker_fd04bc5a9c5b4894b877ed3791f1a0cf.bindTooltip%28%0A%20%20%20%20%20%20%20%20%20%20%20%20%20%20%20%20%60%3Cdiv%3E%0A%20%20%20%20%20%20%20%20%20%20%20%20%20%20%20%20%20%20%20%20%20%5B%22Brenda%27s%20Corner%20Market%22%2C%20%27convenience_store%27%5D%0A%20%20%20%20%20%20%20%20%20%20%20%20%20%20%20%20%20%3C/div%3E%60%2C%0A%20%20%20%20%20%20%20%20%20%20%20%20%20%20%20%20%7B%22sticky%22%3A%20true%7D%0A%20%20%20%20%20%20%20%20%20%20%20%20%29%3B%0A%20%20%20%20%20%20%20%20%0A%20%20%20%20%0A%20%20%20%20%20%20%20%20%20%20%20%20var%20marker_5f5a6b728ba94e17a07dabc6ec517048%20%3D%20L.marker%28%0A%20%20%20%20%20%20%20%20%20%20%20%20%20%20%20%20%5B36.2798062%2C%20-86.87368769999999%5D%2C%0A%20%20%20%20%20%20%20%20%20%20%20%20%20%20%20%20%7B%7D%0A%20%20%20%20%20%20%20%20%20%20%20%20%29.addTo%28map_9893ffc42c194c25a1f86810e2ceb039%29%3B%0A%20%20%20%20%20%20%20%20%0A%20%20%20%20%0A%20%20%20%20%20%20%20%20%20%20%20%20marker_5f5a6b728ba94e17a07dabc6ec517048.bindTooltip%28%0A%20%20%20%20%20%20%20%20%20%20%20%20%20%20%20%20%60%3Cdiv%3E%0A%20%20%20%20%20%20%20%20%20%20%20%20%20%20%20%20%20%20%20%20%20%5B%27Citgo%27%2C%20%27gas_station%27%5D%0A%20%20%20%20%20%20%20%20%20%20%20%20%20%20%20%20%20%3C/div%3E%60%2C%0A%20%20%20%20%20%20%20%20%20%20%20%20%20%20%20%20%7B%22sticky%22%3A%20true%7D%0A%20%20%20%20%20%20%20%20%20%20%20%20%29%3B%0A%20%20%20%20%20%20%20%20%0A%20%20%20%20%0A%20%20%20%20%20%20%20%20%20%20%20%20var%20marker_841cf95b54aa41188211626805ede384%20%3D%20L.marker%28%0A%20%20%20%20%20%20%20%20%20%20%20%20%20%20%20%20%5B36.279847%2C%20-86.873683%5D%2C%0A%20%20%20%20%20%20%20%20%20%20%20%20%20%20%20%20%7B%7D%0A%20%20%20%20%20%20%20%20%20%20%20%20%29.addTo%28map_9893ffc42c194c25a1f86810e2ceb039%29%3B%0A%20%20%20%20%20%20%20%20%0A%20%20%20%20%0A%20%20%20%20%20%20%20%20%20%20%20%20marker_841cf95b54aa41188211626805ede384.bindTooltip%28%0A%20%20%20%20%20%20%20%20%20%20%20%20%20%20%20%20%60%3Cdiv%3E%0A%20%20%20%20%20%20%20%20%20%20%20%20%20%20%20%20%20%20%20%20%20%5B%27Friendly%20Corner%20Market%27%2C%20%27convenience_store%27%5D%0A%20%20%20%20%20%20%20%20%20%20%20%20%20%20%20%20%20%3C/div%3E%60%2C%0A%20%20%20%20%20%20%20%20%20%20%20%20%20%20%20%20%7B%22sticky%22%3A%20true%7D%0A%20%20%20%20%20%20%20%20%20%20%20%20%29%3B%0A%20%20%20%20%20%20%20%20%0A%3C/script%3E onload=\"this.contentDocument.open();this.contentDocument.write(    decodeURIComponent(this.getAttribute('data-html')));this.contentDocument.close();\" allowfullscreen webkitallowfullscreen mozallowfullscreen></iframe></div></div>"
      ],
      "text/plain": [
       "<folium.folium.Map at 0x2736b5fa040>"
      ]
     },
     "execution_count": 88,
     "metadata": {},
     "output_type": "execute_result"
    }
   ],
   "source": [
    "test_map = folium.Map([36.24885, -86.85388])\n",
    "for row_index, row_values in test_df.iterrows():\n",
    "    loc = [row_values['latitude'], row_values['longitude']]\n",
    "    tool = [str(row_values['name']), str(row_values['type'])]\n",
    "    \n",
    "    marker = folium.Marker(\n",
    "        location = loc, \n",
    "        tooltip = tool) \n",
    "\n",
    "    marker.add_to(test_map)\n",
    "test_map"
   ]
  },
  {
   "cell_type": "code",
   "execution_count": 100,
   "id": "a6e5c19b",
   "metadata": {},
   "outputs": [],
   "source": [
    "location_10106 = '36.25371, -86.80361' # lat, lng as a string\n",
    "radius_10106 = '4000'"
   ]
  },
  {
   "cell_type": "code",
   "execution_count": 101,
   "id": "c3af5df3",
   "metadata": {},
   "outputs": [
    {
     "data": {
      "text/plain": [
       "8"
      ]
     },
     "execution_count": 101,
     "metadata": {},
     "output_type": "execute_result"
    }
   ],
   "source": [
    "ct10106 = search_places_by_coordinate(location_10106, radius_10106, all_types, api_key)\n",
    "len(ct10106)"
   ]
  },
  {
   "cell_type": "code",
   "execution_count": 113,
   "id": "5fbb545d",
   "metadata": {},
   "outputs": [],
   "source": [
    "test_dict = {location_10105:radius_10105, location_10106:radius_10106}"
   ]
  },
  {
   "cell_type": "code",
   "execution_count": 119,
   "id": "6600b8ce",
   "metadata": {},
   "outputs": [],
   "source": [
    "test_name = []\n",
    "test_type = []\n",
    "\n",
    "for key, value in test_dict.items():\n",
    "    results_10105_10106 =  search_places_by_coordinate(key, value, all_types, api_key)\n",
    "    for i in results_10105_10106:\n",
    "        test_name.append(i['name'])\n",
    "        test_type.append(i['types'][0])\n"
   ]
  },
  {
   "cell_type": "code",
   "execution_count": 123,
   "id": "f5fe8d25",
   "metadata": {},
   "outputs": [
    {
     "name": "stdout",
     "output_type": "stream",
     "text": [
      "['gas_station', 'gas_station', 'gas_station', 'convenience_store', 'gas_station', 'convenience_store', 'gas_station', 'convenience_store', 'gas_station', 'gas_station', 'convenience_store', 'gas_station', 'convenience_store', 'convenience_store']\n"
     ]
    }
   ],
   "source": [
    "print(test_type)"
   ]
  },
  {
   "cell_type": "code",
   "execution_count": 117,
   "id": "6e4a9ae3",
   "metadata": {
    "scrolled": true
   },
   "outputs": [
    {
     "data": {
      "text/plain": [
       "8"
      ]
     },
     "execution_count": 117,
     "metadata": {},
     "output_type": "execute_result"
    }
   ],
   "source": [
    "len(results_10105_10106)"
   ]
  },
  {
   "cell_type": "markdown",
   "id": "12bcb56d",
   "metadata": {},
   "source": [
    "# Now that I've created the DataFrame for the first census tract, I will do the same for the others"
   ]
  }
 ],
 "metadata": {
  "kernelspec": {
   "display_name": "Python 3 (ipykernel)",
   "language": "python",
   "name": "python3"
  },
  "language_info": {
   "codemirror_mode": {
    "name": "ipython",
    "version": 3
   },
   "file_extension": ".py",
   "mimetype": "text/x-python",
   "name": "python",
   "nbconvert_exporter": "python",
   "pygments_lexer": "ipython3",
   "version": "3.8.5"
  }
 },
 "nbformat": 4,
 "nbformat_minor": 5
}
