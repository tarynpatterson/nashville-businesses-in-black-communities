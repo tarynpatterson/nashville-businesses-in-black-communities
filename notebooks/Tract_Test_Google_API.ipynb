{
 "cells": [
  {
   "cell_type": "code",
   "execution_count": 91,
   "id": "6e9ce671",
   "metadata": {},
   "outputs": [],
   "source": [
    "import requests\n",
    "import json\n",
    "import time\n",
    "import pickle\n",
    "import folium\n",
    "import geopandas as gpd\n",
    "import matplotlib.pyplot as plt\n",
    "import numpy as np\n",
    "from shapely.geometry import Polygon\n",
    "# import censusdata\n",
    "from sklearn.metrics.pairwise import haversine_distances\n",
    "from sklearn.cluster import AgglomerativeClustering\n",
    "import pandas as pd\n",
    "import math\n",
    "from bs4 import BeautifulSoup as BS\n",
    "import ast\n",
    "from itertools import combinations\n",
    "from collections import Counter\n",
    "#from scipy.cluster.hierarchy \n",
    "from pyproj import Geod\n",
    "from shapely.geometry import Point, LineString\n",
    "\n",
    "%matplotlib inline"
   ]
  },
  {
   "cell_type": "code",
   "execution_count": 92,
   "id": "d0ff0fad",
   "metadata": {},
   "outputs": [],
   "source": [
    "hidden = pd.read_pickle('../data/API_key.pkl')\n",
    "api_key = hidden.loc[0][1]"
   ]
  },
  {
   "cell_type": "code",
   "execution_count": 93,
   "id": "65239c43",
   "metadata": {},
   "outputs": [
    {
     "name": "stdout",
     "output_type": "stream",
     "text": [
      "<class 'geopandas.geodataframe.GeoDataFrame'>\n",
      "RangeIndex: 25 entries, 0 to 24\n",
      "Data columns (total 33 columns):\n",
      " #   Column      Non-Null Count  Dtype   \n",
      "---  ------      --------------  -----   \n",
      " 0   geoid       25 non-null     object  \n",
      " 1   name        25 non-null     object  \n",
      " 2   total_pop   25 non-null     float64 \n",
      " 3   total_pop_  25 non-null     float64 \n",
      " 4   white_alon  25 non-null     float64 \n",
      " 5   white_al_1  25 non-null     float64 \n",
      " 6   black_afri  25 non-null     float64 \n",
      " 7   black_af_1  25 non-null     float64 \n",
      " 8   nativeamer  25 non-null     float64 \n",
      " 9   nativeam_1  25 non-null     float64 \n",
      " 10  asian_alon  25 non-null     float64 \n",
      " 11  asian_al_1  25 non-null     float64 \n",
      " 12  hawaiian_p  25 non-null     float64 \n",
      " 13  hawaiian_1  25 non-null     float64 \n",
      " 14  other_alon  25 non-null     float64 \n",
      " 15  other_al_1  25 non-null     float64 \n",
      " 16  two_or_mor  25 non-null     float64 \n",
      " 17  two_or_m_1  25 non-null     float64 \n",
      " 18  two_includ  25 non-null     float64 \n",
      " 19  two_incl_1  25 non-null     float64 \n",
      " 20  two_exclud  25 non-null     float64 \n",
      " 21  two_excl_1  25 non-null     float64 \n",
      " 22  white_pct   25 non-null     float64 \n",
      " 23  black_af_p  25 non-null     float64 \n",
      " 24  nativeam_2  25 non-null     float64 \n",
      " 25  asian_al_2  25 non-null     float64 \n",
      " 26  hawaiian_2  25 non-null     float64 \n",
      " 27  other_al_2  25 non-null     float64 \n",
      " 28  two_or_m_2  25 non-null     float64 \n",
      " 29  centroid    25 non-null     object  \n",
      " 30  radius      25 non-null     float64 \n",
      " 31  buffer      25 non-null     float64 \n",
      " 32  geometry    25 non-null     geometry\n",
      "dtypes: float64(29), geometry(1), object(3)\n",
      "memory usage: 6.6+ KB\n"
     ]
    }
   ],
   "source": [
    "davidson_pred_black = gpd.read_file('../data/davidson_race_by_tract/davidson_tracts_pred_black.geojson')\n",
    "davidson_pred_black.info()"
   ]
  },
  {
   "cell_type": "code",
   "execution_count": 210,
   "id": "c02d1232",
   "metadata": {},
   "outputs": [],
   "source": [
    "all_types = ['gas_station',\n",
    "             'supermarket',\n",
    "             'grocery_store',\n",
    "             'hospital',\n",
    "             'clothing_store',\n",
    "             'restaurant',\n",
    "             'store',\n",
    "             'night_club',\n",
    "             'bar'] "
   ]
  },
  {
   "cell_type": "code",
   "execution_count": 216,
   "id": "749648ae",
   "metadata": {},
   "outputs": [],
   "source": [
    "# Modified from https://python.gotrained.com/google-places-api-extracting-location-data-reviews/\n",
    "\n",
    "def search_places_by_coordinate(location, radius, types, api_key, sleep_sec = 2):\n",
    "    endpoint_url = \"https://maps.googleapis.com/maps/api/place/nearbysearch/json\"\n",
    "    places = []\n",
    "    params = {\n",
    "        'location': location,\n",
    "        'radius': radius,\n",
    "        'types': types,\n",
    "        'key': api_key\n",
    "    }\n",
    "    res = requests.get(endpoint_url, params = params)\n",
    "    results =  res.json()\n",
    "    places.extend(results['results'])\n",
    "    time.sleep(sleep_sec)\n",
    "    while \"next_page_token\" in results:\n",
    "        params['pagetoken'] = results['next_page_token'],\n",
    "        res = requests.get(endpoint_url, params = params)\n",
    "        results = res.json()\n",
    "        places.extend(results['results'])\n",
    "        time.sleep(sleep_sec)\n",
    "    return places"
   ]
  },
  {
   "cell_type": "markdown",
   "id": "b71707e8",
   "metadata": {},
   "source": [
    "## Because the Google API only lets you search for 1 type at a time, I've used a for loop to iterate through each type I need and create a list of those lists (nested lists, yay!)"
   ]
  },
  {
   "cell_type": "code",
   "execution_count": 281,
   "id": "e725967d",
   "metadata": {},
   "outputs": [],
   "source": [
    "ct10105 = []\n",
    "ct10105_list = []\n",
    "latitude10105 = []\n",
    "longitude10105 = []\n",
    "name10105 = []\n",
    "type10105 = []\n",
    "\n",
    "for i in all_types:\n",
    "    ct10105_res = search_places_by_coordinate(location_10105, radius_10105, i, api_key)\n",
    "    ct10105.append(ct10105_res)\n",
    "    for list in ct10105:\n",
    "        for element in list:\n",
    "            latitude10105.append(element['geometry']['location']['lat'])\n",
    "            longitude10105.append(element['geometry']['location']['lng'])\n",
    "            name10105.append(element['name'])\n",
    "            type10105.append(element['types'][0])"
   ]
  },
  {
   "cell_type": "code",
   "execution_count": 282,
   "id": "35bbcc21",
   "metadata": {
    "scrolled": true
   },
   "outputs": [
    {
     "data": {
      "text/plain": [
       "9"
      ]
     },
     "execution_count": 282,
     "metadata": {},
     "output_type": "execute_result"
    }
   ],
   "source": [
    "len(ct10105) # this should be 9 because we have 9 business types"
   ]
  },
  {
   "cell_type": "code",
   "execution_count": 283,
   "id": "20343ad6",
   "metadata": {
    "scrolled": true
   },
   "outputs": [
    {
     "data": {
      "text/plain": [
       "7"
      ]
     },
     "execution_count": 283,
     "metadata": {},
     "output_type": "execute_result"
    }
   ],
   "source": [
    "len(ct10105[0]) # This would be the number of gas stations since that is the first type we iterated through"
   ]
  },
  {
   "cell_type": "code",
   "execution_count": 274,
   "id": "2797df43",
   "metadata": {},
   "outputs": [
    {
     "name": "stdout",
     "output_type": "stream",
     "text": [
      "[[{'business_status': 'OPERATIONAL', 'geometry': {'location': {'lat': 36.2520693, 'lng': -86.8297597}, 'viewport': {'northeast': {'lat': 36.2534926302915, 'lng': -86.8284251697085}, 'southwest': {'lat': 36.2507946697085, 'lng': -86.8311231302915}}}, 'icon': 'https://maps.gstatic.com/mapfiles/place_api/icons/v1/png_71/gas_station-71.png', 'icon_background_color': '#909CE1', 'icon_mask_base_uri': 'https://maps.gstatic.com/mapfiles/place_api/icons/v2/gas_pinlet', 'name': 'Shell', 'photos': [{'height': 4128, 'html_attributions': ['<a href=\"https://maps.google.com/maps/contrib/117265797567492229445\">Rooster Davis</a>'], 'photo_reference': 'Aap_uEANVrb9YV2AhfiBYXJwOQMxWm_HgLtxPRRVHo4EJ9xKOstf-wUnGzOmT0QgE_2JyvxlaMgf2gn73vf54QT5P7WLMq1yIekTvptjbmNKez4DnzACD4odaGOxaE7dQKcQ7kFKbXSWbk9htDwWgddqlSVVCR2gqXdNdc4hvUJA48-3Qo15', 'width': 3096}], 'place_id': 'ChIJBQHTXnBeZIgR4BxNPRfisdI', 'plus_code': {'compound_code': '752C+R3 Nashville, TN, USA', 'global_code': '868M752C+R3'}, 'price_level': 2, 'rating': 4.1, 'reference': 'ChIJBQHTXnBeZIgR4BxNPRfisdI', 'scope': 'GOOGLE', 'types': ['gas_station', 'atm', 'convenience_store', 'finance', 'restaurant', 'food', 'point_of_interest', 'store', 'establishment'], 'user_ratings_total': 28, 'vicinity': '5470 Buena Vista Pike, Nashville'}, {'business_status': 'OPERATIONAL', 'geometry': {'location': {'lat': 36.279847, 'lng': -86.873683}, 'viewport': {'northeast': {'lat': 36.2812230802915, 'lng': -86.87236436970849}, 'southwest': {'lat': 36.2785251197085, 'lng': -86.8750623302915}}}, 'icon': 'https://maps.gstatic.com/mapfiles/place_api/icons/v1/png_71/gas_station-71.png', 'icon_background_color': '#909CE1', 'icon_mask_base_uri': 'https://maps.gstatic.com/mapfiles/place_api/icons/v2/gas_pinlet', 'name': \"Cenex KCK's\", 'opening_hours': {'open_now': True}, 'photos': [{'height': 1920, 'html_attributions': ['<a href=\"https://maps.google.com/maps/contrib/107456221821740332279\">Steven N</a>'], 'photo_reference': 'Aap_uEBd3Xl1CWASh4DZm8cbNyOXrked8RA83NDcTQUFzxJjsnnMXtbrQCDIYDoYRLR5xvoXAWUWZKjtkqJMELFZk42xNfuv2NCrIttyYBe_xgQ0ymYN5hjB6fnXJjD_xKwXns2G14q-0wpCGJCNQE8mUFEqz-K8i2kfZVTuLbDOjSShk-Cf', 'width': 2560}], 'place_id': 'ChIJz4V_8BBfZIgRS4Qq4Fku2zE', 'plus_code': {'compound_code': '74HG+WG Joelton, Nashville, TN, USA', 'global_code': '868M74HG+WG'}, 'rating': 4.1, 'reference': 'ChIJz4V_8BBfZIgRS4Qq4Fku2zE', 'scope': 'GOOGLE', 'types': ['gas_station', 'point_of_interest', 'establishment'], 'user_ratings_total': 38, 'vicinity': '5500 Clarksville Highway, Joelton'}, {'business_status': 'OPERATIONAL', 'geometry': {'location': {'lat': 36.2106742, 'lng': -86.8385638}, 'viewport': {'northeast': {'lat': 36.21203283029151, 'lng': -86.8373020197085}, 'southwest': {'lat': 36.20933486970851, 'lng': -86.83999998029151}}}, 'icon': 'https://maps.gstatic.com/mapfiles/place_api/icons/v1/png_71/gas_station-71.png', 'icon_background_color': '#909CE1', 'icon_mask_base_uri': 'https://maps.gstatic.com/mapfiles/place_api/icons/v2/gas_pinlet', 'name': 'Kroger Fuel Center', 'opening_hours': {'open_now': True}, 'photos': [{'height': 270, 'html_attributions': ['<a href=\"https://maps.google.com/maps/contrib/112649095809347575939\">Kroger Fuel Center</a>'], 'photo_reference': 'Aap_uEBTSXIb1q5_WNN6vkWrBFHYcNHx-6Lgvst_-C4USlLu54ovVwFHeuVCIbpWI1Ml_ECdzcAmVW7eONVHTBad2jZcMTagi3P3_5xK5KZKCQfHuY_yjr2fuz7nRMThhZaxh2_m_yvdCMOWVABX7S_5QciZC_sLy8aOQpArk58JSCTLN6CF', 'width': 480}], 'place_id': 'ChIJYQYupLxgZIgRtPeW3s_iHv4', 'plus_code': {'compound_code': '6566+7H Nashville, TN, USA', 'global_code': '868M6566+7H'}, 'price_level': 2, 'rating': 4.4, 'reference': 'ChIJYQYupLxgZIgRtPeW3s_iHv4', 'scope': 'GOOGLE', 'types': ['gas_station', 'point_of_interest', 'establishment'], 'user_ratings_total': 165, 'vicinity': '3930 Clarksville Pike, Nashville'}, {'business_status': 'OPERATIONAL', 'geometry': {'location': {'lat': 36.28001499999999, 'lng': -86.8737427}, 'viewport': {'northeast': {'lat': 36.28121313029149, 'lng': -86.87234671970849}, 'southwest': {'lat': 36.2785151697085, 'lng': -86.8750446802915}}}, 'icon': 'https://maps.gstatic.com/mapfiles/place_api/icons/v1/png_71/shopping-71.png', 'icon_background_color': '#4B96F3', 'icon_mask_base_uri': 'https://maps.gstatic.com/mapfiles/place_api/icons/v2/convenience_pinlet', 'name': \"Brenda's Corner Market\", 'opening_hours': {'open_now': True}, 'place_id': 'ChIJj9WJ7RBfZIgRy-u_yZ4TwI8', 'plus_code': {'compound_code': '74JG+2G Joelton, Nashville, TN, USA', 'global_code': '868M74JG+2G'}, 'rating': 3.6, 'reference': 'ChIJj9WJ7RBfZIgRy-u_yZ4TwI8', 'scope': 'GOOGLE', 'types': ['convenience_store', 'gas_station', 'food', 'point_of_interest', 'store', 'establishment'], 'user_ratings_total': 7, 'vicinity': '5500 Clarksville Pike, Joelton'}, {'business_status': 'OPERATIONAL', 'geometry': {'location': {'lat': 36.21814, 'lng': -86.83669499999999}, 'viewport': {'northeast': {'lat': 36.2196906302915, 'lng': -86.8355456197085}, 'southwest': {'lat': 36.2169926697085, 'lng': -86.8382435802915}}}, 'icon': 'https://maps.gstatic.com/mapfiles/place_api/icons/v1/png_71/gas_station-71.png', 'icon_background_color': '#909CE1', 'icon_mask_base_uri': 'https://maps.gstatic.com/mapfiles/place_api/icons/v2/gas_pinlet', 'name': 'Kwik Sak', 'opening_hours': {'open_now': True}, 'photos': [{'height': 3456, 'html_attributions': ['<a href=\"https://maps.google.com/maps/contrib/104737366976729880220\">SavageRabbit88</a>'], 'photo_reference': 'Aap_uEAO42an2QdWR0yRqaKBux_VY8nA0yYUD9i62Ued50SfrIFpEqkSVvai9s-zGvQxoXHvMa8zmMCLMyIXZoRv1f2LJRcSgKNwQCw6u1e3WoHWSu0JsqXmk2fO7ENbwB47LeEHJ3d3RtjffNzxNcTI9qEzts6nOcHN2Hsx8dgl3EWvhj6t', 'width': 4608}], 'place_id': 'ChIJEyoPK6dgZIgR9YGzpoOGs-0', 'plus_code': {'compound_code': '6597+78 Nashville, TN, USA', 'global_code': '868M6597+78'}, 'rating': 3.7, 'reference': 'ChIJEyoPK6dgZIgR9YGzpoOGs-0', 'scope': 'GOOGLE', 'types': ['gas_station', 'point_of_interest', 'establishment'], 'user_ratings_total': 205, 'vicinity': '4160 Clarksville Pike, Nashville'}, {'business_status': 'OPERATIONAL', 'geometry': {'location': {'lat': 36.2798062, 'lng': -86.87368769999999}, 'viewport': {'northeast': {'lat': 36.28115278029149, 'lng': -86.87223121970848}, 'southwest': {'lat': 36.27845481970849, 'lng': -86.87492918029149}}}, 'icon': 'https://maps.gstatic.com/mapfiles/place_api/icons/v1/png_71/gas_station-71.png', 'icon_background_color': '#909CE1', 'icon_mask_base_uri': 'https://maps.gstatic.com/mapfiles/place_api/icons/v2/gas_pinlet', 'name': 'Citgo', 'place_id': 'ChIJX0FL8hBfZIgRZJGUpplbYMw', 'plus_code': {'compound_code': '74HG+WG Nashville, TN, USA', 'global_code': '868M74HG+WG'}, 'reference': 'ChIJX0FL8hBfZIgRZJGUpplbYMw', 'scope': 'GOOGLE', 'types': ['gas_station', 'point_of_interest', 'establishment'], 'vicinity': 'United States'}, {'business_status': 'OPERATIONAL', 'geometry': {'location': {'lat': 36.279847, 'lng': -86.873683}, 'viewport': {'northeast': {'lat': 36.2811047302915, 'lng': -86.8724258197085}, 'southwest': {'lat': 36.2784067697085, 'lng': -86.8751237802915}}}, 'icon': 'https://maps.gstatic.com/mapfiles/place_api/icons/v1/png_71/shopping-71.png', 'icon_background_color': '#4B96F3', 'icon_mask_base_uri': 'https://maps.gstatic.com/mapfiles/place_api/icons/v2/convenience_pinlet', 'name': 'Friendly Corner Market', 'opening_hours': {'open_now': True}, 'place_id': 'ChIJR-NF8hBfZIgROM5TeSXZwiQ', 'plus_code': {'compound_code': '74HG+WG Joelton, Nashville, TN, USA', 'global_code': '868M74HG+WG'}, 'rating': 3, 'reference': 'ChIJR-NF8hBfZIgROM5TeSXZwiQ', 'scope': 'GOOGLE', 'types': ['convenience_store', 'gas_station', 'food', 'point_of_interest', 'store', 'establishment'], 'user_ratings_total': 6, 'vicinity': '5500 Clarksville Highway, Joelton'}], [{'business_status': 'OPERATIONAL', 'geometry': {'location': {'lat': 36.2114599, 'lng': -86.8394071}, 'viewport': {'northeast': {'lat': 36.2126443302915, 'lng': -86.8377576197085}, 'southwest': {'lat': 36.2099463697085, 'lng': -86.84045558029152}}}, 'icon': 'https://maps.gstatic.com/mapfiles/place_api/icons/v1/png_71/shopping-71.png', 'icon_background_color': '#4B96F3', 'icon_mask_base_uri': 'https://maps.gstatic.com/mapfiles/place_api/icons/v2/shopping_pinlet', 'name': 'Family Dollar', 'opening_hours': {'open_now': False}, 'photos': [{'height': 1080, 'html_attributions': ['<a href=\"https://maps.google.com/maps/contrib/101587297628701575481\">Glogic Rodney</a>'], 'photo_reference': 'Aap_uEDcMV8igTsUNXrFJRPNmdO-fphDbppl1mthJepufoANTYz9rqV8WRm1g5xWLimElU5qHLA8UN4Jvnp6WMXIkoEKXdNVSoFP4rbRjE0_z8feaFaiaAwss_SQBJE4NxrQKicbkbOTyYclquT_URsvp9neLE-PIfF043CElUh9d9T4Q_HB', 'width': 1920}], 'place_id': 'ChIJiSb5JaNgZIgRf3sMD_RIH48', 'plus_code': {'compound_code': '6566+H6 Nashville, TN, USA', 'global_code': '868M6566+H6'}, 'price_level': 1, 'rating': 3.7, 'reference': 'ChIJiSb5JaNgZIgRf3sMD_RIH48', 'scope': 'GOOGLE', 'types': ['supermarket', 'grocery_or_supermarket', 'food', 'point_of_interest', 'clothing_store', 'store', 'establishment'], 'user_ratings_total': 100, 'vicinity': '4003 Clarksville Pike, Nashville'}, {'business_status': 'OPERATIONAL', 'geometry': {'location': {'lat': 36.2803439, 'lng': -86.87642350000002}, 'viewport': {'northeast': {'lat': 36.2818286802915, 'lng': -86.8749560697085}, 'southwest': {'lat': 36.2791307197085, 'lng': -86.87765403029151}}}, 'icon': 'https://maps.gstatic.com/mapfiles/place_api/icons/v1/png_71/shopping-71.png', 'icon_background_color': '#4B96F3', 'icon_mask_base_uri': 'https://maps.gstatic.com/mapfiles/place_api/icons/v2/shoppingcart_pinlet', 'name': \"Tony's Foodland\", 'opening_hours': {'open_now': False}, 'photos': [{'height': 3024, 'html_attributions': ['<a href=\"https://maps.google.com/maps/contrib/110048786034876511024\">Takumi Endo</a>'], 'photo_reference': 'Aap_uEBL88zK-RIq0dCgmWwAsc0pqZi9hY2kHEBJwJC2XNIdbTa5qJHVgw74ogjycG8axDRCdxvf_O0K-Ma3mqEmWX3blDldN7nwb9rS48ccqnPZ3QWTablLG51ullbEO-BoMkyBpUrVk-KV1NsvbPHn_yjJeM6U3F7S-KOmQf6nrMr6icZ8', 'width': 4032}], 'place_id': 'ChIJuzr30BNfZIgR2FYeg0AAxs8', 'plus_code': {'compound_code': '74JF+4C Joelton, Nashville, TN, USA', 'global_code': '868M74JF+4C'}, 'rating': 4.5, 'reference': 'ChIJuzr30BNfZIgR2FYeg0AAxs8', 'scope': 'GOOGLE', 'types': ['grocery_or_supermarket', 'supermarket', 'food', 'point_of_interest', 'store', 'establishment'], 'user_ratings_total': 651, 'vicinity': '5529 Clarksville Pike #8968, Joelton'}], [{'geometry': {'location': {'lat': 36.1626638, 'lng': -86.7816016}, 'viewport': {'northeast': {'lat': 36.40549594838191, 'lng': -86.5155879138999}, 'southwest': {'lat': 35.96778508259096, 'lng': -87.05490299566881}}}, 'icon': 'https://maps.gstatic.com/mapfiles/place_api/icons/v1/png_71/geocode-71.png', 'icon_background_color': '#7B9EB0', 'icon_mask_base_uri': 'https://maps.gstatic.com/mapfiles/place_api/icons/v2/generic_pinlet', 'name': 'Nashville', 'photos': [{'height': 2184, 'html_attributions': ['<a href=\"https://maps.google.com/maps/contrib/103181712100928532613\">Dmitry Lvov</a>'], 'photo_reference': 'Aap_uEC6UCOrPuhEYLIUhnmuxCOTXNoTBB78JMTB2fZoi5mGNdmqlUpqiq6-QAAuwOJBcy6EkVM9ZCuHC9bchPCPbcDdzKa4TzM9z_eK805ndmMHwprXDmEtLRjMQIH2uXNXj0MPeWp3_h_yLD-XTt4s89uyGo4gtqUVHxT7W9KnVVwJeUQ7', 'width': 4608}], 'place_id': 'ChIJPZDrEzLsZIgRoNrpodC5P30', 'reference': 'ChIJPZDrEzLsZIgRoNrpodC5P30', 'scope': 'GOOGLE', 'types': ['locality', 'political'], 'vicinity': 'Nashville'}, {'business_status': 'CLOSED_TEMPORARILY', 'geometry': {'location': {'lat': 36.256853, 'lng': -86.829741}, 'viewport': {'northeast': {'lat': 36.2581922302915, 'lng': -86.82861496970848}, 'southwest': {'lat': 36.2554942697085, 'lng': -86.8313129302915}}}, 'icon': 'https://maps.gstatic.com/mapfiles/place_api/icons/v1/png_71/generic_business-71.png', 'icon_background_color': '#7B9EB0', 'icon_mask_base_uri': 'https://maps.gstatic.com/mapfiles/place_api/icons/v2/generic_pinlet', 'name': 'Fontanel', 'permanently_closed': True, 'photos': [{'height': 1360, 'html_attributions': ['<a href=\"https://maps.google.com/maps/contrib/116486598572866830324\">Fontanel</a>'], 'photo_reference': 'Aap_uEC_xSF6gg0Th2fXzSp-fyE-rxH9BrV5kQsY-1L8JOaU6GXhfBh6eCTb5_gwIUOiwzVRlOtowpWZlA1g_rE88sUpdJtUyUisqpujOYNmheOCgfqcYnhBUxMLE6rKhEtUHIp6tom5XF6c-x0K11NNEfu9IMxQQvzfkWKvpZiq3B6E6FFY', 'width': 2048}], 'place_id': 'ChIJl1NZk3xeZIgRCD5--Ypk518', 'plus_code': {'compound_code': '754C+P4 Whites Creek, Nashville, TN, USA', 'global_code': '868M754C+P4'}, 'rating': 4.4, 'reference': 'ChIJl1NZk3xeZIgRCD5--Ypk518', 'scope': 'GOOGLE', 'types': ['lodging', 'park', 'point_of_interest', 'clothing_store', 'store', 'establishment'], 'user_ratings_total': 207, 'vicinity': '4125 Whites Creek Pike, Whites Creek'}, {'business_status': 'OPERATIONAL', 'geometry': {'location': {'lat': 36.2566745, 'lng': -86.8254695}, 'viewport': {'northeast': {'lat': 36.25802348029149, 'lng': -86.82412051970849}, 'southwest': {'lat': 36.2553255197085, 'lng': -86.8268184802915}}}, 'icon': 'https://maps.gstatic.com/mapfiles/place_api/icons/v1/png_71/generic_business-71.png', 'icon_background_color': '#13B5C7', 'icon_mask_base_uri': 'https://maps.gstatic.com/mapfiles/place_api/icons/v2/generic_pinlet', 'name': 'Carl Black Chevy Woods Amphitheater', 'opening_hours': {'open_now': False}, 'photos': [{'height': 2340, 'html_attributions': ['<a href=\"https://maps.google.com/maps/contrib/103057195263969583150\">Phil Kimbel</a>'], 'photo_reference': 'Aap_uEB1PJIiqJa_-PK8U2ZSmMLWtJo6nt38O8YRNhzZEW2bYP_JQtQ_uCEEKQXLR78jG64zogDJt9Ki3H9mOZeywjFcAE2i-ZaaFM4AARj_5zHEnXqHFzuATPWGmhsh7eXo35Fh179aC4BU-QnjOwpAnb-dMuHvLJycF19YGOjeCR8eZrAH', 'width': 4160}], 'place_id': 'ChIJaVJZk3xeZIgRwpcdMf8Uwes', 'plus_code': {'compound_code': '754F+MR Whites Creek, Nashville, TN, USA', 'global_code': '868M754F+MR'}, 'rating': 4.3, 'reference': 'ChIJaVJZk3xeZIgRwpcdMf8Uwes', 'scope': 'GOOGLE', 'types': ['tourist_attraction', 'point_of_interest', 'establishment'], 'user_ratings_total': 197, 'vicinity': '4225 Whites Creek Pike, Whites Creek'}, {'business_status': 'OPERATIONAL', 'geometry': {'location': {'lat': 36.2766733, 'lng': -86.819053}, 'viewport': {'northeast': {'lat': 36.27808033029151, 'lng': -86.81739536970849}, 'southwest': {'lat': 36.27538236970851, 'lng': -86.8200933302915}}}, 'icon': 'https://maps.gstatic.com/mapfiles/place_api/icons/v1/png_71/school-71.png', 'icon_background_color': '#7B9EB0', 'icon_mask_base_uri': 'https://maps.gstatic.com/mapfiles/place_api/icons/v2/school_pinlet', 'name': 'Whites Creek High School', 'opening_hours': {'open_now': False}, 'photos': [{'height': 1836, 'html_attributions': ['<a href=\"https://maps.google.com/maps/contrib/100812913686781950596\">Santiago Cespedes</a>'], 'photo_reference': 'Aap_uECmPw6bFuRylFHRjdImBnfSWk4Mug7ZYxICIFO97lQy_tF4nrz7DAqgMClVdtbuZGtzJ8yI9ugcPtDQkivnCGfxCR7NYpE6WQpXc0oOAz002HniAIm9w6DcOnFvPNMtLNecKs_3_rj6_iP40I7iW_fsrhtm3bWZQlFhrfYJikpli_JL', 'width': 3264}], 'place_id': 'ChIJ2UlhqydcZIgR2j_ZyKlj7PI', 'plus_code': {'compound_code': '75GJ+M9 Whites Creek, Nashville, TN, USA', 'global_code': '868M75GJ+M9'}, 'rating': 2.6, 'reference': 'ChIJ2UlhqydcZIgR2j_ZyKlj7PI', 'scope': 'GOOGLE', 'types': ['school', 'secondary_school', 'point_of_interest', 'establishment'], 'user_ratings_total': 17, 'vicinity': '7277 Old Hickory Boulevard, Whites Creek'}, {'business_status': 'OPERATIONAL', 'geometry': {'location': {'lat': 36.24899839999999, 'lng': -86.8255963}, 'viewport': {'northeast': {'lat': 36.25016078029149, 'lng': -86.8245937697085}, 'southwest': {'lat': 36.2474628197085, 'lng': -86.8272917302915}}}, 'icon': 'https://maps.gstatic.com/mapfiles/place_api/icons/v1/png_71/generic_business-71.png', 'icon_background_color': '#7B9EB0', 'icon_mask_base_uri': 'https://maps.gstatic.com/mapfiles/place_api/icons/v2/generic_pinlet', 'name': 'Cedarwood Weddings', 'opening_hours': {'open_now': False}, 'photos': [{'height': 3017, 'html_attributions': ['<a href=\"https://maps.google.com/maps/contrib/116908720690051910107\">Cedarwood Weddings</a>'], 'photo_reference': 'Aap_uEBcXPMEDCLugYp8xogLPlrsVWgDDGwngaDzcK1X78cDvNJGsR1DU9pPZfZQHIk78InRRJY2zaj0vNtY4nYf_Ybo3S7OnhQqx2ZNdRYQinOYG8cXIL1HsPfH1VuKddC8B2ZMF69yuXQMCv8Ta1kAS7IyDnVib2_5bMB5k0h2tZWn2qde', 'width': 4525}], 'place_id': 'ChIJ_Ur3lHZeZIgRYj7zIYSGAI8', 'plus_code': {'compound_code': '65XF+HQ Nashville, TN, USA', 'global_code': '868M65XF+HQ'}, 'rating': 4.7, 'reference': 'ChIJ_Ur3lHZeZIgRYj7zIYSGAI8', 'scope': 'GOOGLE', 'types': ['point_of_interest', 'establishment'], 'user_ratings_total': 74, 'vicinity': '3831 Whites Creek Pike, Nashville'}, {'business_status': 'OPERATIONAL', 'geometry': {'location': {'lat': 36.2457541, 'lng': -86.8251782}, 'viewport': {'northeast': {'lat': 36.2470884302915, 'lng': -86.8238689697085}, 'southwest': {'lat': 36.24439046970851, 'lng': -86.8265669302915}}}, 'icon': 'https://maps.gstatic.com/mapfiles/place_api/icons/v1/png_71/shopping-71.png', 'icon_background_color': '#4B96F3', 'icon_mask_base_uri': 'https://maps.gstatic.com/mapfiles/place_api/icons/v2/shopping_pinlet', 'name': 'Bates Nursery and Garden Center', 'opening_hours': {'open_now': False}, 'photos': [{'height': 4480, 'html_attributions': ['<a href=\"https://maps.google.com/maps/contrib/109586177224723974853\">Bates Nursery and Garden Center</a>'], 'photo_reference': 'Aap_uECQ4ckh6KaaKQaRiKbjRwEwJmgWIRsbDyVyUhO_kG04MCqMEi8OSVsVXpYiUdAN4MOWNl4iC91uzmEgE2lTzH_8OD5h_dp61Sek9nLrLdOoj6d4j36hrnD15RYVdBpjmcBhO67FSMuCk19ci1jAeYTtZRdbvGIjYxCBKdIh37_FlovP', 'width': 6720}], 'place_id': 'ChIJU2qYYHReZIgRDow7obgXKmc', 'plus_code': {'compound_code': '65WF+8W Nashville, TN, USA', 'global_code': '868M65WF+8W'}, 'rating': 4.8, 'reference': 'ChIJU2qYYHReZIgRDow7obgXKmc', 'scope': 'GOOGLE', 'types': ['general_contractor', 'food', 'point_of_interest', 'store', 'establishment'], 'user_ratings_total': 250, 'vicinity': '3810 Whites Creek Pike, Nashville'}, {'business_status': 'OPERATIONAL', 'geometry': {'location': {'lat': 36.2791794, 'lng': -86.8738971}, 'viewport': {'northeast': {'lat': 36.2805850802915, 'lng': -86.87249131970849}, 'southwest': {'lat': 36.2778871197085, 'lng': -86.8751892802915}}}, 'icon': 'https://maps.gstatic.com/mapfiles/place_api/icons/v1/png_71/shopping-71.png', 'icon_background_color': '#4B96F3', 'icon_mask_base_uri': 'https://maps.gstatic.com/mapfiles/place_api/icons/v2/shopping_pinlet', 'name': 'Dollar General', 'opening_hours': {'open_now': False}, 'photos': [{'height': 1440, 'html_attributions': ['<a href=\"https://maps.google.com/maps/contrib/107338824244957238163\">Jt Schaarsmith</a>'], 'photo_reference': 'Aap_uEBMzgOJ5X-kwvhdL4zDTcZfD5Sm-9lkAh9efANxuI2Q_czzR-IZehl8ky0kXXSi2IjwiYi14O_dXXAGVsZ6fg7JhmmIAWIXxSOoX35ZPnBetvC5Nz75RyrPHzlIJ7-G20Cg6ov61vwld82EPqZ_ZmepvuPKuGRBVGN3T7qA1z2Oralm', 'width': 2560}], 'place_id': 'ChIJ0YviFxRfZIgR1Eu0z2MmK3s', 'plus_code': {'compound_code': '74HG+MC Joelton, Nashville, TN, USA', 'global_code': '868M74HG+MC'}, 'price_level': 1, 'rating': 4.2, 'reference': 'ChIJ0YviFxRfZIgR1Eu0z2MmK3s', 'scope': 'GOOGLE', 'types': ['drugstore', 'convenience_store', 'grocery_or_supermarket', 'food', 'health', 'point_of_interest', 'store', 'establishment'], 'user_ratings_total': 246, 'vicinity': '5501 Clarksville Pike, Joelton'}, {'business_status': 'OPERATIONAL', 'geometry': {'location': {'lat': 36.2625058, 'lng': -86.8943067}, 'viewport': {'northeast': {'lat': 36.2638803802915, 'lng': -86.8928319197085}, 'southwest': {'lat': 36.2611824197085, 'lng': -86.8955298802915}}}, 'icon': 'https://maps.gstatic.com/mapfiles/place_api/icons/v1/png_71/generic_business-71.png', 'icon_background_color': '#7B9EB0', 'icon_mask_base_uri': 'https://maps.gstatic.com/mapfiles/place_api/icons/v2/generic_pinlet', 'name': 'Beaman Park Nature Center', 'opening_hours': {'open_now': False}, 'photos': [{'height': 1936, 'html_attributions': ['<a href=\"https://maps.google.com/maps/contrib/105825564630608811985\">Nicholas Summers</a>'], 'photo_reference': 'Aap_uEB_he8O8lnoMyMTbxmnpoBiSQ1DfhFHehalOZU_vElSXnGwp3VcqPJVsR4cpPxxVCIKyFPnmd93QVhkKUY-_V8EW_qZdVjC87Fz95m-66xGY8-w5WmNHpPESSrNCyoBVUn8-Lzzmp1welPCAxviEi1QN28i4x7mJCLf0qHF9_CNjxmK', 'width': 2592}], 'place_id': 'ChIJtUnkDYNfZIgRKxFDxmUdUSg', 'plus_code': {'compound_code': '7474+27 Ashland City, TN, USA', 'global_code': '868M7474+27'}, 'rating': 4.7, 'reference': 'ChIJtUnkDYNfZIgRKxFDxmUdUSg', 'scope': 'GOOGLE', 'types': ['point_of_interest', 'establishment'], 'user_ratings_total': 139, 'vicinity': '5911 Old Hickory Boulevard, Ashland City'}, {'business_status': 'OPERATIONAL', 'geometry': {'location': {'lat': 36.2113434, 'lng': -86.83835479999999}, 'viewport': {'northeast': {'lat': 36.21293128029149, 'lng': -86.8371879697085}, 'southwest': {'lat': 36.21023331970849, 'lng': -86.8398859302915}}}, 'icon': 'https://maps.gstatic.com/mapfiles/place_api/icons/v1/png_71/school-71.png', 'icon_background_color': '#7B9EB0', 'icon_mask_base_uri': 'https://maps.gstatic.com/mapfiles/place_api/icons/v2/school_pinlet', 'name': 'Nashville Public Library Bordeaux Branch', 'opening_hours': {'open_now': False}, 'photos': [{'height': 525, 'html_attributions': ['<a href=\"https://maps.google.com/maps/contrib/105676561701401731811\">Nashville Public Library Bordeaux Branch</a>'], 'photo_reference': 'Aap_uEDpdlnEpV2pJaWaRAPXky6UKKku9CCzCxouK0qLqfAU7q8pHtj5qfvfMK3uK7wBmTCVCTCYoVuKMXiDOgDmQT0Zv9tHmCYM-jW7aQ-t0fkU8oYuVpRh_BgaGLdaPuD4mKhY_7rHTHEoUCFJL-mRJFXTASU81M2sUwdkbYlmFvqUHjon', 'width': 1244}], 'place_id': 'ChIJ-2mrRaNgZIgRDifvIMtUUk8', 'plus_code': {'compound_code': '6566+GM Nashville, TN, USA', 'global_code': '868M6566+GM'}, 'rating': 4.7, 'reference': 'ChIJ-2mrRaNgZIgRDifvIMtUUk8', 'scope': 'GOOGLE', 'types': ['library', 'point_of_interest', 'establishment'], 'user_ratings_total': 27, 'vicinity': '4000 Clarksville Pike, Nashville'}, {'business_status': 'OPERATIONAL', 'geometry': {'location': {'lat': 36.21062, 'lng': -86.8374719}, 'viewport': {'northeast': {'lat': 36.2120095302915, 'lng': -86.8362088197085}, 'southwest': {'lat': 36.2093115697085, 'lng': -86.83890678029151}}}, 'icon': 'https://maps.gstatic.com/mapfiles/place_api/icons/v1/png_71/restaurant-71.png', 'icon_background_color': '#FF9E67', 'icon_mask_base_uri': 'https://maps.gstatic.com/mapfiles/place_api/icons/v2/restaurant_pinlet', 'name': 'Subway', 'opening_hours': {'open_now': False}, 'photos': [{'height': 3024, 'html_attributions': ['<a href=\"https://maps.google.com/maps/contrib/107067932348831622181\">Zion Posey</a>'], 'photo_reference': 'Aap_uEBJkguLKR0PWS6RtKi6ConYg-3XumQ9qmYL8TvbTO_BzHkh25VNVfbVUT0JaLJje3LGN3_2f1h6Z7cWxEulaXpi3NcQcmku262YVy5ACAEu-evp2mRCWz39cJM12NMLBWW193b9hZmxJAKBYXU3ym7kgmm_8XIzEtEmf-Sa6MGNFgxz', 'width': 4032}], 'place_id': 'ChIJuVOZMqNgZIgR6XCEANyfK_M', 'plus_code': {'compound_code': '6567+62 Nashville, TN, USA', 'global_code': '868M6567+62'}, 'price_level': 1, 'rating': 4.1, 'reference': 'ChIJuVOZMqNgZIgR6XCEANyfK_M', 'scope': 'GOOGLE', 'types': ['meal_takeaway', 'restaurant', 'food', 'point_of_interest', 'establishment'], 'user_ratings_total': 72, 'vicinity': '3958 Clarksville Pike, Nashville'}, {'business_status': 'OPERATIONAL', 'geometry': {'location': {'lat': 36.2285232, 'lng': -86.86647789999999}, 'viewport': {'northeast': {'lat': 36.2298721802915, 'lng': -86.8651289197085}, 'southwest': {'lat': 36.2271742197085, 'lng': -86.8678268802915}}}, 'icon': 'https://maps.gstatic.com/mapfiles/place_api/icons/v1/png_71/shopping-71.png', 'icon_background_color': '#4B96F3', 'icon_mask_base_uri': 'https://maps.gstatic.com/mapfiles/place_api/icons/v2/shopping_pinlet', 'name': \"Flowers' Farms\", 'opening_hours': {'open_now': False}, 'photos': [{'height': 1536, 'html_attributions': ['<a href=\"https://maps.google.com/maps/contrib/103414946545038646353\">Flowers&#39; Farms</a>'], 'photo_reference': 'Aap_uEDwf7j-JT82LLKOnn8WwVcxewJ_8raQ3hbxXPkJjnMx7YG38FMGxel1iQZnr62zSEXgzmyj-918xnOmf9axEEk_BjpO-O5B-l60BQpc8v-jLWbs6MkYtDcRj8QuluRQMpnF-W1pVE5XZDecZEyNY8LbyUk-3sQxkmaIhHZz0J9KIgod', 'width': 2048}], 'place_id': 'ChIJI68bp9ZfZIgRX1kZ6uwvvB8', 'plus_code': {'compound_code': '64HM+CC Nashville, TN, USA', 'global_code': '868M64HM+CC'}, 'rating': 4.9, 'reference': 'ChIJI68bp9ZfZIgRX1kZ6uwvvB8', 'scope': 'GOOGLE', 'types': ['food', 'point_of_interest', 'store', 'establishment'], 'user_ratings_total': 71, 'vicinity': '4550 Eatons Creek Road, Nashville'}, {'business_status': 'OPERATIONAL', 'geometry': {'location': {'lat': 36.2313892, 'lng': -86.811747}, 'viewport': {'northeast': {'lat': 36.2326620802915, 'lng': -86.81040056970849}, 'southwest': {'lat': 36.2299641197085, 'lng': -86.81309853029151}}}, 'icon': 'https://maps.gstatic.com/mapfiles/place_api/icons/v1/png_71/generic_business-71.png', 'icon_background_color': '#7B9EB0', 'icon_mask_base_uri': 'https://maps.gstatic.com/mapfiles/place_api/icons/v2/generic_pinlet', 'name': 'UPS Customer Center', 'opening_hours': {'open_now': False}, 'photos': [{'height': 3264, 'html_attributions': ['<a href=\"https://maps.google.com/maps/contrib/109876469469376456441\">pete ussery</a>'], 'photo_reference': 'Aap_uECKRSRsqBDpkJEKCx7ld8f-0pIwfuo4oOpqxiwk3t9qHKnHZgfAub3RRnkbXdWFJOPPQ_UfcuIpxGuNPtnOwknJSDs1ctODWEsjP-z2idwylEsI0wcZWf3g95zqcjZM1S5jV7_33LP27MgRalb-g8AgyEbgKJfEPG13SHTetBFiqCcd', 'width': 2448}], 'place_id': 'ChIJfXXmL-5dZIgRKA4egxpSja0', 'plus_code': {'compound_code': '65JQ+H8 Nashville, TN, USA', 'global_code': '868M65JQ+H8'}, 'rating': 3.8, 'reference': 'ChIJfXXmL-5dZIgRKA4egxpSja0', 'scope': 'GOOGLE', 'types': ['point_of_interest', 'establishment'], 'user_ratings_total': 363, 'vicinity': '3205 Whites Creek Pike, Nashville'}, {'business_status': 'OPERATIONAL', 'geometry': {'location': {'lat': 36.24527399999999, 'lng': -86.8311836}, 'viewport': {'northeast': {'lat': 36.24656918029149, 'lng': -86.8298256197085}, 'southwest': {'lat': 36.2438712197085, 'lng': -86.83252358029151}}}, 'icon': 'https://maps.gstatic.com/mapfiles/place_api/icons/v1/png_71/worship_general-71.png', 'icon_background_color': '#7B9EB0', 'icon_mask_base_uri': 'https://maps.gstatic.com/mapfiles/place_api/icons/v2/worship_christian_pinlet', 'name': 'New Life Apostolic Church', 'opening_hours': {'open_now': False}, 'place_id': 'ChIJ0cOwYm1eZIgRIiHw73lY6Zk', 'plus_code': {'compound_code': '65W9+4G Nashville, TN, USA', 'global_code': '868M65W9+4G'}, 'rating': 4.9, 'reference': 'ChIJ0cOwYm1eZIgRIiHw73lY6Zk', 'scope': 'GOOGLE', 'types': ['church', 'place_of_worship', 'point_of_interest', 'establishment'], 'user_ratings_total': 12, 'vicinity': '4712 Clarksville Pike, Nashville'}, {'business_status': 'OPERATIONAL', 'geometry': {'location': {'lat': 36.2314727, 'lng': -86.84945660000001}, 'viewport': {'northeast': {'lat': 36.2328262802915, 'lng': -86.8479354197085}, 'southwest': {'lat': 36.2301283197085, 'lng': -86.85063338029153}}}, 'icon': 'https://maps.gstatic.com/mapfiles/place_api/icons/v1/png_71/generic_business-71.png', 'icon_background_color': '#7B9EB0', 'icon_mask_base_uri': 'https://maps.gstatic.com/mapfiles/place_api/icons/v2/generic_pinlet', 'name': 'JR Construction Tennessee INC.', 'opening_hours': {'open_now': False}, 'place_id': 'ChIJE5cQuTpeZIgRQOe_HhnHdx0', 'plus_code': {'compound_code': '65J2+H6 Nashville, TN, USA', 'global_code': '868M65J2+H6'}, 'rating': 5, 'reference': 'ChIJE5cQuTpeZIgRQOe_HhnHdx0', 'scope': 'GOOGLE', 'types': ['general_contractor', 'point_of_interest', 'establishment'], 'user_ratings_total': 1, 'vicinity': '4951 Drakes Branch Road, Nashville'}, {'business_status': 'OPERATIONAL', 'geometry': {'location': {'lat': 36.251649, 'lng': -86.8441239}, 'viewport': {'northeast': {'lat': 36.2533492802915, 'lng': -86.84243611970851}, 'southwest': {'lat': 36.2506513197085, 'lng': -86.84513408029152}}}, 'icon': 'https://maps.gstatic.com/mapfiles/place_api/icons/v1/png_71/shopping-71.png', 'icon_background_color': '#4B96F3', 'icon_mask_base_uri': 'https://maps.gstatic.com/mapfiles/place_api/icons/v2/shopping_pinlet', 'name': 'Rebuild America With Music', 'photos': [{'height': 2576, 'html_attributions': ['<a href=\"https://maps.google.com/maps/contrib/105106189283501497428\">Erica Hammond 06</a>'], 'photo_reference': 'Aap_uED32FuktwTyZlylDNOqkQM5yrzkzqaubG50kBdeVfSSIkqqAAWw4G78UqYicdofINhI_UtI8rUHLGt-tx1SafvzvnKBLe-IM8gKKWg_akLsYGfI2mPlTVI_Dh97QkerBvuwqbJHeBumfNwJdTt0_gTldhIrQDBzsus85gvPGXvqIbcb', 'width': 1932}], 'place_id': 'ChIJVVVVVUVeZIgRgGKa4xviNHw', 'plus_code': {'compound_code': '7524+M9 Whites Creek, Nashville, TN, USA', 'global_code': '868M7524+M9'}, 'rating': 4, 'reference': 'ChIJVVVVVUVeZIgRgGKa4xviNHw', 'scope': 'GOOGLE', 'types': ['art_gallery', 'electronics_store', 'church', 'place_of_worship', 'home_goods_store', 'point_of_interest', 'store', 'establishment'], 'user_ratings_total': 1, 'vicinity': '4913 Clarksville Pike, Whites Creek'}, {'business_status': 'OPERATIONAL', 'geometry': {'location': {'lat': 36.24367950000001, 'lng': -86.8743605}, 'viewport': {'northeast': {'lat': 36.2450315802915, 'lng': -86.87300471970849}, 'southwest': {'lat': 36.2423336197085, 'lng': -86.87570268029151}}}, 'icon': 'https://maps.gstatic.com/mapfiles/place_api/icons/v1/png_71/generic_business-71.png', 'icon_background_color': '#7B9EB0', 'icon_mask_base_uri': 'https://maps.gstatic.com/mapfiles/place_api/icons/v2/generic_pinlet', 'name': 'Realm3 Web Applications', 'place_id': 'ChIJk2k-79FfZIgRvuzMaMXDYso', 'plus_code': {'compound_code': '64VG+F7 Nashville, TN, USA', 'global_code': '868M64VG+F7'}, 'reference': 'ChIJk2k-79FfZIgRvuzMaMXDYso', 'scope': 'GOOGLE', 'types': ['point_of_interest', 'establishment'], 'vicinity': '4858 Eatons Creek Road, Nashville'}, {'business_status': 'OPERATIONAL', 'geometry': {'location': {'lat': 36.2633859, 'lng': -86.83109999999999}, 'viewport': {'northeast': {'lat': 36.2647400302915, 'lng': -86.82957526970849}, 'southwest': {'lat': 36.2620420697085, 'lng': -86.83227323029149}}}, 'icon': 'https://maps.gstatic.com/mapfiles/place_api/icons/v1/png_71/generic_business-71.png', 'icon_background_color': '#7B9EB0', 'icon_mask_base_uri': 'https://maps.gstatic.com/mapfiles/place_api/icons/v2/generic_pinlet', 'name': 'GES Inc', 'place_id': 'ChIJVVVVVUVeZIgRnMHt5Ng_Vqc', 'plus_code': {'compound_code': '7579+9H Whites Creek, Nashville, TN, USA', 'global_code': '868M7579+9H'}, 'reference': 'ChIJVVVVVUVeZIgRnMHt5Ng_Vqc', 'scope': 'GOOGLE', 'types': ['point_of_interest', 'establishment'], 'vicinity': 'Whites Creek'}, {'business_status': 'OPERATIONAL', 'geometry': {'location': {'lat': 36.2460639, 'lng': -86.846564}, 'viewport': {'northeast': {'lat': 36.24822705000001, 'lng': -86.8451857197085}, 'southwest': {'lat': 36.24534284999999, 'lng': -86.8478836802915}}}, 'icon': 'https://maps.gstatic.com/mapfiles/place_api/icons/v1/png_71/generic_business-71.png', 'icon_background_color': '#7B9EB0', 'icon_mask_base_uri': 'https://maps.gstatic.com/mapfiles/place_api/icons/v2/generic_pinlet', 'name': 'SEE FOAM Insulation', 'opening_hours': {'open_now': False}, 'photos': [{'height': 1152, 'html_attributions': ['<a href=\"https://maps.google.com/maps/contrib/107843945742328495092\">SEE FOAM Insulation</a>'], 'photo_reference': 'Aap_uECD0Jcxqx0i45c0t0rCufK7845dO5SSDBe1Okka4HSMjBPyZrSL5G93j-bWUoelKmu0TY1q1aHH7Fs8tA6C9dGTlwLsKD7jBLLOK5itY2S30HObxy-O_kSMJ3QgDO1jagBoLGWzc2aEsr9-2QwJGOdcTsObf-o5z-F7il9CuV1qtwrp', 'width': 2048}], 'place_id': 'ChIJU0kA39WPjogR-kFTOyG1Jns', 'plus_code': {'compound_code': '65W3+C9 Whites Creek, Nashville, TN, USA', 'global_code': '868M65W3+C9'}, 'rating': 4.9, 'reference': 'ChIJU0kA39WPjogR-kFTOyG1Jns', 'scope': 'GOOGLE', 'types': ['roofing_contractor', 'point_of_interest', 'establishment'], 'user_ratings_total': 11, 'vicinity': '4139 Vester Road, Whites Creek'}, {'business_status': 'OPERATIONAL', 'geometry': {'location': {'lat': 36.25683, 'lng': -86.84918499999999}, 'viewport': {'northeast': {'lat': 36.2581903302915, 'lng': -86.8478294697085}, 'southwest': {'lat': 36.2554923697085, 'lng': -86.8505274302915}}}, 'icon': 'https://maps.gstatic.com/mapfiles/place_api/icons/v1/png_71/generic_business-71.png', 'icon_background_color': '#7B9EB0', 'icon_mask_base_uri': 'https://maps.gstatic.com/mapfiles/place_api/icons/v2/generic_pinlet', 'name': 'Tanksley Tree Service LLC', 'opening_hours': {'open_now': True}, 'photos': [{'height': 833, 'html_attributions': ['<a href=\"https://maps.google.com/maps/contrib/100160293648525662789\">Tanksley Tree Service LLC</a>'], 'photo_reference': 'Aap_uEB-PndQ5PlC5jk4lFrIjK1p4L3vQNoIUZw8GscfQQom1G5O9xFsOLtSfAh656AhXrMRK9J-hVDUls1-ZvV24lGnDc9FOvfWqyEeODNJ7tFSv95-Kb7gqAYNQ9nAEkYg-9vqJDrW4ovNKIwdk0lBukO1935vMfktIpQr8leN5pEaAyv6', 'width': 759}], 'place_id': 'ChIJWQpup1teZIgRGExywvdWe0k', 'plus_code': {'compound_code': '7542+P8 Whites Creek, Nashville, TN, USA', 'global_code': '868M7542+P8'}, 'rating': 4.6, 'reference': 'ChIJWQpup1teZIgRGExywvdWe0k', 'scope': 'GOOGLE', 'types': ['point_of_interest', 'establishment'], 'user_ratings_total': 41, 'vicinity': '5019 Clarksville Pike, Whites Creek'}, {'geometry': {'location': {'lat': 36.2058877, 'lng': -86.7685743}, 'viewport': {'northeast': {'lat': 36.24193106803651, 'lng': -86.73911388286277}, 'southwest': {'lat': 36.17585793937362, 'lng': -86.81504614982013}}}, 'icon': 'https://maps.gstatic.com/mapfiles/place_api/icons/v1/png_71/geocode-71.png', 'icon_background_color': '#7B9EB0', 'icon_mask_base_uri': 'https://maps.gstatic.com/mapfiles/place_api/icons/v2/generic_pinlet', 'name': \"Talbot's Corner\", 'photos': [{'height': 3036, 'html_attributions': ['<a href=\"https://maps.google.com/maps/contrib/116118205862632442272\">Dr Nicole</a>'], 'photo_reference': 'Aap_uEBvc1caYoYmRQje-FyLgRGMF7PYMTcXk2QPgqVHMkk-PB2iZ0VIFGJt77_prcTXDWk3_cEOttjEsxwNC0Bo7K6dcPJX1hF2qblfuPonaAr868fjYeJrpWYiV4n3m4nPQtsBzoBQ6ouXTD_PlTOEA0WYsa3rdyB98vfnw3013MWgTBCS', 'width': 4048}], 'place_id': 'ChIJf_prq5xnZIgRNhYN5YkYnwc', 'reference': 'ChIJf_prq5xnZIgRNhYN5YkYnwc', 'scope': 'GOOGLE', 'types': ['neighborhood', 'political'], 'vicinity': 'Nashville'}, {'business_status': 'OPERATIONAL', 'geometry': {'location': {'lat': 36.240146, 'lng': -86.8419909}, 'viewport': {'northeast': {'lat': 36.2413744802915, 'lng': -86.8407557197085}, 'southwest': {'lat': 36.2386765197085, 'lng': -86.8434536802915}}}, 'icon': 'https://maps.gstatic.com/mapfiles/place_api/icons/v1/png_71/generic_business-71.png', 'icon_background_color': '#7B9EB0', 'icon_mask_base_uri': 'https://maps.gstatic.com/mapfiles/place_api/icons/v2/generic_pinlet', 'name': '2PhoneFree', 'place_id': 'ChIJZyElhxVeZIgRz4i4w0rbhJE', 'plus_code': {'compound_code': '65R5+36 Nashville, TN, USA', 'global_code': '868M65R5+36'}, 'reference': 'ChIJZyElhxVeZIgRz4i4w0rbhJE', 'scope': 'GOOGLE', 'types': ['point_of_interest', 'establishment'], 'vicinity': '3872 Stevens Lane, Nashville'}, {'business_status': 'OPERATIONAL', 'geometry': {'location': {'lat': 36.234395, 'lng': -86.86823799999999}, 'viewport': {'northeast': {'lat': 36.2358672802915, 'lng': -86.8670337697085}, 'southwest': {'lat': 36.2331693197085, 'lng': -86.8697317302915}}}, 'icon': 'https://maps.gstatic.com/mapfiles/place_api/icons/v1/png_71/generic_business-71.png', 'icon_background_color': '#7B9EB0', 'icon_mask_base_uri': 'https://maps.gstatic.com/mapfiles/place_api/icons/v2/generic_pinlet', 'name': 'Further Farms', 'opening_hours': {'open_now': False}, 'photos': [{'height': 960, 'html_attributions': ['<a href=\"https://maps.google.com/maps/contrib/101940256126114893979\">Further Farms</a>'], 'photo_reference': 'Aap_uEABn5zD-kers5d2wL8w6YXwS9HauHXluADH69TZsBt-5FcpH77s386DQw7BxfnNw0aLynB6pUsX_Gjvz9ybXxyBaG2_DkLO-oK-y0HBVr80IPIiObIsC0EN5vAQ-qh3W7JcsC4oMiIYtWslUkFY7ySb_hyfnCMmLzBBEmcSkn7NcJ90', 'width': 1440}], 'place_id': 'ChIJfynEFM5fZIgRAKRurawc9RE', 'plus_code': {'compound_code': '64MJ+QP Nashville, TN, USA', 'global_code': '868M64MJ+QP'}, 'rating': 4.3, 'reference': 'ChIJfynEFM5fZIgRAKRurawc9RE', 'scope': 'GOOGLE', 'types': ['museum', 'point_of_interest', 'establishment'], 'user_ratings_total': 20, 'vicinity': '4700 Eatons Creek Road, Nashville'}, {'business_status': 'OPERATIONAL', 'geometry': {'location': {'lat': 36.2520693, 'lng': -86.8297597}, 'viewport': {'northeast': {'lat': 36.2534926302915, 'lng': -86.8284251697085}, 'southwest': {'lat': 36.2507946697085, 'lng': -86.8311231302915}}}, 'icon': 'https://maps.gstatic.com/mapfiles/place_api/icons/v1/png_71/gas_station-71.png', 'icon_background_color': '#909CE1', 'icon_mask_base_uri': 'https://maps.gstatic.com/mapfiles/place_api/icons/v2/gas_pinlet', 'name': 'Shell', 'photos': [{'height': 4128, 'html_attributions': ['<a href=\"https://maps.google.com/maps/contrib/117265797567492229445\">Rooster Davis</a>'], 'photo_reference': 'Aap_uEDr2yoggVJPcu9f0X54G7-r90QSyeI3GHlT4MWiNU4qSVXl0TXcYS9lO0uTJ9tBv0KVK-aPhEynKxwMwTo5rJCL59ZztSwb7aJU_kwlv176r1VkxLqTng0GiMQQILJdnFqCHqCVMm_Da_mO-PT4qwls_KEoCBkfNyiDKKBB8hRJRccw', 'width': 3096}], 'place_id': 'ChIJBQHTXnBeZIgR4BxNPRfisdI', 'plus_code': {'compound_code': '752C+R3 Nashville, TN, USA', 'global_code': '868M752C+R3'}, 'price_level': 2, 'rating': 4.1, 'reference': 'ChIJBQHTXnBeZIgR4BxNPRfisdI', 'scope': 'GOOGLE', 'types': ['gas_station', 'atm', 'convenience_store', 'finance', 'restaurant', 'food', 'point_of_interest', 'store', 'establishment'], 'user_ratings_total': 28, 'vicinity': '5470 Buena Vista Pike, Nashville'}, {'business_status': 'OPERATIONAL', 'geometry': {'location': {'lat': 36.24528730000001, 'lng': -86.8283989}, 'viewport': {'northeast': {'lat': 36.2466097302915, 'lng': -86.82727196970849}, 'southwest': {'lat': 36.2439117697085, 'lng': -86.82996993029151}}}, 'icon': 'https://maps.gstatic.com/mapfiles/place_api/icons/v1/png_71/shopping-71.png', 'icon_background_color': '#4B96F3', 'icon_mask_base_uri': 'https://maps.gstatic.com/mapfiles/place_api/icons/v2/shopping_pinlet', 'name': 'Imaginary Records', 'place_id': 'ChIJ_wdvdHNeZIgR7Z379s12PU0', 'plus_code': {'compound_code': '65WC+4J Nashville, TN, USA', 'global_code': '868M65WC+4J'}, 'reference': 'ChIJ_wdvdHNeZIgR7Z379s12PU0', 'scope': 'GOOGLE', 'types': ['electronics_store', 'home_goods_store', 'point_of_interest', 'store', 'establishment'], 'vicinity': '5324 Buena Vista Pike, Nashville'}, {'business_status': 'OPERATIONAL', 'geometry': {'location': {'lat': 36.2572128, 'lng': -86.8294914}, 'viewport': {'northeast': {'lat': 36.25845468029149, 'lng': -86.82818741970848}, 'southwest': {'lat': 36.2557567197085, 'lng': -86.8308853802915}}}, 'icon': 'https://maps.gstatic.com/mapfiles/place_api/icons/v1/png_71/generic_business-71.png', 'icon_background_color': '#7B9EB0', 'icon_mask_base_uri': 'https://maps.gstatic.com/mapfiles/place_api/icons/v2/generic_pinlet', 'name': 'Music City Zips', 'place_id': 'ChIJL13qp3teZIgRTOcPiltfmTo', 'plus_code': {'compound_code': '754C+V6 Whites Creek, Nashville, TN, USA', 'global_code': '868M754C+V6'}, 'rating': 5, 'reference': 'ChIJL13qp3teZIgRTOcPiltfmTo', 'scope': 'GOOGLE', 'types': ['point_of_interest', 'establishment'], 'user_ratings_total': 2, 'vicinity': '4225 Whites Creek Pike, Whites Creek'}, {'business_status': 'OPERATIONAL', 'geometry': {'location': {'lat': 36.2574949, 'lng': -86.8293855}, 'viewport': {'northeast': {'lat': 36.2588077802915, 'lng': -86.82804276970849}, 'southwest': {'lat': 36.2561098197085, 'lng': -86.83074073029151}}}, 'icon': 'https://maps.gstatic.com/mapfiles/place_api/icons/v1/png_71/generic_business-71.png', 'icon_background_color': '#13B5C7', 'icon_mask_base_uri': 'https://maps.gstatic.com/mapfiles/place_api/icons/v2/generic_pinlet', 'name': 'Adventureworks Zipline Forest', 'opening_hours': {'open_now': False}, 'photos': [{'height': 3024, 'html_attributions': ['<a href=\"https://maps.google.com/maps/contrib/112144474589301615395\">Adventureworks Zipline Forest</a>'], 'photo_reference': 'Aap_uEAmR78LsxMZScI89lkMN-kSN7v9tKQ94X0DHFn0P7xuuYJhPUB3RsmlG7IAKjJOuABQzsobjdLZzbX_qO9Km6W0v0f6jUgyK5eE_jitpsSCg2896SP_IKixMnQWpqH9B4hv9EH236Y76eB-sq0vUq7K5MSEESR8TIhMT9JymGZNe5aA', 'width': 4032}], 'place_id': 'ChIJVUssoXteZIgRHroYCccSpto', 'plus_code': {'compound_code': '754C+X6 Whites Creek, Nashville, TN, USA', 'global_code': '868M754C+X6'}, 'rating': 4.9, 'reference': 'ChIJVUssoXteZIgRHroYCccSpto', 'scope': 'GOOGLE', 'types': ['tourist_attraction', 'point_of_interest', 'establishment'], 'user_ratings_total': 754, 'vicinity': '4129 Whites Creek Pike, Whites Creek'}, {'business_status': 'OPERATIONAL', 'geometry': {'location': {'lat': 36.262196, 'lng': -86.83244599999999}, 'viewport': {'northeast': {'lat': 36.26366773029149, 'lng': -86.8311008197085}, 'southwest': {'lat': 36.2609697697085, 'lng': -86.8337987802915}}}, 'icon': 'https://maps.gstatic.com/mapfiles/place_api/icons/v1/png_71/generic_business-71.png', 'icon_background_color': '#7B9EB0', 'icon_mask_base_uri': 'https://maps.gstatic.com/mapfiles/place_api/icons/v2/generic_pinlet', 'name': 'Pro Care Consulting', 'opening_hours': {'open_now': False}, 'photos': [{'height': 3024, 'html_attributions': ['<a href=\"https://maps.google.com/maps/contrib/116278096664445547144\">Mario Chavez</a>'], 'photo_reference': 'Aap_uEDi0JyQo5qBbNJnyN4X3S0bTOe6l3mPJZkjyIvafp0C_CI3wA15lyobwu-cUQySQKpkn2NUUYtZDtSHyxtm5QZC7dEov8gEQTFTV35rzisLTjlY81URW7dqod8nyWvThVLeMrS3gMtmAyYTJGr80lhBUJVUsGqaoc-zQbRH260UmL7E', 'width': 4032}], 'place_id': 'ChIJQaaW1mJeZIgRqMuMEv9mQsw', 'plus_code': {'compound_code': '7569+V2 Whites Creek, Nashville, TN, USA', 'global_code': '868M7569+V2'}, 'rating': 5, 'reference': 'ChIJQaaW1mJeZIgRqMuMEv9mQsw', 'scope': 'GOOGLE', 'types': ['point_of_interest', 'establishment'], 'user_ratings_total': 1, 'vicinity': '2621 Houston Lane, Whites Creek'}, {'business_status': 'CLOSED_TEMPORARILY', 'geometry': {'location': {'lat': 36.2590745, 'lng': -86.8298136}, 'viewport': {'northeast': {'lat': 36.2604073802915, 'lng': -86.82872636970849}, 'southwest': {'lat': 36.2577094197085, 'lng': -86.8314243302915}}}, 'icon': 'https://maps.gstatic.com/mapfiles/place_api/icons/v1/png_71/lodging-71.png', 'icon_background_color': '#909CE1', 'icon_mask_base_uri': 'https://maps.gstatic.com/mapfiles/place_api/icons/v2/hotel_pinlet', 'name': 'The Inn At Fontanel', 'permanently_closed': True, 'photos': [{'height': 678, 'html_attributions': ['<a href=\"https://maps.google.com/maps/contrib/110093359787418285128\">The Inn At Fontanel</a>'], 'photo_reference': 'Aap_uEDO3yX4YNv4Ei3LByAfNcHNR72cmd-ziRky1WMmWKpDaW4S8gLfgvAxxFKu7AV_QnXlYZZkZaGqbn2KNuvcMOAubeC0XPFVVf8A4KaAtwmibyR6iDgwxZmpd70dv8UmDELoUdUOSuBj_i7HQh07OGaTrz44SIY5mq16S3gLE84xhdtr', 'width': 1496}], 'place_id': 'ChIJKZX-NNddZIgR9YUcNyJx5Qo', 'plus_code': {'compound_code': '755C+J3 Whites Creek, Nashville, TN, USA', 'global_code': '868M755C+J3'}, 'rating': 4.5, 'reference': 'ChIJKZX-NNddZIgR9YUcNyJx5Qo', 'scope': 'GOOGLE', 'types': ['lodging', 'point_of_interest', 'establishment'], 'user_ratings_total': 470, 'vicinity': '4133 Whites Creek Pike, Whites Creek'}, {'business_status': 'OPERATIONAL', 'geometry': {'location': {'lat': 36.2622598, 'lng': -86.8319248}, 'viewport': {'northeast': {'lat': 36.26370488029149, 'lng': -86.8305787697085}, 'southwest': {'lat': 36.26100691970849, 'lng': -86.8332767302915}}}, 'icon': 'https://maps.gstatic.com/mapfiles/place_api/icons/v1/png_71/generic_business-71.png', 'icon_background_color': '#7B9EB0', 'icon_mask_base_uri': 'https://maps.gstatic.com/mapfiles/place_api/icons/v2/generic_pinlet', 'name': 'JT Equity Group, LLC', 'opening_hours': {'open_now': False}, 'place_id': 'ChIJ88KfL31eZIgRnkS7LU-qhfo', 'plus_code': {'compound_code': '7569+W6 Whites Creek, Nashville, TN, USA', 'global_code': '868M7569+W6'}, 'reference': 'ChIJ88KfL31eZIgRnkS7LU-qhfo', 'scope': 'GOOGLE', 'types': ['real_estate_agency', 'point_of_interest', 'establishment'], 'vicinity': '2613 Houston Lane, Whites Creek'}, {'business_status': 'OPERATIONAL', 'geometry': {'location': {'lat': 36.2644836, 'lng': -86.8311229}, 'viewport': {'northeast': {'lat': 36.2658278802915, 'lng': -86.8296122197085}, 'southwest': {'lat': 36.2631299197085, 'lng': -86.8323101802915}}}, 'icon': 'https://maps.gstatic.com/mapfiles/place_api/icons/v1/png_71/civic_building-71.png', 'icon_background_color': '#7B9EB0', 'icon_mask_base_uri': 'https://maps.gstatic.com/mapfiles/place_api/icons/v2/civic-bldg_pinlet', 'name': 'United States Postal Service', 'opening_hours': {'open_now': False}, 'photos': [{'height': 1932, 'html_attributions': ['<a href=\"https://maps.google.com/maps/contrib/108036626196852010817\">Will Ward</a>'], 'photo_reference': 'Aap_uEBJOXn0gNe1xvg2LmWnAbSzB688r5fPD1oynOknq9xagxG-t_D1XoZoj7DSA1Mzj34-BNswzOsJ3H8rvaQ1iOcSyt-PjqXjlfvTGwnqygqYJ0cMkZtWCrzjLZGKDIv8EQl3Cn0pOlLcSbScK0yg4SmM9a5y4NzeJo29TFcYLNCJIdGK', 'width': 2576}], 'place_id': 'ChIJy2z6XX1eZIgROxTvL8qi9Rc', 'plus_code': {'compound_code': '7579+QH Whites Creek, Nashville, TN, USA', 'global_code': '868M7579+QH'}, 'rating': 4.8, 'reference': 'ChIJy2z6XX1eZIgROxTvL8qi9Rc', 'scope': 'GOOGLE', 'types': ['post_office', 'finance', 'point_of_interest', 'establishment'], 'user_ratings_total': 11, 'vicinity': '4402 Whites Creek Pike, Whites Creek'}, {'business_status': 'OPERATIONAL', 'geometry': {'location': {'lat': 36.2649475, 'lng': -86.8311363}, 'viewport': {'northeast': {'lat': 36.2662379302915, 'lng': -86.82978676970849}, 'southwest': {'lat': 36.2635399697085, 'lng': -86.83248473029151}}}, 'icon': 'https://maps.gstatic.com/mapfiles/place_api/icons/v1/png_71/bank-71.png', 'icon_background_color': '#909CE1', 'icon_mask_base_uri': 'https://maps.gstatic.com/mapfiles/place_api/icons/v2/bank-intl_pinlet', 'name': 'First Horizon Bank', 'opening_hours': {'open_now': False}, 'photos': [{'height': 360, 'html_attributions': ['<a href=\"https://maps.google.com/maps/contrib/101709678718178168742\">First Horizon Bank</a>'], 'photo_reference': 'Aap_uEBEkE4uIeGYhI3PDoiRyf9qp5K5iSnvxxnYMBizl7HyZ7xI5VZMQTy56LePh83LIrHyKYybb6_ax_OwzTK897xO2yC4pB9sC3hcso0PrsdGG0laiwxMqP_IrIo_llXG4MaQ3MNHrlS4TkHBr-akB-C8LiKK3c9-tAtgPY1o-ZVWtNUj', 'width': 640}], 'place_id': 'ChIJleXn9odeZIgR0P5yNQgxxKA', 'plus_code': {'compound_code': '7579+XG Whites Creek, Nashville, TN, USA', 'global_code': '868M7579+XG'}, 'rating': 4, 'reference': 'ChIJleXn9odeZIgR0P5yNQgxxKA', 'scope': 'GOOGLE', 'types': ['bank', 'atm', 'finance', 'point_of_interest', 'establishment'], 'user_ratings_total': 13, 'vicinity': '4410, Whites Creek'}, {'business_status': 'OPERATIONAL', 'geometry': {'location': {'lat': 36.2754002, 'lng': -86.8436236}, 'viewport': {'northeast': {'lat': 36.2768084302915, 'lng': -86.84203976970849}, 'southwest': {'lat': 36.2741104697085, 'lng': -86.84473773029151}}}, 'icon': 'https://maps.gstatic.com/mapfiles/place_api/icons/v1/png_71/generic_business-71.png', 'icon_background_color': '#7B9EB0', 'icon_mask_base_uri': 'https://maps.gstatic.com/mapfiles/place_api/icons/v2/generic_pinlet', 'name': 'All Professional Construction', 'opening_hours': {'open_now': False}, 'photos': [{'height': 334, 'html_attributions': ['<a href=\"https://maps.google.com/maps/contrib/109856711078080689176\">All Professional Construction</a>'], 'photo_reference': 'Aap_uEB6tWN5q68Bi2QV3K7V7bzQ400LaaVwla7BoSGLAOudV1yVdstJ_zVVWGl6c1cKrd_kjNVSibn6MAXPc2eZEfrQmpYhFuwd0oFdK6IK_C0gYEu4QsT8JnI9Bh0OqTR6zvSukMUXZOInZPBYqvXXDhZwg8PhWjrw_Gjto_hQ57qXAdWT', 'width': 500}], 'place_id': 'ChIJb2Encu1eZIgRhMFrxsFe_xQ', 'plus_code': {'compound_code': '75G4+5H Nashville, TN, USA', 'global_code': '868M75G4+5H'}, 'rating': 4.1, 'reference': 'ChIJb2Encu1eZIgRhMFrxsFe_xQ', 'scope': 'GOOGLE', 'types': ['general_contractor', 'point_of_interest', 'establishment'], 'user_ratings_total': 18, 'vicinity': '3508 Huntland Drive, Nashville'}, {'business_status': 'OPERATIONAL', 'geometry': {'location': {'lat': 36.22291039999999, 'lng': -86.84993589999999}, 'viewport': {'northeast': {'lat': 36.2242783302915, 'lng': -86.8487430197085}, 'southwest': {'lat': 36.2215803697085, 'lng': -86.8514409802915}}}, 'icon': 'https://maps.gstatic.com/mapfiles/place_api/icons/v1/png_71/generic_business-71.png', 'icon_background_color': '#7B9EB0', 'icon_mask_base_uri': 'https://maps.gstatic.com/mapfiles/place_api/icons/v2/generic_pinlet', 'name': 'Three Generations Home Healthcare', 'opening_hours': {'open_now': False}, 'place_id': 'ChIJo8LnnideZIgRxtJ3DqUt13Y', 'plus_code': {'compound_code': '65F2+52 Nashville, TN, USA', 'global_code': '868M65F2+52'}, 'reference': 'ChIJo8LnnideZIgRxtJ3DqUt13Y', 'scope': 'GOOGLE', 'types': ['health', 'point_of_interest', 'establishment'], 'vicinity': '3878 Lunn Drive, Nashville'}, {'business_status': 'OPERATIONAL', 'geometry': {'location': {'lat': 36.2240982, 'lng': -86.8358531}, 'viewport': {'northeast': {'lat': 36.2255680802915, 'lng': -86.83450796970848}, 'southwest': {'lat': 36.2228701197085, 'lng': -86.83720593029149}}}, 'icon': 'https://maps.gstatic.com/mapfiles/place_api/icons/v1/png_71/worship_general-71.png', 'icon_background_color': '#7B9EB0', 'icon_mask_base_uri': 'https://maps.gstatic.com/mapfiles/place_api/icons/v2/worship_christian_pinlet', 'name': 'Berean Baptist Church', 'photos': [{'height': 3120, 'html_attributions': ['<a href=\"https://maps.google.com/maps/contrib/112732573101639935817\">James Pillow</a>'], 'photo_reference': 'Aap_uEDV2whp_wVdgrkkMn8uggS-4zeFy1pXvlV3jZOjDVhLVJlfFzmB1PzgnBMVC3ot08mNv4RWzQcTbtaRDB-fVcSclYJFvdJCQ8jB0JvMdulTCX-JkpjyDWlLPvylNVFpIu2Wz-dBnhZXh8CHSzTMFqTUlwfMAK7uez_ULUE5_PlUBGs3', 'width': 4160}], 'place_id': 'ChIJ3WlkURxeZIgRHZtd2aNyZCc', 'plus_code': {'compound_code': '65F7+JM Nashville, TN, USA', 'global_code': '868M65F7+JM'}, 'rating': 5, 'reference': 'ChIJ3WlkURxeZIgRHZtd2aNyZCc', 'scope': 'GOOGLE', 'types': ['church', 'place_of_worship', 'point_of_interest', 'establishment'], 'user_ratings_total': 4, 'vicinity': '4825 Fairmeade Court, Nashville'}, {'business_status': 'OPERATIONAL', 'geometry': {'location': {'lat': 36.2188242, 'lng': -86.855677}, 'viewport': {'northeast': {'lat': 36.2201574302915, 'lng': -86.85419561970849}, 'southwest': {'lat': 36.2174594697085, 'lng': -86.8568935802915}}}, 'icon': 'https://maps.gstatic.com/mapfiles/place_api/icons/v1/png_71/shopping-71.png', 'icon_background_color': '#4B96F3', 'icon_mask_base_uri': 'https://maps.gstatic.com/mapfiles/place_api/icons/v2/shopping_pinlet', 'name': 'Protein Picker', 'opening_hours': {'open_now': True}, 'photos': [{'height': 768, 'html_attributions': ['<a href=\"https://maps.google.com/maps/contrib/112505948049431450645\">Protein Picker</a>'], 'photo_reference': 'Aap_uEBKIl0GAHO6KQQXwcOHqM-EXg_lxovVQaS3W9IGisFYZeLuSuuPgLn33jGQr0EcjgPe7jipDqK-6I5gFcMe5Vbpy0J3xdHBOlWH85P8vEhoQhzOU2Y9NYhv4Fwp9pInfy54nMWfrixjZe-OTrs_CDtYtO_wj-1ebpfnFt8LZccuoYHl', 'width': 1366}], 'place_id': 'ChIJYdaXtoNgZIgRm10Ny0keEO4', 'plus_code': {'compound_code': '649V+GP Nashville, TN, USA', 'global_code': '868M649V+GP'}, 'reference': 'ChIJYdaXtoNgZIgRm10Ny0keEO4', 'scope': 'GOOGLE', 'types': ['health', 'point_of_interest', 'store', 'establishment'], 'vicinity': '4325 West Hamilton Avenue, Nashville'}, {'business_status': 'OPERATIONAL', 'geometry': {'location': {'lat': 36.2769955, 'lng': -86.8705057}, 'viewport': {'northeast': {'lat': 36.2784638802915, 'lng': -86.8690342697085}, 'southwest': {'lat': 36.2757659197085, 'lng': -86.8717322302915}}}, 'icon': 'https://maps.gstatic.com/mapfiles/place_api/icons/v1/png_71/generic_business-71.png', 'icon_background_color': '#7B9EB0', 'icon_mask_base_uri': 'https://maps.gstatic.com/mapfiles/place_api/icons/v2/generic_pinlet', 'name': 'Rottweiler Breeder', 'opening_hours': {'open_now': False}, 'photos': [{'height': 633, 'html_attributions': ['<a href=\"https://maps.google.com/maps/contrib/114528435356494635498\">Rottweiler Breeder</a>'], 'photo_reference': 'Aap_uECvLyk1hO2c22YBgCw-I2q-pG4DZWo_3alX-q0jn6yZPeZapUkF89R_rI1p69RlskPswNMB7Y8x3BOyEEzlS-f66ULiOqN1WwOAw7pV0RoQcqb4HZ4LhCnBpmyMIIn8jFgezz1VDNxMZrIApxAo1-X0ghycPQokMJsx3xe9wotWF1oH', 'width': 1125}], 'place_id': 'ChIJ1z5onRpfZIgRADnoYvWznGc', 'plus_code': {'compound_code': '74GH+QQ Whites Creek, Nashville, TN, USA', 'global_code': '868M74GH+QQ'}, 'rating': 4.7, 'reference': 'ChIJ1z5onRpfZIgRADnoYvWznGc', 'scope': 'GOOGLE', 'types': ['point_of_interest', 'establishment'], 'user_ratings_total': 95, 'vicinity': '5465 Clarksville Pike, Whites Creek'}, {'business_status': 'OPERATIONAL', 'geometry': {'location': {'lat': 36.2177568, 'lng': -86.84773849999999}, 'viewport': {'northeast': {'lat': 36.2189120302915, 'lng': -86.84636426970849}, 'southwest': {'lat': 36.2162140697085, 'lng': -86.8490622302915}}}, 'icon': 'https://maps.gstatic.com/mapfiles/place_api/icons/v1/png_71/shopping-71.png', 'icon_background_color': '#4B96F3', 'icon_mask_base_uri': 'https://maps.gstatic.com/mapfiles/place_api/icons/v2/shopping_pinlet', 'name': 'Silk Body Creme', 'opening_hours': {'open_now': True}, 'place_id': 'ChIJXeMqI5xgZIgRHzbgCdS4_BA', 'plus_code': {'compound_code': '6592+4W Nashville, TN, USA', 'global_code': '868M6592+4W'}, 'reference': 'ChIJXeMqI5xgZIgRHzbgCdS4_BA', 'scope': 'GOOGLE', 'types': ['store', 'health', 'point_of_interest', 'establishment'], 'vicinity': '3934 Kings Lane, Nashville'}, {'business_status': 'OPERATIONAL', 'geometry': {'location': {'lat': 36.2172695, 'lng': -86.8594712}, 'viewport': {'northeast': {'lat': 36.2187442802915, 'lng': -86.85812841970849}, 'southwest': {'lat': 36.2160463197085, 'lng': -86.86082638029151}}}, 'icon': 'https://maps.gstatic.com/mapfiles/place_api/icons/v1/png_71/generic_business-71.png', 'icon_background_color': '#7B9EB0', 'icon_mask_base_uri': 'https://maps.gstatic.com/mapfiles/place_api/icons/v2/generic_pinlet', 'name': 'Nashville Private Jet Charter Flights', 'opening_hours': {'open_now': True}, 'photos': [{'height': 336, 'html_attributions': ['<a href=\"https://maps.google.com/maps/contrib/106559255945895560086\">Mia Umatu</a>'], 'photo_reference': 'Aap_uECIksF5ZQZxjDHD7Al_P-0GuKx5_dxoY47QeVNtpUY8g_u-5_Rh1wmuahPLfT5WQIWrP4SH35YHRV8878YGd7QmWFu2XMwBlNBMppR38ZChjunOfKjMDIfsYkKn1NrRW_6d4N5z8baM9hx00c_Jaqdsu53go75JE8rvsaZOmgfw8jjn', 'width': 580}], 'place_id': 'ChIJ2-KcKIFgZIgRR0dQNqSYVo4', 'plus_code': {'compound_code': '648R+W6 Nashville, TN, USA', 'global_code': '868M648R+W6'}, 'rating': 4.9, 'reference': 'ChIJ2-KcKIFgZIgRR0dQNqSYVo4', 'scope': 'GOOGLE', 'types': ['point_of_interest', 'establishment'], 'user_ratings_total': 41, 'vicinity': 'Princess Lane, Nashville'}, {'business_status': 'OPERATIONAL', 'geometry': {'location': {'lat': 36.2185813, 'lng': -86.8387916}, 'viewport': {'northeast': {'lat': 36.2197893302915, 'lng': -86.83741721970848}, 'southwest': {'lat': 36.2170913697085, 'lng': -86.8401151802915}}}, 'icon': 'https://maps.gstatic.com/mapfiles/place_api/icons/v1/png_71/generic_business-71.png', 'icon_background_color': '#7B9EB0', 'icon_mask_base_uri': 'https://maps.gstatic.com/mapfiles/place_api/icons/v2/generic_pinlet', 'name': 'Destine Fashions', 'place_id': 'ChIJa1-h4qBgZIgR_2OMjJxMmAI', 'plus_code': {'compound_code': '6596+CF Nashville, TN, USA', 'global_code': '868M6596+CF'}, 'rating': 5, 'reference': 'ChIJa1-h4qBgZIgR_2OMjJxMmAI', 'scope': 'GOOGLE', 'types': ['point_of_interest', 'establishment'], 'user_ratings_total': 10, 'vicinity': '3718 Kings Lane, Nashville'}, {'business_status': 'OPERATIONAL', 'geometry': {'location': {'lat': 36.2788413, 'lng': -86.8720171}, 'viewport': {'northeast': {'lat': 36.28006138029149, 'lng': -86.87080096970848}, 'southwest': {'lat': 36.27736341970849, 'lng': -86.8734989302915}}}, 'icon': 'https://maps.gstatic.com/mapfiles/place_api/icons/v1/png_71/generic_business-71.png', 'icon_background_color': '#7B9EB0', 'icon_mask_base_uri': 'https://maps.gstatic.com/mapfiles/place_api/icons/v2/generic_pinlet', 'name': 'Consolidate Builders', 'place_id': 'ChIJ5W1nXRBfZIgRza9GyCx7yWA', 'plus_code': {'compound_code': '74HH+G5 Whites Creek, Nashville, TN, USA', 'global_code': '868M74HH+G5'}, 'reference': 'ChIJ5W1nXRBfZIgRza9GyCx7yWA', 'scope': 'GOOGLE', 'types': ['general_contractor', 'point_of_interest', 'establishment'], 'vicinity': '5428 Clarksville Highway, Whites Creek'}, {'business_status': 'OPERATIONAL', 'geometry': {'location': {'lat': 36.21938659999999, 'lng': -86.83261859999999}, 'viewport': {'northeast': {'lat': 36.2205385302915, 'lng': -86.83123621970849}, 'southwest': {'lat': 36.2178405697085, 'lng': -86.8339341802915}}}, 'icon': 'https://maps.gstatic.com/mapfiles/place_api/icons/v1/png_71/worship_general-71.png', 'icon_background_color': '#7B9EB0', 'icon_mask_base_uri': 'https://maps.gstatic.com/mapfiles/place_api/icons/v2/worship_christian_pinlet', 'name': 'Church of Christ at Kings Lane', 'photos': [{'height': 3120, 'html_attributions': ['<a href=\"https://maps.google.com/maps/contrib/103609008962744007204\">Zatwoine</a>'], 'photo_reference': 'Aap_uEAMioo2xyMtAymOQauI9wr1QKj1g8KsnP44ztg1zmXxBDgfUXWZhymksqDSnIusg61M0pmYU_fjNsfCg67oGi7InNOYp8gZHe8YR7t9UZhuryr-baOSoa2zivGp-LKGzFF_VC9McTmpj6ug1VWlG6fN6EoVyqX4tDTirv2dbb6Nfs6b', 'width': 4160}], 'place_id': 'ChIJNVWs0adgZIgRR9AMCw4Kli0', 'plus_code': {'compound_code': '6598+QX Nashville, TN, USA', 'global_code': '868M6598+QX'}, 'rating': 5, 'reference': 'ChIJNVWs0adgZIgRR9AMCw4Kli0', 'scope': 'GOOGLE', 'types': ['church', 'place_of_worship', 'point_of_interest', 'establishment'], 'user_ratings_total': 18, 'vicinity': '3274 Kings Lane, Nashville'}, {'business_status': 'OPERATIONAL', 'geometry': {'location': {'lat': 36.22040529999999, 'lng': -86.8745225}, 'viewport': {'northeast': {'lat': 36.2217888302915, 'lng': -86.87327671970849}, 'southwest': {'lat': 36.2190908697085, 'lng': -86.8759746802915}}}, 'icon': 'https://maps.gstatic.com/mapfiles/place_api/icons/v1/png_71/generic_business-71.png', 'icon_background_color': '#7B9EB0', 'icon_mask_base_uri': 'https://maps.gstatic.com/mapfiles/place_api/icons/v2/generic_pinlet', 'name': 'F N A Video Productions', 'photos': [{'height': 3120, 'html_attributions': ['<a href=\"https://maps.google.com/maps/contrib/104321064078394137036\">Anita Medina</a>'], 'photo_reference': 'Aap_uECdtGgSRfWd8JhT2vc0Y78-FxE-Cg-QCuZ68fMe2hA7DKUEpCaOIoY_6VhV75PvqFBiK9OQsGOhJ5UoxoyWHyzCOz91flR3WUztUxxAhpKMuJpr2_A1Ls8TgoC3nvCOOxeea-HZ9ntSm0XgUVljbpA2Xh-dohZKdVKAd8FIne2glnie', 'width': 4160}], 'place_id': 'ChIJ8TDxrXdgZIgRJAJbwwtdpBs', 'plus_code': {'compound_code': '64CG+55 Nashville, TN, USA', 'global_code': '868M64CG+55'}, 'rating': 5, 'reference': 'ChIJ8TDxrXdgZIgRJAJbwwtdpBs', 'scope': 'GOOGLE', 'types': ['point_of_interest', 'establishment'], 'user_ratings_total': 1, 'vicinity': '2720 Cato Ridge Drive, Nashville'}, {'business_status': 'OPERATIONAL', 'geometry': {'location': {'lat': 36.2157515, 'lng': -86.85798559999999}, 'viewport': {'northeast': {'lat': 36.2171001802915, 'lng': -86.8566163697085}, 'southwest': {'lat': 36.2144022197085, 'lng': -86.85931433029151}}}, 'icon': 'https://maps.gstatic.com/mapfiles/place_api/icons/v1/png_71/generic_business-71.png', 'icon_background_color': '#7B9EB0', 'icon_mask_base_uri': 'https://maps.gstatic.com/mapfiles/place_api/icons/v2/generic_pinlet', 'name': 'Excel Real Estate & Development', 'photos': [{'height': 2448, 'html_attributions': ['<a href=\"https://maps.google.com/maps/contrib/116412510243612494037\">Kevin Snelling</a>'], 'photo_reference': 'Aap_uED-PY7TB4aZVmmQ5KGTUAUcXiXXHr2l1JSAZs0n56Pc-nlNYJ8UNLwwlrRPCpsGYpXZD8EhXjvoLQw8f9aKHV-ydqUBZIXy_cpL-9YmoZs7hGIhonp63alrAv3lI68B4ilNMg7e9gXt4VHZtHoWGr53V5nM6oguPOm_T9ACZ-yUuvc', 'width': 3264}], 'place_id': 'ChIJCzpQuoZgZIgRNpy1J_q5Fd0', 'plus_code': {'compound_code': '648R+8R Nashville, TN, USA', 'global_code': '868M648R+8R'}, 'rating': 5, 'reference': 'ChIJCzpQuoZgZIgRNpy1J_q5Fd0', 'scope': 'GOOGLE', 'types': ['real_estate_agency', 'point_of_interest', 'establishment'], 'user_ratings_total': 3, 'vicinity': '4392 Enchanted Circle, Nashville'}, {'business_status': 'OPERATIONAL', 'geometry': {'location': {'lat': 36.279814, 'lng': -86.874977}, 'viewport': {'northeast': {'lat': 36.2813371302915, 'lng': -86.8734493697085}, 'southwest': {'lat': 36.27863916970851, 'lng': -86.8761473302915}}}, 'icon': 'https://maps.gstatic.com/mapfiles/place_api/icons/v1/png_71/generic_business-71.png', 'icon_background_color': '#7B9EB0', 'icon_mask_base_uri': 'https://maps.gstatic.com/mapfiles/place_api/icons/v2/generic_pinlet', 'name': 'Harris Fence And Gate Company', 'opening_hours': {'open_now': False}, 'photos': [{'height': 720, 'html_attributions': ['<a href=\"https://maps.google.com/maps/contrib/101924941794421780189\">Harris Fence And Gate Company</a>'], 'photo_reference': 'Aap_uEBrS4niH4qPFgS7YREplxdzG4cmVxxSwwoekuKBjQ-KpjyDmItjw__4wiOQDYf9Pndy7D5TN8YAKxDvwnAnRi1wY6JcualKjwjM8CJhAxC0dtt4M1M_Jv_iPn1inEPyVsOFDxbxje-6pzC8fhxxN1HCs6AU2EB6GPXsF4TZO6c5scEM', 'width': 538}], 'place_id': 'ChIJnYV5CBFfZIgRnTdxT3aN9uM', 'plus_code': {'compound_code': '74HG+W2 Joelton, Nashville, TN, USA', 'global_code': '868M74HG+W2'}, 'rating': 4.8, 'reference': 'ChIJnYV5CBFfZIgRnTdxT3aN9uM', 'scope': 'GOOGLE', 'types': ['general_contractor', 'point_of_interest', 'establishment'], 'user_ratings_total': 13, 'vicinity': '5517 Clarksville Pike, Joelton'}, {'business_status': 'OPERATIONAL', 'geometry': {'location': {'lat': 36.279847, 'lng': -86.873683}, 'viewport': {'northeast': {'lat': 36.2812230802915, 'lng': -86.87236436970849}, 'southwest': {'lat': 36.2785251197085, 'lng': -86.8750623302915}}}, 'icon': 'https://maps.gstatic.com/mapfiles/place_api/icons/v1/png_71/gas_station-71.png', 'icon_background_color': '#909CE1', 'icon_mask_base_uri': 'https://maps.gstatic.com/mapfiles/place_api/icons/v2/gas_pinlet', 'name': \"Cenex KCK's\", 'opening_hours': {'open_now': True}, 'photos': [{'height': 1920, 'html_attributions': ['<a href=\"https://maps.google.com/maps/contrib/107456221821740332279\">Steven N</a>'], 'photo_reference': 'Aap_uEBRWeXq0U3TISUEKTDX5yqR1mWnA-45g7QHujE6yP0cqh8Tzd_ubWXSdRM4fs-vPLIuiPl80TLThPpEIdUmDEM1Ro4bByNc3lJeIM_4tnQ9-St5HPGiq48S6K56lr4YjLf7sN8543CRk0B_AizbqGujFEZ57-noEJ44naAvRuDBsi5A', 'width': 2560}], 'place_id': 'ChIJz4V_8BBfZIgRS4Qq4Fku2zE', 'plus_code': {'compound_code': '74HG+WG Joelton, Nashville, TN, USA', 'global_code': '868M74HG+WG'}, 'rating': 4.1, 'reference': 'ChIJz4V_8BBfZIgRS4Qq4Fku2zE', 'scope': 'GOOGLE', 'types': ['gas_station', 'point_of_interest', 'establishment'], 'user_ratings_total': 38, 'vicinity': '5500 Clarksville Highway, Joelton'}, {'business_status': 'OPERATIONAL', 'geometry': {'location': {'lat': 36.21221, 'lng': -86.8675493}, 'viewport': {'northeast': {'lat': 36.2135222802915, 'lng': -86.8659028197085}, 'southwest': {'lat': 36.21082431970851, 'lng': -86.8686007802915}}}, 'icon': 'https://maps.gstatic.com/mapfiles/place_api/icons/v1/png_71/school-71.png', 'icon_background_color': '#7B9EB0', 'icon_mask_base_uri': 'https://maps.gstatic.com/mapfiles/place_api/icons/v2/school_pinlet', 'name': 'Cumberland Elementary School', 'opening_hours': {'open_now': False}, 'photos': [{'height': 768, 'html_attributions': ['<a href=\"https://maps.google.com/maps/contrib/111630581247921908418\">Cumberland Elementary School</a>'], 'photo_reference': 'Aap_uEAT3TmMovmPCd0eO5Ml8Ac1W0AksRRcPXj1Kj1EzxHq6s_MPVafcel6u8LZBOWSLcbhRj45IJbTrTOSRap4E7FJC-ebIpae1Zd0ofekk1aN6APaeTvu4ueNtpAgiEMem1Lvyt9hoUUT8E6bAGt2NB59nfLw0Gdfu_z_pxP3bY_qp0S_', 'width': 1024}], 'place_id': 'ChIJobr5T3tgZIgRoPEasjcYitI', 'plus_code': {'compound_code': '646J+VX Nashville, TN, USA', 'global_code': '868M646J+VX'}, 'rating': 5, 'reference': 'ChIJobr5T3tgZIgRoPEasjcYitI', 'scope': 'GOOGLE', 'types': ['primary_school', 'school', 'point_of_interest', 'establishment'], 'user_ratings_total': 5, 'vicinity': '4247 Cato Road, Nashville'}, {'business_status': 'OPERATIONAL', 'geometry': {'location': {'lat': 36.2154123, 'lng': -86.8383092}, 'viewport': {'northeast': {'lat': 36.2167248302915, 'lng': -86.83673226970849}, 'southwest': {'lat': 36.2140268697085, 'lng': -86.8394302302915}}}, 'icon': 'https://maps.gstatic.com/mapfiles/place_api/icons/v1/png_71/generic_business-71.png', 'icon_background_color': '#7B9EB0', 'icon_mask_base_uri': 'https://maps.gstatic.com/mapfiles/place_api/icons/v2/generic_pinlet', 'name': 'Bill Mason - COUNTRY Financial representative', 'photos': [{'height': 608, 'html_attributions': ['<a href=\"https://maps.google.com/maps/contrib/112255698778969737018\">Bill Mason - COUNTRY Financial representative</a>'], 'photo_reference': 'Aap_uEBtZcbzgeX6-D-6aIrX0DBgfNjL3HVvW0heXaQirN1oz6Wr-y35smwex4pZ4o_RViMAhskIg_evKZtCXqyZrvgINpMQD5V5DKXdNYU81a1-MGLtJd26eMbXeqqaek3_0xthEqd2O94hiqYvdB3uqmnAS2cLaD3ZhTu78w3x6JsP7Psz', 'width': 1080}], 'place_id': 'ChIJIZaJ56NgZIgRYBqTJogzglU', 'plus_code': {'compound_code': '6586+5M Nashville, TN, USA', 'global_code': '868M6586+5M'}, 'reference': 'ChIJIZaJ56NgZIgRYBqTJogzglU', 'scope': 'GOOGLE', 'types': ['insurance_agency', 'finance', 'point_of_interest', 'establishment'], 'vicinity': '4121 Clarksville Pike Ste 1, Nashville'}, {'business_status': 'OPERATIONAL', 'geometry': {'location': {'lat': 36.213418, 'lng': -86.8574332}, 'viewport': {'northeast': {'lat': 36.2147922802915, 'lng': -86.85637481970849}, 'southwest': {'lat': 36.2120943197085, 'lng': -86.85907278029151}}}, 'icon': 'https://maps.gstatic.com/mapfiles/place_api/icons/v1/png_71/generic_business-71.png', 'icon_background_color': '#7B9EB0', 'icon_mask_base_uri': 'https://maps.gstatic.com/mapfiles/place_api/icons/v2/generic_pinlet', 'name': 'Jacob & Rachel Memorial Fund', 'place_id': 'ChIJCZgVeYZgZIgRH0qN0XNVkns', 'plus_code': {'compound_code': '647V+92 Nashville, TN, USA', 'global_code': '868M647V+92'}, 'reference': 'ChIJCZgVeYZgZIgRH0qN0XNVkns', 'scope': 'GOOGLE', 'types': ['point_of_interest', 'establishment'], 'vicinity': '4368 Enchanted Circle, Nashville'}, {'business_status': 'OPERATIONAL', 'geometry': {'location': {'lat': 36.2153179, 'lng': -86.8376644}, 'viewport': {'northeast': {'lat': 36.21668183029149, 'lng': -86.83640886970849}, 'southwest': {'lat': 36.2139838697085, 'lng': -86.8391068302915}}}, 'icon': 'https://maps.gstatic.com/mapfiles/place_api/icons/v1/png_71/school-71.png', 'icon_background_color': '#7B9EB0', 'icon_mask_base_uri': 'https://maps.gstatic.com/mapfiles/place_api/icons/v2/school_pinlet', 'name': 'Life Academy Bible College', 'place_id': 'ChIJtXEO8KNgZIgRgdmpOMSm1FU', 'plus_code': {'compound_code': '6586+4W Nashville, TN, USA', 'global_code': '868M6586+4W'}, 'reference': 'ChIJtXEO8KNgZIgRgdmpOMSm1FU', 'scope': 'GOOGLE', 'types': ['point_of_interest', 'establishment'], 'vicinity': '4100 Clarksville Highway, Nashville'}, {'business_status': 'OPERATIONAL', 'geometry': {'location': {'lat': 36.2372338, 'lng': -86.81075589999999}, 'viewport': {'northeast': {'lat': 36.2384394802915, 'lng': -86.80937781970847}, 'southwest': {'lat': 36.2357415197085, 'lng': -86.8120757802915}}}, 'icon': 'https://maps.gstatic.com/mapfiles/place_api/icons/v1/png_71/generic_business-71.png', 'icon_background_color': '#7B9EB0', 'icon_mask_base_uri': 'https://maps.gstatic.com/mapfiles/place_api/icons/v2/generic_pinlet', 'name': 'Music City Tru-Line Masonry', 'photos': [{'height': 2322, 'html_attributions': ['<a href=\"https://maps.google.com/maps/contrib/100857358498864614865\">Keith Hensley</a>'], 'photo_reference': 'Aap_uEAyZMfvTs8YhbI81w576nsBFEooex01O8q__bRxdKxyq6uI9n0tAXz7ISTe3yPgzl-5vVEdC-YDk6lHBRu9QVwjt3gbagQXxSTXs_GcpRNwXo0vlX142XgsH_ZqGeVm-obB_2qv-F68es1JHUc2UpGsuVCsLhJSuyNUzm6htbtT5Scp', 'width': 4128}], 'place_id': 'ChIJVaNXNe9dZIgRnUMcT5t6qCw', 'plus_code': {'compound_code': '65PQ+VM Whites Creek, Nashville, TN, USA', 'global_code': '868M65PQ+VM'}, 'rating': 3, 'reference': 'ChIJVaNXNe9dZIgRnUMcT5t6qCw', 'scope': 'GOOGLE', 'types': ['general_contractor', 'point_of_interest', 'establishment'], 'user_ratings_total': 4, 'vicinity': '525 Green Lane, Whites Creek'}, {'business_status': 'OPERATIONAL', 'geometry': {'location': {'lat': 36.2810816, 'lng': -86.8753906}, 'viewport': {'northeast': {'lat': 36.2823142302915, 'lng': -86.87416536970849}, 'southwest': {'lat': 36.2796162697085, 'lng': -86.8768633302915}}}, 'icon': 'https://maps.gstatic.com/mapfiles/place_api/icons/v1/png_71/school-71.png', 'icon_background_color': '#7B9EB0', 'icon_mask_base_uri': 'https://maps.gstatic.com/mapfiles/place_api/icons/v2/school_pinlet', 'name': 'BUSHIDO DOJO JOELTON', 'place_id': 'ChIJv59ePRFfZIgRxYCQC-Jgh6U', 'plus_code': {'compound_code': '74JF+CR Joelton, Nashville, TN, USA', 'global_code': '868M74JF+CR'}, 'rating': 5, 'reference': 'ChIJv59ePRFfZIgRxYCQC-Jgh6U', 'scope': 'GOOGLE', 'types': ['health', 'point_of_interest', 'establishment'], 'user_ratings_total': 4, 'vicinity': '5536 Clarksville Pike, Joelton'}, {'business_status': 'OPERATIONAL', 'geometry': {'location': {'lat': 36.2105967, 'lng': -86.8374539}, 'viewport': {'northeast': {'lat': 36.2119595302915, 'lng': -86.83620811970849}, 'southwest': {'lat': 36.2092615697085, 'lng': -86.83890608029151}}}, 'icon': 'https://maps.gstatic.com/mapfiles/place_api/icons/v1/png_71/generic_business-71.png', 'icon_background_color': '#7B9EB0', 'icon_mask_base_uri': 'https://maps.gstatic.com/mapfiles/place_api/icons/v2/generic_pinlet', 'name': \"Domino's Pizza\", 'opening_hours': {'open_now': True}, 'place_id': 'ChIJtdOeMqNgZIgREGtzRYLQO7o', 'plus_code': {'compound_code': '6567+62 Nashville, TN, USA', 'global_code': '868M6567+62'}, 'price_level': 1, 'rating': 2.8, 'reference': 'ChIJtdOeMqNgZIgREGtzRYLQO7o', 'scope': 'GOOGLE', 'types': ['meal_delivery', 'meal_takeaway', 'restaurant', 'food', 'point_of_interest', 'establishment'], 'user_ratings_total': 207, 'vicinity': '3956 Clarksville Pike, Nashville'}, {'business_status': 'OPERATIONAL', 'geometry': {'location': {'lat': 36.23355, 'lng': -86.85109299999999}, 'viewport': {'northeast': {'lat': 36.2349274802915, 'lng': -86.84865160000001}, 'southwest': {'lat': 36.2322295197085, 'lng': -86.85190679999998}}}, 'icon': 'https://maps.gstatic.com/mapfiles/place_api/icons/v1/png_71/generic_business-71.png', 'icon_background_color': '#7B9EB0', 'icon_mask_base_uri': 'https://maps.gstatic.com/mapfiles/place_api/icons/v2/generic_pinlet', 'name': 'JR Construction', 'place_id': 'ChIJE5cQuTpeZIgRQrXqz5Rn0sc', 'plus_code': {'compound_code': '64MX+CH Nashville, TN, USA', 'global_code': '868M64MX+CH'}, 'rating': 5, 'reference': 'ChIJE5cQuTpeZIgRQrXqz5Rn0sc', 'scope': 'GOOGLE', 'types': ['point_of_interest', 'establishment'], 'user_ratings_total': 1, 'vicinity': '4957 Drakes Branch Road, Nashville'}, {'business_status': 'OPERATIONAL', 'geometry': {'location': {'lat': 36.213009, 'lng': -86.838195}, 'viewport': {'northeast': {'lat': 36.21437573029149, 'lng': -86.83695976970849}, 'southwest': {'lat': 36.21167776970849, 'lng': -86.83965773029149}}}, 'icon': 'https://maps.gstatic.com/mapfiles/place_api/icons/v1/png_71/generic_business-71.png', 'icon_background_color': '#7B9EB0', 'icon_mask_base_uri': 'https://maps.gstatic.com/mapfiles/place_api/icons/v2/generic_pinlet', 'name': 'T&L Taxes', 'opening_hours': {'open_now': False}, 'photos': [{'height': 1136, 'html_attributions': ['<a href=\"https://maps.google.com/maps/contrib/115179720941030178862\">T&amp;L Taxes</a>'], 'photo_reference': 'Aap_uEDW4qx6-gNI-OBQhiu5m3bMPtby7ylTpPcK5vdzH6QdqfzKaJyYsF82VdU_jFJ9fA0JIHV9-S59BrxaXWm-YoK5htC4DJcFje7NUt4aAbOMpq3tndrmy26PKzA93RL1eGOi3PBzx1p9AG7RD18yHy_p7r2D6h0WIodJHsAIKfnprlcT', 'width': 640}], 'place_id': 'ChIJn5GAdKNgZIgRP7WuvUd8puY', 'plus_code': {'compound_code': '6576+6P Nashville, TN, USA', 'global_code': '868M6576+6P'}, 'rating': 5, 'reference': 'ChIJn5GAdKNgZIgRP7WuvUd8puY', 'scope': 'GOOGLE', 'types': ['accounting', 'finance', 'point_of_interest', 'establishment'], 'user_ratings_total': 2, 'vicinity': '4026 Clarksville Pike, Nashville'}, {'business_status': 'OPERATIONAL', 'geometry': {'location': {'lat': 36.2196122, 'lng': -86.8362922}, 'viewport': {'northeast': {'lat': 36.2209622302915, 'lng': -86.83525321970849}, 'southwest': {'lat': 36.2182642697085, 'lng': -86.83795118029151}}}, 'icon': 'https://maps.gstatic.com/mapfiles/place_api/icons/v1/png_71/worship_general-71.png', 'icon_background_color': '#7B9EB0', 'icon_mask_base_uri': 'https://maps.gstatic.com/mapfiles/place_api/icons/v2/worship_christian_pinlet', 'name': 'Cathedral of Praise Inc', 'photos': [{'height': 4032, 'html_attributions': ['<a href=\"https://maps.google.com/maps/contrib/117584687406305233410\">Christy Henry</a>'], 'photo_reference': 'Aap_uEDBuBq41JRwDW8fVhxfiMi3F3XfXkfOPxSoSR7etQO6N0-3RFIAg2vohI7yzggz2FcbDyqijAEx_KVJvnwZMeZX9dtMFhoQT5X07CINX7a0umao3UGpCZQLJ5nUqH5SkxFjf1Cphrvm1bqYwQU81h3vNKRSjtSSii7pef-TYWFnTDT4', 'width': 3024}], 'place_id': 'ChIJdxx2OKdgZIgRsUqdAhpxf8I', 'plus_code': {'compound_code': '6597+RF Nashville, TN, USA', 'global_code': '868M6597+RF'}, 'rating': 4.8, 'reference': 'ChIJdxx2OKdgZIgRsUqdAhpxf8I', 'scope': 'GOOGLE', 'types': ['church', 'place_of_worship', 'point_of_interest', 'establishment'], 'user_ratings_total': 55, 'vicinity': '4300 Clarksville Pike, Nashville'}, {'business_status': 'OPERATIONAL', 'geometry': {'location': {'lat': 36.2531127, 'lng': -86.83197779999999}, 'viewport': {'northeast': {'lat': 36.2543876302915, 'lng': -86.83062626970849}, 'southwest': {'lat': 36.2516896697085, 'lng': -86.83332423029151}}}, 'icon': 'https://maps.gstatic.com/mapfiles/place_api/icons/v1/png_71/school-71.png', 'icon_background_color': '#7B9EB0', 'icon_mask_base_uri': 'https://maps.gstatic.com/mapfiles/place_api/icons/v2/school_pinlet', 'name': 'Alex Green Elementary School', 'opening_hours': {'open_now': False}, 'photos': [{'height': 552, 'html_attributions': ['<a href=\"https://maps.google.com/maps/contrib/118138780434011912011\">Communications Data</a>'], 'photo_reference': 'Aap_uEDKR_rHhwa97dvzPZ6XfkOwku3-sBOriobrKh_7hPpoN4yI7sU5YJoM_5aBbHKUpf1ICkqBlbQ7fAxqjbDBZEUoA9me0M4YCkEWGGUBtmLV4YY8V2oI4QdK0W-xiADWZpE-pGLUaNtt4j2Bh_eaZRsR6WVZnKoYzxNsEIbWuSsTkxk5', 'width': 750}], 'place_id': 'ChIJ56FgBnBeZIgRhlQVZhweCgE', 'plus_code': {'compound_code': '7539+66 Whites Creek, Nashville, TN, USA', 'global_code': '868M7539+66'}, 'rating': 3.7, 'reference': 'ChIJ56FgBnBeZIgRhlQVZhweCgE', 'scope': 'GOOGLE', 'types': ['primary_school', 'school', 'point_of_interest', 'establishment'], 'user_ratings_total': 7, 'vicinity': '3921 Lloyd Road, Whites Creek'}, {'business_status': 'OPERATIONAL', 'geometry': {'location': {'lat': 36.2105269, 'lng': -86.8375874}, 'viewport': {'northeast': {'lat': 36.21188198029149, 'lng': -86.8362837197085}, 'southwest': {'lat': 36.20918401970849, 'lng': -86.83898168029151}}}, 'icon': 'https://maps.gstatic.com/mapfiles/place_api/icons/v1/png_71/restaurant-71.png', 'icon_background_color': '#FF9E67', 'icon_mask_base_uri': 'https://maps.gstatic.com/mapfiles/place_api/icons/v2/restaurant_pinlet', 'name': 'China Spring', 'opening_hours': {'open_now': False}, 'photos': [{'height': 3024, 'html_attributions': ['<a href=\"https://maps.google.com/maps/contrib/101321442037898213151\">Ty Andal</a>'], 'photo_reference': 'Aap_uEDZq02bpfipZue91VA6j-8MQj0mP2PpsFGY9FC8kWyh0DAzIKW9JEI89iHAZF_-Q3jbXZMZxOX7UkAkTrJc72nzvWrzVo2mKRatT5pKaSgzG51_l2FoxVZqrTXFoaBjupqzx5ndOJKiN0WnP79f9DrCqkRWh6dLxx2ctQPTiJDke3HN', 'width': 4032}], 'place_id': 'ChIJYdWmMqNgZIgR3G8cO2f-Dpo', 'plus_code': {'compound_code': '6566+6X Nashville, TN, USA', 'global_code': '868M6566+6X'}, 'price_level': 2, 'rating': 3.9, 'reference': 'ChIJYdWmMqNgZIgR3G8cO2f-Dpo', 'scope': 'GOOGLE', 'types': ['restaurant', 'food', 'point_of_interest', 'establishment'], 'user_ratings_total': 109, 'vicinity': '3946 Clarksville Pike, Nashville'}, {'business_status': 'OPERATIONAL', 'geometry': {'location': {'lat': 36.21375, 'lng': -86.83255439999999}, 'viewport': {'northeast': {'lat': 36.21510268029149, 'lng': -86.8310804697085}, 'southwest': {'lat': 36.21240471970849, 'lng': -86.8337784302915}}}, 'icon': 'https://maps.gstatic.com/mapfiles/place_api/icons/v1/png_71/generic_business-71.png', 'icon_background_color': '#7B9EB0', 'icon_mask_base_uri': 'https://maps.gstatic.com/mapfiles/place_api/icons/v2/generic_pinlet', 'name': 'RL Gant Construction', 'opening_hours': {'open_now': False}, 'place_id': 'ChIJS59EmqVgZIgRaWpVuLZiE-A', 'plus_code': {'compound_code': '6578+GX Nashville, TN, USA', 'global_code': '868M6578+GX'}, 'rating': 4, 'reference': 'ChIJS59EmqVgZIgRaWpVuLZiE-A', 'scope': 'GOOGLE', 'types': ['general_contractor', 'point_of_interest', 'establishment'], 'user_ratings_total': 1, 'vicinity': '3935 Pheasant Drive, Nashville'}, {'business_status': 'OPERATIONAL', 'geometry': {'location': {'lat': 36.2110284, 'lng': -86.8662562}, 'viewport': {'northeast': {'lat': 36.21236853029149, 'lng': -86.8647769697085}, 'southwest': {'lat': 36.2096705697085, 'lng': -86.86747493029151}}}, 'icon': 'https://maps.gstatic.com/mapfiles/place_api/icons/v1/png_71/worship_general-71.png', 'icon_background_color': '#7B9EB0', 'icon_mask_base_uri': 'https://maps.gstatic.com/mapfiles/place_api/icons/v2/worship_christian_pinlet', 'name': 'Jordonia United Methodist Church', 'photos': [{'height': 1440, 'html_attributions': ['<a href=\"https://maps.google.com/maps/contrib/110501123829061323936\">Kathryn Gant</a>'], 'photo_reference': 'Aap_uEB4ivyGMnglUDCAY7miL95jOcy1p7xlER67Cz6ZiPdI8sR1zgVUVIyuRlb7dzNs8FC59rXh22B5lNemunhS8d4zM2mRbULObhLeFJDFSVmW3nIF3E_HR-SbCZcBUTuuzS0ywkvpYtEqK6iAgcn46-JpQ4ixGrawAZ7MBM5XUrSgGIxl', 'width': 2560}], 'place_id': 'ChIJMUL_NWNgZIgRa9DrwU5mBhU', 'plus_code': {'compound_code': '646M+CF Nashville, TN, USA', 'global_code': '868M646M+CF'}, 'rating': 5, 'reference': 'ChIJMUL_NWNgZIgRa9DrwU5mBhU', 'scope': 'GOOGLE', 'types': ['church', 'place_of_worship', 'point_of_interest', 'establishment'], 'user_ratings_total': 2, 'vicinity': '4225 Cato Road, Nashville'}, {'business_status': 'OPERATIONAL', 'geometry': {'location': {'lat': 36.2114599, 'lng': -86.8394071}, 'viewport': {'northeast': {'lat': 36.2126443302915, 'lng': -86.8377576197085}, 'southwest': {'lat': 36.2099463697085, 'lng': -86.84045558029152}}}, 'icon': 'https://maps.gstatic.com/mapfiles/place_api/icons/v1/png_71/shopping-71.png', 'icon_background_color': '#4B96F3', 'icon_mask_base_uri': 'https://maps.gstatic.com/mapfiles/place_api/icons/v2/shopping_pinlet', 'name': 'Family Dollar', 'opening_hours': {'open_now': False}, 'photos': [{'height': 1080, 'html_attributions': ['<a href=\"https://maps.google.com/maps/contrib/101587297628701575481\">Glogic Rodney</a>'], 'photo_reference': 'Aap_uEDmRbKVXFZY8YG8wzy2vNFP9UisA6gcy5_r7MORxEwZxr7xzA65zDMw0j5F7qzffZ8Lz3RzeU0l7ydkId_GQtoBr3xkYxB8ZvPjAHF9rqz2C6sFc-m_UUNUKU9KIurq7JCet5RiHw1OtA53Yr74XWSdqR87I5hJjBdUuG4p7xb1rPmr', 'width': 1920}], 'place_id': 'ChIJiSb5JaNgZIgRf3sMD_RIH48', 'plus_code': {'compound_code': '6566+H6 Nashville, TN, USA', 'global_code': '868M6566+H6'}, 'price_level': 1, 'rating': 3.7, 'reference': 'ChIJiSb5JaNgZIgRf3sMD_RIH48', 'scope': 'GOOGLE', 'types': ['supermarket', 'grocery_or_supermarket', 'food', 'point_of_interest', 'clothing_store', 'store', 'establishment'], 'user_ratings_total': 100, 'vicinity': '4003 Clarksville Pike, Nashville'}], [], [{'business_status': 'CLOSED_TEMPORARILY', 'geometry': {'location': {'lat': 36.256853, 'lng': -86.829741}, 'viewport': {'northeast': {'lat': 36.2581922302915, 'lng': -86.82861496970848}, 'southwest': {'lat': 36.2554942697085, 'lng': -86.8313129302915}}}, 'icon': 'https://maps.gstatic.com/mapfiles/place_api/icons/v1/png_71/generic_business-71.png', 'icon_background_color': '#7B9EB0', 'icon_mask_base_uri': 'https://maps.gstatic.com/mapfiles/place_api/icons/v2/generic_pinlet', 'name': 'Fontanel', 'permanently_closed': True, 'photos': [{'height': 1360, 'html_attributions': ['<a href=\"https://maps.google.com/maps/contrib/116486598572866830324\">Fontanel</a>'], 'photo_reference': 'Aap_uEBfz64IzTj-x5mLEFAhRyulxGpWSJCg9d182ACs3QsIka0eWM6PVzdFZRxAnCYUDyoJomRACbh7FzIGbUHWn4pe9TqajpxLXgF5TysOj48jHixTAQQX5y1NYKDqEmKiPoFLFeqQw6G_e6qixFo48GQizOtZUe7SlpR0l_vDEjiyVCTR', 'width': 2048}], 'place_id': 'ChIJl1NZk3xeZIgRCD5--Ypk518', 'plus_code': {'compound_code': '754C+P4 Whites Creek, Nashville, TN, USA', 'global_code': '868M754C+P4'}, 'rating': 4.4, 'reference': 'ChIJl1NZk3xeZIgRCD5--Ypk518', 'scope': 'GOOGLE', 'types': ['lodging', 'park', 'point_of_interest', 'clothing_store', 'store', 'establishment'], 'user_ratings_total': 207, 'vicinity': '4125 Whites Creek Pike, Whites Creek'}, {'business_status': 'OPERATIONAL', 'geometry': {'location': {'lat': 36.2114599, 'lng': -86.8394071}, 'viewport': {'northeast': {'lat': 36.2126443302915, 'lng': -86.8377576197085}, 'southwest': {'lat': 36.2099463697085, 'lng': -86.84045558029152}}}, 'icon': 'https://maps.gstatic.com/mapfiles/place_api/icons/v1/png_71/shopping-71.png', 'icon_background_color': '#4B96F3', 'icon_mask_base_uri': 'https://maps.gstatic.com/mapfiles/place_api/icons/v2/shopping_pinlet', 'name': 'Family Dollar', 'opening_hours': {'open_now': False}, 'photos': [{'height': 1080, 'html_attributions': ['<a href=\"https://maps.google.com/maps/contrib/101587297628701575481\">Glogic Rodney</a>'], 'photo_reference': 'Aap_uECbZewzQJ8jlKjtwG-AybDl4tiTj3fHvYkuPmmo6zLcL_B5yPNH8Z2TbOW1e3eaDQySSoy1069VyTp9NKK_vhjqMi3gBU2VylgMLmk9in2NvnqvaYXvB1MP5ixnVl-VPt5UMAlJpNh7EeSUjsB0M8srRL0cgjU4GR0agzJyy8_UrAGI', 'width': 1920}], 'place_id': 'ChIJiSb5JaNgZIgRf3sMD_RIH48', 'plus_code': {'compound_code': '6566+H6 Nashville, TN, USA', 'global_code': '868M6566+H6'}, 'price_level': 1, 'rating': 3.7, 'reference': 'ChIJiSb5JaNgZIgRf3sMD_RIH48', 'scope': 'GOOGLE', 'types': ['supermarket', 'grocery_or_supermarket', 'food', 'point_of_interest', 'clothing_store', 'store', 'establishment'], 'user_ratings_total': 100, 'vicinity': '4003 Clarksville Pike, Nashville'}, {'business_status': 'OPERATIONAL', 'geometry': {'location': {'lat': 36.264939, 'lng': -86.8306429}, 'viewport': {'northeast': {'lat': 36.2662858802915, 'lng': -86.8293806197085}, 'southwest': {'lat': 36.2635879197085, 'lng': -86.83207858029151}}}, 'icon': 'https://maps.gstatic.com/mapfiles/place_api/icons/v1/png_71/shopping-71.png', 'icon_background_color': '#4B96F3', 'icon_mask_base_uri': 'https://maps.gstatic.com/mapfiles/place_api/icons/v2/shopping_pinlet', 'name': 'Vintage Creek Boutique', 'opening_hours': {'open_now': False}, 'photos': [{'height': 3096, 'html_attributions': ['<a href=\"https://maps.google.com/maps/contrib/106685910465334939984\">Christina Taylor</a>'], 'photo_reference': 'Aap_uEAv5ZmSiNPEwepyrvBg_E3Qp6BSF-a1PdldU43Nw7fTO0fAs-2ZyuM-nprMLxS29RyjKKWekrZ_NDbXW5MKiZuFpnxj3heTrbggcVVMrP8FQCGHYfT3VlWQUGdSQK08vMmZVhM3TQD4iWmsdxjT5itfhOEsdGUZeFNHjYGxx8sbwoaI', 'width': 4128}], 'place_id': 'ChIJGSImDsxnZIgREMY0ROAfffU', 'plus_code': {'compound_code': '7579+XP Whites Creek, Nashville, TN, USA', 'global_code': '868M7579+XP'}, 'rating': 4.5, 'reference': 'ChIJGSImDsxnZIgREMY0ROAfffU', 'scope': 'GOOGLE', 'types': ['point_of_interest', 'clothing_store', 'store', 'establishment'], 'user_ratings_total': 8, 'vicinity': '4409 Whites Creek Pike, Whites Creek'}, {'business_status': 'OPERATIONAL', 'geometry': {'location': {'lat': 36.22456599999999, 'lng': -86.847557}, 'viewport': {'northeast': {'lat': 36.22579118029149, 'lng': -86.8462501197085}, 'southwest': {'lat': 36.2230932197085, 'lng': -86.8489480802915}}}, 'icon': 'https://maps.gstatic.com/mapfiles/place_api/icons/v1/png_71/shopping-71.png', 'icon_background_color': '#4B96F3', 'icon_mask_base_uri': 'https://maps.gstatic.com/mapfiles/place_api/icons/v2/shopping_pinlet', 'name': 'Worldclass Clothing', 'place_id': 'ChIJMT5a1iZeZIgRIcykF7TbnKU', 'plus_code': {'compound_code': '65F2+RX Nashville, TN, USA', 'global_code': '868M65F2+RX'}, 'rating': 5, 'reference': 'ChIJMT5a1iZeZIgRIcykF7TbnKU', 'scope': 'GOOGLE', 'types': ['clothing_store', 'point_of_interest', 'store', 'establishment'], 'user_ratings_total': 1, 'vicinity': '618 Putnam Drive, Nashville'}, {'business_status': 'OPERATIONAL', 'geometry': {'location': {'lat': 36.2147131, 'lng': -86.8371263}, 'viewport': {'northeast': {'lat': 36.2160507802915, 'lng': -86.8357795197085}, 'southwest': {'lat': 36.2133528197085, 'lng': -86.8384774802915}}}, 'icon': 'https://maps.gstatic.com/mapfiles/place_api/icons/v1/png_71/shopping-71.png', 'icon_background_color': '#4B96F3', 'icon_mask_base_uri': 'https://maps.gstatic.com/mapfiles/place_api/icons/v2/shopping_pinlet', 'name': 'Dottie Wotties Botique', 'place_id': 'ChIJXUATe7xgZIgRU1rSw7CUs-c', 'plus_code': {'compound_code': '6577+V4 Nashville, TN, USA', 'global_code': '868M6577+V4'}, 'reference': 'ChIJXUATe7xgZIgRU1rSw7CUs-c', 'scope': 'GOOGLE', 'types': ['point_of_interest', 'clothing_store', 'store', 'establishment'], 'vicinity': '3534 West Hamilton Avenue, Nashville'}], [{'business_status': 'OPERATIONAL', 'geometry': {'location': {'lat': 36.21062, 'lng': -86.8374719}, 'viewport': {'northeast': {'lat': 36.2120095302915, 'lng': -86.8362088197085}, 'southwest': {'lat': 36.2093115697085, 'lng': -86.83890678029151}}}, 'icon': 'https://maps.gstatic.com/mapfiles/place_api/icons/v1/png_71/restaurant-71.png', 'icon_background_color': '#FF9E67', 'icon_mask_base_uri': 'https://maps.gstatic.com/mapfiles/place_api/icons/v2/restaurant_pinlet', 'name': 'Subway', 'opening_hours': {'open_now': False}, 'photos': [{'height': 3024, 'html_attributions': ['<a href=\"https://maps.google.com/maps/contrib/107067932348831622181\">Zion Posey</a>'], 'photo_reference': 'Aap_uEBUIvqfOLT4oEG8rjUBmbPC28SvOA03CT30VpotJXz5Z6uGK-pJQ7j_fHCKNR9BlIH8AesOzyz0bqyX11-m1k2oXkPBaeajy25a1RV8D3G9xU-zqEgWq9f8QJNwohjhDKemyb1VfbwQ2-YaSWMhN5c4YxNWRv6vMJo5XueoM-5Ry-l3', 'width': 4032}], 'place_id': 'ChIJuVOZMqNgZIgR6XCEANyfK_M', 'plus_code': {'compound_code': '6567+62 Nashville, TN, USA', 'global_code': '868M6567+62'}, 'price_level': 1, 'rating': 4.1, 'reference': 'ChIJuVOZMqNgZIgR6XCEANyfK_M', 'scope': 'GOOGLE', 'types': ['meal_takeaway', 'restaurant', 'food', 'point_of_interest', 'establishment'], 'user_ratings_total': 72, 'vicinity': '3958 Clarksville Pike, Nashville'}, {'business_status': 'OPERATIONAL', 'geometry': {'location': {'lat': 36.2520693, 'lng': -86.8297597}, 'viewport': {'northeast': {'lat': 36.2534926302915, 'lng': -86.8284251697085}, 'southwest': {'lat': 36.2507946697085, 'lng': -86.8311231302915}}}, 'icon': 'https://maps.gstatic.com/mapfiles/place_api/icons/v1/png_71/gas_station-71.png', 'icon_background_color': '#909CE1', 'icon_mask_base_uri': 'https://maps.gstatic.com/mapfiles/place_api/icons/v2/gas_pinlet', 'name': 'Shell', 'photos': [{'height': 4128, 'html_attributions': ['<a href=\"https://maps.google.com/maps/contrib/117265797567492229445\">Rooster Davis</a>'], 'photo_reference': 'Aap_uEB-wblq8BykCuuyno7N1spIN7M32gvKQD9hNfHNj_DDEV13TaI6i8AhpV8j6va4PYXjiuZFbBy4d5uLutWyDocqzOSxRtmylKyC9e4XTbU7JynxZCRTqCRa_O15l6j6qrIL0C5dERCkuVShl2PWaDVJZIlUP-cnVbWLtzUs6lvCR_OX', 'width': 3096}], 'place_id': 'ChIJBQHTXnBeZIgR4BxNPRfisdI', 'plus_code': {'compound_code': '752C+R3 Nashville, TN, USA', 'global_code': '868M752C+R3'}, 'price_level': 2, 'rating': 4.1, 'reference': 'ChIJBQHTXnBeZIgR4BxNPRfisdI', 'scope': 'GOOGLE', 'types': ['gas_station', 'atm', 'convenience_store', 'finance', 'restaurant', 'food', 'point_of_interest', 'store', 'establishment'], 'user_ratings_total': 28, 'vicinity': '5470 Buena Vista Pike, Nashville'}, {'business_status': 'OPERATIONAL', 'geometry': {'location': {'lat': 36.2105967, 'lng': -86.8374539}, 'viewport': {'northeast': {'lat': 36.2119595302915, 'lng': -86.83620811970849}, 'southwest': {'lat': 36.2092615697085, 'lng': -86.83890608029151}}}, 'icon': 'https://maps.gstatic.com/mapfiles/place_api/icons/v1/png_71/generic_business-71.png', 'icon_background_color': '#7B9EB0', 'icon_mask_base_uri': 'https://maps.gstatic.com/mapfiles/place_api/icons/v2/generic_pinlet', 'name': \"Domino's Pizza\", 'opening_hours': {'open_now': True}, 'photos': [{'height': 674, 'html_attributions': ['Photos are copyrighted by their owners'], 'photo_reference': 'Aap_uEAD6gJC1qhf3aZ5_ExvUPEl4JYKDEcr4Ig2CY9rbKUuZ1iuNkYMrQVocmPHYaEqXO0pJM1MLh9kIapzY-VbOcBOPe48YeEhxQyU7nASMVOjSvRzgHZa_iIBzToykmIlWZldkx2ZhdzW_8-A75m8EnDmGvndV8oPIqhvrGF87z5Ma6ZY', 'width': 1024}], 'place_id': 'ChIJtdOeMqNgZIgREGtzRYLQO7o', 'plus_code': {'compound_code': '6567+62 Nashville, TN, USA', 'global_code': '868M6567+62'}, 'price_level': 1, 'rating': 2.8, 'reference': 'ChIJtdOeMqNgZIgREGtzRYLQO7o', 'scope': 'GOOGLE', 'types': ['meal_delivery', 'meal_takeaway', 'restaurant', 'food', 'point_of_interest', 'establishment'], 'user_ratings_total': 207, 'vicinity': '3956 Clarksville Pike, Nashville'}, {'business_status': 'OPERATIONAL', 'geometry': {'location': {'lat': 36.2105269, 'lng': -86.8375874}, 'viewport': {'northeast': {'lat': 36.21188198029149, 'lng': -86.8362837197085}, 'southwest': {'lat': 36.20918401970849, 'lng': -86.83898168029151}}}, 'icon': 'https://maps.gstatic.com/mapfiles/place_api/icons/v1/png_71/restaurant-71.png', 'icon_background_color': '#FF9E67', 'icon_mask_base_uri': 'https://maps.gstatic.com/mapfiles/place_api/icons/v2/restaurant_pinlet', 'name': 'China Spring', 'opening_hours': {'open_now': False}, 'photos': [{'height': 3024, 'html_attributions': ['<a href=\"https://maps.google.com/maps/contrib/101321442037898213151\">Ty Andal</a>'], 'photo_reference': 'Aap_uED6lh4T2sZfEmZWWFfWgrnkADm1yiW7YEXE09A3LMTGT1FaHgfL_S8sUSVVBeT9g1afxE-C3p_xd8RJxuhtoRgT2OirRPK_t4MZztP1Sr5clb655lM1hLMC1p-6_s_0yZC5HBDahlMrHCQtO0NWOhuPnV1MnhOskK7EVBG8F9zotR_x', 'width': 4032}], 'place_id': 'ChIJYdWmMqNgZIgR3G8cO2f-Dpo', 'plus_code': {'compound_code': '6566+6X Nashville, TN, USA', 'global_code': '868M6566+6X'}, 'price_level': 2, 'rating': 3.9, 'reference': 'ChIJYdWmMqNgZIgR3G8cO2f-Dpo', 'scope': 'GOOGLE', 'types': ['restaurant', 'food', 'point_of_interest', 'establishment'], 'user_ratings_total': 109, 'vicinity': '3946 Clarksville Pike, Nashville'}, {'business_status': 'OPERATIONAL', 'geometry': {'location': {'lat': 36.24773519999999, 'lng': -86.8265071}, 'viewport': {'northeast': {'lat': 36.24902108029149, 'lng': -86.82513821970849}, 'southwest': {'lat': 36.24632311970849, 'lng': -86.8278361802915}}}, 'icon': 'https://maps.gstatic.com/mapfiles/place_api/icons/v1/png_71/restaurant-71.png', 'icon_background_color': '#FF9E67', 'icon_mask_base_uri': 'https://maps.gstatic.com/mapfiles/place_api/icons/v2/restaurant_pinlet', 'name': 'Kingdom Cafe & Grill', 'place_id': 'ChIJXcf2yLNfZIgR93i3d8f9RYI', 'plus_code': {'compound_code': '65XF+39 Nashville, TN, USA', 'global_code': '868M65XF+39'}, 'reference': 'ChIJXcf2yLNfZIgR93i3d8f9RYI', 'scope': 'GOOGLE', 'types': ['restaurant', 'food', 'point_of_interest', 'establishment'], 'vicinity': '3826 Whites Creek Pike, Nashville'}, {'business_status': 'OPERATIONAL', 'geometry': {'location': {'lat': 36.2789932, 'lng': -86.8721772}, 'viewport': {'northeast': {'lat': 36.2803421802915, 'lng': -86.87082821970849}, 'southwest': {'lat': 36.2776442197085, 'lng': -86.8735261802915}}}, 'icon': 'https://maps.gstatic.com/mapfiles/place_api/icons/v1/png_71/restaurant-71.png', 'icon_background_color': '#FF9E67', 'icon_mask_base_uri': 'https://maps.gstatic.com/mapfiles/place_api/icons/v2/restaurant_pinlet', 'name': 'Habaneros', 'opening_hours': {'open_now': False}, 'photos': [{'height': 1277, 'html_attributions': ['<a href=\"https://maps.google.com/maps/contrib/108126977859159825875\">Habaneros</a>'], 'photo_reference': 'Aap_uEA_sMZYnvjzgHh2NHRuEPKWmYYsBnXqztIpU_1rcR15TtWPVgRuMe90_t0TOJa9dRRIFFP4cVuO6sfBVZ8c7GHAfr987HmC_mTgDIp3gRZuBK05PH-F1bfFianKrZCHsfIJPrM53ERZiI0iNeOoohqHQRJEc49v1479IIiDeHrgNQv3', 'width': 2429}], 'place_id': 'ChIJZ9rngRpfZIgRhobWRuVwlc0', 'plus_code': {'compound_code': '74HH+H4 Whites Creek, Nashville, TN, USA', 'global_code': '868M74HH+H4'}, 'price_level': 1, 'rating': 4.2, 'reference': 'ChIJZ9rngRpfZIgRhobWRuVwlc0', 'scope': 'GOOGLE', 'types': ['restaurant', 'food', 'point_of_interest', 'establishment'], 'user_ratings_total': 246, 'vicinity': '5432 Clarksville Highway, Whites Creek'}, {'business_status': 'OPERATIONAL', 'geometry': {'location': {'lat': 36.280865, 'lng': -86.87488499999999}, 'viewport': {'northeast': {'lat': 36.2820789302915, 'lng': -86.8737257697085}, 'southwest': {'lat': 36.27938096970851, 'lng': -86.8764237302915}}}, 'icon': 'https://maps.gstatic.com/mapfiles/place_api/icons/v1/png_71/restaurant-71.png', 'icon_background_color': '#FF9E67', 'icon_mask_base_uri': 'https://maps.gstatic.com/mapfiles/place_api/icons/v2/restaurant_pinlet', 'name': \"Goody's Café\", 'opening_hours': {'open_now': False}, 'photos': [{'height': 4032, 'html_attributions': ['<a href=\"https://maps.google.com/maps/contrib/117730006184841089227\">Goody&#39;s Café</a>'], 'photo_reference': 'Aap_uECxntCPCHEiOEaU62mW6A7rPnpeieUT9-S0Yd7D9S4DddfuBNO-lnEi1MTyePYubqI1mgCwq2N2-MoVXxkQBfUwzXkFwYOY6GTLWXTi8HYHJ8ngqCcwhVT2qbpvPeZlmtmsaRgV5ttedrKjBemtTq_Rf7UGetO6lTYIPZpWve7PhzJj', 'width': 3024}], 'place_id': 'ChIJ-___IhFfZIgRS7Edz2PrjnM', 'plus_code': {'compound_code': '74JG+82 Joelton, Nashville, TN, USA', 'global_code': '868M74JG+82'}, 'price_level': 1, 'rating': 4.8, 'reference': 'ChIJ-___IhFfZIgRS7Edz2PrjnM', 'scope': 'GOOGLE', 'types': ['restaurant', 'cafe', 'food', 'point_of_interest', 'establishment'], 'user_ratings_total': 105, 'vicinity': '5528 Clarksville Pike, Joelton'}, {'business_status': 'OPERATIONAL', 'geometry': {'location': {'lat': 36.2812789, 'lng': -86.8757047}, 'viewport': {'northeast': {'lat': 36.28247353029149, 'lng': -86.87434211970849}, 'southwest': {'lat': 36.2797755697085, 'lng': -86.87704008029151}}}, 'icon': 'https://maps.gstatic.com/mapfiles/place_api/icons/v1/png_71/shopping-71.png', 'icon_background_color': '#4B96F3', 'icon_mask_base_uri': 'https://maps.gstatic.com/mapfiles/place_api/icons/v2/shopping_pinlet', 'name': 'Joelton Hardware, Feed and Farmacy', 'opening_hours': {'open_now': True}, 'photos': [{'height': 643, 'html_attributions': ['<a href=\"https://maps.google.com/maps/contrib/106627374824683988983\">American Chau-vin-ist</a>'], 'photo_reference': 'Aap_uEBwhv_TKhYfLExbdwc_70m20rqz7SpGdfxA8gH_GTD8IU4kRMcAncgGBucP8HUcdVwuhIFSoUpy1xvWNepHv5lYh4yWIoVKubIVeH-2FaQ2jCmSmDecJ8Mpag2XRSS_cjhQJ5t5uIgN4K2Eoq_lKIpfKybn-v4Cp1ir_0TxQqc1nYau', 'width': 1929}], 'place_id': 'ChIJ0YviFxRfZIgRgEU2zs7E4Kg', 'plus_code': {'compound_code': '74JF+GP Joelton, Nashville, TN, USA', 'global_code': '868M74JF+GP'}, 'rating': 4.8, 'reference': 'ChIJ0YviFxRfZIgRgEU2zs7E4Kg', 'scope': 'GOOGLE', 'types': ['hardware_store', 'bar', 'restaurant', 'food', 'point_of_interest', 'store', 'establishment'], 'user_ratings_total': 115, 'vicinity': '5538 Clarksville Pike, Joelton'}, {'business_status': 'OPERATIONAL', 'geometry': {'location': {'lat': 36.28155639999999, 'lng': -86.87594829999999}, 'viewport': {'northeast': {'lat': 36.2826953302915, 'lng': -86.87463696970849}, 'southwest': {'lat': 36.2799973697085, 'lng': -86.8773349302915}}}, 'icon': 'https://maps.gstatic.com/mapfiles/place_api/icons/v1/png_71/restaurant-71.png', 'icon_background_color': '#FF9E67', 'icon_mask_base_uri': 'https://maps.gstatic.com/mapfiles/place_api/icons/v2/restaurant_pinlet', 'name': 'Granddaddy’s Famous Hot Chicken', 'opening_hours': {'open_now': False}, 'photos': [{'height': 3024, 'html_attributions': ['<a href=\"https://maps.google.com/maps/contrib/114280767467753796361\">Lewis Review This:</a>'], 'photo_reference': 'Aap_uECQivT-2K3wxlZrmP1NBzzHgDpDBKrVkxYerpaZYKqReFAXUm9brh2KodwQHZshZo-rr4cdAiKJTQ5UOoMgdOj1zblyEXQKW6URPK814HVImsIGdSPyzDxlRmh8dwW9s253hkI43Q4tGco0e2wwKi6zFp9NNy-w1ip5GRxOav4Pf4rW', 'width': 4032}], 'place_id': 'ChIJq6rGr0xnZIgRalps2N8vECI', 'plus_code': {'compound_code': '74JF+JJ Joelton, Nashville, TN, USA', 'global_code': '868M74JF+JJ'}, 'price_level': 1, 'rating': 4.7, 'reference': 'ChIJq6rGr0xnZIgRalps2N8vECI', 'scope': 'GOOGLE', 'types': ['restaurant', 'food', 'point_of_interest', 'establishment'], 'user_ratings_total': 255, 'vicinity': '5546 Clarksville Pike, Joelton'}, {'business_status': 'OPERATIONAL', 'geometry': {'location': {'lat': 36.2102403, 'lng': -86.83766109999999}, 'viewport': {'northeast': {'lat': 36.2116155802915, 'lng': -86.83636671970848}, 'southwest': {'lat': 36.2089176197085, 'lng': -86.8390646802915}}}, 'icon': 'https://maps.gstatic.com/mapfiles/place_api/icons/v1/png_71/restaurant-71.png', 'icon_background_color': '#FF9E67', 'icon_mask_base_uri': 'https://maps.gstatic.com/mapfiles/place_api/icons/v2/restaurant_pinlet', 'name': \"Big Mama's Soul Food\", 'opening_hours': {'open_now': False}, 'photos': [{'height': 3024, 'html_attributions': ['<a href=\"https://maps.google.com/maps/contrib/110183418735038505447\">James Mifflin</a>'], 'photo_reference': 'Aap_uECahkz1DM_wceqxRz5svDNu_JQk9Hnt3UICVL4qwoATjnjiPYWu1d_kdsTay4Qbs7TcB_7v0vyS3m9-DKCBsGGj73aIGf3mhGQYLQrwo8KL3J1I__dWt3AbrPABfo7z2XsE0aSqzTmsFsABIy_jZlxVFRgUf30oKAkPAGdyGNt6O6gg', 'width': 4032}], 'place_id': 'ChIJ084osLxgZIgRW1dAKNII9Ks', 'plus_code': {'compound_code': '6566+3W Nashville, TN, USA', 'global_code': '868M6566+3W'}, 'price_level': 1, 'rating': 3.8, 'reference': 'ChIJ084osLxgZIgRW1dAKNII9Ks', 'scope': 'GOOGLE', 'types': ['restaurant', 'food', 'point_of_interest', 'establishment'], 'user_ratings_total': 209, 'vicinity': '3930 Clarksville Pike, Nashville'}, {'business_status': 'OPERATIONAL', 'geometry': {'location': {'lat': 36.2096611, 'lng': -86.83988289999999}, 'viewport': {'northeast': {'lat': 36.21092918029149, 'lng': -86.83822736970849}, 'southwest': {'lat': 36.20823121970849, 'lng': -86.84092533029151}}}, 'icon': 'https://maps.gstatic.com/mapfiles/place_api/icons/v1/png_71/restaurant-71.png', 'icon_background_color': '#FF9E67', 'icon_mask_base_uri': 'https://maps.gstatic.com/mapfiles/place_api/icons/v2/restaurant_pinlet', 'name': \"Lillian and Frank's Restaurant\", 'place_id': 'ChIJ5wqtJr1gZIgR6YUH5mLlwow', 'plus_code': {'compound_code': '6556+V2 Nashville, TN, USA', 'global_code': '868M6556+V2'}, 'rating': 4.8, 'reference': 'ChIJ5wqtJr1gZIgR6YUH5mLlwow', 'scope': 'GOOGLE', 'types': ['restaurant', 'food', 'point_of_interest', 'establishment'], 'user_ratings_total': 5, 'vicinity': '3917 Clarksville Highway, Nashville'}], [{'business_status': 'CLOSED_TEMPORARILY', 'geometry': {'location': {'lat': 36.256853, 'lng': -86.829741}, 'viewport': {'northeast': {'lat': 36.2581922302915, 'lng': -86.82861496970848}, 'southwest': {'lat': 36.2554942697085, 'lng': -86.8313129302915}}}, 'icon': 'https://maps.gstatic.com/mapfiles/place_api/icons/v1/png_71/generic_business-71.png', 'icon_background_color': '#7B9EB0', 'icon_mask_base_uri': 'https://maps.gstatic.com/mapfiles/place_api/icons/v2/generic_pinlet', 'name': 'Fontanel', 'permanently_closed': True, 'photos': [{'height': 1360, 'html_attributions': ['<a href=\"https://maps.google.com/maps/contrib/116486598572866830324\">Fontanel</a>'], 'photo_reference': 'Aap_uEDkHyQuYo9Xy6fPtOe-CZntipRou1yOotSfibvtWe6SbEZsdoVUcvqM9iqXRGNayWbvXzd0ivBpf0aOn0sc8B9unbNb3Cd-gOHdhT8ZBV5PrZlRKIzuC9xwZ8e9ZWz0Q4-4cTtopMLuCNK5Qx9d5w-dwUDRQQLpJXfu6LM_Bx4e7Rrh', 'width': 2048}], 'place_id': 'ChIJl1NZk3xeZIgRCD5--Ypk518', 'plus_code': {'compound_code': '754C+P4 Whites Creek, Nashville, TN, USA', 'global_code': '868M754C+P4'}, 'rating': 4.4, 'reference': 'ChIJl1NZk3xeZIgRCD5--Ypk518', 'scope': 'GOOGLE', 'types': ['lodging', 'park', 'point_of_interest', 'clothing_store', 'store', 'establishment'], 'user_ratings_total': 207, 'vicinity': '4125 Whites Creek Pike, Whites Creek'}, {'business_status': 'OPERATIONAL', 'geometry': {'location': {'lat': 36.2457541, 'lng': -86.8251782}, 'viewport': {'northeast': {'lat': 36.2470884302915, 'lng': -86.8238689697085}, 'southwest': {'lat': 36.24439046970851, 'lng': -86.8265669302915}}}, 'icon': 'https://maps.gstatic.com/mapfiles/place_api/icons/v1/png_71/shopping-71.png', 'icon_background_color': '#4B96F3', 'icon_mask_base_uri': 'https://maps.gstatic.com/mapfiles/place_api/icons/v2/shopping_pinlet', 'name': 'Bates Nursery and Garden Center', 'opening_hours': {'open_now': False}, 'photos': [{'height': 4480, 'html_attributions': ['<a href=\"https://maps.google.com/maps/contrib/109586177224723974853\">Bates Nursery and Garden Center</a>'], 'photo_reference': 'Aap_uEBoKYsqVUfbqKPDJ1dXfyvkVQ8E_Uq2MsHkdlonA_j9rNEWv2_Txku1Dtnw8JKzrhc3sitNh26WQfoKuNXD3PNK0URxrvbJtiFUJxP-UhuutzUIFBLYMFsWVV1wSr9UB-OloQpQGN7X4os1BqRzjSORUQ-GPzI5TChyB1trYBvucBJ9', 'width': 6720}], 'place_id': 'ChIJU2qYYHReZIgRDow7obgXKmc', 'plus_code': {'compound_code': '65WF+8W Nashville, TN, USA', 'global_code': '868M65WF+8W'}, 'rating': 4.8, 'reference': 'ChIJU2qYYHReZIgRDow7obgXKmc', 'scope': 'GOOGLE', 'types': ['general_contractor', 'food', 'point_of_interest', 'store', 'establishment'], 'user_ratings_total': 250, 'vicinity': '3810 Whites Creek Pike, Nashville'}, {'business_status': 'OPERATIONAL', 'geometry': {'location': {'lat': 36.2791794, 'lng': -86.8738971}, 'viewport': {'northeast': {'lat': 36.2805850802915, 'lng': -86.87249131970849}, 'southwest': {'lat': 36.2778871197085, 'lng': -86.8751892802915}}}, 'icon': 'https://maps.gstatic.com/mapfiles/place_api/icons/v1/png_71/shopping-71.png', 'icon_background_color': '#4B96F3', 'icon_mask_base_uri': 'https://maps.gstatic.com/mapfiles/place_api/icons/v2/shopping_pinlet', 'name': 'Dollar General', 'opening_hours': {'open_now': False}, 'photos': [{'height': 1440, 'html_attributions': ['<a href=\"https://maps.google.com/maps/contrib/107338824244957238163\">Jt Schaarsmith</a>'], 'photo_reference': 'Aap_uEA5JNxQ7hY995fco3xFvlc4ZkEMH0Emm6s-pnLen3GMOe1MOe2-fbXycat0K3s_xQpVQTpImZHAgLwuLfS1SKySLak5MMLmZtuobYIRqRiBtOK-10s0lafLN27_K7UoMsv1txaIJrcILWwOjEKagtU70eeVosz8xtEsCgsaXa7eBVut', 'width': 2560}], 'place_id': 'ChIJ0YviFxRfZIgR1Eu0z2MmK3s', 'plus_code': {'compound_code': '74HG+MC Joelton, Nashville, TN, USA', 'global_code': '868M74HG+MC'}, 'price_level': 1, 'rating': 4.2, 'reference': 'ChIJ0YviFxRfZIgR1Eu0z2MmK3s', 'scope': 'GOOGLE', 'types': ['drugstore', 'convenience_store', 'grocery_or_supermarket', 'food', 'health', 'point_of_interest', 'store', 'establishment'], 'user_ratings_total': 246, 'vicinity': '5501 Clarksville Pike, Joelton'}, {'business_status': 'OPERATIONAL', 'geometry': {'location': {'lat': 36.2285232, 'lng': -86.86647789999999}, 'viewport': {'northeast': {'lat': 36.2298721802915, 'lng': -86.8651289197085}, 'southwest': {'lat': 36.2271742197085, 'lng': -86.8678268802915}}}, 'icon': 'https://maps.gstatic.com/mapfiles/place_api/icons/v1/png_71/shopping-71.png', 'icon_background_color': '#4B96F3', 'icon_mask_base_uri': 'https://maps.gstatic.com/mapfiles/place_api/icons/v2/shopping_pinlet', 'name': \"Flowers' Farms\", 'opening_hours': {'open_now': False}, 'photos': [{'height': 1536, 'html_attributions': ['<a href=\"https://maps.google.com/maps/contrib/103414946545038646353\">Flowers&#39; Farms</a>'], 'photo_reference': 'Aap_uEC5Wdk6lRyCmI0p8YgAlkEASzc4kH-UjTUPgF66waR2KOnmt-ynqAZreA43hRDbmRCqfmVVPaMtAtiBWW5aUXktWEF7uBqopTj-0jyCcKX6_Bm3600HEkNHaHFX_uMD2ttgjSU_0RsuIkl9PSljY0lN2kyUjlb39CDk6U70Sc0CaAxz', 'width': 2048}], 'place_id': 'ChIJI68bp9ZfZIgRX1kZ6uwvvB8', 'plus_code': {'compound_code': '64HM+CC Nashville, TN, USA', 'global_code': '868M64HM+CC'}, 'rating': 4.9, 'reference': 'ChIJI68bp9ZfZIgRX1kZ6uwvvB8', 'scope': 'GOOGLE', 'types': ['food', 'point_of_interest', 'store', 'establishment'], 'user_ratings_total': 71, 'vicinity': '4550 Eatons Creek Road, Nashville'}, {'business_status': 'OPERATIONAL', 'geometry': {'location': {'lat': 36.251649, 'lng': -86.8441239}, 'viewport': {'northeast': {'lat': 36.2533492802915, 'lng': -86.84243611970851}, 'southwest': {'lat': 36.2506513197085, 'lng': -86.84513408029152}}}, 'icon': 'https://maps.gstatic.com/mapfiles/place_api/icons/v1/png_71/shopping-71.png', 'icon_background_color': '#4B96F3', 'icon_mask_base_uri': 'https://maps.gstatic.com/mapfiles/place_api/icons/v2/shopping_pinlet', 'name': 'Rebuild America With Music', 'photos': [{'height': 2576, 'html_attributions': ['<a href=\"https://maps.google.com/maps/contrib/105106189283501497428\">Erica Hammond 06</a>'], 'photo_reference': 'Aap_uEB_4hxVRe6vOsDWoNRNY4qpDk4EzjVra-snxeHyzf7UvdIROtzVmaXL_rPwcF0L8y9C-OQl61Yuef9UtO0ykAVl2e0gjVDXNgQaslnqvBbjE5wTAIv-DkdhV1EdaEv5u6b7W41s6T_CfLR18Qfw_R-orlXblWHe2yiW9qPbvTRMTZ5r', 'width': 1932}], 'place_id': 'ChIJVVVVVUVeZIgRgGKa4xviNHw', 'plus_code': {'compound_code': '7524+M9 Whites Creek, Nashville, TN, USA', 'global_code': '868M7524+M9'}, 'rating': 4, 'reference': 'ChIJVVVVVUVeZIgRgGKa4xviNHw', 'scope': 'GOOGLE', 'types': ['art_gallery', 'electronics_store', 'church', 'place_of_worship', 'home_goods_store', 'point_of_interest', 'store', 'establishment'], 'user_ratings_total': 1, 'vicinity': '4913 Clarksville Pike, Whites Creek'}, {'business_status': 'OPERATIONAL', 'geometry': {'location': {'lat': 36.2520693, 'lng': -86.8297597}, 'viewport': {'northeast': {'lat': 36.2534926302915, 'lng': -86.8284251697085}, 'southwest': {'lat': 36.2507946697085, 'lng': -86.8311231302915}}}, 'icon': 'https://maps.gstatic.com/mapfiles/place_api/icons/v1/png_71/gas_station-71.png', 'icon_background_color': '#909CE1', 'icon_mask_base_uri': 'https://maps.gstatic.com/mapfiles/place_api/icons/v2/gas_pinlet', 'name': 'Shell', 'photos': [{'height': 4128, 'html_attributions': ['<a href=\"https://maps.google.com/maps/contrib/117265797567492229445\">Rooster Davis</a>'], 'photo_reference': 'Aap_uEA3jXdXevQlFBiKTqH5G4-gRvEJ05DkclGVFaXB2TWoNXEET1v_keBo8FAadnTE-OuC5DkSwZVgf28CI7o03ir5fhSgk0yKNclafnmmPgO5BsybhApgQsubf34UGWSBIOwqq5X6s7i8EIlAJAe1dFK1zh2HbzPmwyQlFLgI0rZZUnY0', 'width': 3096}], 'place_id': 'ChIJBQHTXnBeZIgR4BxNPRfisdI', 'plus_code': {'compound_code': '752C+R3 Nashville, TN, USA', 'global_code': '868M752C+R3'}, 'price_level': 2, 'rating': 4.1, 'reference': 'ChIJBQHTXnBeZIgR4BxNPRfisdI', 'scope': 'GOOGLE', 'types': ['gas_station', 'atm', 'convenience_store', 'finance', 'restaurant', 'food', 'point_of_interest', 'store', 'establishment'], 'user_ratings_total': 28, 'vicinity': '5470 Buena Vista Pike, Nashville'}, {'business_status': 'OPERATIONAL', 'geometry': {'location': {'lat': 36.24528730000001, 'lng': -86.8283989}, 'viewport': {'northeast': {'lat': 36.2466097302915, 'lng': -86.82727196970849}, 'southwest': {'lat': 36.2439117697085, 'lng': -86.82996993029151}}}, 'icon': 'https://maps.gstatic.com/mapfiles/place_api/icons/v1/png_71/shopping-71.png', 'icon_background_color': '#4B96F3', 'icon_mask_base_uri': 'https://maps.gstatic.com/mapfiles/place_api/icons/v2/shopping_pinlet', 'name': 'Imaginary Records', 'place_id': 'ChIJ_wdvdHNeZIgR7Z379s12PU0', 'plus_code': {'compound_code': '65WC+4J Nashville, TN, USA', 'global_code': '868M65WC+4J'}, 'reference': 'ChIJ_wdvdHNeZIgR7Z379s12PU0', 'scope': 'GOOGLE', 'types': ['electronics_store', 'home_goods_store', 'point_of_interest', 'store', 'establishment'], 'vicinity': '5324 Buena Vista Pike, Nashville'}, {'business_status': 'OPERATIONAL', 'geometry': {'location': {'lat': 36.2188242, 'lng': -86.855677}, 'viewport': {'northeast': {'lat': 36.2201574302915, 'lng': -86.85419561970849}, 'southwest': {'lat': 36.2174594697085, 'lng': -86.8568935802915}}}, 'icon': 'https://maps.gstatic.com/mapfiles/place_api/icons/v1/png_71/shopping-71.png', 'icon_background_color': '#4B96F3', 'icon_mask_base_uri': 'https://maps.gstatic.com/mapfiles/place_api/icons/v2/shopping_pinlet', 'name': 'Protein Picker', 'opening_hours': {'open_now': True}, 'photos': [{'height': 768, 'html_attributions': ['<a href=\"https://maps.google.com/maps/contrib/112505948049431450645\">Protein Picker</a>'], 'photo_reference': 'Aap_uEABhvnnusrvbPdUzZ-6pChlvwsgC6GA_eTuxG67GNmboRLeqhsZ3_KRsUJ8UJEVl_dsvq1iO1fRyvUaZJdo9b9t_mjWcQPSSvZCMb04uvMUDZP2W7aIFESBVwEg-UjO6OU78sbaHIlkAy37le9gYkeqgBDuuGCIwN0Yj0crNIrB8cCS', 'width': 1366}], 'place_id': 'ChIJYdaXtoNgZIgRm10Ny0keEO4', 'plus_code': {'compound_code': '649V+GP Nashville, TN, USA', 'global_code': '868M649V+GP'}, 'reference': 'ChIJYdaXtoNgZIgRm10Ny0keEO4', 'scope': 'GOOGLE', 'types': ['health', 'point_of_interest', 'store', 'establishment'], 'vicinity': '4325 West Hamilton Avenue, Nashville'}, {'business_status': 'OPERATIONAL', 'geometry': {'location': {'lat': 36.2177568, 'lng': -86.84773849999999}, 'viewport': {'northeast': {'lat': 36.2189120302915, 'lng': -86.84636426970849}, 'southwest': {'lat': 36.2162140697085, 'lng': -86.8490622302915}}}, 'icon': 'https://maps.gstatic.com/mapfiles/place_api/icons/v1/png_71/shopping-71.png', 'icon_background_color': '#4B96F3', 'icon_mask_base_uri': 'https://maps.gstatic.com/mapfiles/place_api/icons/v2/shopping_pinlet', 'name': 'Silk Body Creme', 'opening_hours': {'open_now': True}, 'place_id': 'ChIJXeMqI5xgZIgRHzbgCdS4_BA', 'plus_code': {'compound_code': '6592+4W Nashville, TN, USA', 'global_code': '868M6592+4W'}, 'reference': 'ChIJXeMqI5xgZIgRHzbgCdS4_BA', 'scope': 'GOOGLE', 'types': ['store', 'health', 'point_of_interest', 'establishment'], 'vicinity': '3934 Kings Lane, Nashville'}, {'business_status': 'OPERATIONAL', 'geometry': {'location': {'lat': 36.2114599, 'lng': -86.8394071}, 'viewport': {'northeast': {'lat': 36.2126443302915, 'lng': -86.8377576197085}, 'southwest': {'lat': 36.2099463697085, 'lng': -86.84045558029152}}}, 'icon': 'https://maps.gstatic.com/mapfiles/place_api/icons/v1/png_71/shopping-71.png', 'icon_background_color': '#4B96F3', 'icon_mask_base_uri': 'https://maps.gstatic.com/mapfiles/place_api/icons/v2/shopping_pinlet', 'name': 'Family Dollar', 'opening_hours': {'open_now': False}, 'photos': [{'height': 1080, 'html_attributions': ['<a href=\"https://maps.google.com/maps/contrib/101587297628701575481\">Glogic Rodney</a>'], 'photo_reference': 'Aap_uEBq0IZQnrTD1N9wjRgRCgclq9n_QCQzMtQzK1HkPwRiIdPB9DOC3NkxGbraULHUvWoLHHAJQ4o0ZqcZ-rfTYL8YwyLtrxjMW1txMpbFpRHEbLAR1X0L9IXcVU4ErsMSHikLFT0VOg41CPGAkkvaVHzv_TUNM5pbbdCKMX-fDG5ZbYDN', 'width': 1920}], 'place_id': 'ChIJiSb5JaNgZIgRf3sMD_RIH48', 'plus_code': {'compound_code': '6566+H6 Nashville, TN, USA', 'global_code': '868M6566+H6'}, 'price_level': 1, 'rating': 3.7, 'reference': 'ChIJiSb5JaNgZIgRf3sMD_RIH48', 'scope': 'GOOGLE', 'types': ['supermarket', 'grocery_or_supermarket', 'food', 'point_of_interest', 'clothing_store', 'store', 'establishment'], 'user_ratings_total': 100, 'vicinity': '4003 Clarksville Pike, Nashville'}, {'business_status': 'OPERATIONAL', 'geometry': {'location': {'lat': 36.2123479, 'lng': -86.83831289999999}, 'viewport': {'northeast': {'lat': 36.2137179802915, 'lng': -86.83709756970849}, 'southwest': {'lat': 36.2110200197085, 'lng': -86.8397955302915}}}, 'icon': 'https://maps.gstatic.com/mapfiles/place_api/icons/v1/png_71/generic_business-71.png', 'icon_background_color': '#7B9EB0', 'icon_mask_base_uri': 'https://maps.gstatic.com/mapfiles/place_api/icons/v2/generic_pinlet', 'name': \"Cannonball's Covers\", 'opening_hours': {'open_now': False}, 'photos': [{'height': 600, 'html_attributions': ['<a href=\"https://maps.google.com/maps/contrib/112367896679665547340\">Cannonball&#39;s Covers</a>'], 'photo_reference': 'Aap_uECjJHwmoENxnr4lQID756CycBK_gfGNVu4tPITNUAUPVmXG94tfDACShd1A56cWTbz7DmSydJVgUtDsPpJ70ZHC4nRD-7lOYQRniAOAE9efqbxKjQAlILpupNg4Q1j7PFwbv87FBY8xm5Wju95xBiDq4wNe7ySVUnJAqzBfMlflM2-0', 'width': 800}], 'place_id': 'ChIJx7xEqRNhZIgR88m3pGgDrxs', 'plus_code': {'compound_code': '6566+WM Nashville, TN, USA', 'global_code': '868M6566+WM'}, 'rating': 4.6, 'reference': 'ChIJx7xEqRNhZIgR88m3pGgDrxs', 'scope': 'GOOGLE', 'types': ['car_repair', 'furniture_store', 'home_goods_store', 'point_of_interest', 'store', 'establishment'], 'user_ratings_total': 45, 'vicinity': '4010 Clarksville Pike, Nashville'}, {'business_status': 'OPERATIONAL', 'geometry': {'location': {'lat': 36.262196, 'lng': -86.83244599999999}, 'viewport': {'northeast': {'lat': 36.26366773029149, 'lng': -86.8311008197085}, 'southwest': {'lat': 36.2609697697085, 'lng': -86.8337987802915}}}, 'icon': 'https://maps.gstatic.com/mapfiles/place_api/icons/v1/png_71/generic_business-71.png', 'icon_background_color': '#13B5C7', 'icon_mask_base_uri': 'https://maps.gstatic.com/mapfiles/place_api/icons/v2/generic_pinlet', 'name': 'Nashville Guitar Service', 'opening_hours': {'open_now': False}, 'place_id': 'ChIJsWBFVuFlZIgRSvZO5pFi-ZU', 'plus_code': {'compound_code': '7569+V2 Whites Creek, Nashville, TN, USA', 'global_code': '868M7569+V2'}, 'reference': 'ChIJsWBFVuFlZIgRSvZO5pFi-ZU', 'scope': 'GOOGLE', 'types': ['electronics_store', 'home_goods_store', 'point_of_interest', 'store', 'establishment'], 'vicinity': '2621 Houston Lane, Whites Creek'}, {'business_status': 'OPERATIONAL', 'geometry': {'location': {'lat': 36.264939, 'lng': -86.8306429}, 'viewport': {'northeast': {'lat': 36.2662858802915, 'lng': -86.8293806197085}, 'southwest': {'lat': 36.2635879197085, 'lng': -86.83207858029151}}}, 'icon': 'https://maps.gstatic.com/mapfiles/place_api/icons/v1/png_71/shopping-71.png', 'icon_background_color': '#4B96F3', 'icon_mask_base_uri': 'https://maps.gstatic.com/mapfiles/place_api/icons/v2/shopping_pinlet', 'name': 'Vintage Creek Boutique', 'opening_hours': {'open_now': False}, 'photos': [{'height': 3096, 'html_attributions': ['<a href=\"https://maps.google.com/maps/contrib/106685910465334939984\">Christina Taylor</a>'], 'photo_reference': 'Aap_uECb2IVs4oA2yUyAzVEbuN9bPVf3ORcxZhjI4UnwU7uKdDGKJ0OoHC8bDW0L_XHpKKSAgzXyoGPKNzAmCMO_PBhOcUFwcWpxGXi5Yr1Jgtn1jgbq-6CiMJruGVDh00qtputbAj2p1JahxL7LHyyTT5_DSrd6l2tkL0nqQy2Hx20blcCi', 'width': 4128}], 'place_id': 'ChIJGSImDsxnZIgREMY0ROAfffU', 'plus_code': {'compound_code': '7579+XP Whites Creek, Nashville, TN, USA', 'global_code': '868M7579+XP'}, 'rating': 4.5, 'reference': 'ChIJGSImDsxnZIgREMY0ROAfffU', 'scope': 'GOOGLE', 'types': ['point_of_interest', 'clothing_store', 'store', 'establishment'], 'user_ratings_total': 8, 'vicinity': '4409 Whites Creek Pike, Whites Creek'}, {'business_status': 'OPERATIONAL', 'geometry': {'location': {'lat': 36.22456599999999, 'lng': -86.847557}, 'viewport': {'northeast': {'lat': 36.22579118029149, 'lng': -86.8462501197085}, 'southwest': {'lat': 36.2230932197085, 'lng': -86.8489480802915}}}, 'icon': 'https://maps.gstatic.com/mapfiles/place_api/icons/v1/png_71/shopping-71.png', 'icon_background_color': '#4B96F3', 'icon_mask_base_uri': 'https://maps.gstatic.com/mapfiles/place_api/icons/v2/shopping_pinlet', 'name': 'Worldclass Clothing', 'place_id': 'ChIJMT5a1iZeZIgRIcykF7TbnKU', 'plus_code': {'compound_code': '65F2+RX Nashville, TN, USA', 'global_code': '868M65F2+RX'}, 'rating': 5, 'reference': 'ChIJMT5a1iZeZIgRIcykF7TbnKU', 'scope': 'GOOGLE', 'types': ['clothing_store', 'point_of_interest', 'store', 'establishment'], 'user_ratings_total': 1, 'vicinity': '618 Putnam Drive, Nashville'}, {'business_status': 'OPERATIONAL', 'geometry': {'location': {'lat': 36.24516690000001, 'lng': -86.81873139999999}, 'viewport': {'northeast': {'lat': 36.2465628302915, 'lng': -86.81742376970848}, 'southwest': {'lat': 36.2438648697085, 'lng': -86.8201217302915}}}, 'icon': 'https://maps.gstatic.com/mapfiles/place_api/icons/v1/png_71/restaurant-71.png', 'icon_background_color': '#FF9E67', 'icon_mask_base_uri': 'https://maps.gstatic.com/mapfiles/place_api/icons/v2/restaurant_pinlet', 'name': 'Waggity Tails Gourmet Dog Bakery', 'opening_hours': {'open_now': False}, 'photos': [{'height': 4032, 'html_attributions': ['<a href=\"https://maps.google.com/maps/contrib/117224511891644823749\">Michele Burchell</a>'], 'photo_reference': 'Aap_uEBjTC8k5JcnFpRt4wsEvXmbZ6gpw3Jv6SJctqPN77jPjBZ3ezqynJbqgPYAXApsymuRPw4Ns_c_ppkTIm_xljYD4KdCe_4VVXV8si4-JWEEl9F0fPEVdV_HIWUrgBZscBnmWXM868pK1CdXbF9VnkEqnhB6tQTvE8Thporr6XXlnGuy', 'width': 2619}], 'place_id': 'ChIJYb5xxRhdZIgRp97QcDr25bo', 'plus_code': {'compound_code': '65WJ+3G Nashville, TN, USA', 'global_code': '868M65WJ+3G'}, 'rating': 5, 'reference': 'ChIJYb5xxRhdZIgRp97QcDr25bo', 'scope': 'GOOGLE', 'types': ['bakery', 'food', 'point_of_interest', 'store', 'establishment'], 'user_ratings_total': 3, 'vicinity': '400 Parmley Lane, Nashville'}, {'business_status': 'OPERATIONAL', 'geometry': {'location': {'lat': 36.28001499999999, 'lng': -86.8737427}, 'viewport': {'northeast': {'lat': 36.28121313029149, 'lng': -86.87234671970849}, 'southwest': {'lat': 36.2785151697085, 'lng': -86.8750446802915}}}, 'icon': 'https://maps.gstatic.com/mapfiles/place_api/icons/v1/png_71/shopping-71.png', 'icon_background_color': '#4B96F3', 'icon_mask_base_uri': 'https://maps.gstatic.com/mapfiles/place_api/icons/v2/convenience_pinlet', 'name': \"Brenda's Corner Market\", 'opening_hours': {'open_now': True}, 'place_id': 'ChIJj9WJ7RBfZIgRy-u_yZ4TwI8', 'plus_code': {'compound_code': '74JG+2G Joelton, Nashville, TN, USA', 'global_code': '868M74JG+2G'}, 'rating': 3.6, 'reference': 'ChIJj9WJ7RBfZIgRy-u_yZ4TwI8', 'scope': 'GOOGLE', 'types': ['convenience_store', 'gas_station', 'food', 'point_of_interest', 'store', 'establishment'], 'user_ratings_total': 7, 'vicinity': '5500 Clarksville Pike, Joelton'}, {'business_status': 'OPERATIONAL', 'geometry': {'location': {'lat': 36.2803439, 'lng': -86.87642350000002}, 'viewport': {'northeast': {'lat': 36.2818286802915, 'lng': -86.8749560697085}, 'southwest': {'lat': 36.2791307197085, 'lng': -86.87765403029151}}}, 'icon': 'https://maps.gstatic.com/mapfiles/place_api/icons/v1/png_71/shopping-71.png', 'icon_background_color': '#4B96F3', 'icon_mask_base_uri': 'https://maps.gstatic.com/mapfiles/place_api/icons/v2/shoppingcart_pinlet', 'name': \"Tony's Foodland\", 'opening_hours': {'open_now': False}, 'photos': [{'height': 3024, 'html_attributions': ['<a href=\"https://maps.google.com/maps/contrib/110048786034876511024\">Takumi Endo</a>'], 'photo_reference': 'Aap_uECJUHR0IKiGjMR2HzJBU17ubIVT3OGJj7HSagI9cCiaAhE2MSJwSFM3raf4oHxCRcRMlJeaILDLL9ntHQIsMcuZjr0iXX--dhiuZiVtmMZRwdjKZ02hutafvS8cp0EMRhta5iZQPdQrGaefFEfTHbub4_xoGC8482UfM78od7MKbJ8w', 'width': 4032}], 'place_id': 'ChIJuzr30BNfZIgR2FYeg0AAxs8', 'plus_code': {'compound_code': '74JF+4C Joelton, Nashville, TN, USA', 'global_code': '868M74JF+4C'}, 'rating': 4.5, 'reference': 'ChIJuzr30BNfZIgR2FYeg0AAxs8', 'scope': 'GOOGLE', 'types': ['grocery_or_supermarket', 'supermarket', 'food', 'point_of_interest', 'store', 'establishment'], 'user_ratings_total': 651, 'vicinity': '5529 Clarksville Pike #8968, Joelton'}, {'business_status': 'OPERATIONAL', 'geometry': {'location': {'lat': 36.279847, 'lng': -86.873683}, 'viewport': {'northeast': {'lat': 36.2811047302915, 'lng': -86.8724258197085}, 'southwest': {'lat': 36.2784067697085, 'lng': -86.8751237802915}}}, 'icon': 'https://maps.gstatic.com/mapfiles/place_api/icons/v1/png_71/shopping-71.png', 'icon_background_color': '#4B96F3', 'icon_mask_base_uri': 'https://maps.gstatic.com/mapfiles/place_api/icons/v2/convenience_pinlet', 'name': 'Friendly Corner Market', 'opening_hours': {'open_now': True}, 'place_id': 'ChIJR-NF8hBfZIgROM5TeSXZwiQ', 'plus_code': {'compound_code': '74HG+WG Joelton, Nashville, TN, USA', 'global_code': '868M74HG+WG'}, 'rating': 3, 'reference': 'ChIJR-NF8hBfZIgROM5TeSXZwiQ', 'scope': 'GOOGLE', 'types': ['convenience_store', 'gas_station', 'food', 'point_of_interest', 'store', 'establishment'], 'user_ratings_total': 6, 'vicinity': '5500 Clarksville Highway, Joelton'}, {'business_status': 'OPERATIONAL', 'geometry': {'location': {'lat': 36.281107, 'lng': -86.8753224}, 'viewport': {'northeast': {'lat': 36.2823187302915, 'lng': -86.87411941970849}, 'southwest': {'lat': 36.2796207697085, 'lng': -86.8768173802915}}}, 'icon': 'https://maps.gstatic.com/mapfiles/place_api/icons/v1/png_71/shopping-71.png', 'icon_background_color': '#4B96F3', 'icon_mask_base_uri': 'https://maps.gstatic.com/mapfiles/place_api/icons/v2/convenience_pinlet', 'name': \"Smiley's Market\", 'place_id': 'ChIJ4b0ySKNfZIgRIjWcWJv4TZk', 'plus_code': {'compound_code': '74JF+CV Joelton, Nashville, TN, USA', 'global_code': '868M74JF+CV'}, 'rating': 5, 'reference': 'ChIJ4b0ySKNfZIgRIjWcWJv4TZk', 'scope': 'GOOGLE', 'types': ['convenience_store', 'food', 'point_of_interest', 'store', 'establishment'], 'user_ratings_total': 2, 'vicinity': 'Joelton'}, {'business_status': 'OPERATIONAL', 'geometry': {'location': {'lat': 36.2811324, 'lng': -86.8753412}, 'viewport': {'northeast': {'lat': 36.2823405802915, 'lng': -86.87414201970849}, 'southwest': {'lat': 36.2796426197085, 'lng': -86.8768399802915}}}, 'icon': 'https://maps.gstatic.com/mapfiles/place_api/icons/v1/png_71/shopping-71.png', 'icon_background_color': '#4B96F3', 'icon_mask_base_uri': 'https://maps.gstatic.com/mapfiles/place_api/icons/v2/convenience_pinlet', 'name': 'Smily', 'place_id': 'ChIJvWN9qFlfZIgRZTbHBv8SgaY', 'plus_code': {'compound_code': '74JF+FV Joelton, Nashville, TN, USA', 'global_code': '868M74JF+FV'}, 'reference': 'ChIJvWN9qFlfZIgRZTbHBv8SgaY', 'scope': 'GOOGLE', 'types': ['convenience_store', 'food', 'point_of_interest', 'store', 'establishment'], 'vicinity': 'Joelton'}, {'business_status': 'OPERATIONAL', 'geometry': {'location': {'lat': 36.2147131, 'lng': -86.8371263}, 'viewport': {'northeast': {'lat': 36.2160507802915, 'lng': -86.8357795197085}, 'southwest': {'lat': 36.2133528197085, 'lng': -86.8384774802915}}}, 'icon': 'https://maps.gstatic.com/mapfiles/place_api/icons/v1/png_71/shopping-71.png', 'icon_background_color': '#4B96F3', 'icon_mask_base_uri': 'https://maps.gstatic.com/mapfiles/place_api/icons/v2/shopping_pinlet', 'name': 'Dottie Wotties Botique', 'place_id': 'ChIJXUATe7xgZIgRU1rSw7CUs-c', 'plus_code': {'compound_code': '6577+V4 Nashville, TN, USA', 'global_code': '868M6577+V4'}, 'reference': 'ChIJXUATe7xgZIgRU1rSw7CUs-c', 'scope': 'GOOGLE', 'types': ['point_of_interest', 'clothing_store', 'store', 'establishment'], 'vicinity': '3534 West Hamilton Avenue, Nashville'}, {'business_status': 'OPERATIONAL', 'geometry': {'location': {'lat': 36.2812789, 'lng': -86.8757047}, 'viewport': {'northeast': {'lat': 36.28247353029149, 'lng': -86.87434211970849}, 'southwest': {'lat': 36.2797755697085, 'lng': -86.87704008029151}}}, 'icon': 'https://maps.gstatic.com/mapfiles/place_api/icons/v1/png_71/shopping-71.png', 'icon_background_color': '#4B96F3', 'icon_mask_base_uri': 'https://maps.gstatic.com/mapfiles/place_api/icons/v2/shopping_pinlet', 'name': 'Joelton Hardware, Feed and Farmacy', 'opening_hours': {'open_now': True}, 'photos': [{'height': 643, 'html_attributions': ['<a href=\"https://maps.google.com/maps/contrib/106627374824683988983\">American Chau-vin-ist</a>'], 'photo_reference': 'Aap_uEA4PzLx_tBYYcJXMKbthpo4ZSJWaR-mVU4bAgTxkBObYPWdiz6UZUq7kMBCvM6Eca9ppHie5yB-c33X5ZswsPuTx5bHsMqJLYe6grcB6mkn8oiPrXXK0-fMaFWgD6jARlbHD8wTLACVhtJsnlwhoITvchFneGlvnYC0YLzEioUM0pXj', 'width': 1929}], 'place_id': 'ChIJ0YviFxRfZIgRgEU2zs7E4Kg', 'plus_code': {'compound_code': '74JF+GP Joelton, Nashville, TN, USA', 'global_code': '868M74JF+GP'}, 'rating': 4.8, 'reference': 'ChIJ0YviFxRfZIgRgEU2zs7E4Kg', 'scope': 'GOOGLE', 'types': ['hardware_store', 'bar', 'restaurant', 'food', 'point_of_interest', 'store', 'establishment'], 'user_ratings_total': 115, 'vicinity': '5538 Clarksville Pike, Joelton'}, {'business_status': 'OPERATIONAL', 'geometry': {'location': {'lat': 36.21048109999999, 'lng': -86.83760550000001}, 'viewport': {'northeast': {'lat': 36.2118351302915, 'lng': -86.8362974697085}, 'southwest': {'lat': 36.20913716970851, 'lng': -86.8389954302915}}}, 'icon': 'https://maps.gstatic.com/mapfiles/place_api/icons/v1/png_71/shopping-71.png', 'icon_background_color': '#4B96F3', 'icon_mask_base_uri': 'https://maps.gstatic.com/mapfiles/place_api/icons/v2/shopping_pinlet', 'name': \"Smiley's Liquors\", 'opening_hours': {'open_now': True}, 'photos': [{'height': 3024, 'html_attributions': ['<a href=\"https://maps.google.com/maps/contrib/109496137478304014440\">Peter Garbawy</a>'], 'photo_reference': 'Aap_uEBU2yWEsc8s3E67Adarp_Cnu7kmRjQ11hypbZHo63V-6cHhoXA6mRJh2Z9nZ2NP02BpwAsXLKuM-HKFxijTcCoj293crk6bdziRGQrAllXgcpO6tS6jEYfCkiCYbQlENcDi22opAStbA5MxsagiuIFeFgB5iOJxC5lJUFqiwfaAiQKH', 'width': 4032}], 'place_id': 'ChIJ5QIQrbxgZIgR0bPoWRtekTU', 'plus_code': {'compound_code': '6566+5X Nashville, TN, USA', 'global_code': '868M6566+5X'}, 'rating': 4.6, 'reference': 'ChIJ5QIQrbxgZIgR0bPoWRtekTU', 'scope': 'GOOGLE', 'types': ['liquor_store', 'point_of_interest', 'store', 'establishment'], 'user_ratings_total': 104, 'vicinity': '3950 Clarksville Pike, Nashville'}, {'business_status': 'OPERATIONAL', 'geometry': {'location': {'lat': 36.210436, 'lng': -86.837502}, 'viewport': {'northeast': {'lat': 36.2118052302915, 'lng': -86.83624741970849}, 'southwest': {'lat': 36.2091072697085, 'lng': -86.8389453802915}}}, 'icon': 'https://maps.gstatic.com/mapfiles/place_api/icons/v1/png_71/shopping-71.png', 'icon_background_color': '#4B96F3', 'icon_mask_base_uri': 'https://maps.gstatic.com/mapfiles/place_api/icons/v2/shopping_pinlet', 'name': 'Boost Mobile', 'opening_hours': {'open_now': False}, 'photos': [{'height': 3024, 'html_attributions': ['<a href=\"https://maps.google.com/maps/contrib/104746393939350279420\">RA D.</a>'], 'photo_reference': 'Aap_uECh15B9klT-_WsjUpfivXRIvjv5lzDeiceEuBC1_psJ76AhSMrXQIFS4lCCiY1NRAUObA2jML8kSiqkoAywZDdyskEQgPkSIMqk6CPO7wgU7ZaWAmkJhH19dkSUOePoP1gtqECKdp2PWJsAR6Y8d9YjPU7eaap8eJi-BNsQwFx2C9sR', 'width': 4032}], 'place_id': 'ChIJp8_HcLRhZIgRXH4OZp-y5S8', 'plus_code': {'compound_code': '6566+5X Nashville, TN, USA', 'global_code': '868M6566+5X'}, 'rating': 3.7, 'reference': 'ChIJp8_HcLRhZIgRXH4OZp-y5S8', 'scope': 'GOOGLE', 'types': ['point_of_interest', 'store', 'establishment'], 'user_ratings_total': 6, 'vicinity': '3940-B Clarksville Pike, Nashville'}], [], [{'business_status': 'OPERATIONAL', 'geometry': {'location': {'lat': 36.2812789, 'lng': -86.8757047}, 'viewport': {'northeast': {'lat': 36.28247353029149, 'lng': -86.87434211970849}, 'southwest': {'lat': 36.2797755697085, 'lng': -86.87704008029151}}}, 'icon': 'https://maps.gstatic.com/mapfiles/place_api/icons/v1/png_71/shopping-71.png', 'icon_background_color': '#4B96F3', 'icon_mask_base_uri': 'https://maps.gstatic.com/mapfiles/place_api/icons/v2/shopping_pinlet', 'name': 'Joelton Hardware, Feed and Farmacy', 'opening_hours': {'open_now': True}, 'photos': [{'height': 643, 'html_attributions': ['<a href=\"https://maps.google.com/maps/contrib/106627374824683988983\">American Chau-vin-ist</a>'], 'photo_reference': 'Aap_uEDkWEm29P869SbeyHCq3URqe0Updn6MZmGG54UWlp0Oo6NvSXfrDViQB6AxrU9zaszAk6cGuH00YM7pD3IKy3Iy_nKS4XGIemF87vvSK3x7I7FHDqBRxFElkmjXNpG1YJ7jyc1Xs8oDQvXjDt0iUZ2LCX4lp_P29qiD3oAUvpHAT4Bv', 'width': 1929}], 'place_id': 'ChIJ0YviFxRfZIgRgEU2zs7E4Kg', 'plus_code': {'compound_code': '74JF+GP Joelton, Nashville, TN, USA', 'global_code': '868M74JF+GP'}, 'rating': 4.8, 'reference': 'ChIJ0YviFxRfZIgRgEU2zs7E4Kg', 'scope': 'GOOGLE', 'types': ['hardware_store', 'bar', 'restaurant', 'food', 'point_of_interest', 'store', 'establishment'], 'user_ratings_total': 115, 'vicinity': '5538 Clarksville Pike, Joelton'}]]\n"
     ]
    }
   ],
   "source": [
    "print(ct10105)"
   ]
  },
  {
   "cell_type": "code",
   "execution_count": 276,
   "id": "19875966",
   "metadata": {},
   "outputs": [
    {
     "name": "stdout",
     "output_type": "stream",
     "text": [
      "36.2520693\n"
     ]
    }
   ],
   "source": [
    "print(ct10105[0][0]['geometry']['location']['lat'])"
   ]
  },
  {
   "cell_type": "code",
   "execution_count": 277,
   "id": "9e8f845c",
   "metadata": {
    "scrolled": true
   },
   "outputs": [],
   "source": [
    "ct10105_res = []\n",
    "latitude10105 = []\n",
    "longitude10105 = []\n",
    "name10105 = []\n",
    "type10105 = []\n",
    "\n",
    "for list in ct10105:\n",
    "    for element in list:\n",
    "        latitude10105.append(element['geometry']['location']['lat'])\n",
    "        longitude10105.append(element['geometry']['location']['lng'])\n",
    "        name10105.append(element['name'])\n",
    "        type10105.append(element['types'][0])\n",
    "        "
   ]
  },
  {
   "cell_type": "code",
   "execution_count": 278,
   "id": "ea9775e6",
   "metadata": {},
   "outputs": [
    {
     "data": {
      "text/plain": [
       "['Shell',\n",
       " \"Cenex KCK's\",\n",
       " 'Kroger Fuel Center',\n",
       " \"Brenda's Corner Market\",\n",
       " 'Kwik Sak',\n",
       " 'Citgo',\n",
       " 'Friendly Corner Market',\n",
       " 'Family Dollar',\n",
       " \"Tony's Foodland\",\n",
       " 'Nashville',\n",
       " 'Fontanel',\n",
       " 'Carl Black Chevy Woods Amphitheater',\n",
       " 'Whites Creek High School',\n",
       " 'Cedarwood Weddings',\n",
       " 'Bates Nursery and Garden Center',\n",
       " 'Dollar General',\n",
       " 'Beaman Park Nature Center',\n",
       " 'Nashville Public Library Bordeaux Branch',\n",
       " 'Subway',\n",
       " \"Flowers' Farms\",\n",
       " 'UPS Customer Center',\n",
       " 'New Life Apostolic Church',\n",
       " 'JR Construction Tennessee INC.',\n",
       " 'Rebuild America With Music',\n",
       " 'Realm3 Web Applications',\n",
       " 'GES Inc',\n",
       " 'SEE FOAM Insulation',\n",
       " 'Tanksley Tree Service LLC',\n",
       " \"Talbot's Corner\",\n",
       " '2PhoneFree',\n",
       " 'Further Farms',\n",
       " 'Shell',\n",
       " 'Imaginary Records',\n",
       " 'Music City Zips',\n",
       " 'Adventureworks Zipline Forest',\n",
       " 'Pro Care Consulting',\n",
       " 'The Inn At Fontanel',\n",
       " 'JT Equity Group, LLC',\n",
       " 'United States Postal Service',\n",
       " 'First Horizon Bank',\n",
       " 'All Professional Construction',\n",
       " 'Three Generations Home Healthcare',\n",
       " 'Berean Baptist Church',\n",
       " 'Protein Picker',\n",
       " 'Rottweiler Breeder',\n",
       " 'Silk Body Creme',\n",
       " 'Nashville Private Jet Charter Flights',\n",
       " 'Destine Fashions',\n",
       " 'Consolidate Builders',\n",
       " 'Church of Christ at Kings Lane',\n",
       " 'F N A Video Productions',\n",
       " 'Excel Real Estate & Development',\n",
       " 'Harris Fence And Gate Company',\n",
       " \"Cenex KCK's\",\n",
       " 'Cumberland Elementary School',\n",
       " 'Bill Mason - COUNTRY Financial representative',\n",
       " 'Jacob & Rachel Memorial Fund',\n",
       " 'Life Academy Bible College',\n",
       " 'Music City Tru-Line Masonry',\n",
       " 'BUSHIDO DOJO JOELTON',\n",
       " \"Domino's Pizza\",\n",
       " 'JR Construction',\n",
       " 'T&L Taxes',\n",
       " 'Cathedral of Praise Inc',\n",
       " 'Alex Green Elementary School',\n",
       " 'China Spring',\n",
       " 'RL Gant Construction',\n",
       " 'Jordonia United Methodist Church',\n",
       " 'Family Dollar',\n",
       " 'Fontanel',\n",
       " 'Family Dollar',\n",
       " 'Vintage Creek Boutique',\n",
       " 'Worldclass Clothing',\n",
       " 'Dottie Wotties Botique',\n",
       " 'Subway',\n",
       " 'Shell',\n",
       " \"Domino's Pizza\",\n",
       " 'China Spring',\n",
       " 'Kingdom Cafe & Grill',\n",
       " 'Habaneros',\n",
       " \"Goody's Café\",\n",
       " 'Joelton Hardware, Feed and Farmacy',\n",
       " 'Granddaddy’s Famous Hot Chicken',\n",
       " \"Big Mama's Soul Food\",\n",
       " \"Lillian and Frank's Restaurant\",\n",
       " 'Fontanel',\n",
       " 'Bates Nursery and Garden Center',\n",
       " 'Dollar General',\n",
       " \"Flowers' Farms\",\n",
       " 'Rebuild America With Music',\n",
       " 'Shell',\n",
       " 'Imaginary Records',\n",
       " 'Protein Picker',\n",
       " 'Silk Body Creme',\n",
       " 'Family Dollar',\n",
       " \"Cannonball's Covers\",\n",
       " 'Nashville Guitar Service',\n",
       " 'Vintage Creek Boutique',\n",
       " 'Worldclass Clothing',\n",
       " 'Waggity Tails Gourmet Dog Bakery',\n",
       " \"Brenda's Corner Market\",\n",
       " \"Tony's Foodland\",\n",
       " 'Friendly Corner Market',\n",
       " \"Smiley's Market\",\n",
       " 'Smily',\n",
       " 'Dottie Wotties Botique',\n",
       " 'Joelton Hardware, Feed and Farmacy',\n",
       " \"Smiley's Liquors\",\n",
       " 'Boost Mobile',\n",
       " 'Joelton Hardware, Feed and Farmacy']"
      ]
     },
     "execution_count": 278,
     "metadata": {},
     "output_type": "execute_result"
    }
   ],
   "source": [
    "name10105"
   ]
  },
  {
   "cell_type": "code",
   "execution_count": 191,
   "id": "0e345d14",
   "metadata": {},
   "outputs": [],
   "source": [
    "df10105 = pd.DataFrame(list(zip(name10105, type10105, latitude10105, longitude10105)),\n",
    "               columns =['name', 'type', 'latitude', 'longitude'])"
   ]
  },
  {
   "cell_type": "code",
   "execution_count": 192,
   "id": "377b1d07",
   "metadata": {
    "scrolled": true
   },
   "outputs": [
    {
     "data": {
      "text/html": [
       "<div>\n",
       "<style scoped>\n",
       "    .dataframe tbody tr th:only-of-type {\n",
       "        vertical-align: middle;\n",
       "    }\n",
       "\n",
       "    .dataframe tbody tr th {\n",
       "        vertical-align: top;\n",
       "    }\n",
       "\n",
       "    .dataframe thead th {\n",
       "        text-align: right;\n",
       "    }\n",
       "</style>\n",
       "<table border=\"1\" class=\"dataframe\">\n",
       "  <thead>\n",
       "    <tr style=\"text-align: right;\">\n",
       "      <th></th>\n",
       "      <th>name</th>\n",
       "      <th>type</th>\n",
       "      <th>latitude</th>\n",
       "      <th>longitude</th>\n",
       "      <th>tract</th>\n",
       "    </tr>\n",
       "  </thead>\n",
       "  <tbody>\n",
       "    <tr>\n",
       "      <th>0</th>\n",
       "      <td>Family Dollar</td>\n",
       "      <td>supermarket</td>\n",
       "      <td>36.211460</td>\n",
       "      <td>-86.839407</td>\n",
       "      <td>census_tract_10105</td>\n",
       "    </tr>\n",
       "    <tr>\n",
       "      <th>1</th>\n",
       "      <td>Tony's Foodland</td>\n",
       "      <td>grocery_or_supermarket</td>\n",
       "      <td>36.280344</td>\n",
       "      <td>-86.876424</td>\n",
       "      <td>census_tract_10105</td>\n",
       "    </tr>\n",
       "  </tbody>\n",
       "</table>\n",
       "</div>"
      ],
      "text/plain": [
       "              name                    type   latitude  longitude  \\\n",
       "0    Family Dollar             supermarket  36.211460 -86.839407   \n",
       "1  Tony's Foodland  grocery_or_supermarket  36.280344 -86.876424   \n",
       "\n",
       "                tract  \n",
       "0  census_tract_10105  \n",
       "1  census_tract_10105  "
      ]
     },
     "execution_count": 192,
     "metadata": {},
     "output_type": "execute_result"
    }
   ],
   "source": [
    "df10105['tract'] = 'census_tract_10105'\n",
    "df10105"
   ]
  },
  {
   "cell_type": "code",
   "execution_count": 180,
   "id": "057e6b44",
   "metadata": {
    "scrolled": true
   },
   "outputs": [
    {
     "data": {
      "text/html": [
       "<div style=\"width:100%;\"><div style=\"position:relative;width:100%;height:0;padding-bottom:60%;\"><span style=\"color:#565656\">Make this Notebook Trusted to load map: File -> Trust Notebook</span><iframe src=\"about:blank\" style=\"position:absolute;width:100%;height:100%;left:0;top:0;border:none !important;\" data-html=%3C%21DOCTYPE%20html%3E%0A%3Chead%3E%20%20%20%20%0A%20%20%20%20%3Cmeta%20http-equiv%3D%22content-type%22%20content%3D%22text/html%3B%20charset%3DUTF-8%22%20/%3E%0A%20%20%20%20%0A%20%20%20%20%20%20%20%20%3Cscript%3E%0A%20%20%20%20%20%20%20%20%20%20%20%20L_NO_TOUCH%20%3D%20false%3B%0A%20%20%20%20%20%20%20%20%20%20%20%20L_DISABLE_3D%20%3D%20false%3B%0A%20%20%20%20%20%20%20%20%3C/script%3E%0A%20%20%20%20%0A%20%20%20%20%3Cscript%20src%3D%22https%3A//cdn.jsdelivr.net/npm/leaflet%401.6.0/dist/leaflet.js%22%3E%3C/script%3E%0A%20%20%20%20%3Cscript%20src%3D%22https%3A//code.jquery.com/jquery-1.12.4.min.js%22%3E%3C/script%3E%0A%20%20%20%20%3Cscript%20src%3D%22https%3A//maxcdn.bootstrapcdn.com/bootstrap/3.2.0/js/bootstrap.min.js%22%3E%3C/script%3E%0A%20%20%20%20%3Cscript%20src%3D%22https%3A//cdnjs.cloudflare.com/ajax/libs/Leaflet.awesome-markers/2.0.2/leaflet.awesome-markers.js%22%3E%3C/script%3E%0A%20%20%20%20%3Clink%20rel%3D%22stylesheet%22%20href%3D%22https%3A//cdn.jsdelivr.net/npm/leaflet%401.6.0/dist/leaflet.css%22/%3E%0A%20%20%20%20%3Clink%20rel%3D%22stylesheet%22%20href%3D%22https%3A//maxcdn.bootstrapcdn.com/bootstrap/3.2.0/css/bootstrap.min.css%22/%3E%0A%20%20%20%20%3Clink%20rel%3D%22stylesheet%22%20href%3D%22https%3A//maxcdn.bootstrapcdn.com/bootstrap/3.2.0/css/bootstrap-theme.min.css%22/%3E%0A%20%20%20%20%3Clink%20rel%3D%22stylesheet%22%20href%3D%22https%3A//maxcdn.bootstrapcdn.com/font-awesome/4.6.3/css/font-awesome.min.css%22/%3E%0A%20%20%20%20%3Clink%20rel%3D%22stylesheet%22%20href%3D%22https%3A//cdnjs.cloudflare.com/ajax/libs/Leaflet.awesome-markers/2.0.2/leaflet.awesome-markers.css%22/%3E%0A%20%20%20%20%3Clink%20rel%3D%22stylesheet%22%20href%3D%22https%3A//rawcdn.githack.com/python-visualization/folium/master/folium/templates/leaflet.awesome.rotate.css%22/%3E%0A%20%20%20%20%3Cstyle%3Ehtml%2C%20body%20%7Bwidth%3A%20100%25%3Bheight%3A%20100%25%3Bmargin%3A%200%3Bpadding%3A%200%3B%7D%3C/style%3E%0A%20%20%20%20%3Cstyle%3E%23map%20%7Bposition%3Aabsolute%3Btop%3A0%3Bbottom%3A0%3Bright%3A0%3Bleft%3A0%3B%7D%3C/style%3E%0A%20%20%20%20%0A%20%20%20%20%20%20%20%20%20%20%20%20%3Cmeta%20name%3D%22viewport%22%20content%3D%22width%3Ddevice-width%2C%0A%20%20%20%20%20%20%20%20%20%20%20%20%20%20%20%20initial-scale%3D1.0%2C%20maximum-scale%3D1.0%2C%20user-scalable%3Dno%22%20/%3E%0A%20%20%20%20%20%20%20%20%20%20%20%20%3Cstyle%3E%0A%20%20%20%20%20%20%20%20%20%20%20%20%20%20%20%20%23map_b81f2bebe3a049f283262d90afb75ac7%20%7B%0A%20%20%20%20%20%20%20%20%20%20%20%20%20%20%20%20%20%20%20%20position%3A%20relative%3B%0A%20%20%20%20%20%20%20%20%20%20%20%20%20%20%20%20%20%20%20%20width%3A%20100.0%25%3B%0A%20%20%20%20%20%20%20%20%20%20%20%20%20%20%20%20%20%20%20%20height%3A%20100.0%25%3B%0A%20%20%20%20%20%20%20%20%20%20%20%20%20%20%20%20%20%20%20%20left%3A%200.0%25%3B%0A%20%20%20%20%20%20%20%20%20%20%20%20%20%20%20%20%20%20%20%20top%3A%200.0%25%3B%0A%20%20%20%20%20%20%20%20%20%20%20%20%20%20%20%20%7D%0A%20%20%20%20%20%20%20%20%20%20%20%20%3C/style%3E%0A%20%20%20%20%20%20%20%20%0A%3C/head%3E%0A%3Cbody%3E%20%20%20%20%0A%20%20%20%20%0A%20%20%20%20%20%20%20%20%20%20%20%20%3Cdiv%20class%3D%22folium-map%22%20id%3D%22map_b81f2bebe3a049f283262d90afb75ac7%22%20%3E%3C/div%3E%0A%20%20%20%20%20%20%20%20%0A%3C/body%3E%0A%3Cscript%3E%20%20%20%20%0A%20%20%20%20%0A%20%20%20%20%20%20%20%20%20%20%20%20var%20map_b81f2bebe3a049f283262d90afb75ac7%20%3D%20L.map%28%0A%20%20%20%20%20%20%20%20%20%20%20%20%20%20%20%20%22map_b81f2bebe3a049f283262d90afb75ac7%22%2C%0A%20%20%20%20%20%20%20%20%20%20%20%20%20%20%20%20%7B%0A%20%20%20%20%20%20%20%20%20%20%20%20%20%20%20%20%20%20%20%20center%3A%20%5B36.24885%2C%20-86.85388%5D%2C%0A%20%20%20%20%20%20%20%20%20%20%20%20%20%20%20%20%20%20%20%20crs%3A%20L.CRS.EPSG3857%2C%0A%20%20%20%20%20%20%20%20%20%20%20%20%20%20%20%20%20%20%20%20zoom%3A%2010%2C%0A%20%20%20%20%20%20%20%20%20%20%20%20%20%20%20%20%20%20%20%20zoomControl%3A%20true%2C%0A%20%20%20%20%20%20%20%20%20%20%20%20%20%20%20%20%20%20%20%20preferCanvas%3A%20false%2C%0A%20%20%20%20%20%20%20%20%20%20%20%20%20%20%20%20%7D%0A%20%20%20%20%20%20%20%20%20%20%20%20%29%3B%0A%0A%20%20%20%20%20%20%20%20%20%20%20%20%0A%0A%20%20%20%20%20%20%20%20%0A%20%20%20%20%0A%20%20%20%20%20%20%20%20%20%20%20%20var%20tile_layer_beca1e4896b742b7ba2cbc97d0830ae0%20%3D%20L.tileLayer%28%0A%20%20%20%20%20%20%20%20%20%20%20%20%20%20%20%20%22https%3A//%7Bs%7D.tile.openstreetmap.org/%7Bz%7D/%7Bx%7D/%7By%7D.png%22%2C%0A%20%20%20%20%20%20%20%20%20%20%20%20%20%20%20%20%7B%22attribution%22%3A%20%22Data%20by%20%5Cu0026copy%3B%20%5Cu003ca%20href%3D%5C%22http%3A//openstreetmap.org%5C%22%5Cu003eOpenStreetMap%5Cu003c/a%5Cu003e%2C%20under%20%5Cu003ca%20href%3D%5C%22http%3A//www.openstreetmap.org/copyright%5C%22%5Cu003eODbL%5Cu003c/a%5Cu003e.%22%2C%20%22detectRetina%22%3A%20false%2C%20%22maxNativeZoom%22%3A%2018%2C%20%22maxZoom%22%3A%2018%2C%20%22minZoom%22%3A%200%2C%20%22noWrap%22%3A%20false%2C%20%22opacity%22%3A%201%2C%20%22subdomains%22%3A%20%22abc%22%2C%20%22tms%22%3A%20false%7D%0A%20%20%20%20%20%20%20%20%20%20%20%20%29.addTo%28map_b81f2bebe3a049f283262d90afb75ac7%29%3B%0A%20%20%20%20%20%20%20%20%0A%20%20%20%20%0A%20%20%20%20%20%20%20%20%20%20%20%20var%20marker_05804f2a04b14e00ad780d19d0bc68e4%20%3D%20L.marker%28%0A%20%20%20%20%20%20%20%20%20%20%20%20%20%20%20%20%5B36.2520693%2C%20-86.8297597%5D%2C%0A%20%20%20%20%20%20%20%20%20%20%20%20%20%20%20%20%7B%7D%0A%20%20%20%20%20%20%20%20%20%20%20%20%29.addTo%28map_b81f2bebe3a049f283262d90afb75ac7%29%3B%0A%20%20%20%20%20%20%20%20%0A%20%20%20%20%0A%20%20%20%20%20%20%20%20%20%20%20%20marker_05804f2a04b14e00ad780d19d0bc68e4.bindTooltip%28%0A%20%20%20%20%20%20%20%20%20%20%20%20%20%20%20%20%60%3Cdiv%3E%0A%20%20%20%20%20%20%20%20%20%20%20%20%20%20%20%20%20%20%20%20%20%5B%27Shell%27%2C%20%27gas_station%27%5D%0A%20%20%20%20%20%20%20%20%20%20%20%20%20%20%20%20%20%3C/div%3E%60%2C%0A%20%20%20%20%20%20%20%20%20%20%20%20%20%20%20%20%7B%22sticky%22%3A%20true%7D%0A%20%20%20%20%20%20%20%20%20%20%20%20%29%3B%0A%20%20%20%20%20%20%20%20%0A%20%20%20%20%0A%20%20%20%20%20%20%20%20%20%20%20%20var%20marker_db09ee592b6c45ad9e03d1e10b95c7e6%20%3D%20L.marker%28%0A%20%20%20%20%20%20%20%20%20%20%20%20%20%20%20%20%5B36.279847%2C%20-86.873683%5D%2C%0A%20%20%20%20%20%20%20%20%20%20%20%20%20%20%20%20%7B%7D%0A%20%20%20%20%20%20%20%20%20%20%20%20%29.addTo%28map_b81f2bebe3a049f283262d90afb75ac7%29%3B%0A%20%20%20%20%20%20%20%20%0A%20%20%20%20%0A%20%20%20%20%20%20%20%20%20%20%20%20marker_db09ee592b6c45ad9e03d1e10b95c7e6.bindTooltip%28%0A%20%20%20%20%20%20%20%20%20%20%20%20%20%20%20%20%60%3Cdiv%3E%0A%20%20%20%20%20%20%20%20%20%20%20%20%20%20%20%20%20%20%20%20%20%5B%22Cenex%20KCK%27s%22%2C%20%27gas_station%27%5D%0A%20%20%20%20%20%20%20%20%20%20%20%20%20%20%20%20%20%3C/div%3E%60%2C%0A%20%20%20%20%20%20%20%20%20%20%20%20%20%20%20%20%7B%22sticky%22%3A%20true%7D%0A%20%20%20%20%20%20%20%20%20%20%20%20%29%3B%0A%20%20%20%20%20%20%20%20%0A%20%20%20%20%0A%20%20%20%20%20%20%20%20%20%20%20%20var%20marker_07c4376944a04c4ea8416403e4dc9d47%20%3D%20L.marker%28%0A%20%20%20%20%20%20%20%20%20%20%20%20%20%20%20%20%5B36.2106742%2C%20-86.8385638%5D%2C%0A%20%20%20%20%20%20%20%20%20%20%20%20%20%20%20%20%7B%7D%0A%20%20%20%20%20%20%20%20%20%20%20%20%29.addTo%28map_b81f2bebe3a049f283262d90afb75ac7%29%3B%0A%20%20%20%20%20%20%20%20%0A%20%20%20%20%0A%20%20%20%20%20%20%20%20%20%20%20%20marker_07c4376944a04c4ea8416403e4dc9d47.bindTooltip%28%0A%20%20%20%20%20%20%20%20%20%20%20%20%20%20%20%20%60%3Cdiv%3E%0A%20%20%20%20%20%20%20%20%20%20%20%20%20%20%20%20%20%20%20%20%20%5B%27Kroger%20Fuel%20Center%27%2C%20%27gas_station%27%5D%0A%20%20%20%20%20%20%20%20%20%20%20%20%20%20%20%20%20%3C/div%3E%60%2C%0A%20%20%20%20%20%20%20%20%20%20%20%20%20%20%20%20%7B%22sticky%22%3A%20true%7D%0A%20%20%20%20%20%20%20%20%20%20%20%20%29%3B%0A%20%20%20%20%20%20%20%20%0A%20%20%20%20%0A%20%20%20%20%20%20%20%20%20%20%20%20var%20marker_395754c331d54d4c904aa155d261d561%20%3D%20L.marker%28%0A%20%20%20%20%20%20%20%20%20%20%20%20%20%20%20%20%5B36.28001499999999%2C%20-86.8737427%5D%2C%0A%20%20%20%20%20%20%20%20%20%20%20%20%20%20%20%20%7B%7D%0A%20%20%20%20%20%20%20%20%20%20%20%20%29.addTo%28map_b81f2bebe3a049f283262d90afb75ac7%29%3B%0A%20%20%20%20%20%20%20%20%0A%20%20%20%20%0A%20%20%20%20%20%20%20%20%20%20%20%20marker_395754c331d54d4c904aa155d261d561.bindTooltip%28%0A%20%20%20%20%20%20%20%20%20%20%20%20%20%20%20%20%60%3Cdiv%3E%0A%20%20%20%20%20%20%20%20%20%20%20%20%20%20%20%20%20%20%20%20%20%5B%22Brenda%27s%20Corner%20Market%22%2C%20%27convenience_store%27%5D%0A%20%20%20%20%20%20%20%20%20%20%20%20%20%20%20%20%20%3C/div%3E%60%2C%0A%20%20%20%20%20%20%20%20%20%20%20%20%20%20%20%20%7B%22sticky%22%3A%20true%7D%0A%20%20%20%20%20%20%20%20%20%20%20%20%29%3B%0A%20%20%20%20%20%20%20%20%0A%20%20%20%20%0A%20%20%20%20%20%20%20%20%20%20%20%20var%20marker_808bc85fa8e3480b8b94eeddd81c2c3a%20%3D%20L.marker%28%0A%20%20%20%20%20%20%20%20%20%20%20%20%20%20%20%20%5B36.21814%2C%20-86.83669499999999%5D%2C%0A%20%20%20%20%20%20%20%20%20%20%20%20%20%20%20%20%7B%7D%0A%20%20%20%20%20%20%20%20%20%20%20%20%29.addTo%28map_b81f2bebe3a049f283262d90afb75ac7%29%3B%0A%20%20%20%20%20%20%20%20%0A%20%20%20%20%0A%20%20%20%20%20%20%20%20%20%20%20%20marker_808bc85fa8e3480b8b94eeddd81c2c3a.bindTooltip%28%0A%20%20%20%20%20%20%20%20%20%20%20%20%20%20%20%20%60%3Cdiv%3E%0A%20%20%20%20%20%20%20%20%20%20%20%20%20%20%20%20%20%20%20%20%20%5B%27Kwik%20Sak%27%2C%20%27gas_station%27%5D%0A%20%20%20%20%20%20%20%20%20%20%20%20%20%20%20%20%20%3C/div%3E%60%2C%0A%20%20%20%20%20%20%20%20%20%20%20%20%20%20%20%20%7B%22sticky%22%3A%20true%7D%0A%20%20%20%20%20%20%20%20%20%20%20%20%29%3B%0A%20%20%20%20%20%20%20%20%0A%20%20%20%20%0A%20%20%20%20%20%20%20%20%20%20%20%20var%20marker_adcc980acfe9456592c35a021b425753%20%3D%20L.marker%28%0A%20%20%20%20%20%20%20%20%20%20%20%20%20%20%20%20%5B36.2798062%2C%20-86.87368769999999%5D%2C%0A%20%20%20%20%20%20%20%20%20%20%20%20%20%20%20%20%7B%7D%0A%20%20%20%20%20%20%20%20%20%20%20%20%29.addTo%28map_b81f2bebe3a049f283262d90afb75ac7%29%3B%0A%20%20%20%20%20%20%20%20%0A%20%20%20%20%0A%20%20%20%20%20%20%20%20%20%20%20%20marker_adcc980acfe9456592c35a021b425753.bindTooltip%28%0A%20%20%20%20%20%20%20%20%20%20%20%20%20%20%20%20%60%3Cdiv%3E%0A%20%20%20%20%20%20%20%20%20%20%20%20%20%20%20%20%20%20%20%20%20%5B%27Citgo%27%2C%20%27gas_station%27%5D%0A%20%20%20%20%20%20%20%20%20%20%20%20%20%20%20%20%20%3C/div%3E%60%2C%0A%20%20%20%20%20%20%20%20%20%20%20%20%20%20%20%20%7B%22sticky%22%3A%20true%7D%0A%20%20%20%20%20%20%20%20%20%20%20%20%29%3B%0A%20%20%20%20%20%20%20%20%0A%20%20%20%20%0A%20%20%20%20%20%20%20%20%20%20%20%20var%20marker_0ed745fadf3e49afb359d7aadc87ef1e%20%3D%20L.marker%28%0A%20%20%20%20%20%20%20%20%20%20%20%20%20%20%20%20%5B36.279847%2C%20-86.873683%5D%2C%0A%20%20%20%20%20%20%20%20%20%20%20%20%20%20%20%20%7B%7D%0A%20%20%20%20%20%20%20%20%20%20%20%20%29.addTo%28map_b81f2bebe3a049f283262d90afb75ac7%29%3B%0A%20%20%20%20%20%20%20%20%0A%20%20%20%20%0A%20%20%20%20%20%20%20%20%20%20%20%20marker_0ed745fadf3e49afb359d7aadc87ef1e.bindTooltip%28%0A%20%20%20%20%20%20%20%20%20%20%20%20%20%20%20%20%60%3Cdiv%3E%0A%20%20%20%20%20%20%20%20%20%20%20%20%20%20%20%20%20%20%20%20%20%5B%27Friendly%20Corner%20Market%27%2C%20%27convenience_store%27%5D%0A%20%20%20%20%20%20%20%20%20%20%20%20%20%20%20%20%20%3C/div%3E%60%2C%0A%20%20%20%20%20%20%20%20%20%20%20%20%20%20%20%20%7B%22sticky%22%3A%20true%7D%0A%20%20%20%20%20%20%20%20%20%20%20%20%29%3B%0A%20%20%20%20%20%20%20%20%0A%3C/script%3E onload=\"this.contentDocument.open();this.contentDocument.write(    decodeURIComponent(this.getAttribute('data-html')));this.contentDocument.close();\" allowfullscreen webkitallowfullscreen mozallowfullscreen></iframe></div></div>"
      ],
      "text/plain": [
       "<folium.folium.Map at 0x2736c7a6130>"
      ]
     },
     "execution_count": 180,
     "metadata": {},
     "output_type": "execute_result"
    }
   ],
   "source": [
    "test_map = folium.Map([36.24885, -86.85388])\n",
    "for row_index, row_values in df10105.iterrows():\n",
    "    loc = [row_values['latitude'], row_values['longitude']]\n",
    "    tool = [str(row_values['name']), str(row_values['type'])]\n",
    "    \n",
    "    marker = folium.Marker(\n",
    "        location = loc, \n",
    "        tooltip = tool) \n",
    "\n",
    "    marker.add_to(test_map)\n",
    "test_map"
   ]
  },
  {
   "cell_type": "code",
   "execution_count": 100,
   "id": "fd7b75d7",
   "metadata": {},
   "outputs": [],
   "source": [
    "location_10106 = '36.25371, -86.80361'\n",
    "radius_10106 = '4000'"
   ]
  },
  {
   "cell_type": "code",
   "execution_count": 161,
   "id": "f3835d8c",
   "metadata": {},
   "outputs": [
    {
     "data": {
      "text/plain": [
       "8"
      ]
     },
     "execution_count": 161,
     "metadata": {},
     "output_type": "execute_result"
    }
   ],
   "source": [
    "ct10106 = search_places_by_coordinate(location_10106, radius_10106, all_types, api_key)\n",
    "len(ct10106)"
   ]
  },
  {
   "cell_type": "code",
   "execution_count": 231,
   "id": "66ec550d",
   "metadata": {},
   "outputs": [
    {
     "data": {
      "text/plain": [
       "list"
      ]
     },
     "execution_count": 231,
     "metadata": {},
     "output_type": "execute_result"
    }
   ],
   "source": [
    "type(ct10106)"
   ]
  },
  {
   "cell_type": "code",
   "execution_count": 113,
   "id": "b7825df3",
   "metadata": {},
   "outputs": [],
   "source": [
    "test_dict = {location_10105:radius_10105, location_10106:radius_10106}"
   ]
  },
  {
   "cell_type": "code",
   "execution_count": 119,
   "id": "b1e2cb58",
   "metadata": {},
   "outputs": [],
   "source": [
    "test_name = []\n",
    "test_type = []\n",
    "\n",
    "for key, value in test_dict.items():\n",
    "    results_10105_10106 =  search_places_by_coordinate(key, value, all_types, api_key)\n",
    "    for i in results_10105_10106:\n",
    "        test_name.append(i['name'])\n",
    "        test_type.append(i['types'][0])\n"
   ]
  },
  {
   "cell_type": "code",
   "execution_count": 123,
   "id": "350b991b",
   "metadata": {},
   "outputs": [
    {
     "name": "stdout",
     "output_type": "stream",
     "text": [
      "['gas_station', 'gas_station', 'gas_station', 'convenience_store', 'gas_station', 'convenience_store', 'gas_station', 'convenience_store', 'gas_station', 'gas_station', 'convenience_store', 'gas_station', 'convenience_store', 'convenience_store']\n"
     ]
    }
   ],
   "source": [
    "print(test_type)"
   ]
  },
  {
   "cell_type": "code",
   "execution_count": 117,
   "id": "c0c3bb6b",
   "metadata": {
    "scrolled": true
   },
   "outputs": [
    {
     "data": {
      "text/plain": [
       "8"
      ]
     },
     "execution_count": 117,
     "metadata": {},
     "output_type": "execute_result"
    }
   ],
   "source": [
    "len(results_10105_10106)"
   ]
  },
  {
   "cell_type": "markdown",
   "id": "e30a94d0",
   "metadata": {},
   "source": [
    "# Now that I've created the DataFrame for the first census tract, I will do the same for the others"
   ]
  },
  {
   "cell_type": "code",
   "execution_count": 232,
   "id": "65f06140",
   "metadata": {},
   "outputs": [],
   "source": [
    "latitude10106 = []\n",
    "longitude10106 = []\n",
    "name10106 = []\n",
    "type10106 = []\n",
    "\n",
    "for i in ct10106:\n",
    "    latitude10106.append(i['geometry']['location']['lat'])\n",
    "    longitude10106.append(i['geometry']['location']['lng'])\n",
    "    name10106.append(i['name'])\n",
    "    type10106.append(i['types'][0])"
   ]
  },
  {
   "cell_type": "code",
   "execution_count": 233,
   "id": "f181d67c",
   "metadata": {},
   "outputs": [
    {
     "data": {
      "text/plain": [
       "['Shell',\n",
       " 'Tri-Star Energy',\n",
       " 'Shell',\n",
       " 'Citgo',\n",
       " \"TERRY'S\",\n",
       " 'Marathon',\n",
       " 'Little Barn Market',\n",
       " 'A a Mart']"
      ]
     },
     "execution_count": 233,
     "metadata": {},
     "output_type": "execute_result"
    }
   ],
   "source": [
    "name10106"
   ]
  },
  {
   "cell_type": "code",
   "execution_count": 140,
   "id": "0151cd5b",
   "metadata": {},
   "outputs": [],
   "source": [
    "df10106 = pd.DataFrame(list(zip(name10106, type10106, latitude10106, longitude10106)),\n",
    "               columns =['name', 'type', 'latitude', 'longitude'])"
   ]
  },
  {
   "cell_type": "code",
   "execution_count": 141,
   "id": "12d13d90",
   "metadata": {
    "scrolled": true
   },
   "outputs": [
    {
     "data": {
      "text/html": [
       "<div>\n",
       "<style scoped>\n",
       "    .dataframe tbody tr th:only-of-type {\n",
       "        vertical-align: middle;\n",
       "    }\n",
       "\n",
       "    .dataframe tbody tr th {\n",
       "        vertical-align: top;\n",
       "    }\n",
       "\n",
       "    .dataframe thead th {\n",
       "        text-align: right;\n",
       "    }\n",
       "</style>\n",
       "<table border=\"1\" class=\"dataframe\">\n",
       "  <thead>\n",
       "    <tr style=\"text-align: right;\">\n",
       "      <th></th>\n",
       "      <th>name</th>\n",
       "      <th>type</th>\n",
       "      <th>latitude</th>\n",
       "      <th>longitude</th>\n",
       "      <th>tract</th>\n",
       "    </tr>\n",
       "  </thead>\n",
       "  <tbody>\n",
       "    <tr>\n",
       "      <th>0</th>\n",
       "      <td>Shell</td>\n",
       "      <td>gas_station</td>\n",
       "      <td>36.252069</td>\n",
       "      <td>-86.829760</td>\n",
       "      <td>census_tract_10106</td>\n",
       "    </tr>\n",
       "    <tr>\n",
       "      <th>1</th>\n",
       "      <td>Tri-Star Energy</td>\n",
       "      <td>convenience_store</td>\n",
       "      <td>36.276629</td>\n",
       "      <td>-86.795924</td>\n",
       "      <td>census_tract_10106</td>\n",
       "    </tr>\n",
       "    <tr>\n",
       "      <th>2</th>\n",
       "      <td>Shell</td>\n",
       "      <td>gas_station</td>\n",
       "      <td>36.277810</td>\n",
       "      <td>-86.796850</td>\n",
       "      <td>census_tract_10106</td>\n",
       "    </tr>\n",
       "    <tr>\n",
       "      <th>3</th>\n",
       "      <td>Citgo</td>\n",
       "      <td>gas_station</td>\n",
       "      <td>36.232554</td>\n",
       "      <td>-86.781664</td>\n",
       "      <td>census_tract_10106</td>\n",
       "    </tr>\n",
       "    <tr>\n",
       "      <th>4</th>\n",
       "      <td>TERRY'S</td>\n",
       "      <td>convenience_store</td>\n",
       "      <td>36.232562</td>\n",
       "      <td>-86.781676</td>\n",
       "      <td>census_tract_10106</td>\n",
       "    </tr>\n",
       "    <tr>\n",
       "      <th>5</th>\n",
       "      <td>Marathon</td>\n",
       "      <td>gas_station</td>\n",
       "      <td>36.276661</td>\n",
       "      <td>-86.795952</td>\n",
       "      <td>census_tract_10106</td>\n",
       "    </tr>\n",
       "    <tr>\n",
       "      <th>6</th>\n",
       "      <td>Little Barn Market</td>\n",
       "      <td>convenience_store</td>\n",
       "      <td>36.231354</td>\n",
       "      <td>-86.781349</td>\n",
       "      <td>census_tract_10106</td>\n",
       "    </tr>\n",
       "    <tr>\n",
       "      <th>7</th>\n",
       "      <td>A a Mart</td>\n",
       "      <td>convenience_store</td>\n",
       "      <td>36.218555</td>\n",
       "      <td>-86.804160</td>\n",
       "      <td>census_tract_10106</td>\n",
       "    </tr>\n",
       "  </tbody>\n",
       "</table>\n",
       "</div>"
      ],
      "text/plain": [
       "                 name               type   latitude  longitude  \\\n",
       "0               Shell        gas_station  36.252069 -86.829760   \n",
       "1     Tri-Star Energy  convenience_store  36.276629 -86.795924   \n",
       "2               Shell        gas_station  36.277810 -86.796850   \n",
       "3               Citgo        gas_station  36.232554 -86.781664   \n",
       "4             TERRY'S  convenience_store  36.232562 -86.781676   \n",
       "5            Marathon        gas_station  36.276661 -86.795952   \n",
       "6  Little Barn Market  convenience_store  36.231354 -86.781349   \n",
       "7            A a Mart  convenience_store  36.218555 -86.804160   \n",
       "\n",
       "                tract  \n",
       "0  census_tract_10106  \n",
       "1  census_tract_10106  \n",
       "2  census_tract_10106  \n",
       "3  census_tract_10106  \n",
       "4  census_tract_10106  \n",
       "5  census_tract_10106  \n",
       "6  census_tract_10106  \n",
       "7  census_tract_10106  "
      ]
     },
     "execution_count": 141,
     "metadata": {},
     "output_type": "execute_result"
    }
   ],
   "source": [
    "df10106['tract'] = 'census_tract_10106'\n",
    "df10106"
   ]
  },
  {
   "cell_type": "code",
   "execution_count": 142,
   "id": "735d1e10",
   "metadata": {},
   "outputs": [],
   "source": [
    "location_10903 = '36.24932, -86.76382'\n",
    "radius_10903 = '2716'"
   ]
  },
  {
   "cell_type": "code",
   "execution_count": 162,
   "id": "ee9dbf40",
   "metadata": {},
   "outputs": [
    {
     "data": {
      "text/plain": [
       "11"
      ]
     },
     "execution_count": 162,
     "metadata": {},
     "output_type": "execute_result"
    }
   ],
   "source": [
    "ct10903 = search_places_by_coordinate(location_10903, radius_10903, all_types, api_key)\n",
    "len(ct10903)"
   ]
  },
  {
   "cell_type": "code",
   "execution_count": 163,
   "id": "7a4bd382",
   "metadata": {},
   "outputs": [],
   "source": [
    "latitude10903 = []\n",
    "longitude10903 = []\n",
    "name10903 = []\n",
    "type10903 = []\n",
    "\n",
    "for i in ct10903:\n",
    "    latitude10903.append(i['geometry']['location']['lat'])\n",
    "    longitude10903.append(i['geometry']['location']['lng'])\n",
    "    name10903.append(i['name'])\n",
    "    type10903.append(i['types'][0])"
   ]
  },
  {
   "cell_type": "code",
   "execution_count": 164,
   "id": "ce760506",
   "metadata": {},
   "outputs": [
    {
     "data": {
      "text/plain": [
       "['Exxon',\n",
       " 'MAPCO',\n",
       " 'Shell',\n",
       " 'Citgo',\n",
       " 'Shell',\n",
       " 'Murphy Express',\n",
       " 'Exxon',\n",
       " 'Saint George Market',\n",
       " 'Dickerson Road Citgo',\n",
       " \"TERRY'S\",\n",
       " 'Little Barn Market']"
      ]
     },
     "execution_count": 164,
     "metadata": {},
     "output_type": "execute_result"
    }
   ],
   "source": [
    "name10903"
   ]
  },
  {
   "cell_type": "code",
   "execution_count": 165,
   "id": "e4d48019",
   "metadata": {},
   "outputs": [],
   "source": [
    "df10903 = pd.DataFrame(list(zip(name10903, type10903, latitude10903, longitude10903)),\n",
    "               columns =['name', 'type', 'latitude', 'longitude'])"
   ]
  },
  {
   "cell_type": "code",
   "execution_count": 166,
   "id": "2ea8bab1",
   "metadata": {
    "scrolled": false
   },
   "outputs": [
    {
     "data": {
      "text/html": [
       "<div>\n",
       "<style scoped>\n",
       "    .dataframe tbody tr th:only-of-type {\n",
       "        vertical-align: middle;\n",
       "    }\n",
       "\n",
       "    .dataframe tbody tr th {\n",
       "        vertical-align: top;\n",
       "    }\n",
       "\n",
       "    .dataframe thead th {\n",
       "        text-align: right;\n",
       "    }\n",
       "</style>\n",
       "<table border=\"1\" class=\"dataframe\">\n",
       "  <thead>\n",
       "    <tr style=\"text-align: right;\">\n",
       "      <th></th>\n",
       "      <th>name</th>\n",
       "      <th>type</th>\n",
       "      <th>latitude</th>\n",
       "      <th>longitude</th>\n",
       "      <th>tract</th>\n",
       "    </tr>\n",
       "  </thead>\n",
       "  <tbody>\n",
       "    <tr>\n",
       "      <th>0</th>\n",
       "      <td>Exxon</td>\n",
       "      <td>gas_station</td>\n",
       "      <td>36.262900</td>\n",
       "      <td>-86.757836</td>\n",
       "      <td>census_tract_10903</td>\n",
       "    </tr>\n",
       "    <tr>\n",
       "      <th>1</th>\n",
       "      <td>MAPCO</td>\n",
       "      <td>gas_station</td>\n",
       "      <td>36.229043</td>\n",
       "      <td>-86.758997</td>\n",
       "      <td>census_tract_10903</td>\n",
       "    </tr>\n",
       "    <tr>\n",
       "      <th>2</th>\n",
       "      <td>Shell</td>\n",
       "      <td>gas_station</td>\n",
       "      <td>36.268857</td>\n",
       "      <td>-86.755242</td>\n",
       "      <td>census_tract_10903</td>\n",
       "    </tr>\n",
       "    <tr>\n",
       "      <th>3</th>\n",
       "      <td>Citgo</td>\n",
       "      <td>gas_station</td>\n",
       "      <td>36.232554</td>\n",
       "      <td>-86.781664</td>\n",
       "      <td>census_tract_10903</td>\n",
       "    </tr>\n",
       "    <tr>\n",
       "      <th>4</th>\n",
       "      <td>Shell</td>\n",
       "      <td>gas_station</td>\n",
       "      <td>36.242914</td>\n",
       "      <td>-86.736170</td>\n",
       "      <td>census_tract_10903</td>\n",
       "    </tr>\n",
       "    <tr>\n",
       "      <th>5</th>\n",
       "      <td>Murphy Express</td>\n",
       "      <td>gas_station</td>\n",
       "      <td>36.243486</td>\n",
       "      <td>-86.757311</td>\n",
       "      <td>census_tract_10903</td>\n",
       "    </tr>\n",
       "    <tr>\n",
       "      <th>6</th>\n",
       "      <td>Exxon</td>\n",
       "      <td>gas_station</td>\n",
       "      <td>36.232835</td>\n",
       "      <td>-86.759098</td>\n",
       "      <td>census_tract_10903</td>\n",
       "    </tr>\n",
       "    <tr>\n",
       "      <th>7</th>\n",
       "      <td>Saint George Market</td>\n",
       "      <td>gas_station</td>\n",
       "      <td>36.231935</td>\n",
       "      <td>-86.758394</td>\n",
       "      <td>census_tract_10903</td>\n",
       "    </tr>\n",
       "    <tr>\n",
       "      <th>8</th>\n",
       "      <td>Dickerson Road Citgo</td>\n",
       "      <td>gas_station</td>\n",
       "      <td>36.229185</td>\n",
       "      <td>-86.759641</td>\n",
       "      <td>census_tract_10903</td>\n",
       "    </tr>\n",
       "    <tr>\n",
       "      <th>9</th>\n",
       "      <td>TERRY'S</td>\n",
       "      <td>convenience_store</td>\n",
       "      <td>36.232562</td>\n",
       "      <td>-86.781676</td>\n",
       "      <td>census_tract_10903</td>\n",
       "    </tr>\n",
       "    <tr>\n",
       "      <th>10</th>\n",
       "      <td>Little Barn Market</td>\n",
       "      <td>convenience_store</td>\n",
       "      <td>36.231354</td>\n",
       "      <td>-86.781349</td>\n",
       "      <td>census_tract_10903</td>\n",
       "    </tr>\n",
       "  </tbody>\n",
       "</table>\n",
       "</div>"
      ],
      "text/plain": [
       "                    name               type   latitude  longitude  \\\n",
       "0                  Exxon        gas_station  36.262900 -86.757836   \n",
       "1                  MAPCO        gas_station  36.229043 -86.758997   \n",
       "2                  Shell        gas_station  36.268857 -86.755242   \n",
       "3                  Citgo        gas_station  36.232554 -86.781664   \n",
       "4                  Shell        gas_station  36.242914 -86.736170   \n",
       "5         Murphy Express        gas_station  36.243486 -86.757311   \n",
       "6                  Exxon        gas_station  36.232835 -86.759098   \n",
       "7    Saint George Market        gas_station  36.231935 -86.758394   \n",
       "8   Dickerson Road Citgo        gas_station  36.229185 -86.759641   \n",
       "9                TERRY'S  convenience_store  36.232562 -86.781676   \n",
       "10    Little Barn Market  convenience_store  36.231354 -86.781349   \n",
       "\n",
       "                 tract  \n",
       "0   census_tract_10903  \n",
       "1   census_tract_10903  \n",
       "2   census_tract_10903  \n",
       "3   census_tract_10903  \n",
       "4   census_tract_10903  \n",
       "5   census_tract_10903  \n",
       "6   census_tract_10903  \n",
       "7   census_tract_10903  \n",
       "8   census_tract_10903  \n",
       "9   census_tract_10903  \n",
       "10  census_tract_10903  "
      ]
     },
     "execution_count": 166,
     "metadata": {},
     "output_type": "execute_result"
    }
   ],
   "source": [
    "df10903['tract'] = 'census_tract_10903'\n",
    "df10903"
   ]
  },
  {
   "cell_type": "code",
   "execution_count": 167,
   "id": "a9db735c",
   "metadata": {},
   "outputs": [],
   "source": [
    "location_10904 = '36.23431, -86.77321'\n",
    "radius_10904 = '2203'"
   ]
  },
  {
   "cell_type": "code",
   "execution_count": 168,
   "id": "81429cd6",
   "metadata": {},
   "outputs": [
    {
     "data": {
      "text/plain": [
       "10"
      ]
     },
     "execution_count": 168,
     "metadata": {},
     "output_type": "execute_result"
    }
   ],
   "source": [
    "ct10904 = search_places_by_coordinate(location_10904, radius_10904, all_types, api_key)\n",
    "len(ct10904)"
   ]
  },
  {
   "cell_type": "code",
   "execution_count": 169,
   "id": "10d31562",
   "metadata": {},
   "outputs": [],
   "source": [
    "latitude10904 = []\n",
    "longitude10904 = []\n",
    "name10904 = []\n",
    "type10904 = []\n",
    "\n",
    "for i in ct10904:\n",
    "    latitude10904.append(i['geometry']['location']['lat'])\n",
    "    longitude10904.append(i['geometry']['location']['lng'])\n",
    "    name10904.append(i['name'])\n",
    "    type10904.append(i['types'][0])"
   ]
  },
  {
   "cell_type": "code",
   "execution_count": 170,
   "id": "4d6ed30a",
   "metadata": {
    "scrolled": true
   },
   "outputs": [
    {
     "data": {
      "text/plain": [
       "['MAPCO',\n",
       " 'Citgo',\n",
       " 'MAPCO Mart',\n",
       " 'Murphy Express',\n",
       " \"TERRY'S\",\n",
       " 'Little Barn Market',\n",
       " 'Exxon',\n",
       " 'Dickerson Road Citgo',\n",
       " 'Saint George Market',\n",
       " 'G dragon mart']"
      ]
     },
     "execution_count": 170,
     "metadata": {},
     "output_type": "execute_result"
    }
   ],
   "source": [
    "name10904"
   ]
  },
  {
   "cell_type": "code",
   "execution_count": 181,
   "id": "2b334d20",
   "metadata": {},
   "outputs": [],
   "source": [
    "df10904 = pd.DataFrame(list(zip(name10904, type10904, latitude10904, longitude10904)),\n",
    "               columns =['name', 'type', 'latitude', 'longitude'])"
   ]
  },
  {
   "cell_type": "code",
   "execution_count": 182,
   "id": "7275e518",
   "metadata": {},
   "outputs": [
    {
     "data": {
      "text/html": [
       "<div>\n",
       "<style scoped>\n",
       "    .dataframe tbody tr th:only-of-type {\n",
       "        vertical-align: middle;\n",
       "    }\n",
       "\n",
       "    .dataframe tbody tr th {\n",
       "        vertical-align: top;\n",
       "    }\n",
       "\n",
       "    .dataframe thead th {\n",
       "        text-align: right;\n",
       "    }\n",
       "</style>\n",
       "<table border=\"1\" class=\"dataframe\">\n",
       "  <thead>\n",
       "    <tr style=\"text-align: right;\">\n",
       "      <th></th>\n",
       "      <th>name</th>\n",
       "      <th>type</th>\n",
       "      <th>latitude</th>\n",
       "      <th>longitude</th>\n",
       "      <th>tract</th>\n",
       "    </tr>\n",
       "  </thead>\n",
       "  <tbody>\n",
       "    <tr>\n",
       "      <th>0</th>\n",
       "      <td>MAPCO</td>\n",
       "      <td>gas_station</td>\n",
       "      <td>36.229043</td>\n",
       "      <td>-86.758997</td>\n",
       "      <td>census_tract_10904</td>\n",
       "    </tr>\n",
       "    <tr>\n",
       "      <th>1</th>\n",
       "      <td>Citgo</td>\n",
       "      <td>gas_station</td>\n",
       "      <td>36.232554</td>\n",
       "      <td>-86.781664</td>\n",
       "      <td>census_tract_10904</td>\n",
       "    </tr>\n",
       "    <tr>\n",
       "      <th>2</th>\n",
       "      <td>MAPCO Mart</td>\n",
       "      <td>gas_station</td>\n",
       "      <td>36.218611</td>\n",
       "      <td>-86.762394</td>\n",
       "      <td>census_tract_10904</td>\n",
       "    </tr>\n",
       "    <tr>\n",
       "      <th>3</th>\n",
       "      <td>Murphy Express</td>\n",
       "      <td>gas_station</td>\n",
       "      <td>36.243486</td>\n",
       "      <td>-86.757311</td>\n",
       "      <td>census_tract_10904</td>\n",
       "    </tr>\n",
       "    <tr>\n",
       "      <th>4</th>\n",
       "      <td>TERRY'S</td>\n",
       "      <td>convenience_store</td>\n",
       "      <td>36.232562</td>\n",
       "      <td>-86.781676</td>\n",
       "      <td>census_tract_10904</td>\n",
       "    </tr>\n",
       "    <tr>\n",
       "      <th>5</th>\n",
       "      <td>Little Barn Market</td>\n",
       "      <td>convenience_store</td>\n",
       "      <td>36.231354</td>\n",
       "      <td>-86.781349</td>\n",
       "      <td>census_tract_10904</td>\n",
       "    </tr>\n",
       "    <tr>\n",
       "      <th>6</th>\n",
       "      <td>Exxon</td>\n",
       "      <td>gas_station</td>\n",
       "      <td>36.232835</td>\n",
       "      <td>-86.759098</td>\n",
       "      <td>census_tract_10904</td>\n",
       "    </tr>\n",
       "    <tr>\n",
       "      <th>7</th>\n",
       "      <td>Dickerson Road Citgo</td>\n",
       "      <td>gas_station</td>\n",
       "      <td>36.229185</td>\n",
       "      <td>-86.759641</td>\n",
       "      <td>census_tract_10904</td>\n",
       "    </tr>\n",
       "    <tr>\n",
       "      <th>8</th>\n",
       "      <td>Saint George Market</td>\n",
       "      <td>gas_station</td>\n",
       "      <td>36.231935</td>\n",
       "      <td>-86.758394</td>\n",
       "      <td>census_tract_10904</td>\n",
       "    </tr>\n",
       "    <tr>\n",
       "      <th>9</th>\n",
       "      <td>G dragon mart</td>\n",
       "      <td>gas_station</td>\n",
       "      <td>36.216211</td>\n",
       "      <td>-86.763359</td>\n",
       "      <td>census_tract_10904</td>\n",
       "    </tr>\n",
       "  </tbody>\n",
       "</table>\n",
       "</div>"
      ],
      "text/plain": [
       "                   name               type   latitude  longitude  \\\n",
       "0                 MAPCO        gas_station  36.229043 -86.758997   \n",
       "1                 Citgo        gas_station  36.232554 -86.781664   \n",
       "2            MAPCO Mart        gas_station  36.218611 -86.762394   \n",
       "3        Murphy Express        gas_station  36.243486 -86.757311   \n",
       "4               TERRY'S  convenience_store  36.232562 -86.781676   \n",
       "5    Little Barn Market  convenience_store  36.231354 -86.781349   \n",
       "6                 Exxon        gas_station  36.232835 -86.759098   \n",
       "7  Dickerson Road Citgo        gas_station  36.229185 -86.759641   \n",
       "8   Saint George Market        gas_station  36.231935 -86.758394   \n",
       "9         G dragon mart        gas_station  36.216211 -86.763359   \n",
       "\n",
       "                tract  \n",
       "0  census_tract_10904  \n",
       "1  census_tract_10904  \n",
       "2  census_tract_10904  \n",
       "3  census_tract_10904  \n",
       "4  census_tract_10904  \n",
       "5  census_tract_10904  \n",
       "6  census_tract_10904  \n",
       "7  census_tract_10904  \n",
       "8  census_tract_10904  \n",
       "9  census_tract_10904  "
      ]
     },
     "execution_count": 182,
     "metadata": {},
     "output_type": "execute_result"
    }
   ],
   "source": [
    "df10904['tract'] = 'census_tract_10904'\n",
    "df10904"
   ]
  },
  {
   "cell_type": "code",
   "execution_count": null,
   "id": "21fea3ed",
   "metadata": {},
   "outputs": [],
   "source": [
    "location_11001 = '36.23431, -86.77321'\n",
    "radius_11001 = '2203'"
   ]
  }
 ],
 "metadata": {
  "kernelspec": {
   "display_name": "Python 3 (ipykernel)",
   "language": "python",
   "name": "python3"
  },
  "language_info": {
   "codemirror_mode": {
    "name": "ipython",
    "version": 3
   },
   "file_extension": ".py",
   "mimetype": "text/x-python",
   "name": "python",
   "nbconvert_exporter": "python",
   "pygments_lexer": "ipython3",
   "version": "3.8.5"
  }
 },
 "nbformat": 4,
 "nbformat_minor": 5
}
