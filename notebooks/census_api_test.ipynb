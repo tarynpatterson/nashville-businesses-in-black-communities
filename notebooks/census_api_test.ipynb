{
 "cells": [
  {
   "cell_type": "code",
   "execution_count": 2,
   "id": "a4b681e9",
   "metadata": {},
   "outputs": [],
   "source": [
    "import pandas as pd\n",
    "import census\n",
    "import requests"
   ]
  },
  {
   "cell_type": "markdown",
   "id": "7fb7479f",
   "metadata": {},
   "source": [
    "Get API Key"
   ]
  },
  {
   "cell_type": "code",
   "execution_count": 3,
   "id": "fda22b61",
   "metadata": {},
   "outputs": [],
   "source": [
    "hidden = pd.read_pickle('../data/API_key.pkl')\n",
    "api_key = hidden.loc[2][1]"
   ]
  }
 ],
 "metadata": {
  "kernelspec": {
   "display_name": "Python 3 (ipykernel)",
   "language": "python",
   "name": "python3"
  },
  "language_info": {
   "codemirror_mode": {
    "name": "ipython",
    "version": 3
   },
   "file_extension": ".py",
   "mimetype": "text/x-python",
   "name": "python",
   "nbconvert_exporter": "python",
   "pygments_lexer": "ipython3",
   "version": "3.8.5"
  }
 },
 "nbformat": 4,
 "nbformat_minor": 5
}
