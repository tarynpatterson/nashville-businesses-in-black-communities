{
 "cells": [
  {
   "cell_type": "markdown",
   "metadata": {},
   "source": [
    "# Use Google API to find various stores in Davidson County"
   ]
  },
  {
   "cell_type": "code",
   "execution_count": 1,
   "metadata": {},
   "outputs": [],
   "source": [
    "import requests\n",
    "import json\n",
    "import time\n",
    "import pickle\n",
    "import folium\n",
    "import geopandas as gpd\n",
    "import matplotlib.pyplot as plt\n",
    "import numpy as np\n",
    "from shapely.geometry import Polygon\n",
    "# import censusdata\n",
    "import pandas as pd\n",
    "import math\n",
    "from sklearn.metrics.pairwise import haversine_distances\n",
    "from sklearn.cluster import AgglomerativeClustering\n",
    "from bs4 import BeautifulSoup as BS\n",
    "import ast\n",
    "from itertools import combinations\n",
    "from collections import Counter\n",
    "#from scipy.cluster.hierarchy \n",
    "\n",
    "%matplotlib inline"
   ]
  },
  {
   "cell_type": "markdown",
   "metadata": {},
   "source": [
    "## The Google `nearbysearch` api endpoint returns locations of various `types` within a `radius` centered on a lat/lng coordinate `location`\n",
    "## We can use this to find locations that may be relevant to identifying food deserts"
   ]
  },
  {
   "cell_type": "markdown",
   "metadata": {},
   "source": [
    "Google API key is stored in a separate file for security"
   ]
  },
  {
   "cell_type": "code",
   "execution_count": 2,
   "metadata": {},
   "outputs": [],
   "source": [
    "hidden = pd.read_pickle('../data/API_key.pkl')\n",
    "api_key = hidden.loc[0][1]"
   ]
  },
  {
   "cell_type": "markdown",
   "metadata": {},
   "source": [
    "Set default values to use for testing and later use"
   ]
  },
  {
   "cell_type": "code",
   "execution_count": 3,
   "metadata": {},
   "outputs": [],
   "source": [
    "location = '36.1612, -86.7775' # lat, lng as a string\n",
    "radius = '32200' # in meters, 20 miles, approximate distance from Davidson center to furthest edge\n",
    "types = 'grocery_or_supermarket' # select single store type as a test case"
   ]
  },
  {
   "cell_type": "code",
   "execution_count": 4,
   "metadata": {},
   "outputs": [],
   "source": [
    "all_types = ['bakery',\n",
    "             'convenience_store',\n",
    "             'department_store',\n",
    "             'drugstore',\n",
    "             'gas_station',\n",
    "             'grocery_or_supermarket',\n",
    "             'home_goods_store',\n",
    "             'supermarket',\n",
    "             'pharmacy']\n",
    "# additional types are 'store' and 'shopping_mall'"
   ]
  },
  {
   "cell_type": "markdown",
   "metadata": {},
   "source": [
    "This is the function that will do the heavy lifting of preparing and making the request"
   ]
  },
  {
   "cell_type": "code",
   "execution_count": 5,
   "metadata": {},
   "outputs": [],
   "source": [
    "# Modified from https://python.gotrained.com/google-places-api-extracting-location-data-reviews/\n",
    "\n",
    "def search_places_by_coordinate(location, radius, types, api_key, sleep_sec = 2):\n",
    "    endpoint_url = \"https://maps.googleapis.com/maps/api/place/nearbysearch/json\"\n",
    "    places = []\n",
    "    params = {\n",
    "        'location': location,\n",
    "        'radius': radius,\n",
    "        'types': types,\n",
    "        'key': api_key\n",
    "    }\n",
    "    res = requests.get(endpoint_url, params = params)\n",
    "    results =  json.loads(res.content)\n",
    "    places.extend(results['results'])\n",
    "    time.sleep(sleep_sec)\n",
    "    while \"next_page_token\" in results:\n",
    "        params['pagetoken'] = results['next_page_token'],\n",
    "        res = requests.get(endpoint_url, params = params)\n",
    "        results = json.loads(res.content)\n",
    "        places.extend(results['results'])\n",
    "        time.sleep(sleep_sec)\n",
    "    return places"
   ]
  },
  {
   "cell_type": "markdown",
   "metadata": {},
   "source": [
    "Test the api request using just `grocery_or_supermarket` and encompassing whole county"
   ]
  },
  {
   "cell_type": "code",
   "execution_count": 6,
   "metadata": {},
   "outputs": [],
   "source": [
    "grocery_stores_20_mi_radius = search_places_by_coordinate(location, radius, types, api_key)"
   ]
  },
  {
   "cell_type": "markdown",
   "metadata": {},
   "source": [
    "Check the response"
   ]
  },
  {
   "cell_type": "code",
   "execution_count": 7,
   "metadata": {},
   "outputs": [
    {
     "data": {
      "text/plain": [
       "3"
      ]
     },
     "execution_count": 7,
     "metadata": {},
     "output_type": "execute_result"
    }
   ],
   "source": [
    "len(grocery_stores_20_mi_radius)"
   ]
  },
  {
   "cell_type": "code",
   "execution_count": 8,
   "metadata": {},
   "outputs": [
    {
     "data": {
      "text/plain": [
       "{'lat': 36.16341249999999, 'lng': -86.779421}"
      ]
     },
     "execution_count": 8,
     "metadata": {},
     "output_type": "execute_result"
    }
   ],
   "source": [
    "grocery_stores_20_mi_radius[0]['geometry']['location']"
   ]
  },
  {
   "cell_type": "code",
   "execution_count": 9,
   "metadata": {},
   "outputs": [
    {
     "data": {
      "text/html": [
       "<div style=\"width:100%;\"><div style=\"position:relative;width:100%;height:0;padding-bottom:60%;\"><span style=\"color:#565656\">Make this Notebook Trusted to load map: File -> Trust Notebook</span><iframe src=\"about:blank\" style=\"position:absolute;width:100%;height:100%;left:0;top:0;border:none !important;\" data-html=%3C%21DOCTYPE%20html%3E%0A%3Chead%3E%20%20%20%20%0A%20%20%20%20%3Cmeta%20http-equiv%3D%22content-type%22%20content%3D%22text/html%3B%20charset%3DUTF-8%22%20/%3E%0A%20%20%20%20%0A%20%20%20%20%20%20%20%20%3Cscript%3E%0A%20%20%20%20%20%20%20%20%20%20%20%20L_NO_TOUCH%20%3D%20false%3B%0A%20%20%20%20%20%20%20%20%20%20%20%20L_DISABLE_3D%20%3D%20false%3B%0A%20%20%20%20%20%20%20%20%3C/script%3E%0A%20%20%20%20%0A%20%20%20%20%3Cscript%20src%3D%22https%3A//cdn.jsdelivr.net/npm/leaflet%401.6.0/dist/leaflet.js%22%3E%3C/script%3E%0A%20%20%20%20%3Cscript%20src%3D%22https%3A//code.jquery.com/jquery-1.12.4.min.js%22%3E%3C/script%3E%0A%20%20%20%20%3Cscript%20src%3D%22https%3A//maxcdn.bootstrapcdn.com/bootstrap/3.2.0/js/bootstrap.min.js%22%3E%3C/script%3E%0A%20%20%20%20%3Cscript%20src%3D%22https%3A//cdnjs.cloudflare.com/ajax/libs/Leaflet.awesome-markers/2.0.2/leaflet.awesome-markers.js%22%3E%3C/script%3E%0A%20%20%20%20%3Clink%20rel%3D%22stylesheet%22%20href%3D%22https%3A//cdn.jsdelivr.net/npm/leaflet%401.6.0/dist/leaflet.css%22/%3E%0A%20%20%20%20%3Clink%20rel%3D%22stylesheet%22%20href%3D%22https%3A//maxcdn.bootstrapcdn.com/bootstrap/3.2.0/css/bootstrap.min.css%22/%3E%0A%20%20%20%20%3Clink%20rel%3D%22stylesheet%22%20href%3D%22https%3A//maxcdn.bootstrapcdn.com/bootstrap/3.2.0/css/bootstrap-theme.min.css%22/%3E%0A%20%20%20%20%3Clink%20rel%3D%22stylesheet%22%20href%3D%22https%3A//maxcdn.bootstrapcdn.com/font-awesome/4.6.3/css/font-awesome.min.css%22/%3E%0A%20%20%20%20%3Clink%20rel%3D%22stylesheet%22%20href%3D%22https%3A//cdnjs.cloudflare.com/ajax/libs/Leaflet.awesome-markers/2.0.2/leaflet.awesome-markers.css%22/%3E%0A%20%20%20%20%3Clink%20rel%3D%22stylesheet%22%20href%3D%22https%3A//rawcdn.githack.com/python-visualization/folium/master/folium/templates/leaflet.awesome.rotate.css%22/%3E%0A%20%20%20%20%3Cstyle%3Ehtml%2C%20body%20%7Bwidth%3A%20100%25%3Bheight%3A%20100%25%3Bmargin%3A%200%3Bpadding%3A%200%3B%7D%3C/style%3E%0A%20%20%20%20%3Cstyle%3E%23map%20%7Bposition%3Aabsolute%3Btop%3A0%3Bbottom%3A0%3Bright%3A0%3Bleft%3A0%3B%7D%3C/style%3E%0A%20%20%20%20%0A%20%20%20%20%20%20%20%20%20%20%20%20%3Cmeta%20name%3D%22viewport%22%20content%3D%22width%3Ddevice-width%2C%0A%20%20%20%20%20%20%20%20%20%20%20%20%20%20%20%20initial-scale%3D1.0%2C%20maximum-scale%3D1.0%2C%20user-scalable%3Dno%22%20/%3E%0A%20%20%20%20%20%20%20%20%20%20%20%20%3Cstyle%3E%0A%20%20%20%20%20%20%20%20%20%20%20%20%20%20%20%20%23map_e41e5299a7124dd1a765b5e8b0a8ad79%20%7B%0A%20%20%20%20%20%20%20%20%20%20%20%20%20%20%20%20%20%20%20%20position%3A%20relative%3B%0A%20%20%20%20%20%20%20%20%20%20%20%20%20%20%20%20%20%20%20%20width%3A%20100.0%25%3B%0A%20%20%20%20%20%20%20%20%20%20%20%20%20%20%20%20%20%20%20%20height%3A%20100.0%25%3B%0A%20%20%20%20%20%20%20%20%20%20%20%20%20%20%20%20%20%20%20%20left%3A%200.0%25%3B%0A%20%20%20%20%20%20%20%20%20%20%20%20%20%20%20%20%20%20%20%20top%3A%200.0%25%3B%0A%20%20%20%20%20%20%20%20%20%20%20%20%20%20%20%20%7D%0A%20%20%20%20%20%20%20%20%20%20%20%20%3C/style%3E%0A%20%20%20%20%20%20%20%20%0A%3C/head%3E%0A%3Cbody%3E%20%20%20%20%0A%20%20%20%20%0A%20%20%20%20%20%20%20%20%20%20%20%20%3Cdiv%20class%3D%22folium-map%22%20id%3D%22map_e41e5299a7124dd1a765b5e8b0a8ad79%22%20%3E%3C/div%3E%0A%20%20%20%20%20%20%20%20%0A%3C/body%3E%0A%3Cscript%3E%20%20%20%20%0A%20%20%20%20%0A%20%20%20%20%20%20%20%20%20%20%20%20var%20map_e41e5299a7124dd1a765b5e8b0a8ad79%20%3D%20L.map%28%0A%20%20%20%20%20%20%20%20%20%20%20%20%20%20%20%20%22map_e41e5299a7124dd1a765b5e8b0a8ad79%22%2C%0A%20%20%20%20%20%20%20%20%20%20%20%20%20%20%20%20%7B%0A%20%20%20%20%20%20%20%20%20%20%20%20%20%20%20%20%20%20%20%20center%3A%20%5B36.1612%2C%20-86.7775%5D%2C%0A%20%20%20%20%20%20%20%20%20%20%20%20%20%20%20%20%20%20%20%20crs%3A%20L.CRS.EPSG3857%2C%0A%20%20%20%20%20%20%20%20%20%20%20%20%20%20%20%20%20%20%20%20zoom%3A%2010%2C%0A%20%20%20%20%20%20%20%20%20%20%20%20%20%20%20%20%20%20%20%20zoomControl%3A%20true%2C%0A%20%20%20%20%20%20%20%20%20%20%20%20%20%20%20%20%20%20%20%20preferCanvas%3A%20false%2C%0A%20%20%20%20%20%20%20%20%20%20%20%20%20%20%20%20%7D%0A%20%20%20%20%20%20%20%20%20%20%20%20%29%3B%0A%0A%20%20%20%20%20%20%20%20%20%20%20%20%0A%0A%20%20%20%20%20%20%20%20%0A%20%20%20%20%0A%20%20%20%20%20%20%20%20%20%20%20%20var%20tile_layer_24c1f949b5a647e0b14db054e970a8dc%20%3D%20L.tileLayer%28%0A%20%20%20%20%20%20%20%20%20%20%20%20%20%20%20%20%22https%3A//%7Bs%7D.tile.openstreetmap.org/%7Bz%7D/%7Bx%7D/%7By%7D.png%22%2C%0A%20%20%20%20%20%20%20%20%20%20%20%20%20%20%20%20%7B%22attribution%22%3A%20%22Data%20by%20%5Cu0026copy%3B%20%5Cu003ca%20href%3D%5C%22http%3A//openstreetmap.org%5C%22%5Cu003eOpenStreetMap%5Cu003c/a%5Cu003e%2C%20under%20%5Cu003ca%20href%3D%5C%22http%3A//www.openstreetmap.org/copyright%5C%22%5Cu003eODbL%5Cu003c/a%5Cu003e.%22%2C%20%22detectRetina%22%3A%20false%2C%20%22maxNativeZoom%22%3A%2018%2C%20%22maxZoom%22%3A%2018%2C%20%22minZoom%22%3A%200%2C%20%22noWrap%22%3A%20false%2C%20%22opacity%22%3A%201%2C%20%22subdomains%22%3A%20%22abc%22%2C%20%22tms%22%3A%20false%7D%0A%20%20%20%20%20%20%20%20%20%20%20%20%29.addTo%28map_e41e5299a7124dd1a765b5e8b0a8ad79%29%3B%0A%20%20%20%20%20%20%20%20%0A%20%20%20%20%0A%20%20%20%20%20%20%20%20%20%20%20%20var%20marker_0b0fadf42b7d4350b1946bb72bbb333a%20%3D%20L.marker%28%0A%20%20%20%20%20%20%20%20%20%20%20%20%20%20%20%20%5B36.16341249999999%2C%20-86.779421%5D%2C%0A%20%20%20%20%20%20%20%20%20%20%20%20%20%20%20%20%7B%7D%0A%20%20%20%20%20%20%20%20%20%20%20%20%29.addTo%28map_e41e5299a7124dd1a765b5e8b0a8ad79%29%3B%0A%20%20%20%20%20%20%20%20%0A%20%20%20%20%0A%20%20%20%20%20%20%20%20%20%20%20%20var%20marker_63097d5e4b3245e6bb86a01c5f809a56%20%3D%20L.marker%28%0A%20%20%20%20%20%20%20%20%20%20%20%20%20%20%20%20%5B36.1567496%2C%20-86.7880596%5D%2C%0A%20%20%20%20%20%20%20%20%20%20%20%20%20%20%20%20%7B%7D%0A%20%20%20%20%20%20%20%20%20%20%20%20%29.addTo%28map_e41e5299a7124dd1a765b5e8b0a8ad79%29%3B%0A%20%20%20%20%20%20%20%20%0A%20%20%20%20%0A%20%20%20%20%20%20%20%20%20%20%20%20var%20marker_2614130390984e829e14d2d6e8bc5f5c%20%3D%20L.marker%28%0A%20%20%20%20%20%20%20%20%20%20%20%20%20%20%20%20%5B36.1630486%2C%20-86.7903632%5D%2C%0A%20%20%20%20%20%20%20%20%20%20%20%20%20%20%20%20%7B%7D%0A%20%20%20%20%20%20%20%20%20%20%20%20%29.addTo%28map_e41e5299a7124dd1a765b5e8b0a8ad79%29%3B%0A%20%20%20%20%20%20%20%20%0A%3C/script%3E onload=\"this.contentDocument.open();this.contentDocument.write(    decodeURIComponent(this.getAttribute('data-html')));this.contentDocument.close();\" allowfullscreen webkitallowfullscreen mozallowfullscreen></iframe></div></div>"
      ],
      "text/plain": [
       "<folium.folium.Map at 0x1da870757f0>"
      ]
     },
     "execution_count": 9,
     "metadata": {},
     "output_type": "execute_result"
    }
   ],
   "source": [
    "nash_map = folium.Map([36.1612, -86.7775])\n",
    "for store in grocery_stores_20_mi_radius:\n",
    "    coords = store['geometry']['location']\n",
    "    lat = coords['lat']\n",
    "    lng = coords['lng']\n",
    "    folium.Marker([lat, lng]).add_to(nash_map)\n",
    "nash_map"
   ]
  },
  {
   "cell_type": "markdown",
   "metadata": {},
   "source": [
    "Expand to multiple store types"
   ]
  },
  {
   "cell_type": "code",
   "execution_count": 10,
   "metadata": {},
   "outputs": [],
   "source": [
    "multiple_stores_20_mi_radius = search_places_by_coordinate(location, radius, all_types, api_key)"
   ]
  },
  {
   "cell_type": "code",
   "execution_count": 11,
   "metadata": {},
   "outputs": [
    {
     "data": {
      "text/plain": [
       "21"
      ]
     },
     "execution_count": 11,
     "metadata": {},
     "output_type": "execute_result"
    }
   ],
   "source": [
    "# Still only 60 stores, turns out it is a return limit of the endpoint\n",
    "len(multiple_stores_20_mi_radius)"
   ]
  },
  {
   "cell_type": "markdown",
   "metadata": {},
   "source": [
    "## Since endpoint only return up to 60 locations per request, will make multiple requests across the county"
   ]
  },
  {
   "cell_type": "markdown",
   "metadata": {},
   "source": [
    "#### Start out by making a grid over the county"
   ]
  },
  {
   "cell_type": "code",
   "execution_count": 12,
   "metadata": {},
   "outputs": [],
   "source": [
    "# File retrieved from data.nashville.gov\n",
    "davidson_county = gpd.read_file('../data/Davidson County Border (GIS).geojson')\n",
    "davidson_county.crs = \"EPSG:4326\""
   ]
  },
  {
   "cell_type": "code",
   "execution_count": 13,
   "metadata": {},
   "outputs": [
    {
     "data": {
      "image/png": "[encoded data removed]",
      "text/plain": [
       "<Figure size 432x288 with 1 Axes>"
      ]
     },
     "metadata": {
      "needs_background": "light"
     },
     "output_type": "display_data"
    }
   ],
   "source": [
    "davidson_county.boundary.plot();"
   ]
  },
  {
   "cell_type": "markdown",
   "metadata": {},
   "source": [
    "Find total geographic bounds of davidson county"
   ]
  },
  {
   "cell_type": "code",
   "execution_count": 14,
   "metadata": {},
   "outputs": [],
   "source": [
    "xmin,ymin,xmax,ymax =  davidson_county.total_bounds"
   ]
  },
  {
   "cell_type": "markdown",
   "metadata": {},
   "source": [
    "Divide total bounds into 10x10 grid"
   ]
  },
  {
   "cell_type": "code",
   "execution_count": 15,
   "metadata": {},
   "outputs": [],
   "source": [
    "x_increment = (xmax-xmin)/10\n",
    "y_increment = (ymax-ymin)/10"
   ]
  },
  {
   "cell_type": "code",
   "execution_count": 16,
   "metadata": {},
   "outputs": [],
   "source": [
    "# determine boundary locations along x-axis\n",
    "grid_x_boundaries = [xmin]\n",
    "new_bound = xmin\n",
    "for i in range(10):\n",
    "    new_bound = new_bound + x_increment\n",
    "    grid_x_boundaries.append(new_bound)"
   ]
  },
  {
   "cell_type": "code",
   "execution_count": 17,
   "metadata": {},
   "outputs": [],
   "source": [
    "# determine boundary locations along y-axis\n",
    "grid_y_boundaries = [ymin]\n",
    "new_bound = ymin\n",
    "for i in range(10):\n",
    "    new_bound = new_bound + y_increment\n",
    "    grid_y_boundaries.append(new_bound)"
   ]
  },
  {
   "cell_type": "code",
   "execution_count": 18,
   "metadata": {},
   "outputs": [],
   "source": [
    "# get lats and lons in separate lists for center of each grid square\n",
    "lons = []\n",
    "lats = []\n",
    "for left, right in zip(grid_x_boundaries[:-1], grid_x_boundaries[1:]):\n",
    "    for top, bottom in zip(grid_y_boundaries[:-1], grid_y_boundaries[1:]):\n",
    "        lats.append((top+bottom)/2)\n",
    "        lons.append((left+right)/2)\n",
    "    "
   ]
  },
  {
   "cell_type": "code",
   "execution_count": 19,
   "metadata": {},
   "outputs": [],
   "source": [
    "# convery to gpd points\n",
    "grid_centers = gpd.points_from_xy(lons, lats)"
   ]
  },
  {
   "cell_type": "code",
   "execution_count": 20,
   "metadata": {},
   "outputs": [],
   "source": [
    "# put into geodataframe\n",
    "grid_gdf = gpd.GeoDataFrame(geometry = grid_centers, crs = \"EPSG:4326\")"
   ]
  },
  {
   "cell_type": "code",
   "execution_count": 21,
   "metadata": {},
   "outputs": [
    {
     "data": {
      "text/plain": [
       "<AxesSubplot:>"
      ]
     },
     "execution_count": 21,
     "metadata": {},
     "output_type": "execute_result"
    },
    {
     "data": {
      "image/png": "[encoded data removed]",
      "text/plain": [
       "<Figure size 432x288 with 1 Axes>"
      ]
     },
     "metadata": {
      "needs_background": "light"
     },
     "output_type": "display_data"
    }
   ],
   "source": [
    "grid_gdf.plot()"
   ]
  },
  {
   "cell_type": "markdown",
   "metadata": {},
   "source": [
    "We'll get more into this in a bit, but we need to add a buffer around the county to include stores slightly outside (1 mile). These stores could influence the existance of food deserts"
   ]
  },
  {
   "cell_type": "markdown",
   "metadata": {},
   "source": [
    "Geopandas buffers are calculated based on the crs of the gdf. Since we are usine \"EPSG:4326\" we know the units are degrees. Using this conversion from the USGS (https://www.usgs.gov/faqs/how-much-distance-does-a-degree-minute-and-second-cover-your-maps?qt-news_science_products=0#qt-news_science_products): \"One degree of latitude equals approximately 364,000 feet (69 miles), one minute equals 6,068 feet (1.15 miles), and one-second equals 101 feet.\" We can approximate the number of degrees in a mile as: 1/69 = 0.014492753623188406"
   ]
  },
  {
   "cell_type": "code",
   "execution_count": 22,
   "metadata": {},
   "outputs": [
    {
     "name": "stderr",
     "output_type": "stream",
     "text": [
      "C:\\Users\\16159\\AppData\\Local\\Temp/ipykernel_30208/1592221078.py:1: UserWarning: Geometry is in a geographic CRS. Results from 'buffer' are likely incorrect. Use 'GeoSeries.to_crs()' to re-project geometries to a projected CRS before this operation.\n",
      "\n",
      "  davidson_county_buffer = gpd.GeoDataFrame(geometry = davidson_county['geometry'].buffer(0.014492753623188406),\n"
     ]
    },
    {
     "data": {
      "text/plain": [
       "<AxesSubplot:>"
      ]
     },
     "execution_count": 22,
     "metadata": {},
     "output_type": "execute_result"
    },
    {
     "data": {
      "image/png": "[encoded data removed]",
      "text/plain": [
       "<Figure size 432x288 with 1 Axes>"
      ]
     },
     "metadata": {
      "needs_background": "light"
     },
     "output_type": "display_data"
    }
   ],
   "source": [
    "davidson_county_buffer = gpd.GeoDataFrame(geometry = davidson_county['geometry'].buffer(0.014492753623188406),\n",
    "                                          crs = \"EPSG:4326\")\n",
    "davidson_county_buffer.plot()"
   ]
  },
  {
   "cell_type": "code",
   "execution_count": 24,
   "metadata": {},
   "outputs": [],
   "source": [
    "# Only keep points within the buffered Davidson county polygon\n",
    "keep_points = []\n",
    "for ind, p in grid_gdf['geometry'].iteritems():\n",
    "    if p.within(davidson_county.loc[0, 'geometry']) or p.within(davidson_county.loc[1, 'geometry']):\n",
    "        keep_points.append(ind)\n",
    "\n",
    "grid_points_sub = grid_gdf.loc[keep_points]"
   ]
  },
  {
   "cell_type": "code",
   "execution_count": 25,
   "metadata": {},
   "outputs": [
    {
     "data": {
      "image/png": "[encoded data removed]",
      "text/plain": [
       "<Figure size 432x288 with 1 Axes>"
      ]
     },
     "metadata": {
      "needs_background": "light"
     },
     "output_type": "display_data"
    }
   ],
   "source": [
    "base = davidson_county.plot(color='white', edgecolor='black')\n",
    "\n",
    "grid_points_sub.plot(ax=base, marker='o', color='red', markersize=5);"
   ]
  },
  {
   "cell_type": "markdown",
   "metadata": {},
   "source": [
    "## Now with grid points laid out across county iterate over full list of types and points to get more store"
   ]
  },
  {
   "cell_type": "markdown",
   "metadata": {},
   "source": [
    "Since looking at smaller areas, adjust radius. Since points are based on lat and lng now, need to calculate distance differently. Distance in meters from lat, lng coordinates is best calculated using the `haversine distance` formula"
   ]
  },
  {
   "cell_type": "code",
   "execution_count": 26,
   "metadata": {},
   "outputs": [],
   "source": [
    "# function adapted from https://scikit-learn.org/stable/modules/generated/sklearn.metrics.pairwise.haversine_distances.html\n",
    "def dist_in_meters(point_1, point_2):\n",
    "    point_1 = [math.radians(l) for l in [point_1.y, point_1.x]]\n",
    "    point_2 = [math.radians(l) for l in [point_2.y, point_2.x]]\n",
    "    dist_array_m = haversine_distances([point_1, point_2])*6371000\n",
    "    return dist_array_m[0][1]"
   ]
  },
  {
   "cell_type": "code",
   "execution_count": 27,
   "metadata": {},
   "outputs": [],
   "source": [
    "grid_point_radius = dist_in_meters(grid_points_sub.loc[1, 'geometry'], grid_points_sub.loc[2, 'geometry'])"
   ]
  },
  {
   "cell_type": "markdown",
   "metadata": {},
   "source": [
    "Check to make sure the entire county is covered"
   ]
  },
  {
   "cell_type": "code",
   "execution_count": 28,
   "metadata": {},
   "outputs": [
    {
     "name": "stderr",
     "output_type": "stream",
     "text": [
      "C:\\Users\\16159\\AppData\\Local\\Temp/ipykernel_30208/3228033640.py:2: UserWarning: Geometry is in a geographic CRS. Results from 'buffer' are likely incorrect. Use 'GeoSeries.to_crs()' to re-project geometries to a projected CRS before this operation.\n",
      "\n",
      "  grid_points_sub_buffers = gpd.GeoDataFrame(geometry = grid_points_sub['geometry'].buffer(grid_point_radius_mile),\n"
     ]
    },
    {
     "ename": "NameError",
     "evalue": "name 'davidson_tracts' is not defined",
     "output_type": "error",
     "traceback": [
      "\u001b[1;31m---------------------------------------------------------------------------\u001b[0m",
      "\u001b[1;31mNameError\u001b[0m                                 Traceback (most recent call last)",
      "\u001b[1;32m~\\AppData\\Local\\Temp/ipykernel_30208/3228033640.py\u001b[0m in \u001b[0;36m<module>\u001b[1;34m\u001b[0m\n\u001b[0;32m      3\u001b[0m                                           crs = \"EPSG:4326\")\n\u001b[0;32m      4\u001b[0m \u001b[0mf\u001b[0m\u001b[1;33m,\u001b[0m \u001b[0max\u001b[0m \u001b[1;33m=\u001b[0m \u001b[0mplt\u001b[0m\u001b[1;33m.\u001b[0m\u001b[0msubplots\u001b[0m\u001b[1;33m(\u001b[0m\u001b[1;36m1\u001b[0m\u001b[1;33m,\u001b[0m \u001b[0mfigsize\u001b[0m\u001b[1;33m=\u001b[0m\u001b[1;33m(\u001b[0m\u001b[1;36m15\u001b[0m\u001b[1;33m,\u001b[0m \u001b[1;36m15\u001b[0m\u001b[1;33m)\u001b[0m\u001b[1;33m)\u001b[0m\u001b[1;33m\u001b[0m\u001b[1;33m\u001b[0m\u001b[0m\n\u001b[1;32m----> 5\u001b[1;33m \u001b[0max\u001b[0m \u001b[1;33m=\u001b[0m \u001b[0mdavidson_tracts\u001b[0m\u001b[1;33m.\u001b[0m\u001b[0mboundary\u001b[0m\u001b[1;33m.\u001b[0m\u001b[0mplot\u001b[0m\u001b[1;33m(\u001b[0m\u001b[0max\u001b[0m\u001b[1;33m=\u001b[0m\u001b[0max\u001b[0m\u001b[1;33m,\u001b[0m \u001b[0medgecolor\u001b[0m \u001b[1;33m=\u001b[0m \u001b[1;34m'blue'\u001b[0m\u001b[1;33m,\u001b[0m \u001b[0mcolor\u001b[0m\u001b[1;33m=\u001b[0m\u001b[1;34m'blue'\u001b[0m\u001b[1;33m,\u001b[0m \u001b[0malpha\u001b[0m \u001b[1;33m=\u001b[0m \u001b[1;36m0.15\u001b[0m\u001b[1;33m)\u001b[0m\u001b[1;33m\u001b[0m\u001b[1;33m\u001b[0m\u001b[0m\n\u001b[0m\u001b[0;32m      6\u001b[0m \u001b[0max\u001b[0m \u001b[1;33m=\u001b[0m \u001b[0mdavidson_county\u001b[0m\u001b[1;33m.\u001b[0m\u001b[0mboundary\u001b[0m\u001b[1;33m.\u001b[0m\u001b[0mplot\u001b[0m\u001b[1;33m(\u001b[0m\u001b[0max\u001b[0m\u001b[1;33m=\u001b[0m\u001b[0max\u001b[0m\u001b[1;33m,\u001b[0m \u001b[0mcolor\u001b[0m\u001b[1;33m=\u001b[0m\u001b[1;34m'blue'\u001b[0m\u001b[1;33m,\u001b[0m \u001b[0malpha\u001b[0m \u001b[1;33m=\u001b[0m \u001b[1;36m0.15\u001b[0m\u001b[1;33m)\u001b[0m\u001b[1;33m\u001b[0m\u001b[1;33m\u001b[0m\u001b[0m\n\u001b[0;32m      7\u001b[0m \u001b[0max\u001b[0m \u001b[1;33m=\u001b[0m \u001b[0mgrid_points_sub_buffers\u001b[0m\u001b[1;33m.\u001b[0m\u001b[0mplot\u001b[0m\u001b[1;33m(\u001b[0m\u001b[0max\u001b[0m\u001b[1;33m=\u001b[0m\u001b[0max\u001b[0m\u001b[1;33m,\u001b[0m \u001b[0mcolor\u001b[0m \u001b[1;33m=\u001b[0m \u001b[1;34m'green'\u001b[0m\u001b[1;33m,\u001b[0m \u001b[0malpha\u001b[0m \u001b[1;33m=\u001b[0m \u001b[1;36m0.1\u001b[0m\u001b[1;33m)\u001b[0m\u001b[1;33m\u001b[0m\u001b[1;33m\u001b[0m\u001b[0m\n",
      "\u001b[1;31mNameError\u001b[0m: name 'davidson_tracts' is not defined"
     ]
    },
    {
     "data": {
      "image/png": "[encoded data removed]",
      "text/plain": [
       "<Figure size 1080x1080 with 1 Axes>"
      ]
     },
     "metadata": {
      "needs_background": "light"
     },
     "output_type": "display_data"
    }
   ],
   "source": [
    "grid_point_radius_mile = 3.0258050367212114828/69\n",
    "grid_points_sub_buffers = gpd.GeoDataFrame(geometry = grid_points_sub['geometry'].buffer(grid_point_radius_mile),\n",
    "                                          crs = \"EPSG:4326\")\n",
    "f, ax = plt.subplots(1, figsize=(15, 15))\n",
    "ax = davidson_tracts.boundary.plot(ax=ax, edgecolor = 'blue', color='blue', alpha = 0.15)\n",
    "ax = davidson_county.boundary.plot(ax=ax, color='blue', alpha = 0.15)\n",
    "ax = grid_points_sub_buffers.plot(ax=ax, color = 'green', alpha = 0.1)\n",
    "grid_points_sub.plot(ax=ax, marker='o', color='red', markersize=5)\n",
    ";"
   ]
  },
  {
   "cell_type": "markdown",
   "metadata": {},
   "source": [
    "It covers all of the county"
   ]
  },
  {
   "cell_type": "code",
   "execution_count": 29,
   "metadata": {},
   "outputs": [],
   "source": [
    "# creating output list in separate cell in case need to run for loop multiple times because of time out errors\n",
    "responses = []"
   ]
  },
  {
   "cell_type": "markdown",
   "metadata": {},
   "source": [
    "#### This one can take a while, run with caution"
   ]
  },
  {
   "cell_type": "code",
   "execution_count": null,
   "metadata": {},
   "outputs": [
    {
     "name": "stdout",
     "output_type": "stream",
     "text": [
      "0 bakery\n"
     ]
    }
   ],
   "source": [
    "for ind_2, t in enumerate(all_types):\n",
    "    print(ind_2, t) # just to keep track of progress\n",
    "    # if ind_2 >= 1: # uncomment and tab below over if need to start later in all_types list\n",
    "    for ind, (lng, lat) in enumerate(list(zip(grid_points_sub['geometry'].x, grid_points_sub['geometry'].y))): # note that lat and lng are switched\n",
    "        # print(ind, lat, lng) # again, to keep track of progress\n",
    "        # if ind >= 0: # uncomment and tab below if need to start later in grid df\n",
    "        location = '{}, {}'.format(lat, lng)\n",
    "        responses.append(search_places_by_coordinate(location, grid_point_radius, t, api_key))"
   ]
  },
  {
   "cell_type": "code",
   "execution_count": null,
   "metadata": {},
   "outputs": [],
   "source": [
    "# total number of requests\n",
    "len(responses)"
   ]
  },
  {
   "cell_type": "markdown",
   "metadata": {},
   "source": [
    "`responses` contains list of list of locations. Flatten to get single list of locations"
   ]
  },
  {
   "cell_type": "code",
   "execution_count": null,
   "metadata": {},
   "outputs": [],
   "source": [
    "responses_flat = [i for l in responses for i in l]"
   ]
  },
  {
   "cell_type": "code",
   "execution_count": null,
   "metadata": {},
   "outputs": [],
   "source": [
    "# total number of stores across all requests\n",
    "len(responses_flat)"
   ]
  },
  {
   "cell_type": "markdown",
   "metadata": {},
   "source": [
    "There is probably a better way to do this but use the following steps to find unique stores:\n",
    "- find unique `place_id`\n",
    "- iterate through unique ids and flattened responses for first instance of id"
   ]
  },
  {
   "cell_type": "code",
   "execution_count": null,
   "metadata": {},
   "outputs": [],
   "source": [
    "unique_store_id = set([i['place_id'] for i in responses_flat])"
   ]
  },
  {
   "cell_type": "code",
   "execution_count": null,
   "metadata": {},
   "outputs": [],
   "source": [
    "unique_grocery_store = []\n",
    "for i in unique_store_id:\n",
    "    for store in responses_flat:\n",
    "        if store['place_id'] == i:\n",
    "            unique_grocery_store.append(store)\n",
    "            break"
   ]
  },
  {
   "cell_type": "code",
   "execution_count": null,
   "metadata": {},
   "outputs": [],
   "source": [
    "# number of unique ids\n",
    "len(unique_grocery_store)"
   ]
  },
  {
   "cell_type": "markdown",
   "metadata": {},
   "source": [
    "Extract lat and lng from store locations and put in dataframe"
   ]
  },
  {
   "cell_type": "code",
   "execution_count": null,
   "metadata": {},
   "outputs": [],
   "source": [
    "lats = []\n",
    "lons = []\n",
    "for store in unique_grocery_store:\n",
    "    lats.append(store['geometry']['location']['lat'])\n",
    "    lons.append(store['geometry']['location']['lng'])\n",
    "all_store_locations = gpd.points_from_xy(lons, lats)\n",
    "all_store_gdf = gpd.GeoDataFrame(geometry = all_store_locations, crs = \"EPSG:4326\")"
   ]
  },
  {
   "cell_type": "markdown",
   "metadata": {},
   "source": [
    "keep only stores within buffered Davidson County polygon"
   ]
  },
  {
   "cell_type": "code",
   "execution_count": null,
   "metadata": {},
   "outputs": [],
   "source": [
    "keep_stores = []\n",
    "for ind, p in all_store_gdf['geometry'].iteritems():\n",
    "    if p.within(davidson_county_buffer.loc[0, 'geometry']) or p.within(davidson_county_buffer.loc[1, 'geometry']):\n",
    "        keep_stores.append(ind)\n",
    "\n",
    "davidson_store_gdf = all_store_gdf.loc[keep_stores]"
   ]
  },
  {
   "cell_type": "code",
   "execution_count": null,
   "metadata": {},
   "outputs": [],
   "source": [
    "# number of stores in Davidson County\n",
    "len(davidson_store_gdf)"
   ]
  },
  {
   "cell_type": "markdown",
   "metadata": {},
   "source": [
    "Plot locations on folium map"
   ]
  },
  {
   "cell_type": "code",
   "execution_count": null,
   "metadata": {},
   "outputs": [],
   "source": [
    "nash_map = folium.Map([36.1612, -86.7775])\n",
    "for ind, store in davidson_store_gdf.iterrows():\n",
    "    lng = store['geometry'].x\n",
    "    lat = store['geometry'].y\n",
    "    folium.Marker([lat, lng]).add_to(nash_map)\n",
    "nash_map"
   ]
  },
  {
   "cell_type": "markdown",
   "metadata": {},
   "source": [
    "And again just using geopandas to see points in context of store locations within county"
   ]
  },
  {
   "cell_type": "code",
   "execution_count": null,
   "metadata": {},
   "outputs": [],
   "source": [
    "f, ax = plt.subplots(1, figsize=(15, 15))\n",
    "ax = davidson_county.plot(color='white', edgecolor='black', ax = ax)\n",
    "davidson_store_gdf.plot(ax=ax, marker='o', color='red', markersize=5);"
   ]
  },
  {
   "cell_type": "markdown",
   "metadata": {},
   "source": [
    "# From the USDA website:  \n",
    "\n",
    "#### The area of a food desert is definied by the census tract\n",
    "\n",
    "https://www.ers.usda.gov/data-products/food-access-research-atlas/documentation/\n",
    "\"Most measures and definitions take into account at least some of the following indicators of access:\n",
    "\n",
    "- Accessibility to sources of healthy food, as measured by distance to a store or by the number of stores in an area.\n",
    "- Individual-level resources that may affect accessibility, such as family income or vehicle availability.\n",
    "- Neighborhood-level indicators of resources, such as the average income of the neighborhood and the availability of public transportation.\"  \n",
    "\n",
    "\"This program defines a low-income census tract as any tract where:\n",
    "\n",
    "- The tract’s poverty rate is 20 percent or greater; or\n",
    "- The tract’s median family income is less than or equal to 80 percent of the State-wide median family income; or\n",
    "- The tract is in a metropolitan area and has a median family income less than or equal to 80 percent of the metropolitan area's median family income.\"  \n",
    "\n",
    "\"Three measures of food access based on distance to a supermarket are provided in the Atlas:\n",
    "\n",
    "- Low-income census tracts where a significant number (at least 500 people) or share (at least 33 percent) of the population is greater than ½ mile from the nearest supermarket, supercenter, or large grocery store for an urban area or greater than 10 miles for a rural area. Using this measure, an estimated 54.4 million people, or 17.7 percent of the U.S. population, live in tracts that are low-income and low access and are more than ½ mile or 10 miles from the nearest supermarket.\n",
    "- Low-income census tracts where a significant number (at least 500 people) or share (at least 33 percent) of the population is greater than 1.0 mile from the nearest supermarket, supercenter, or large grocery store for an urban area or greater than 10 miles for a rural area. This measure shows that an estimated 19 million people, or 6.2 percent of the U.S. population, live in low-income and low access tracts and are more than 1 mile or 10 miles from a supermarket.\n",
    "- Low-income census tracts where a significant number (at least 500 people) or share (at least 33 percent) of the population is greater than 1.0 mile from the nearest supermarket, supercenter, or large grocery store for an urban area or greater than 20 miles for a rural area. Under this measure, an estimated 17.3 million people, or 5.6 percent of the U.S. population, live in low-income and low access tracts and are more than 1 mile or 20 miles from a supermarket.\"\n",
    "\n",
    "#### Read in census tract shape file and narrow down to Davidson County"
   ]
  },
  {
   "cell_type": "code",
   "execution_count": null,
   "metadata": {},
   "outputs": [],
   "source": [
    "tennessee_tracts = gpd.read_file('data/cb_2018_47_tract_500k/cb_2018_47_tract_500k.shx')\n",
    "tennessee_tracts.crs = \"EPSG:4326\""
   ]
  },
  {
   "cell_type": "code",
   "execution_count": null,
   "metadata": {
    "scrolled": true
   },
   "outputs": [],
   "source": [
    "tennessee_tracts.boundary.plot()"
   ]
  },
  {
   "cell_type": "markdown",
   "metadata": {},
   "source": [
    "Select only Davidson County tracts (COUNTYFP == 037)"
   ]
  },
  {
   "cell_type": "code",
   "execution_count": null,
   "metadata": {},
   "outputs": [],
   "source": [
    "davidson_tracts = tennessee_tracts[tennessee_tracts['COUNTYFP']=='037'].reset_index(drop = True)"
   ]
  },
  {
   "cell_type": "code",
   "execution_count": null,
   "metadata": {},
   "outputs": [],
   "source": [
    "davidson_tracts.plot()"
   ]
  },
  {
   "cell_type": "markdown",
   "metadata": {},
   "source": [
    "One of the criteria for food deserts is if at least 33% of the tract is more than 1 mile from a grocery store (there are different measures of how far from grocery store, like the above quote from the USDA. For the purposes of this analysis, use 1 mile away).\n",
    "\n",
    "To show this on a map, include a `buffer` around store locations"
   ]
  },
  {
   "cell_type": "code",
   "execution_count": null,
   "metadata": {},
   "outputs": [],
   "source": [
    "davidson_store_buffers = gpd.GeoDataFrame(geometry = davidson_store_gdf['geometry'].buffer(0.014492753623188406),\n",
    "                                          crs = \"EPSG:4326\")"
   ]
  },
  {
   "cell_type": "code",
   "execution_count": null,
   "metadata": {},
   "outputs": [],
   "source": [
    "f, ax = plt.subplots(1, figsize=(15, 15))\n",
    "ax = davidson_tracts.boundary.plot(ax=ax, edgecolor = 'blue', color='blue', alpha = 0.15)\n",
    "ax = davidson_county.boundary.plot(ax=ax, color='blue', alpha = 0.15)\n",
    "ax = davidson_store_buffers.plot(ax=ax, color = 'green', alpha = 0.25)\n",
    "davidson_store_gdf.plot(ax=ax, marker='o', color='red', markersize=5)\n",
    ";"
   ]
  },
  {
   "cell_type": "markdown",
   "metadata": {},
   "source": [
    "## Determine if >= 33% of tract is > 1 mile away from store"
   ]
  },
  {
   "cell_type": "markdown",
   "metadata": {},
   "source": [
    "Combine all store buffers"
   ]
  },
  {
   "cell_type": "code",
   "execution_count": null,
   "metadata": {},
   "outputs": [],
   "source": [
    "all_store_buffers = davidson_store_buffers.unary_union"
   ]
  },
  {
   "cell_type": "markdown",
   "metadata": {},
   "source": [
    "# NOTE: Obviously cast too wide a net as not all these stores sell fresh produce. Wide net was intentional but need way to separate stores where fresh produce is sold from rest"
   ]
  },
  {
   "cell_type": "code",
   "execution_count": null,
   "metadata": {},
   "outputs": [],
   "source": [
    "for ind, row in davidson_tracts.iterrows():\n",
    "    pct_near_store = row['geometry'].intersection(all_store_buffers).area/row['geometry'].area\n",
    "    if pct_near_store <=0.333333333333:\n",
    "        print(row['GEOID'], ':', pct_near_store)"
   ]
  },
  {
   "cell_type": "markdown",
   "metadata": {},
   "source": [
    "## Now we can get poverty levels from the census projections"
   ]
  },
  {
   "cell_type": "code",
   "execution_count": null,
   "metadata": {},
   "outputs": [],
   "source": [
    "# from https://censusreporter.org/data/table/?table=B17001&geo_ids=14000US47037016000,05000US47037,04000US47,01000US,140|05000US47037&primary_geo_id=14000US47037016000\n",
    "poverty_rates_davidson = pd.read_csv('data/acs2018_5yr_B17001_14000US47037011800/acs2018_5yr_B17001_14000US47037011800.csv')\n"
   ]
  },
  {
   "cell_type": "code",
   "execution_count": null,
   "metadata": {},
   "outputs": [],
   "source": [
    "# remove aggregation rows\n",
    "poverty_rates_davidson_tract = poverty_rates_davidson.drop([0, 1, 2])"
   ]
  },
  {
   "cell_type": "markdown",
   "metadata": {},
   "source": [
    "Column names stored in the metadata. import and add"
   ]
  },
  {
   "cell_type": "code",
   "execution_count": null,
   "metadata": {},
   "outputs": [],
   "source": [
    "with open('data/acs2018_5yr_B17001_14000US47037011800/metadata.json') as f:\n",
    "    column_names = json.load(f)"
   ]
  },
  {
   "cell_type": "code",
   "execution_count": null,
   "metadata": {},
   "outputs": [],
   "source": [
    "column_names = {k: v['name'] for k, v in column_names['tables']['B17001']['columns'].items()}"
   ]
  },
  {
   "cell_type": "code",
   "execution_count": null,
   "metadata": {},
   "outputs": [],
   "source": [
    "poverty_rates_davidson_tract = poverty_rates_davidson_tract.rename(columns = column_names)"
   ]
  },
  {
   "cell_type": "markdown",
   "metadata": {},
   "source": [
    "Calculate percent below poverty level"
   ]
  },
  {
   "cell_type": "code",
   "execution_count": null,
   "metadata": {},
   "outputs": [],
   "source": [
    "poverty_rates_davidson_tract['pct_below_poverty_level'] = poverty_rates_davidson_tract['Income in the past 12 months below poverty level:']/poverty_rates_davidson_tract['Total:']\n"
   ]
  },
  {
   "cell_type": "markdown",
   "metadata": {},
   "source": [
    "Extract tract name for merging with tracts gdf"
   ]
  },
  {
   "cell_type": "code",
   "execution_count": null,
   "metadata": {},
   "outputs": [],
   "source": [
    "poverty_rates_davidson_tract['NAME'] = poverty_rates_davidson_tract['name'].str.split(' ').str[2].str[:-1]"
   ]
  },
  {
   "cell_type": "code",
   "execution_count": null,
   "metadata": {},
   "outputs": [],
   "source": [
    "davidson_tracts = davidson_tracts.merge(poverty_rates_davidson_tract[['NAME', 'pct_below_poverty_level']], how = 'left', on = 'NAME')\n",
    "davidson_tracts['pct_below_poverty_level'] = davidson_tracts['pct_below_poverty_level'].fillna(np.median(davidson_tracts['pct_below_poverty_level']))"
   ]
  },
  {
   "cell_type": "markdown",
   "metadata": {},
   "source": [
    "Make binary column of poverty level cutoff"
   ]
  },
  {
   "cell_type": "code",
   "execution_count": null,
   "metadata": {},
   "outputs": [],
   "source": [
    "davidson_tracts['above_20_pct'] = (davidson_tracts['pct_below_poverty_level'] > 0.2).astype(int)"
   ]
  },
  {
   "cell_type": "code",
   "execution_count": null,
   "metadata": {
    "scrolled": false
   },
   "outputs": [],
   "source": [
    "f, ax = plt.subplots(1, figsize=(15, 15))\n",
    "ax = davidson_tracts.plot(ax=ax, column = 'above_20_pct', edgecolor = 'blue', alpha = 0.1)\n",
    "ax = davidson_county.boundary.plot(ax=ax, color='blue', alpha = 0.15)\n",
    "ax = davidson_store_buffers.plot(ax=ax, color = 'green', alpha = 0.25)\n",
    "davidson_store_gdf.plot(ax=ax, marker='o', color='red', markersize=5)\n",
    ";"
   ]
  },
  {
   "cell_type": "code",
   "execution_count": null,
   "metadata": {},
   "outputs": [],
   "source": [
    "pd.DataFrame(responses_flat).to_csv('data/google_api_stores_responses_6-17-20.csv')"
   ]
  },
  {
   "cell_type": "code",
   "execution_count": null,
   "metadata": {},
   "outputs": [],
   "source": [
    "stores_df = pd.DataFrame(responses_flat)"
   ]
  },
  {
   "cell_type": "markdown",
   "metadata": {},
   "source": [
    "Try to separate the fresh produce from non, check kroger store types"
   ]
  },
  {
   "cell_type": "code",
   "execution_count": null,
   "metadata": {},
   "outputs": [],
   "source": [
    "stores_df[stores_df['name'].str.contains('Kroger')].loc[18, 'types']"
   ]
  },
  {
   "cell_type": "markdown",
   "metadata": {},
   "source": [
    "Try to manually select store types"
   ]
  },
  {
   "cell_type": "code",
   "execution_count": null,
   "metadata": {},
   "outputs": [],
   "source": [
    "fresh_produce = ['grocery_or_supermarket', 'supermarket', 'bakery']"
   ]
  },
  {
   "cell_type": "code",
   "execution_count": null,
   "metadata": {},
   "outputs": [],
   "source": [
    "keep_rows = []\n",
    "for ind, row in stores_df.iterrows():\n",
    "    if any(fresh in row['types'] for fresh in fresh_produce):\n",
    "        keep_rows.append(ind)\n",
    "grocery_supermarket = stores_df.loc[keep_rows]"
   ]
  },
  {
   "cell_type": "code",
   "execution_count": null,
   "metadata": {},
   "outputs": [],
   "source": [
    "grocery_supermarket['name'] = grocery_supermarket['name'].apply(lambda x: 'Publix' if 'Publix' in x else x)"
   ]
  },
  {
   "cell_type": "code",
   "execution_count": null,
   "metadata": {},
   "outputs": [],
   "source": [
    "grocery_supermarket['name'].value_counts()\n",
    "# for i, v in grocery_supermarket['name'].value_counts().iteritems():\n",
    "#     print(i, v)"
   ]
  },
  {
   "cell_type": "markdown",
   "metadata": {},
   "source": [
    "Still seeing dollar stores and gas stations"
   ]
  },
  {
   "cell_type": "code",
   "execution_count": null,
   "metadata": {},
   "outputs": [],
   "source": [
    "sum(grocery_supermarket['name'].str.contains('rog'))"
   ]
  },
  {
   "cell_type": "markdown",
   "metadata": {},
   "source": [
    "Also this filtering excludes kroger stores"
   ]
  },
  {
   "cell_type": "markdown",
   "metadata": {},
   "source": [
    "Scrape farmers markets from pick tn"
   ]
  },
  {
   "cell_type": "code",
   "execution_count": null,
   "metadata": {},
   "outputs": [],
   "source": [
    "url = 'https://www.picktnproducts.org/listview/farmers-market.html'"
   ]
  },
  {
   "cell_type": "code",
   "execution_count": null,
   "metadata": {},
   "outputs": [],
   "source": [
    "response = requests.get(url)"
   ]
  },
  {
   "cell_type": "code",
   "execution_count": null,
   "metadata": {},
   "outputs": [],
   "source": [
    "soup = BS(response.content, 'lxml')"
   ]
  },
  {
   "cell_type": "code",
   "execution_count": null,
   "metadata": {},
   "outputs": [],
   "source": [
    "markets_names_soup = soup.find_all('div', attrs = {'class': 'info'})"
   ]
  },
  {
   "cell_type": "code",
   "execution_count": null,
   "metadata": {},
   "outputs": [],
   "source": [
    "market_names = []\n",
    "for i in markets_names_soup:\n",
    "    if len(i.get_text().strip().split('\\n')) != 4: # some responses didn't have lat lng, exclude those\n",
    "        market_names.append(i.get_text().strip().split('\\n')[0])"
   ]
  },
  {
   "cell_type": "code",
   "execution_count": null,
   "metadata": {},
   "outputs": [],
   "source": [
    "markets_soup = soup.find_all('div', attrs = {'class': 'address'})"
   ]
  },
  {
   "cell_type": "code",
   "execution_count": null,
   "metadata": {},
   "outputs": [],
   "source": [
    "farm_market_addresses = []\n",
    "for address in markets_soup:\n",
    "    farm_market_addresses.append(address.get_text().strip())"
   ]
  },
  {
   "cell_type": "code",
   "execution_count": null,
   "metadata": {},
   "outputs": [],
   "source": [
    "def get_address_coords(address, api_key, endpoint = 'https://maps.googleapis.com/maps/api/geocode/', return_format = 'json'):\n",
    "    endpoint = endpoint+return_format\n",
    "    params = {'address': address, 'key': api_key}\n",
    "    res = requests.get(endpoint, params = params)\n",
    "    result =  json.loads(res.content)\n",
    "    return result"
   ]
  },
  {
   "cell_type": "code",
   "execution_count": null,
   "metadata": {},
   "outputs": [],
   "source": [
    "farm_response_list = []\n",
    "for farm in farm_market_addresses:\n",
    "    farm_response_list.append(get_address_coords(farm, api_key))"
   ]
  },
  {
   "cell_type": "code",
   "execution_count": null,
   "metadata": {},
   "outputs": [],
   "source": [
    "farm_geo_col = [{'geometry':{'location': v}} for v in [coord['results'][0]['geometry']['location'] for coord in farm_response_list]]"
   ]
  },
  {
   "cell_type": "code",
   "execution_count": null,
   "metadata": {},
   "outputs": [],
   "source": [
    "farm_market_df = pd.DataFrame(farm_geo_col)#['geometry'].to_frame()\n",
    "farm_market_df['name'] = market_names\n",
    "farm_market_df['place_id'] = [farm['results'][0]['place_id'] for farm in farm_response_list]\n",
    "farm_market_df['vicinity'] = [farm['results'][0]['formatted_address'] for farm in farm_response_list]\n",
    "farm_market_df['types'] = [farm['results'][0]['types'] for farm in farm_response_list]"
   ]
  },
  {
   "cell_type": "code",
   "execution_count": null,
   "metadata": {
    "scrolled": true
   },
   "outputs": [],
   "source": [
    "farm_market_df.head()"
   ]
  },
  {
   "cell_type": "markdown",
   "metadata": {},
   "source": [
    "Try to pull place comments and see if can figure out if fresh produce from that"
   ]
  },
  {
   "cell_type": "code",
   "execution_count": null,
   "metadata": {},
   "outputs": [],
   "source": [
    "def get_google_api_info(endpoint, return_format = 'json', **kwargs):\n",
    "    endpoint = endpoint+return_format\n",
    "    params = kwargs\n",
    "    res = requests.get(endpoint, params = params)\n",
    "    result =  json.loads(res.content)\n",
    "    return result"
   ]
  },
  {
   "cell_type": "code",
   "execution_count": null,
   "metadata": {},
   "outputs": [],
   "source": [
    "test = get_google_api_info(endpoint = 'https://maps.googleapis.com/maps/api/place/details/', key = api_key, place_id = 'ChIJk46eulYRZIgRMlFIdPKm8ek')"
   ]
  },
  {
   "cell_type": "code",
   "execution_count": null,
   "metadata": {},
   "outputs": [],
   "source": [
    "test_publix = get_google_api_info(endpoint = 'https://maps.googleapis.com/maps/api/place/details/', key = api_key, place_id = 'ChIJa4i9yiiGZIgR1mr9LxMyRUE')"
   ]
  },
  {
   "cell_type": "code",
   "execution_count": null,
   "metadata": {},
   "outputs": [],
   "source": [
    "for i in test_publix['result']['reviews']:\n",
    "    print(i['text'])\n",
    "    print('\\n')"
   ]
  },
  {
   "cell_type": "markdown",
   "metadata": {},
   "source": [
    "Publix store doesn't include mention of fresh produce so can't use this method"
   ]
  },
  {
   "cell_type": "markdown",
   "metadata": {},
   "source": [
    "clean publix names to just be publix"
   ]
  },
  {
   "cell_type": "code",
   "execution_count": null,
   "metadata": {},
   "outputs": [],
   "source": [
    "stores_df['name'] = stores_df['name'].apply(lambda x: 'Publix' if 'Publix' in x else x)"
   ]
  },
  {
   "cell_type": "markdown",
   "metadata": {},
   "source": [
    "Instead try to cluster stores based on use of similar store types"
   ]
  },
  {
   "cell_type": "code",
   "execution_count": null,
   "metadata": {},
   "outputs": [],
   "source": [
    "unique_types = list(set([t for l in stores_df['types'] for t in l]))"
   ]
  },
  {
   "cell_type": "code",
   "execution_count": null,
   "metadata": {},
   "outputs": [],
   "source": [
    "correlation_mat = pd.DataFrame(index = unique_types, columns = unique_types)\n",
    "correlation_mat = correlation_mat.fillna(0)\n",
    "for types in stores_df['types']:\n",
    "    combos = list(combinations(types, 2))\n",
    "    for t_1, t_2 in combos:\n",
    "        if t_1 != t_2:\n",
    "            correlation_mat.loc[t_1, t_2] += 1"
   ]
  },
  {
   "cell_type": "code",
   "execution_count": null,
   "metadata": {},
   "outputs": [],
   "source": [
    "for k, v in Counter([t for l in stores_df['types'] for t in l]).items():\n",
    "    correlation_mat[k] = correlation_mat[k]/v"
   ]
  },
  {
   "cell_type": "code",
   "execution_count": null,
   "metadata": {
    "scrolled": true
   },
   "outputs": [],
   "source": [
    "clustering = AgglomerativeClustering(n_clusters = 20).fit(correlation_mat.values)\n",
    "#clustering.labels_"
   ]
  },
  {
   "cell_type": "code",
   "execution_count": null,
   "metadata": {},
   "outputs": [],
   "source": [
    "store_clusts = {}\n",
    "for t, c in zip(correlation_mat.columns, clustering.labels_):\n",
    "    try:\n",
    "        store_clusts[c].append(t)\n",
    "    except:\n",
    "        store_clusts[c] = [t]"
   ]
  },
  {
   "cell_type": "code",
   "execution_count": null,
   "metadata": {},
   "outputs": [],
   "source": [
    "store_clusts[1]"
   ]
  },
  {
   "cell_type": "code",
   "execution_count": null,
   "metadata": {},
   "outputs": [],
   "source": [
    "grocer_clust = store_clusts[1]"
   ]
  },
  {
   "cell_type": "code",
   "execution_count": null,
   "metadata": {},
   "outputs": [],
   "source": [
    "grocer_inds = []\n",
    "for ind, row in stores_df.iterrows():\n",
    "    if any(t in grocer_clust for t in row['types']):\n",
    "        grocer_inds.append(ind)"
   ]
  },
  {
   "cell_type": "code",
   "execution_count": null,
   "metadata": {},
   "outputs": [],
   "source": [
    "stores_df.shape"
   ]
  },
  {
   "cell_type": "code",
   "execution_count": null,
   "metadata": {},
   "outputs": [],
   "source": [
    "grocer_clust_df = stores_df.loc[grocer_inds]\n",
    "grocer_clust_df.shape"
   ]
  },
  {
   "cell_type": "code",
   "execution_count": null,
   "metadata": {},
   "outputs": [],
   "source": [
    "grocer_clust_df['name'].value_counts()"
   ]
  },
  {
   "cell_type": "code",
   "execution_count": null,
   "metadata": {},
   "outputs": [],
   "source": [
    "def cluster_store_by_type(cluster_df, categories, n_clusts):\n",
    "    corr_mat = pd.DataFrame(index = categories,\n",
    "                            columns = categories)\n",
    "    corr_mat = corr_mat.fillna(0)\n",
    "    \n",
    "    for types in cluster_df['types']:\n",
    "        combos = list(combinations(types, 2))\n",
    "        for t_1, t_2 in combos:\n",
    "            if t_1 != t_2:\n",
    "                corr_mat.loc[t_1, t_2] += 1\n",
    "\n",
    "    for k, v in Counter([t for l in cluster_df['types'] for t in l]).items():\n",
    "        corr_mat[k] = corr_mat[k]/v\n",
    "\n",
    "    clustering = AgglomerativeClustering(n_clusters = n_clusts).fit(corr_mat.values)\n",
    "\n",
    "    store_clusts = {}\n",
    "    for t, c in zip(corr_mat.columns, clustering.labels_):\n",
    "        try:\n",
    "            store_clusts[c].append(t)\n",
    "        except:\n",
    "            store_clusts[c] = [t]\n",
    "    \n",
    "    return store_clusts"
   ]
  },
  {
   "cell_type": "code",
   "execution_count": null,
   "metadata": {},
   "outputs": [],
   "source": [
    "grocer_cats = list(set([t for l in grocer_clust_df['types'] for t in l]))\n",
    "grocer_clusts_2 = cluster_store_by_type(grocer_clust_df, grocer_cats, 20)\n",
    "grocer_clusts_2"
   ]
  },
  {
   "cell_type": "code",
   "execution_count": null,
   "metadata": {},
   "outputs": [],
   "source": [
    "exclude_cats = list(set(grocer_cats)-set(grocer_clusts_2[0]))"
   ]
  },
  {
   "cell_type": "code",
   "execution_count": null,
   "metadata": {},
   "outputs": [],
   "source": [
    "grocer_exclude_inds = []\n",
    "for ind, row in grocer_clust_df.iterrows():\n",
    "    if any(t in exclude_cats for t in row['types']):\n",
    "        grocer_exclude_inds.append(ind)"
   ]
  },
  {
   "cell_type": "code",
   "execution_count": null,
   "metadata": {},
   "outputs": [],
   "source": [
    "grocer_clust_df.drop(grocer_exclude_inds)"
   ]
  },
  {
   "cell_type": "markdown",
   "metadata": {},
   "source": [
    "---"
   ]
  },
  {
   "cell_type": "code",
   "execution_count": null,
   "metadata": {},
   "outputs": [],
   "source": [
    "# intentional error to interrupt Run All\n",
    "int('a')"
   ]
  },
  {
   "cell_type": "markdown",
   "metadata": {},
   "source": [
    "compare with previously published low food access data"
   ]
  },
  {
   "cell_type": "code",
   "execution_count": null,
   "metadata": {},
   "outputs": [],
   "source": [
    "sheet_2 = pd.read_excel('DataDownload2015.xlsx', sheet_name = 2)"
   ]
  },
  {
   "cell_type": "code",
   "execution_count": null,
   "metadata": {},
   "outputs": [],
   "source": [
    "for c in sheet_2.columns:\n",
    "    print(c)"
   ]
  },
  {
   "cell_type": "code",
   "execution_count": null,
   "metadata": {},
   "outputs": [],
   "source": [
    "sheet_2[(sheet_2['State'] == 'Tennessee') &\n",
    "        (sheet_2['County']=='Davidson') & (sheet_2['CensusTract']==47037015625)]"
   ]
  },
  {
   "cell_type": "code",
   "execution_count": null,
   "metadata": {},
   "outputs": [],
   "source": [
    "sheet_2['CensusTract'] = sheet_2['CensusTract'].astype(str)"
   ]
  },
  {
   "cell_type": "code",
   "execution_count": null,
   "metadata": {},
   "outputs": [],
   "source": [
    "davidson_tracts_expand = pd.merge(davidson_tracts, sheet_2, how = \"left\", left_on = \"GEOID\", right_on = \"CensusTract\")"
   ]
  },
  {
   "cell_type": "code",
   "execution_count": null,
   "metadata": {},
   "outputs": [],
   "source": [
    "study_fd = davidson_tracts_expand[davidson_tracts_expand['LILATracts_1And10'] == 1]['GEOID'].tolist()"
   ]
  },
  {
   "cell_type": "code",
   "execution_count": null,
   "metadata": {},
   "outputs": [],
   "source": [
    "calc_fd = [47037015625,\n",
    "47037010502,\n",
    "47037013000,\n",
    "47037010601,\n",
    "47037018407,\n",
    "47037015619,\n",
    "47037010103,\n",
    "47037010202,\n",
    "47037019115,\n",
    "47037013100,\n",
    "47037018302,\n",
    "47037018404,\n",
    "47037018602,\n",
    "47037015610,\n",
    "47037010602,\n",
    "47037015631,\n",
    "47037018301,\n",
    "47037018601,\n",
    "47037010104,\n",
    "47037018905,\n",
    "47037019114,\n",
    "47037015622,\n",
    "47037018700,\n",
    "47037010105,]"
   ]
  },
  {
   "cell_type": "code",
   "execution_count": null,
   "metadata": {},
   "outputs": [],
   "source": [
    "list(set(study_fd)&set(calc_fd))"
   ]
  },
  {
   "cell_type": "code",
   "execution_count": null,
   "metadata": {},
   "outputs": [],
   "source": [
    "pd.read_csv('mydata.csv')"
   ]
  },
  {
   "cell_type": "markdown",
   "metadata": {},
   "source": [
    "---"
   ]
  },
  {
   "cell_type": "markdown",
   "metadata": {},
   "source": [
    "# Food Deserts in Davidson County\n",
    "\n",
    "### In this workshop we will cover:\n",
    "- Using `pandas` for data analysis\n",
    "- Geospatial data\n",
    "- Accessing data through webscraping\n",
    "- Combining and Analyzing data\n",
    "...keep adding to the list"
   ]
  },
  {
   "cell_type": "markdown",
   "metadata": {},
   "source": [
    "# What is a food desert?\n",
    "\n",
    "## From the USDA website:  \n",
    "\n",
    "#### The area of a food desert is definied by the census tract\n",
    "\n",
    "https://www.ers.usda.gov/data-products/food-access-research-atlas/documentation/\n",
    "\"Most measures and definitions take into account at least some of the following indicators of access:\n",
    "\n",
    "- Accessibility to sources of healthy food, as measured by distance to a store or by the number of stores in an area.\n",
    "- Individual-level resources that may affect accessibility, such as family income or vehicle availability.\n",
    "- Neighborhood-level indicators of resources, such as the average income of the neighborhood and the availability of public transportation.\"  \n",
    "\n",
    "\"This program defines a low-income census tract as any tract where:\n",
    "\n",
    "- The tract’s poverty rate is 20 percent or greater; or\n",
    "- The tract’s median family income is less than or equal to 80 percent of the State-wide median family income; or\n",
    "- The tract is in a metropolitan area and has a median family income less than or equal to 80 percent of the metropolitan area's median family income.\"  \n",
    "\n",
    "\"Three measures of food access based on distance to a supermarket are provided in the Atlas:\n",
    "\n",
    "- Low-income census tracts where a significant number (at least 500 people) or share (at least 33 percent) of the population is greater than ½ mile from the nearest supermarket, supercenter, or large grocery store for an urban area or greater than 10 miles for a rural area. Using this measure, an estimated 54.4 million people, or 17.7 percent of the U.S. population, live in tracts that are low-income and low access and are more than ½ mile or 10 miles from the nearest supermarket.\n",
    "- Low-income census tracts where a significant number (at least 500 people) or share (at least 33 percent) of the population is greater than 1.0 mile from the nearest supermarket, supercenter, or large grocery store for an urban area or greater than 10 miles for a rural area. This measure shows that an estimated 19 million people, or 6.2 percent of the U.S. population, live in low-income and low access tracts and are more than 1 mile or 10 miles from a supermarket.\n",
    "- Low-income census tracts where a significant number (at least 500 people) or share (at least 33 percent) of the population is greater than 1.0 mile from the nearest supermarket, supercenter, or large grocery store for an urban area or greater than 20 miles for a rural area. Under this measure, an estimated 17.3 million people, or 5.6 percent of the U.S. population, live in low-income and low access tracts and are more than 1 mile or 20 miles from a supermarket.\""
   ]
  },
  {
   "cell_type": "markdown",
   "metadata": {},
   "source": [
    "#### Based on this we need to know 2 things:\n",
    "1. If a census tract is a `low income` census tract\n",
    "2. Number and location of Supermarkets/source of fresh food\n",
    "\n",
    "#### Breaking these criteria down a little further:\n",
    "1. Census tract boundaries\n",
    "2. Income information\n",
    "3. Location of farmers markets, supermarkets, supercenters, large markets\n",
    "4. Transportation access (optional)\n",
    "5. Impact of stores that don't provide fresh food have on food deserts (stretch)\n",
    "\n",
    "#### We can then combine these data to find the proportion of low-income census tracts that are too far away from Supermarkets/sources of fresh produce, resulting in a food desert"
   ]
  },
  {
   "cell_type": "code",
   "execution_count": null,
   "metadata": {},
   "outputs": [],
   "source": [
    "## Let's start by importing the packages we are going to use:\n",
    "import pandas as pd # main data analysis package\n",
    "import numpy as np # used for a number of mathematical calculations\n",
    "import matplotlib.pyplot as plt # used for making plots\n",
    "import geopandas as gpd # used for working with geographic data\n",
    "import json # used for interacting with JSON file types\n",
    "import math # used for multiple formulas and unit conversions\n",
    "from sklearn.metrics.pairwise import haversine_distances\n",
    "\n",
    "%matplotlib inline"
   ]
  },
  {
   "cell_type": "markdown",
   "metadata": {},
   "source": [
    "Now we can import information about census tracts in Tennessee. The file we will be using is a shape file (`.shp`), which means there is geometry information as part file. We will see what this means in more detail a little later, but for now it means we will need to import the file with `geopandas` to preserve the geometry data. "
   ]
  },
  {
   "cell_type": "code",
   "execution_count": null,
   "metadata": {},
   "outputs": [],
   "source": [
    "tennessee_tracts = gpd.read_file('data/cb_2018_47_tract_500k/cb_2018_47_tract_500k.shp')"
   ]
  },
  {
   "cell_type": "markdown",
   "metadata": {},
   "source": [
    "Now we have read in the data and saved it to a variable called `tennessee_tracts`. This variable is a `GeoDataFrame` (gdf). The first thing to do with any data set is to explore it to get a better understanding of the data inside. We can start by looking at the first few rows using the `.head()` method."
   ]
  },
  {
   "cell_type": "code",
   "execution_count": null,
   "metadata": {},
   "outputs": [],
   "source": [
    "tennessee_tracts.head()"
   ]
  },
  {
   "cell_type": "markdown",
   "metadata": {},
   "source": [
    "Most of the columns are identifiers of some kind. The important column is the `geometry` column, which contains the information about the census tract boundaries. We can look more closely at the geometry of one census tract by _**slicing**_ the gdf to just the data we are interested in. We can do that using the `.loc[<row_index>, <column_index>]` method."
   ]
  },
  {
   "cell_type": "code",
   "execution_count": null,
   "metadata": {},
   "outputs": [],
   "source": [
    "# With .loc you can specify the rows and columns you want inside brackets:\n",
    "\n",
    "tennessee_tracts.loc[0, 'geometry']"
   ]
  },
  {
   "cell_type": "markdown",
   "metadata": {},
   "source": [
    "Since python is index base 0, to get the first row of the GDF we put `0` in the first position in the brackets. Additionally, since we wanted the \"geometry\" column, we put `'geometry'` in the second position in the brackets.\n",
    "\n",
    "But this maybe wasn't what we expected, since we got a shape instead of thing starting with `Polygon` like we expected. This is because `Polygon` is a specific object type that stores information about a shape, so when jupyter notebook sees a `Polygon` object, we get back a shape.\n",
    "\n",
    "We can dig in a little deeper to better understand this:"
   ]
  },
  {
   "cell_type": "code",
   "execution_count": null,
   "metadata": {},
   "outputs": [],
   "source": [
    "# Save the first row POLYGON to a variable\n",
    "single_tract = tennessee_tracts.loc[0, 'geometry']\n",
    "\n",
    "# print the type of the object\n",
    "print('object type: ',type(single_tract), '\\n')\n",
    "\n",
    "# print what is stored inside the object\n",
    "print('object contents: ', single_tract)"
   ]
  },
  {
   "cell_type": "markdown",
   "metadata": {},
   "source": [
    "From this we can see that the object type is indeed a `Polygon`, and when we `print` the contents we can see the full data stored in the object: coordinate pairs that indicate the boundaries of the tract."
   ]
  },
  {
   "cell_type": "markdown",
   "metadata": {},
   "source": [
    "Geopandas can accomodate many different coordinate reference systems (CRS), each slightly different from each other. In order to ensure we are using the correct CRS, we can explicitally set it using the `.crs` attribute:"
   ]
  },
  {
   "cell_type": "code",
   "execution_count": null,
   "metadata": {},
   "outputs": [],
   "source": [
    "tennessee_tracts.crs = \"EPSG:4326\""
   ]
  },
  {
   "cell_type": "markdown",
   "metadata": {},
   "source": [
    "\"EPSG:4326\" is one of the more common CRS and is the one that was used for generating the census tract boundaries."
   ]
  },
  {
   "cell_type": "markdown",
   "metadata": {},
   "source": [
    "Now that we have set the CRS, we can see all the census tracts together by applying the `.plot()` method to the `tennessee_tracts` GDF:"
   ]
  },
  {
   "cell_type": "code",
   "execution_count": null,
   "metadata": {},
   "outputs": [],
   "source": [
    "tennessee_tracts.boundary.plot(figsize = (25, 5))"
   ]
  },
  {
   "cell_type": "markdown",
   "metadata": {},
   "source": [
    "Here we only are showing the boundaries for each census tract in Tennessee. The plot size is increased so we can see more of the fine details.\n",
    "\n",
    "We are only interested in Davidson County for this analysis, so we can subset the gdf to only include data from Davidson County by using some of the other columns."
   ]
  },
  {
   "cell_type": "code",
   "execution_count": null,
   "metadata": {},
   "outputs": [],
   "source": [
    "# Select only Davidson County tracts (COUNTYFP == 037)\n",
    "davidson_tracts = tennessee_tracts[tennessee_tracts['COUNTYFP']=='037'].reset_index(drop = True)"
   ]
  },
  {
   "cell_type": "markdown",
   "metadata": {},
   "source": [
    "What the above code is saying is take only rows from the `tennessee_tracts` gdf where the value in the `'COUNTYFP'` column is equal to `'037'`. Since we are only taking some of the rows from the middle, the labels for the rows will be off. `.reset_index(drop = True)` will remove the old labels and add back new ones that start at `0`\n",
    "\n",
    "Let's take a look at what we're left with:"
   ]
  },
  {
   "cell_type": "code",
   "execution_count": null,
   "metadata": {},
   "outputs": [],
   "source": [
    "davidson_tracts.head()"
   ]
  },
  {
   "cell_type": "code",
   "execution_count": null,
   "metadata": {},
   "outputs": [],
   "source": [
    "davidson_tracts.boundary.plot(figsize = (20, 20))"
   ]
  },
  {
   "cell_type": "markdown",
   "metadata": {},
   "source": [
    "Let's get the outline of Davidson county as well"
   ]
  },
  {
   "cell_type": "code",
   "execution_count": null,
   "metadata": {},
   "outputs": [],
   "source": [
    "davidson_county = gpd.read_file('data/Davidson County Border (GIS).geojson')\n",
    "davidson_county.crs = \"EPSG:4326\""
   ]
  },
  {
   "cell_type": "markdown",
   "metadata": {},
   "source": [
    "## Now that we have the census tract boundaries, we can look at poverty rates across them. For that we will import poverty rate data"
   ]
  },
  {
   "cell_type": "code",
   "execution_count": null,
   "metadata": {},
   "outputs": [],
   "source": [
    "# from https://censusreporter.org/data/table/?table=B17001&geo_ids=14000US47037016000,05000US47037,04000US47,01000US,140|05000US47037&primary_geo_id=14000US47037016000\n",
    "poverty_rates_davidson = pd.read_csv('data/acs2018_5yr_B17001_14000US47037011800/acs2018_5yr_B17001_14000US47037011800.csv')\n",
    "poverty_rates_davidson.head()"
   ]
  },
  {
   "cell_type": "markdown",
   "metadata": {},
   "source": [
    "Looking at the `head` we can see that the first 3 rows seem to be aggregate data for the US, Tennessee, and Davidson County. Since we're only interested in the tract level data, we can remove those first 3 rows using the `.drop()` method:"
   ]
  },
  {
   "cell_type": "code",
   "execution_count": null,
   "metadata": {},
   "outputs": [],
   "source": [
    "# remove aggregation rows\n",
    "poverty_rates_davidson_tract = poverty_rates_davidson.drop([0, 1, 2])\n",
    "poverty_rates_davidson_tract.head()"
   ]
  },
  {
   "cell_type": "markdown",
   "metadata": {},
   "source": [
    "The column names are a little confusing, but luckily there are more understandable names in another metadata file. It is saved in `JSON` file, so we will use python to safely open, import the data, then close the file."
   ]
  },
  {
   "cell_type": "code",
   "execution_count": null,
   "metadata": {},
   "outputs": [],
   "source": [
    "with open('data/acs2018_5yr_B17001_14000US47037011800/metadata.json') as f:\n",
    "    column_names = json.load(f)\n",
    "\n",
    "# Take a look\n",
    "column_names"
   ]
  },
  {
   "cell_type": "markdown",
   "metadata": {},
   "source": [
    "This is a pretty complex object. We may need to understand it a little better to use it."
   ]
  },
  {
   "cell_type": "code",
   "execution_count": null,
   "metadata": {},
   "outputs": [],
   "source": [
    "print(type(column_names))\n",
    "print(column_names.keys())"
   ]
  },
  {
   "cell_type": "markdown",
   "metadata": {},
   "source": [
    "`column_names` is a dictionary, which is a collection of `key`:`value` pairs. If we look at the keys we can see `release` and `tables`. There is obviously much more information than that, so the rest must be burried inside the top level keys. We are interested in table data so lets start there. We can access the values associated with a key by using `[]`."
   ]
  },
  {
   "cell_type": "code",
   "execution_count": null,
   "metadata": {},
   "outputs": [],
   "source": [
    "print(column_names['tables'].keys(), '\\n')\n",
    "print(column_names['tables']['B17001'].keys(), '\\n')\n",
    "print(column_names['tables']['B17001']['columns'].keys(), '\\n')\n",
    "print(column_names['tables']['B17001']['columns']['B17001001'])"
   ]
  },
  {
   "cell_type": "markdown",
   "metadata": {},
   "source": [
    "By digging into the `column_names` object we can see that the hierarchy goes `tables` > `B17001` > `columns` > `name`. With that info we have everything we need to rename the columns. One way to rename columns is with the `rename()` method. It requires a dictionary where the keys are the original column names and the values are the new column names. We can use a _dictionary comprehension_ to combine the pieces we need."
   ]
  },
  {
   "cell_type": "code",
   "execution_count": null,
   "metadata": {},
   "outputs": [],
   "source": [
    "column_names = {k: v['name'] for k, v in column_names['tables']['B17001']['columns'].items()}"
   ]
  },
  {
   "cell_type": "markdown",
   "metadata": {},
   "source": [
    "The _dictionary comprehension_ is taking the `columns` part of the `column_names` object. That is itself a dictionary, with the original column names as the `keys` and the new column names in the `name` part of the `values`. The comprehension is taking each `key`:`value` pair, and for each of them assigning the `key` as the key in a _new_ dictionary and the `name` part of the `value` as the `value` in the _new_ dictionary.\n",
    "\n",
    "With the new dictionary created, we can use it to `rename` the columns in the poverty DataFrame:"
   ]
  },
  {
   "cell_type": "code",
   "execution_count": null,
   "metadata": {},
   "outputs": [],
   "source": [
    "poverty_rates_davidson_tract = poverty_rates_davidson_tract.rename(columns = column_names)"
   ]
  },
  {
   "cell_type": "markdown",
   "metadata": {},
   "source": [
    "We can verify the columns have changed by looking at the `.columns` attribute of the poverty df:"
   ]
  },
  {
   "cell_type": "code",
   "execution_count": null,
   "metadata": {},
   "outputs": [],
   "source": [
    "poverty_rates_davidson_tract.columns"
   ]
  },
  {
   "cell_type": "markdown",
   "metadata": {},
   "source": [
    "We can see there are a number of columns that include margins or error for each of the measurements. Though these could greatly enhance our analysis, we'll leave them out for now.\n",
    "\n",
    "First we can figure out which columns have `Error` in the name with a `list comprehension` then drop those columns"
   ]
  },
  {
   "cell_type": "code",
   "execution_count": null,
   "metadata": {},
   "outputs": [],
   "source": [
    "drop_columns = [col for col in poverty_rates_davidson_tract.columns if 'Error' in col]"
   ]
  },
  {
   "cell_type": "markdown",
   "metadata": {},
   "source": [
    "The list comprehension checked if the word `Error` is in the column name, and if it is, it will save the column name to a list. This will give us just the columns that contain the word `Error`. Now we can use that to drop the `Error` columns:"
   ]
  },
  {
   "cell_type": "code",
   "execution_count": null,
   "metadata": {},
   "outputs": [],
   "source": [
    "poverty_rates_davidson_tract = poverty_rates_davidson_tract.drop(drop_columns, axis = 1)"
   ]
  },
  {
   "cell_type": "code",
   "execution_count": null,
   "metadata": {},
   "outputs": [],
   "source": [
    "poverty_rates_davidson_tract.columns"
   ]
  },
  {
   "cell_type": "markdown",
   "metadata": {},
   "source": [
    "Looking at the columns we can see that the data show the `Total` population for a tract, as well as the number above and below the poverty line in the past 12 months, both over all and broken down by sex and age range. We can use the number below the poverty line and the total population to determine the percent below the poverty level for each tract:"
   ]
  },
  {
   "cell_type": "code",
   "execution_count": null,
   "metadata": {},
   "outputs": [],
   "source": [
    "poverty_rates_davidson_tract['pct_below_poverty_level'] = poverty_rates_davidson_tract['Income in the past 12 months below poverty level:']/poverty_rates_davidson_tract['Total:']\n",
    "poverty_rates_davidson_tract.head()\n"
   ]
  },
  {
   "cell_type": "markdown",
   "metadata": {},
   "source": [
    "Here we are creating a new column that divides the number below the poverty level in the past 12 months by the total population"
   ]
  },
  {
   "cell_type": "markdown",
   "metadata": {},
   "source": [
    "## Now we have the poverty rates for each tract, we can determine the ones that are >20%. Since we will combine these data with additional geographic data, it would be best to first combine it with the census tract boundaries we already have"
   ]
  },
  {
   "cell_type": "markdown",
   "metadata": {},
   "source": [
    "In order to merge the two data sets we need to make sure they both have a column in common. We can accomplish this by extracting the census tract name from the `name` column in the poverty rates df."
   ]
  },
  {
   "cell_type": "code",
   "execution_count": null,
   "metadata": {},
   "outputs": [],
   "source": [
    "poverty_rates_davidson_tract['NAME'] = poverty_rates_davidson_tract['name'].str.split(' ').str[2].str[:-1]"
   ]
  },
  {
   "cell_type": "markdown",
   "metadata": {},
   "source": [
    "Here we're splitting the strings in the `name` column on spaces. That will produce a list of substrings and we're taking the 3rd one. The last part is removing the last character, since it is always a comma."
   ]
  },
  {
   "cell_type": "markdown",
   "metadata": {},
   "source": [
    "Now we can merge the data sets. We can do that by performing the `.merge()` method on one of the dfs. Below we are performing it on the `davidson_tracts` gdf and passing the `poverty_rates_davidson_tract` with only the `NAME` and `pct_below_poverty_level` columns. We are telling it to do a `left` merge, which will keep everything from the first df, and line up everything that matches from the right df. Matching is determined by the contents of the `NAME` column from each df. After that we are filling any missing values with median value across all tracts in davidson county."
   ]
  },
  {
   "cell_type": "code",
   "execution_count": null,
   "metadata": {},
   "outputs": [],
   "source": [
    "davidson_tracts = davidson_tracts.merge(poverty_rates_davidson_tract[['NAME', 'pct_below_poverty_level']],\n",
    "                                        how = 'left',\n",
    "                                        on = 'NAME')\n",
    "\n",
    "davidson_tracts['pct_below_poverty_level'] = davidson_tracts['pct_below_poverty_level'].fillna(np.median(davidson_tracts['pct_below_poverty_level']))"
   ]
  },
  {
   "cell_type": "markdown",
   "metadata": {},
   "source": [
    "Since we are interested in if a tract is above 20% poverty, we can add a new column that indicates if a tract is above or below 20%"
   ]
  },
  {
   "cell_type": "code",
   "execution_count": null,
   "metadata": {},
   "outputs": [],
   "source": [
    "davidson_tracts['above_20_pct'] = (davidson_tracts['pct_below_poverty_level'] > 0.2).astype(int)"
   ]
  },
  {
   "cell_type": "markdown",
   "metadata": {},
   "source": [
    "Here we are asking a question if the value in the `pct_below_poverty_level` is greater than 0.2. This will return a boolean (True/False). Then the results are converted to integers, where `True` becomes `1` and `False` becomes `0`"
   ]
  },
  {
   "cell_type": "code",
   "execution_count": null,
   "metadata": {},
   "outputs": [],
   "source": [
    "f, ax = plt.subplots(1, figsize=(15, 15))\n",
    "ax = davidson_tracts.plot(ax=ax, column = 'above_20_pct', edgecolor = 'blue', alpha = 0.5)\n",
    "ax = davidson_county.boundary.plot(ax=ax, color='blue')\n",
    "#ax = davidson_store_buffers.plot(ax=ax, color = 'green', alpha = 0.25)\n",
    "#davidson_store_gdf.plot(ax=ax, marker='o', color='red', markersize=5)\n",
    ";"
   ]
  },
  {
   "cell_type": "markdown",
   "metadata": {},
   "source": [
    "The tracts in yellow are below 20% poverty, while the ones in blue are above 20% poverty"
   ]
  },
  {
   "cell_type": "markdown",
   "metadata": {},
   "source": [
    "## Now we know which tracts have above 20% poverty, we can find stores that sell fresh produce"
   ]
  },
  {
   "cell_type": "markdown",
   "metadata": {},
   "source": [
    "Finding all the grocery stores in Davidson County is a little tough. There are a few lists but they are behind a paywall. For this we'll walk through an example of how the Google Maps API can be used to get Supermarkets and other stores.\n",
    "\n",
    "Google Maps has many API endpoints, the one we'll use is the `nearbysearch` endpoint. For that we'll need to supply a coordinate point, a radius, and the type of store(s) to search for.\n",
    "\n",
    "The API does have limits so to make sure we are getting all the data we're expecting, we have to break the search down into smaller pieces. Let's start by putting a grid across the county then find the center point of each box:"
   ]
  },
  {
   "cell_type": "code",
   "execution_count": null,
   "metadata": {},
   "outputs": [],
   "source": [
    "# Find total geographic bounds of Davidson County\n",
    "\n",
    "xmin,ymin,xmax,ymax =  davidson_county.total_bounds\n",
    "\n",
    "# Divide the length and width by 10 to get the increment between each grid point\n",
    "\n",
    "x_increment = (xmax-xmin)/10\n",
    "y_increment = (ymax-ymin)/10"
   ]
  },
  {
   "cell_type": "code",
   "execution_count": null,
   "metadata": {},
   "outputs": [],
   "source": [
    "# determine x coordinate value for grid boxes\n",
    "grid_x_boundaries = [xmin]\n",
    "new_bound = xmin\n",
    "for i in range(10):\n",
    "    new_bound = new_bound + x_increment\n",
    "    grid_x_boundaries.append(new_bound)\n",
    "    \n",
    "# determine x coordinate value for grid boxes\n",
    "grid_y_boundaries = [ymin]\n",
    "new_bound = ymin\n",
    "for i in range(10):\n",
    "    new_bound = new_bound + y_increment\n",
    "    grid_y_boundaries.append(new_bound)"
   ]
  },
  {
   "cell_type": "code",
   "execution_count": null,
   "metadata": {},
   "outputs": [],
   "source": [
    "# get list of lats and lons for each box corner in the grid in separate lists for center of each grid square\n",
    "lons = []\n",
    "lats = []\n",
    "for left, right in zip(grid_x_boundaries[:-1], grid_x_boundaries[1:]):\n",
    "    for top, bottom in zip(grid_y_boundaries[:-1], grid_y_boundaries[1:]):\n",
    "        lats.append((top+bottom)/2)\n",
    "        lons.append((left+right)/2)\n",
    "    "
   ]
  },
  {
   "cell_type": "markdown",
   "metadata": {},
   "source": [
    "In order to find the center of the grid squares we can convert the coordinate pairs to `point` objects. Once we do that, we can put them into a geodataframe and there are a number of geographic calculations we can easily do."
   ]
  },
  {
   "cell_type": "code",
   "execution_count": null,
   "metadata": {},
   "outputs": [],
   "source": [
    "# Take each pair of longitude and latitude, combine them, and convert to point object\n",
    "grid_centers = gpd.points_from_xy(lons, lats)"
   ]
  },
  {
   "cell_type": "code",
   "execution_count": null,
   "metadata": {},
   "outputs": [],
   "source": [
    "# put into geodataframe\n",
    "grid_gdf = gpd.GeoDataFrame(geometry = grid_centers, crs = \"EPSG:4326\")"
   ]
  },
  {
   "cell_type": "code",
   "execution_count": null,
   "metadata": {},
   "outputs": [],
   "source": [
    "grid_gdf.plot()"
   ]
  },
  {
   "cell_type": "markdown",
   "metadata": {},
   "source": [
    "The points are forming a grid as we expected. You'll notice that the grid is a square, but Davidson County is not. Our next step is to keep only the points that are close to the county. Since we are concerned with stores that are within a mile of the census tract, it's possible that a store could be within a mile outside the county. To account for that possibility, we will add a `buffer` around the county, then keep grid points that are within the buffered shape. The size of the buffer we want is 1 mile."
   ]
  },
  {
   "cell_type": "markdown",
   "metadata": {},
   "source": [
    "Geopandas buffers are calculated based on the crs of the gdf. Since we are using \"EPSG:4326\" we know the units are degrees. Using this conversion from the USGS (https://www.usgs.gov/faqs/how-much-distance-does-a-degree-minute-and-second-cover-your-maps?qt-news_science_products=0#qt-news_science_products): \"One degree of latitude equals approximately 364,000 feet (69 miles), one minute equals 6,068 feet (1.15 miles), and one-second equals 101 feet.\" We can approximate the number of degrees in a mile as: 1/69 = 0.014492753623188406"
   ]
  },
  {
   "cell_type": "code",
   "execution_count": null,
   "metadata": {},
   "outputs": [],
   "source": [
    "davidson_county_buffer = gpd.GeoDataFrame(geometry = davidson_county['geometry'].buffer(0.014492753623188406),\n",
    "                                          crs = \"EPSG:4326\")\n",
    "davidson_county_buffer.plot()"
   ]
  },
  {
   "cell_type": "code",
   "execution_count": null,
   "metadata": {},
   "outputs": [],
   "source": [
    "# Only keep points within the buffered Davidson county polygon\n",
    "keep_points = []\n",
    "for ind, p in grid_gdf['geometry'].iteritems():\n",
    "    if p.within(davidson_county_buffer.loc[0, 'geometry']) or p.within(davidson_county_buffer.loc[1, 'geometry']):\n",
    "        keep_points.append(ind)\n",
    "\n",
    "grid_points_sub = grid_gdf.loc[keep_points]"
   ]
  },
  {
   "cell_type": "code",
   "execution_count": null,
   "metadata": {},
   "outputs": [],
   "source": [
    "base = davidson_county.plot(color='white', edgecolor='black')\n",
    "\n",
    "grid_points_sub.plot(ax=base, marker='o', color='red', markersize=5);"
   ]
  },
  {
   "cell_type": "markdown",
   "metadata": {},
   "source": [
    "Measuring distance with lat and lng is a little different since you need to take into consideration the curviture of the earth. To do that we can use the `haversine distance` formula"
   ]
  },
  {
   "cell_type": "code",
   "execution_count": null,
   "metadata": {},
   "outputs": [],
   "source": [
    "# function adapted from https://scikit-learn.org/stable/modules/generated/sklearn.metrics.pairwise.haversine_distances.html\n",
    "def dist_in_meters(point_1, point_2):\n",
    "    point_1 = [math.radians(l) for l in [point_1.y, point_1.x]]\n",
    "    point_2 = [math.radians(l) for l in [point_2.y, point_2.x]]\n",
    "    dist_array_m = haversine_distances([point_1, point_2])*6371000\n",
    "    return dist_array_m[0][1]"
   ]
  },
  {
   "cell_type": "code",
   "execution_count": null,
   "metadata": {},
   "outputs": [],
   "source": [
    "grid_point_radius = dist_in_meters(grid_points_sub.loc[1, 'geometry'], grid_points_sub.loc[2, 'geometry'])"
   ]
  },
  {
   "cell_type": "markdown",
   "metadata": {},
   "source": [
    "Check to make sure the entire county is covered"
   ]
  },
  {
   "cell_type": "code",
   "execution_count": null,
   "metadata": {},
   "outputs": [],
   "source": [
    "grid_point_radius_mile = 3.0258050367212114828/69\n",
    "grid_points_sub_buffers = gpd.GeoDataFrame(geometry = grid_points_sub['geometry'].buffer(grid_point_radius_mile),\n",
    "                                          crs = \"EPSG:4326\")\n",
    "f, ax = plt.subplots(1, figsize=(15, 15))\n",
    "ax = davidson_tracts.boundary.plot(ax=ax, edgecolor = 'blue', color='blue', alpha = 0.15)\n",
    "ax = davidson_county.boundary.plot(ax=ax, color='blue', alpha = 0.15)\n",
    "ax = grid_points_sub_buffers.plot(ax=ax, color = 'green', alpha = 0.1)\n",
    "grid_points_sub.plot(ax=ax, marker='o', color='red', markersize=5)\n",
    ";"
   ]
  },
  {
   "cell_type": "markdown",
   "metadata": {},
   "source": [
    "It covers all of the county"
   ]
  },
  {
   "cell_type": "markdown",
   "metadata": {},
   "source": [
    "## Now with grid points laid out across county we can figure out which types of stores to look for.\n",
    "\n",
    "Google Maps has a number of business types (https://developers.google.com/places/supported_types). Looking through them, all relevant store types are these:"
   ]
  },
  {
   "cell_type": "code",
   "execution_count": null,
   "metadata": {},
   "outputs": [],
   "source": [
    "all_types = ['bakery',\n",
    "             'convenience_store',\n",
    "             'department_store',\n",
    "             'drugstore',\n",
    "             'gas_station',\n",
    "             'grocery_or_supermarket',\n",
    "             'home_goods_store',\n",
    "             'supermarket',\n",
    "             'pharmacy']"
   ]
  },
  {
   "cell_type": "code",
   "execution_count": null,
   "metadata": {},
   "outputs": [],
   "source": [
    "# creating output list in separate cell in case need to run for loop multiple times because of time out errors\n",
    "responses = []"
   ]
  },
  {
   "cell_type": "markdown",
   "metadata": {},
   "source": [
    "#### This one can take a while, run with caution"
   ]
  },
  {
   "cell_type": "code",
   "execution_count": null,
   "metadata": {},
   "outputs": [],
   "source": [
    "for ind_2, t in enumerate(all_types):\n",
    "    print(ind_2, t) # just to keep track of progress\n",
    "    # if ind_2 >= 1: # uncomment and tab below over if need to start later in all_types list\n",
    "    for ind, (lng, lat) in enumerate(list(zip(grid_points_sub['geometry'].x, grid_points_sub['geometry'].y))): # note that lat and lng are switched\n",
    "        # print(ind, lat, lng) # again, to keep track of progress\n",
    "        # if ind >= 0: # uncomment and tab below if need to start later in grid df\n",
    "        location = '{}, {}'.format(lat, lng)\n",
    "        responses.append(search_places_by_coordinate(location, grid_point_radius, t, api_key))"
   ]
  },
  {
   "cell_type": "code",
   "execution_count": null,
   "metadata": {},
   "outputs": [],
   "source": [
    "# total number of requests\n",
    "len(responses)"
   ]
  },
  {
   "cell_type": "markdown",
   "metadata": {},
   "source": [
    "`responses` contains list of list of locations. Flatten to get single list of locations"
   ]
  },
  {
   "cell_type": "code",
   "execution_count": null,
   "metadata": {},
   "outputs": [],
   "source": [
    "responses_flat = [i for l in responses for i in l]"
   ]
  },
  {
   "cell_type": "code",
   "execution_count": null,
   "metadata": {},
   "outputs": [],
   "source": [
    "# total number of stores across all requests\n",
    "len(responses_flat)"
   ]
  },
  {
   "cell_type": "markdown",
   "metadata": {},
   "source": [
    "There is probably a better way to do this but use the following steps to find unique stores:\n",
    "- find unique `place_id`\n",
    "- iterate through unique ids and flattened responses for first instance of id"
   ]
  },
  {
   "cell_type": "code",
   "execution_count": null,
   "metadata": {},
   "outputs": [],
   "source": [
    "unique_store_id = set([i['place_id'] for i in responses_flat])"
   ]
  },
  {
   "cell_type": "code",
   "execution_count": null,
   "metadata": {},
   "outputs": [],
   "source": [
    "unique_grocery_store = []\n",
    "for i in unique_store_id:\n",
    "    for store in responses_flat:\n",
    "        if store['place_id'] == i:\n",
    "            unique_grocery_store.append(store)\n",
    "            break"
   ]
  },
  {
   "cell_type": "code",
   "execution_count": null,
   "metadata": {},
   "outputs": [],
   "source": [
    "# number of unique ids\n",
    "len(unique_grocery_store)"
   ]
  },
  {
   "cell_type": "markdown",
   "metadata": {},
   "source": [
    "Extract lat and lng from store locations and put in dataframe"
   ]
  },
  {
   "cell_type": "code",
   "execution_count": null,
   "metadata": {},
   "outputs": [],
   "source": [
    "lats = []\n",
    "lons = []\n",
    "for store in unique_grocery_store:\n",
    "    lats.append(store['geometry']['location']['lat'])\n",
    "    lons.append(store['geometry']['location']['lng'])\n",
    "all_store_locations = gpd.points_from_xy(lons, lats)\n",
    "all_store_gdf = gpd.GeoDataFrame(geometry = all_store_locations, crs = \"EPSG:4326\")"
   ]
  },
  {
   "cell_type": "markdown",
   "metadata": {},
   "source": [
    "keep only stores within buffered Davidson County polygon"
   ]
  },
  {
   "cell_type": "code",
   "execution_count": null,
   "metadata": {},
   "outputs": [],
   "source": [
    "keep_stores = []\n",
    "for ind, p in all_store_gdf['geometry'].iteritems():\n",
    "    if p.within(davidson_county_buffer.loc[0, 'geometry']) or p.within(davidson_county_buffer.loc[1, 'geometry']):\n",
    "        keep_stores.append(ind)\n",
    "\n",
    "davidson_store_gdf = all_store_gdf.loc[keep_stores]"
   ]
  },
  {
   "cell_type": "code",
   "execution_count": null,
   "metadata": {},
   "outputs": [],
   "source": [
    "# number of stores in Davidson County\n",
    "len(davidson_store_gdf)"
   ]
  },
  {
   "cell_type": "markdown",
   "metadata": {},
   "source": [
    "Plot locations on folium map"
   ]
  },
  {
   "cell_type": "code",
   "execution_count": null,
   "metadata": {},
   "outputs": [],
   "source": [
    "nash_map = folium.Map([36.1612, -86.7775])\n",
    "for ind, store in davidson_store_gdf.iterrows():\n",
    "    lng = store['geometry'].x\n",
    "    lat = store['geometry'].y\n",
    "    folium.Marker([lat, lng]).add_to(nash_map)\n",
    "nash_map"
   ]
  },
  {
   "cell_type": "markdown",
   "metadata": {},
   "source": [
    "And again just using geopandas to see points in context of store locations within county"
   ]
  },
  {
   "cell_type": "code",
   "execution_count": null,
   "metadata": {},
   "outputs": [],
   "source": [
    "f, ax = plt.subplots(1, figsize=(15, 15))\n",
    "ax = davidson_county.plot(color='white', edgecolor='black', ax = ax)\n",
    "davidson_store_gdf.plot(ax=ax, marker='o', color='red', markersize=5);"
   ]
  },
  {
   "cell_type": "markdown",
   "metadata": {},
   "source": []
  },
  {
   "cell_type": "code",
   "execution_count": null,
   "metadata": {},
   "outputs": [],
   "source": []
  }
 ],
 "metadata": {
  "kernelspec": {
   "display_name": "Python 3 (ipykernel)",
   "language": "python",
   "name": "python3"
  },
  "language_info": {
   "codemirror_mode": {
    "name": "ipython",
    "version": 3
   },
   "file_extension": ".py",
   "mimetype": "text/x-python",
   "name": "python",
   "nbconvert_exporter": "python",
   "pygments_lexer": "ipython3",
   "version": "3.8.5"
  }
 },
 "nbformat": 4,
 "nbformat_minor": 2
}
